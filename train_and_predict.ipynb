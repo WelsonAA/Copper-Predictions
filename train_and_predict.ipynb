{
 "cells": [
  {
   "cell_type": "markdown",
   "source": [
    "# Importing Libraries"
   ],
   "metadata": {
    "collapsed": false
   },
   "id": "352328d6c2ce0c5d"
  },
  {
   "cell_type": "code",
   "execution_count": 122,
   "outputs": [],
   "source": [
    "import pandas as pd\n",
    "import numpy as np\n",
    "import matplotlib.pyplot as plt\n",
    "import torch\n",
    "import torch.nn as nn\n",
    "from datetime import timedelta\n",
    "from sklearn.preprocessing import MinMaxScaler"
   ],
   "metadata": {
    "collapsed": false,
    "ExecuteTime": {
     "end_time": "2023-09-01T21:22:53.766133300Z",
     "start_time": "2023-09-01T21:22:53.645137100Z"
    }
   },
   "id": "3a75c928dfc5c42f"
  },
  {
   "cell_type": "markdown",
   "source": [
    "# Reading Clean Dataset"
   ],
   "metadata": {
    "collapsed": false
   },
   "id": "81957f0d394557a3"
  },
  {
   "cell_type": "code",
   "execution_count": 123,
   "outputs": [
    {
     "data": {
      "text/plain": "            Date   Price\n0     1988-08-01  0.8655\n1     1988-08-02  0.8600\n2     1988-08-03  0.8680\n3     1988-08-04  0.8780\n4     1988-08-05  0.8870\n...          ...     ...\n8883  2023-08-28  3.7920\n8884  2023-08-29  3.8390\n8885  2023-08-30  3.8440\n8886  2023-08-31  3.8220\n8887  2023-09-01  3.8533\n\n[8888 rows x 2 columns]",
      "text/html": "<div>\n<style scoped>\n    .dataframe tbody tr th:only-of-type {\n        vertical-align: middle;\n    }\n\n    .dataframe tbody tr th {\n        vertical-align: top;\n    }\n\n    .dataframe thead th {\n        text-align: right;\n    }\n</style>\n<table border=\"1\" class=\"dataframe\">\n  <thead>\n    <tr style=\"text-align: right;\">\n      <th></th>\n      <th>Date</th>\n      <th>Price</th>\n    </tr>\n  </thead>\n  <tbody>\n    <tr>\n      <th>0</th>\n      <td>1988-08-01</td>\n      <td>0.8655</td>\n    </tr>\n    <tr>\n      <th>1</th>\n      <td>1988-08-02</td>\n      <td>0.8600</td>\n    </tr>\n    <tr>\n      <th>2</th>\n      <td>1988-08-03</td>\n      <td>0.8680</td>\n    </tr>\n    <tr>\n      <th>3</th>\n      <td>1988-08-04</td>\n      <td>0.8780</td>\n    </tr>\n    <tr>\n      <th>4</th>\n      <td>1988-08-05</td>\n      <td>0.8870</td>\n    </tr>\n    <tr>\n      <th>...</th>\n      <td>...</td>\n      <td>...</td>\n    </tr>\n    <tr>\n      <th>8883</th>\n      <td>2023-08-28</td>\n      <td>3.7920</td>\n    </tr>\n    <tr>\n      <th>8884</th>\n      <td>2023-08-29</td>\n      <td>3.8390</td>\n    </tr>\n    <tr>\n      <th>8885</th>\n      <td>2023-08-30</td>\n      <td>3.8440</td>\n    </tr>\n    <tr>\n      <th>8886</th>\n      <td>2023-08-31</td>\n      <td>3.8220</td>\n    </tr>\n    <tr>\n      <th>8887</th>\n      <td>2023-09-01</td>\n      <td>3.8533</td>\n    </tr>\n  </tbody>\n</table>\n<p>8888 rows × 2 columns</p>\n</div>"
     },
     "execution_count": 123,
     "metadata": {},
     "output_type": "execute_result"
    }
   ],
   "source": [
    "data = pd.read_csv(\"cleaned_dataset.csv\")\n",
    "train_dates = pd.to_datetime(data[\"Date\"])\n",
    "train_dates = train_dates[7:]\n",
    "data"
   ],
   "metadata": {
    "collapsed": false,
    "ExecuteTime": {
     "end_time": "2023-09-01T21:22:53.902134600Z",
     "start_time": "2023-09-01T21:22:53.664134100Z"
    }
   },
   "id": "8d44c26b1b41c0c0"
  },
  {
   "cell_type": "markdown",
   "source": [
    "# Setting Device to GPU"
   ],
   "metadata": {
    "collapsed": false
   },
   "id": "949fc77ffcd48cfd"
  },
  {
   "cell_type": "code",
   "execution_count": 124,
   "outputs": [
    {
     "data": {
      "text/plain": "'cpu'"
     },
     "execution_count": 124,
     "metadata": {},
     "output_type": "execute_result"
    }
   ],
   "source": [
    "device = 'cuda:0' if torch.cuda.is_available() else 'cpu'\n",
    "device"
   ],
   "metadata": {
    "collapsed": false,
    "ExecuteTime": {
     "end_time": "2023-09-01T21:22:53.905134100Z",
     "start_time": "2023-09-01T21:22:53.695135400Z"
    }
   },
   "id": "b6f8624872321429"
  },
  {
   "cell_type": "markdown",
   "source": [
    "# Formatting for LSTM"
   ],
   "metadata": {
    "collapsed": false
   },
   "id": "d311e4018c495b6b"
  },
  {
   "cell_type": "code",
   "execution_count": 125,
   "outputs": [
    {
     "data": {
      "text/plain": "             Price  Price(t-1)  Price(t-2)  Price(t-3)  Price(t-4)   \nDate                                                                 \n1988-08-10  0.8875      0.8760      0.8710      0.8870      0.8780  \\\n1988-08-11  0.9010      0.8875      0.8760      0.8710      0.8870   \n1988-08-12  0.8835      0.9010      0.8875      0.8760      0.8710   \n1988-08-15  0.8880      0.8835      0.9010      0.8875      0.8760   \n1988-08-16  0.8880      0.8880      0.8835      0.9010      0.8875   \n...            ...         ...         ...         ...         ...   \n2023-08-28  3.7920      3.7790      3.7875      3.8305      3.7825   \n2023-08-29  3.8390      3.7920      3.7790      3.7875      3.8305   \n2023-08-30  3.8440      3.8390      3.7920      3.7790      3.7875   \n2023-08-31  3.8220      3.8440      3.8390      3.7920      3.7790   \n2023-09-01  3.8533      3.8220      3.8440      3.8390      3.7920   \n\n            Price(t-5)  Price(t-6)  Price(t-7)  \nDate                                            \n1988-08-10      0.8680      0.8600      0.8655  \n1988-08-11      0.8780      0.8680      0.8600  \n1988-08-12      0.8870      0.8780      0.8680  \n1988-08-15      0.8710      0.8870      0.8780  \n1988-08-16      0.8760      0.8710      0.8870  \n...                ...         ...         ...  \n2023-08-28      3.7465      3.7060      3.6915  \n2023-08-29      3.7825      3.7465      3.7060  \n2023-08-30      3.8305      3.7825      3.7465  \n2023-08-31      3.7875      3.8305      3.7825  \n2023-09-01      3.7790      3.7875      3.8305  \n\n[8881 rows x 8 columns]",
      "text/html": "<div>\n<style scoped>\n    .dataframe tbody tr th:only-of-type {\n        vertical-align: middle;\n    }\n\n    .dataframe tbody tr th {\n        vertical-align: top;\n    }\n\n    .dataframe thead th {\n        text-align: right;\n    }\n</style>\n<table border=\"1\" class=\"dataframe\">\n  <thead>\n    <tr style=\"text-align: right;\">\n      <th></th>\n      <th>Price</th>\n      <th>Price(t-1)</th>\n      <th>Price(t-2)</th>\n      <th>Price(t-3)</th>\n      <th>Price(t-4)</th>\n      <th>Price(t-5)</th>\n      <th>Price(t-6)</th>\n      <th>Price(t-7)</th>\n    </tr>\n    <tr>\n      <th>Date</th>\n      <th></th>\n      <th></th>\n      <th></th>\n      <th></th>\n      <th></th>\n      <th></th>\n      <th></th>\n      <th></th>\n    </tr>\n  </thead>\n  <tbody>\n    <tr>\n      <th>1988-08-10</th>\n      <td>0.8875</td>\n      <td>0.8760</td>\n      <td>0.8710</td>\n      <td>0.8870</td>\n      <td>0.8780</td>\n      <td>0.8680</td>\n      <td>0.8600</td>\n      <td>0.8655</td>\n    </tr>\n    <tr>\n      <th>1988-08-11</th>\n      <td>0.9010</td>\n      <td>0.8875</td>\n      <td>0.8760</td>\n      <td>0.8710</td>\n      <td>0.8870</td>\n      <td>0.8780</td>\n      <td>0.8680</td>\n      <td>0.8600</td>\n    </tr>\n    <tr>\n      <th>1988-08-12</th>\n      <td>0.8835</td>\n      <td>0.9010</td>\n      <td>0.8875</td>\n      <td>0.8760</td>\n      <td>0.8710</td>\n      <td>0.8870</td>\n      <td>0.8780</td>\n      <td>0.8680</td>\n    </tr>\n    <tr>\n      <th>1988-08-15</th>\n      <td>0.8880</td>\n      <td>0.8835</td>\n      <td>0.9010</td>\n      <td>0.8875</td>\n      <td>0.8760</td>\n      <td>0.8710</td>\n      <td>0.8870</td>\n      <td>0.8780</td>\n    </tr>\n    <tr>\n      <th>1988-08-16</th>\n      <td>0.8880</td>\n      <td>0.8880</td>\n      <td>0.8835</td>\n      <td>0.9010</td>\n      <td>0.8875</td>\n      <td>0.8760</td>\n      <td>0.8710</td>\n      <td>0.8870</td>\n    </tr>\n    <tr>\n      <th>...</th>\n      <td>...</td>\n      <td>...</td>\n      <td>...</td>\n      <td>...</td>\n      <td>...</td>\n      <td>...</td>\n      <td>...</td>\n      <td>...</td>\n    </tr>\n    <tr>\n      <th>2023-08-28</th>\n      <td>3.7920</td>\n      <td>3.7790</td>\n      <td>3.7875</td>\n      <td>3.8305</td>\n      <td>3.7825</td>\n      <td>3.7465</td>\n      <td>3.7060</td>\n      <td>3.6915</td>\n    </tr>\n    <tr>\n      <th>2023-08-29</th>\n      <td>3.8390</td>\n      <td>3.7920</td>\n      <td>3.7790</td>\n      <td>3.7875</td>\n      <td>3.8305</td>\n      <td>3.7825</td>\n      <td>3.7465</td>\n      <td>3.7060</td>\n    </tr>\n    <tr>\n      <th>2023-08-30</th>\n      <td>3.8440</td>\n      <td>3.8390</td>\n      <td>3.7920</td>\n      <td>3.7790</td>\n      <td>3.7875</td>\n      <td>3.8305</td>\n      <td>3.7825</td>\n      <td>3.7465</td>\n    </tr>\n    <tr>\n      <th>2023-08-31</th>\n      <td>3.8220</td>\n      <td>3.8440</td>\n      <td>3.8390</td>\n      <td>3.7920</td>\n      <td>3.7790</td>\n      <td>3.7875</td>\n      <td>3.8305</td>\n      <td>3.7825</td>\n    </tr>\n    <tr>\n      <th>2023-09-01</th>\n      <td>3.8533</td>\n      <td>3.8220</td>\n      <td>3.8440</td>\n      <td>3.8390</td>\n      <td>3.7920</td>\n      <td>3.7790</td>\n      <td>3.7875</td>\n      <td>3.8305</td>\n    </tr>\n  </tbody>\n</table>\n<p>8881 rows × 8 columns</p>\n</div>"
     },
     "execution_count": 125,
     "metadata": {},
     "output_type": "execute_result"
    }
   ],
   "source": [
    "from copy import deepcopy as dc\n",
    "\n",
    "def prepare_dataframe_for_lstm(df, n_steps):\n",
    "    df = dc(df)\n",
    "\n",
    "    df.set_index('Date', inplace=True)\n",
    "\n",
    "    for i in range(1, n_steps+1):\n",
    "        df[f'Price(t-{i})'] = df['Price'].shift(i)\n",
    "\n",
    "    df.dropna(inplace=True)\n",
    "\n",
    "    return df\n",
    "\n",
    "lookback = 7\n",
    "shifted_df = prepare_dataframe_for_lstm(data, lookback)\n",
    "shifted_df"
   ],
   "metadata": {
    "collapsed": false,
    "ExecuteTime": {
     "end_time": "2023-09-01T21:22:53.907133600Z",
     "start_time": "2023-09-01T21:22:53.713137300Z"
    }
   },
   "id": "ead4168e8449253c"
  },
  {
   "cell_type": "code",
   "execution_count": 126,
   "outputs": [
    {
     "data": {
      "text/plain": "array([[0.8875, 0.876 , 0.871 , ..., 0.868 , 0.86  , 0.8655],\n       [0.901 , 0.8875, 0.876 , ..., 0.878 , 0.868 , 0.86  ],\n       [0.8835, 0.901 , 0.8875, ..., 0.887 , 0.878 , 0.868 ],\n       ...,\n       [3.844 , 3.839 , 3.792 , ..., 3.8305, 3.7825, 3.7465],\n       [3.822 , 3.844 , 3.839 , ..., 3.7875, 3.8305, 3.7825],\n       [3.8533, 3.822 , 3.844 , ..., 3.779 , 3.7875, 3.8305]])"
     },
     "execution_count": 126,
     "metadata": {},
     "output_type": "execute_result"
    }
   ],
   "source": [
    "shifted_df_as_np_before_scaling = shifted_df.to_numpy()\n",
    "shifted_df_as_np_before_scaling"
   ],
   "metadata": {
    "collapsed": false,
    "ExecuteTime": {
     "end_time": "2023-09-01T21:22:53.907133600Z",
     "start_time": "2023-09-01T21:22:53.742135700Z"
    }
   },
   "id": "225714ae09073c95"
  },
  {
   "cell_type": "code",
   "execution_count": 127,
   "outputs": [
    {
     "data": {
      "text/plain": "(8881, 8)"
     },
     "execution_count": 127,
     "metadata": {},
     "output_type": "execute_result"
    }
   ],
   "source": [
    "shifted_df_as_np_before_scaling.shape"
   ],
   "metadata": {
    "collapsed": false,
    "ExecuteTime": {
     "end_time": "2023-09-01T21:22:53.908133600Z",
     "start_time": "2023-09-01T21:22:53.758134300Z"
    }
   },
   "id": "48fd08f44827be66"
  },
  {
   "cell_type": "markdown",
   "source": [
    "# Scaling Data"
   ],
   "metadata": {
    "collapsed": false
   },
   "id": "8fe5d45338ba9c55"
  },
  {
   "cell_type": "code",
   "execution_count": 128,
   "outputs": [
    {
     "data": {
      "text/plain": "array([[-0.87110187, -0.87641488, -0.87872488, ..., -0.88011088,\n        -0.88380688, -0.88126588],\n       [-0.86486486, -0.87110187, -0.87641488, ..., -0.87549088,\n        -0.88011088, -0.88380688],\n       [-0.87294987, -0.86486486, -0.87110187, ..., -0.87133287,\n        -0.87549088, -0.88011088],\n       ...,\n       [ 0.49480249,  0.49249249,  0.47077847, ...,  0.48856549,\n         0.46638947,  0.44975745],\n       [ 0.48463848,  0.49480249,  0.49249249, ...,  0.46869947,\n         0.48856549,  0.46638947],\n       [ 0.4990991 ,  0.48463848,  0.49480249, ...,  0.46477246,\n         0.46869947,  0.48856549]])"
     },
     "execution_count": 128,
     "metadata": {},
     "output_type": "execute_result"
    }
   ],
   "source": [
    "scaler = MinMaxScaler(feature_range=(-1, 1))\n",
    "scaler.fit(shifted_df_as_np_before_scaling)\n",
    "shifted_df_as_np = scaler.transform(shifted_df_as_np_before_scaling)\n",
    "shifted_df_as_np\n",
    "#shifted_df_as_np"
   ],
   "metadata": {
    "collapsed": false,
    "ExecuteTime": {
     "end_time": "2023-09-01T21:22:53.908133600Z",
     "start_time": "2023-09-01T21:22:53.774134700Z"
    }
   },
   "id": "88b63a23fbbdf2b2"
  },
  {
   "cell_type": "code",
   "execution_count": 129,
   "outputs": [
    {
     "data": {
      "text/plain": "((8881, 7), (8881,))"
     },
     "execution_count": 129,
     "metadata": {},
     "output_type": "execute_result"
    }
   ],
   "source": [
    "X = shifted_df_as_np[:, 1:]\n",
    "y = shifted_df_as_np[:, 0]\n",
    "\n",
    "X.shape, y.shape"
   ],
   "metadata": {
    "collapsed": false,
    "ExecuteTime": {
     "end_time": "2023-09-01T21:22:53.908133600Z",
     "start_time": "2023-09-01T21:22:53.789135900Z"
    }
   },
   "id": "a56633f8e9b7ee12"
  },
  {
   "cell_type": "code",
   "execution_count": 130,
   "outputs": [
    {
     "data": {
      "text/plain": "array([[-0.88126588, -0.88380688, -0.88011088, ..., -0.87133287,\n        -0.87872488, -0.87641488],\n       [-0.88380688, -0.88011088, -0.87549088, ..., -0.87872488,\n        -0.87641488, -0.87110187],\n       [-0.88011088, -0.87549088, -0.87133287, ..., -0.87641488,\n        -0.87110187, -0.86486486],\n       ...,\n       [ 0.44975745,  0.46638947,  0.48856549, ...,  0.46477246,\n         0.47077847,  0.49249249],\n       [ 0.46638947,  0.48856549,  0.46869947, ...,  0.47077847,\n         0.49249249,  0.49480249],\n       [ 0.48856549,  0.46869947,  0.46477246, ...,  0.49249249,\n         0.49480249,  0.48463848]])"
     },
     "execution_count": 130,
     "metadata": {},
     "output_type": "execute_result"
    }
   ],
   "source": [
    "X = dc(np.flip(X, axis=1))\n",
    "X"
   ],
   "metadata": {
    "collapsed": false,
    "ExecuteTime": {
     "end_time": "2023-09-01T21:22:53.909134700Z",
     "start_time": "2023-09-01T21:22:53.805134300Z"
    }
   },
   "id": "e79a79621d72f6f9"
  },
  {
   "cell_type": "code",
   "execution_count": 131,
   "outputs": [
    {
     "data": {
      "text/plain": "((8881, 7, 1), (8881, 1))"
     },
     "execution_count": 131,
     "metadata": {},
     "output_type": "execute_result"
    }
   ],
   "source": [
    "X = X.reshape((-1, lookback, 1))\n",
    "y = y.reshape((-1, 1))\n",
    "X.shape,y.shape"
   ],
   "metadata": {
    "collapsed": false,
    "ExecuteTime": {
     "end_time": "2023-09-01T21:22:53.909134700Z",
     "start_time": "2023-09-01T21:22:53.821133900Z"
    }
   },
   "id": "af945a2a03630db4"
  },
  {
   "cell_type": "code",
   "execution_count": 132,
   "outputs": [],
   "source": [
    "X = torch.tensor(X).float()\n",
    "y = torch.tensor(y).float()"
   ],
   "metadata": {
    "collapsed": false,
    "ExecuteTime": {
     "end_time": "2023-09-01T21:22:53.909134700Z",
     "start_time": "2023-09-01T21:22:53.835135100Z"
    }
   },
   "id": "ade7e5d20cf08bca"
  },
  {
   "cell_type": "markdown",
   "source": [
    "# Preparing LSTM"
   ],
   "metadata": {
    "collapsed": false
   },
   "id": "61b097bcea15e8a8"
  },
  {
   "cell_type": "code",
   "execution_count": 133,
   "outputs": [],
   "source": [
    "from torch.utils.data import Dataset\n",
    "\n",
    "class TimeSeriesDataset(Dataset):\n",
    "    def __init__(self, X, y):\n",
    "        self.X = X\n",
    "        self.y = y\n",
    "\n",
    "    def __len__(self):\n",
    "        return len(self.X)\n",
    "\n",
    "    def __getitem__(self, i):\n",
    "        return self.X[i], self.y[i]\n",
    "\n",
    "dataset = TimeSeriesDataset(X, y)"
   ],
   "metadata": {
    "collapsed": false,
    "ExecuteTime": {
     "end_time": "2023-09-01T21:22:53.909134700Z",
     "start_time": "2023-09-01T21:22:53.852134100Z"
    }
   },
   "id": "6fa07ee1acf91b83"
  },
  {
   "cell_type": "code",
   "execution_count": 134,
   "outputs": [],
   "source": [
    "from torch.utils.data import DataLoader\n",
    "\n",
    "batch_size = 16\n",
    "\n",
    "train_loader = DataLoader(dataset, batch_size=batch_size, shuffle=True)\n",
    "test_loader = DataLoader(dataset, batch_size=batch_size, shuffle=False)"
   ],
   "metadata": {
    "collapsed": false,
    "ExecuteTime": {
     "end_time": "2023-09-01T21:22:53.978133300Z",
     "start_time": "2023-09-01T21:22:53.868135600Z"
    }
   },
   "id": "2e4cf93f3140a6df"
  },
  {
   "cell_type": "code",
   "execution_count": 135,
   "outputs": [
    {
     "name": "stdout",
     "output_type": "stream",
     "text": [
      "torch.Size([16, 7, 1]) torch.Size([16, 1])\n"
     ]
    }
   ],
   "source": [
    "for _, batch in enumerate(train_loader):\n",
    "    x_batch, y_batch = batch[0].to(device), batch[1].to(device)\n",
    "    print(x_batch.shape, y_batch.shape)\n",
    "    break"
   ],
   "metadata": {
    "collapsed": false,
    "ExecuteTime": {
     "end_time": "2023-09-01T21:22:53.979135600Z",
     "start_time": "2023-09-01T21:22:53.883133900Z"
    }
   },
   "id": "e45531b9f103b167"
  },
  {
   "cell_type": "code",
   "execution_count": 136,
   "outputs": [
    {
     "data": {
      "text/plain": "LSTM(\n  (lstm): LSTM(1, 4, batch_first=True)\n  (fc): Linear(in_features=4, out_features=1, bias=True)\n)"
     },
     "execution_count": 136,
     "metadata": {},
     "output_type": "execute_result"
    }
   ],
   "source": [
    "class LSTM(nn.Module):\n",
    "    def __init__(self, input_size, hidden_size, num_stacked_layers):\n",
    "        super().__init__()\n",
    "        self.hidden_size = hidden_size\n",
    "        self.num_stacked_layers = num_stacked_layers\n",
    "\n",
    "        self.lstm = nn.LSTM(input_size, hidden_size, num_stacked_layers,\n",
    "                            batch_first=True)\n",
    "\n",
    "        self.fc = nn.Linear(hidden_size, 1)\n",
    "\n",
    "    def forward(self, x):\n",
    "        batch_size = x.size(0)\n",
    "        h0 = torch.zeros(self.num_stacked_layers, batch_size, self.hidden_size).to(device)\n",
    "        c0 = torch.zeros(self.num_stacked_layers, batch_size, self.hidden_size).to(device)\n",
    "\n",
    "        out, _ = self.lstm(x, (h0, c0))\n",
    "        out = self.fc(out[:, -1, :])\n",
    "        return out\n",
    "\n",
    "model = LSTM(1, 4, 1)\n",
    "model.to(device)\n",
    "model"
   ],
   "metadata": {
    "collapsed": false,
    "ExecuteTime": {
     "end_time": "2023-09-01T21:22:54.036133100Z",
     "start_time": "2023-09-01T21:22:53.901135300Z"
    }
   },
   "id": "f37f3e3d321f2637"
  },
  {
   "cell_type": "markdown",
   "source": [
    "# Training and Optimising"
   ],
   "metadata": {
    "collapsed": false
   },
   "id": "7499e93e3e84c1b2"
  },
  {
   "cell_type": "code",
   "execution_count": 137,
   "outputs": [],
   "source": [
    "def train_one_epoch():\n",
    "    model.train(True)\n",
    "    print(f'Epoch: {epoch + 1}')\n",
    "    running_loss = 0.0\n",
    "\n",
    "    for batch_index, batch in enumerate(train_loader):\n",
    "        x_batch, y_batch = batch[0].to(device), batch[1].to(device)\n",
    "\n",
    "        output = model(x_batch)\n",
    "        loss = loss_function(output, y_batch)\n",
    "        running_loss += loss.item()\n",
    "\n",
    "        optimizer.zero_grad()\n",
    "        loss.backward()\n",
    "        optimizer.step()\n",
    "\n",
    "        if batch_index % 100 == 99:  # print every 100 batches\n",
    "            avg_loss_across_batches = running_loss / 100\n",
    "            print('Batch {0}, Loss: {1:.3f}'.format(batch_index+1,\n",
    "                                                    avg_loss_across_batches))\n",
    "            running_loss = 0.0\n",
    "    print()"
   ],
   "metadata": {
    "collapsed": false,
    "ExecuteTime": {
     "end_time": "2023-09-01T21:22:54.068133300Z",
     "start_time": "2023-09-01T21:22:53.916134600Z"
    }
   },
   "id": "9ad970afb24ab0f8"
  },
  {
   "cell_type": "code",
   "execution_count": 138,
   "outputs": [],
   "source": [
    "def validate_one_epoch():\n",
    "    model.train(False)\n",
    "    running_loss = 0.0\n",
    "\n",
    "    for batch_index, batch in enumerate(test_loader):\n",
    "        x_batch, y_batch = batch[0].to(device), batch[1].to(device)\n",
    "\n",
    "        with torch.no_grad():\n",
    "            output = model(x_batch)\n",
    "            loss = loss_function(output, y_batch)\n",
    "            running_loss += loss.item()\n",
    "\n",
    "    avg_loss_across_batches = running_loss / len(test_loader)\n",
    "\n",
    "    print('Val Loss: {0:.3f}'.format(avg_loss_across_batches))\n",
    "    print('***************************************************')\n",
    "    print()"
   ],
   "metadata": {
    "collapsed": false,
    "ExecuteTime": {
     "end_time": "2023-09-01T21:22:54.095132300Z",
     "start_time": "2023-09-01T21:22:53.930134600Z"
    }
   },
   "id": "3ab775190ab25909"
  },
  {
   "cell_type": "code",
   "execution_count": 139,
   "outputs": [
    {
     "name": "stdout",
     "output_type": "stream",
     "text": [
      "Epoch: 1\n",
      "Batch 100, Loss: 0.309\n",
      "Batch 200, Loss: 0.126\n",
      "Batch 300, Loss: 0.019\n",
      "Batch 400, Loss: 0.014\n",
      "Batch 500, Loss: 0.010\n",
      "Val Loss: 0.007\n",
      "***************************************************\n",
      "\n",
      "Epoch: 2\n",
      "Batch 100, Loss: 0.006\n",
      "Batch 200, Loss: 0.005\n",
      "Batch 300, Loss: 0.003\n",
      "Batch 400, Loss: 0.002\n",
      "Batch 500, Loss: 0.001\n",
      "Val Loss: 0.001\n",
      "***************************************************\n",
      "\n",
      "Epoch: 3\n",
      "Batch 100, Loss: 0.001\n",
      "Batch 200, Loss: 0.001\n",
      "Batch 300, Loss: 0.001\n",
      "Batch 400, Loss: 0.001\n",
      "Batch 500, Loss: 0.001\n",
      "Val Loss: 0.001\n",
      "***************************************************\n",
      "\n",
      "Epoch: 4\n",
      "Batch 100, Loss: 0.001\n",
      "Batch 200, Loss: 0.001\n",
      "Batch 300, Loss: 0.001\n",
      "Batch 400, Loss: 0.001\n",
      "Batch 500, Loss: 0.001\n",
      "Val Loss: 0.001\n",
      "***************************************************\n",
      "\n",
      "Epoch: 5\n",
      "Batch 100, Loss: 0.001\n",
      "Batch 200, Loss: 0.001\n",
      "Batch 300, Loss: 0.001\n",
      "Batch 400, Loss: 0.001\n",
      "Batch 500, Loss: 0.001\n",
      "Val Loss: 0.001\n",
      "***************************************************\n",
      "\n",
      "Epoch: 6\n",
      "Batch 100, Loss: 0.001\n",
      "Batch 200, Loss: 0.001\n",
      "Batch 300, Loss: 0.001\n",
      "Batch 400, Loss: 0.001\n",
      "Batch 500, Loss: 0.001\n",
      "Val Loss: 0.001\n",
      "***************************************************\n",
      "\n",
      "Epoch: 7\n",
      "Batch 100, Loss: 0.001\n",
      "Batch 200, Loss: 0.001\n",
      "Batch 300, Loss: 0.001\n",
      "Batch 400, Loss: 0.001\n",
      "Batch 500, Loss: 0.001\n",
      "Val Loss: 0.001\n",
      "***************************************************\n",
      "\n",
      "Epoch: 8\n",
      "Batch 100, Loss: 0.001\n",
      "Batch 200, Loss: 0.001\n",
      "Batch 300, Loss: 0.001\n",
      "Batch 400, Loss: 0.001\n",
      "Batch 500, Loss: 0.001\n",
      "Val Loss: 0.001\n",
      "***************************************************\n",
      "\n",
      "Epoch: 9\n",
      "Batch 100, Loss: 0.001\n",
      "Batch 200, Loss: 0.001\n",
      "Batch 300, Loss: 0.001\n",
      "Batch 400, Loss: 0.001\n",
      "Batch 500, Loss: 0.001\n",
      "Val Loss: 0.001\n",
      "***************************************************\n",
      "\n",
      "Epoch: 10\n",
      "Batch 100, Loss: 0.001\n",
      "Batch 200, Loss: 0.001\n",
      "Batch 300, Loss: 0.001\n",
      "Batch 400, Loss: 0.001\n",
      "Batch 500, Loss: 0.001\n",
      "Val Loss: 0.001\n",
      "***************************************************\n",
      "\n",
      "Epoch: 11\n",
      "Batch 100, Loss: 0.001\n",
      "Batch 200, Loss: 0.001\n",
      "Batch 300, Loss: 0.001\n",
      "Batch 400, Loss: 0.001\n",
      "Batch 500, Loss: 0.001\n",
      "Val Loss: 0.001\n",
      "***************************************************\n",
      "\n",
      "Epoch: 12\n",
      "Batch 100, Loss: 0.001\n",
      "Batch 200, Loss: 0.001\n",
      "Batch 300, Loss: 0.001\n",
      "Batch 400, Loss: 0.001\n",
      "Batch 500, Loss: 0.001\n",
      "Val Loss: 0.001\n",
      "***************************************************\n",
      "\n",
      "Epoch: 13\n",
      "Batch 100, Loss: 0.001\n",
      "Batch 200, Loss: 0.001\n",
      "Batch 300, Loss: 0.001\n",
      "Batch 400, Loss: 0.001\n",
      "Batch 500, Loss: 0.001\n",
      "Val Loss: 0.001\n",
      "***************************************************\n",
      "\n",
      "Epoch: 14\n",
      "Batch 100, Loss: 0.001\n",
      "Batch 200, Loss: 0.001\n",
      "Batch 300, Loss: 0.001\n",
      "Batch 400, Loss: 0.001\n",
      "Batch 500, Loss: 0.000\n",
      "Val Loss: 0.001\n",
      "***************************************************\n",
      "\n",
      "Epoch: 15\n",
      "Batch 100, Loss: 0.000\n",
      "Batch 200, Loss: 0.000\n",
      "Batch 300, Loss: 0.000\n",
      "Batch 400, Loss: 0.001\n",
      "Batch 500, Loss: 0.001\n",
      "Val Loss: 0.001\n",
      "***************************************************\n",
      "\n",
      "Epoch: 16\n",
      "Batch 100, Loss: 0.000\n",
      "Batch 200, Loss: 0.001\n",
      "Batch 300, Loss: 0.000\n",
      "Batch 400, Loss: 0.000\n",
      "Batch 500, Loss: 0.001\n",
      "Val Loss: 0.000\n",
      "***************************************************\n",
      "\n",
      "Epoch: 17\n",
      "Batch 100, Loss: 0.000\n",
      "Batch 200, Loss: 0.001\n",
      "Batch 300, Loss: 0.000\n",
      "Batch 400, Loss: 0.000\n",
      "Batch 500, Loss: 0.000\n",
      "Val Loss: 0.000\n",
      "***************************************************\n",
      "\n",
      "Epoch: 18\n",
      "Batch 100, Loss: 0.000\n",
      "Batch 200, Loss: 0.000\n",
      "Batch 300, Loss: 0.000\n",
      "Batch 400, Loss: 0.000\n",
      "Batch 500, Loss: 0.001\n",
      "Val Loss: 0.000\n",
      "***************************************************\n",
      "\n",
      "Epoch: 19\n",
      "Batch 100, Loss: 0.000\n",
      "Batch 200, Loss: 0.000\n",
      "Batch 300, Loss: 0.000\n",
      "Batch 400, Loss: 0.000\n",
      "Batch 500, Loss: 0.001\n",
      "Val Loss: 0.000\n",
      "***************************************************\n",
      "\n",
      "Epoch: 20\n",
      "Batch 100, Loss: 0.000\n",
      "Batch 200, Loss: 0.000\n",
      "Batch 300, Loss: 0.000\n",
      "Batch 400, Loss: 0.000\n",
      "Batch 500, Loss: 0.000\n",
      "Val Loss: 0.000\n",
      "***************************************************\n"
     ]
    }
   ],
   "source": [
    "learning_rate = 0.001\n",
    "num_epochs = 20\n",
    "loss_function = nn.MSELoss()\n",
    "optimizer = torch.optim.Adam(model.parameters(), lr=learning_rate)\n",
    "\"\"\"\n",
    "Adam does the gradient descent for me\n",
    "\"\"\"\n",
    "for epoch in range(num_epochs):\n",
    "    train_one_epoch()\n",
    "    validate_one_epoch()"
   ],
   "metadata": {
    "collapsed": false,
    "ExecuteTime": {
     "end_time": "2023-09-01T21:23:10.970080Z",
     "start_time": "2023-09-01T21:22:53.946136600Z"
    }
   },
   "id": "8a8d56e32fea1cae"
  },
  {
   "cell_type": "markdown",
   "source": [
    "# Predicting"
   ],
   "metadata": {
    "collapsed": false
   },
   "id": "c9ff904e85438cac"
  },
  {
   "cell_type": "code",
   "execution_count": 140,
   "outputs": [
    {
     "data": {
      "text/plain": "          Date\n0   2023-09-02\n1   2023-09-03\n2   2023-09-04\n3   2023-09-05\n4   2023-09-06\n..         ...\n116 2023-12-27\n117 2023-12-28\n118 2023-12-29\n119 2023-12-30\n120 2023-12-31\n\n[121 rows x 1 columns]",
      "text/html": "<div>\n<style scoped>\n    .dataframe tbody tr th:only-of-type {\n        vertical-align: middle;\n    }\n\n    .dataframe tbody tr th {\n        vertical-align: top;\n    }\n\n    .dataframe thead th {\n        text-align: right;\n    }\n</style>\n<table border=\"1\" class=\"dataframe\">\n  <thead>\n    <tr style=\"text-align: right;\">\n      <th></th>\n      <th>Date</th>\n    </tr>\n  </thead>\n  <tbody>\n    <tr>\n      <th>0</th>\n      <td>2023-09-02</td>\n    </tr>\n    <tr>\n      <th>1</th>\n      <td>2023-09-03</td>\n    </tr>\n    <tr>\n      <th>2</th>\n      <td>2023-09-04</td>\n    </tr>\n    <tr>\n      <th>3</th>\n      <td>2023-09-05</td>\n    </tr>\n    <tr>\n      <th>4</th>\n      <td>2023-09-06</td>\n    </tr>\n    <tr>\n      <th>...</th>\n      <td>...</td>\n    </tr>\n    <tr>\n      <th>116</th>\n      <td>2023-12-27</td>\n    </tr>\n    <tr>\n      <th>117</th>\n      <td>2023-12-28</td>\n    </tr>\n    <tr>\n      <th>118</th>\n      <td>2023-12-29</td>\n    </tr>\n    <tr>\n      <th>119</th>\n      <td>2023-12-30</td>\n    </tr>\n    <tr>\n      <th>120</th>\n      <td>2023-12-31</td>\n    </tr>\n  </tbody>\n</table>\n<p>121 rows × 1 columns</p>\n</div>"
     },
     "execution_count": 140,
     "metadata": {},
     "output_type": "execute_result"
    }
   ],
   "source": [
    "start_date = (train_dates.iloc[-1].date()+ timedelta(days=1)).strftime(\"%Y-%m-%d\")\n",
    "end_date = '2023-12-31'\n",
    "test_dates = pd.date_range(start=start_date, end=end_date, freq='D')\n",
    "\n",
    "# Create a DataFrame with the date column\n",
    "testset = pd.DataFrame({'Date': test_dates})\n",
    "testset['Date'] = pd.to_datetime(testset['Date'])\n",
    "testset.to_numpy()\n",
    "testset\n"
   ],
   "metadata": {
    "collapsed": false,
    "ExecuteTime": {
     "end_time": "2023-09-01T21:23:11.011620400Z",
     "start_time": "2023-09-01T21:23:10.971604800Z"
    }
   },
   "id": "517e3acebd200953"
  },
  {
   "cell_type": "markdown",
   "source": [
    "## Scaling Data"
   ],
   "metadata": {
    "collapsed": false
   },
   "id": "b725904324ad6157"
  },
  {
   "cell_type": "code",
   "execution_count": 141,
   "outputs": [],
   "source": [
    "min_data = np.min(shifted_df_as_np_before_scaling)\n",
    "max_data = np.max(shifted_df_as_np_before_scaling)\n",
    "scaled_min = np.min(shifted_df_as_np)\n",
    "scaled_max = np.max(shifted_df_as_np)"
   ],
   "metadata": {
    "collapsed": false,
    "ExecuteTime": {
     "end_time": "2023-09-01T21:23:11.044619300Z",
     "start_time": "2023-09-01T21:23:10.986621400Z"
    }
   },
   "id": "9ef9b951638386af"
  },
  {
   "cell_type": "code",
   "execution_count": 142,
   "outputs": [
    {
     "name": "stdout",
     "output_type": "stream",
     "text": [
      "1.0\n"
     ]
    }
   ],
   "source": [
    "# custom scaling works the same way as MinMaxScaling, but MinMaxScaling require numpy with sizes similar to oriinal data, which is not possible\n",
    "def custom_scaling(data, min_val, max_val):\n",
    "    global min_data, max_data\n",
    "    if np.min(data) < min_data:\n",
    "        min_data = np.min(data)\n",
    "    else:\n",
    "        min_data = np.min(shifted_df_as_np_before_scaling)\n",
    "    if np.max(data) > max_data:\n",
    "        max_data = np.max(data)\n",
    "    else:\n",
    "        max_data = np.max(shifted_df_as_np_before_scaling)\n",
    "    scaled_data = min_val + ((data - min_data) / (max_data - min_data)) * (max_val - min_val)\n",
    "    return scaled_data\n",
    "\n",
    "scaled_min = np.min(shifted_df_as_np)\n",
    "scaled_max = np.max(shifted_df_as_np)\n",
    "print(scaled_max)\n",
    "def reverse_custom_scaling(scaled_data, min_val, max_val):\n",
    "    global scaled_min, scaled_max\n",
    "    if np.min(scaled_data) < scaled_min:\n",
    "        scaled_min = np.min(scaled_data)\n",
    "    if np.max(scaled_data) > scaled_max:\n",
    "        scaled_max = np.max(scaled_data)\n",
    "    original_data = min_data + (((scaled_data - min_val)/(max_val - min_val))*(max_data-min_data))\n",
    "    return original_data"
   ],
   "metadata": {
    "collapsed": false,
    "ExecuteTime": {
     "end_time": "2023-09-01T21:23:11.065622900Z",
     "start_time": "2023-09-01T21:23:11.003621800Z"
    }
   },
   "id": "da723160262728ee"
  },
  {
   "cell_type": "code",
   "execution_count": 155,
   "outputs": [
    {
     "data": {
      "text/plain": "         Price  Price(t-1)  Price(t-2)  Price(t-3)  Price(t-4)  Price(t-5)   \n0     0.887500    0.876000    0.871000    0.887000    0.878000    0.868000  \\\n1     0.901000    0.887500    0.876000    0.871000    0.887000    0.878000   \n2     0.883500    0.901000    0.887500    0.876000    0.871000    0.887000   \n3     0.888000    0.883500    0.901000    0.887500    0.876000    0.871000   \n4     0.888000    0.888000    0.883500    0.901000    0.887500    0.876000   \n...        ...         ...         ...         ...         ...         ...   \n9118  3.601756    3.601756    3.601756    3.601756    3.601756    3.601756   \n9119  3.601756    3.601756    3.601756    3.601756    3.601756    3.601756   \n9120  3.601756    3.601756    3.601756    3.601756    3.601756    3.601756   \n9121  3.601756    3.601756    3.601756    3.601756    3.601756    3.601756   \n9122  3.601756    3.601756    3.601756    3.601756    3.601756    3.601756   \n\n      Price(t-6)  Price(t-7)  \n0       0.860000    0.865500  \n1       0.868000    0.860000  \n2       0.878000    0.868000  \n3       0.887000    0.878000  \n4       0.871000    0.887000  \n...          ...         ...  \n9118    3.601756    3.601756  \n9119    3.601756    3.601756  \n9120    3.601756    3.601756  \n9121    3.601756    3.601756  \n9122    3.601756    3.601756  \n\n[9123 rows x 8 columns]",
      "text/html": "<div>\n<style scoped>\n    .dataframe tbody tr th:only-of-type {\n        vertical-align: middle;\n    }\n\n    .dataframe tbody tr th {\n        vertical-align: top;\n    }\n\n    .dataframe thead th {\n        text-align: right;\n    }\n</style>\n<table border=\"1\" class=\"dataframe\">\n  <thead>\n    <tr style=\"text-align: right;\">\n      <th></th>\n      <th>Price</th>\n      <th>Price(t-1)</th>\n      <th>Price(t-2)</th>\n      <th>Price(t-3)</th>\n      <th>Price(t-4)</th>\n      <th>Price(t-5)</th>\n      <th>Price(t-6)</th>\n      <th>Price(t-7)</th>\n    </tr>\n  </thead>\n  <tbody>\n    <tr>\n      <th>0</th>\n      <td>0.887500</td>\n      <td>0.876000</td>\n      <td>0.871000</td>\n      <td>0.887000</td>\n      <td>0.878000</td>\n      <td>0.868000</td>\n      <td>0.860000</td>\n      <td>0.865500</td>\n    </tr>\n    <tr>\n      <th>1</th>\n      <td>0.901000</td>\n      <td>0.887500</td>\n      <td>0.876000</td>\n      <td>0.871000</td>\n      <td>0.887000</td>\n      <td>0.878000</td>\n      <td>0.868000</td>\n      <td>0.860000</td>\n    </tr>\n    <tr>\n      <th>2</th>\n      <td>0.883500</td>\n      <td>0.901000</td>\n      <td>0.887500</td>\n      <td>0.876000</td>\n      <td>0.871000</td>\n      <td>0.887000</td>\n      <td>0.878000</td>\n      <td>0.868000</td>\n    </tr>\n    <tr>\n      <th>3</th>\n      <td>0.888000</td>\n      <td>0.883500</td>\n      <td>0.901000</td>\n      <td>0.887500</td>\n      <td>0.876000</td>\n      <td>0.871000</td>\n      <td>0.887000</td>\n      <td>0.878000</td>\n    </tr>\n    <tr>\n      <th>4</th>\n      <td>0.888000</td>\n      <td>0.888000</td>\n      <td>0.883500</td>\n      <td>0.901000</td>\n      <td>0.887500</td>\n      <td>0.876000</td>\n      <td>0.871000</td>\n      <td>0.887000</td>\n    </tr>\n    <tr>\n      <th>...</th>\n      <td>...</td>\n      <td>...</td>\n      <td>...</td>\n      <td>...</td>\n      <td>...</td>\n      <td>...</td>\n      <td>...</td>\n      <td>...</td>\n    </tr>\n    <tr>\n      <th>9118</th>\n      <td>3.601756</td>\n      <td>3.601756</td>\n      <td>3.601756</td>\n      <td>3.601756</td>\n      <td>3.601756</td>\n      <td>3.601756</td>\n      <td>3.601756</td>\n      <td>3.601756</td>\n    </tr>\n    <tr>\n      <th>9119</th>\n      <td>3.601756</td>\n      <td>3.601756</td>\n      <td>3.601756</td>\n      <td>3.601756</td>\n      <td>3.601756</td>\n      <td>3.601756</td>\n      <td>3.601756</td>\n      <td>3.601756</td>\n    </tr>\n    <tr>\n      <th>9120</th>\n      <td>3.601756</td>\n      <td>3.601756</td>\n      <td>3.601756</td>\n      <td>3.601756</td>\n      <td>3.601756</td>\n      <td>3.601756</td>\n      <td>3.601756</td>\n      <td>3.601756</td>\n    </tr>\n    <tr>\n      <th>9121</th>\n      <td>3.601756</td>\n      <td>3.601756</td>\n      <td>3.601756</td>\n      <td>3.601756</td>\n      <td>3.601756</td>\n      <td>3.601756</td>\n      <td>3.601756</td>\n      <td>3.601756</td>\n    </tr>\n    <tr>\n      <th>9122</th>\n      <td>3.601756</td>\n      <td>3.601756</td>\n      <td>3.601756</td>\n      <td>3.601756</td>\n      <td>3.601756</td>\n      <td>3.601756</td>\n      <td>3.601756</td>\n      <td>3.601756</td>\n    </tr>\n  </tbody>\n</table>\n<p>9123 rows × 8 columns</p>\n</div>"
     },
     "execution_count": 155,
     "metadata": {},
     "output_type": "execute_result"
    }
   ],
   "source": [
    "for _ in range(test_dates.shape[0]):    \n",
    "    shifted_df_as_np_before_scaling = shifted_df.to_numpy()\n",
    "    sample = shifted_df_as_np_before_scaling[-1,1:]\n",
    "    sample = sample.reshape(1,-1)\n",
    "    sample_np = np.flip(sample,axis=1)\n",
    "    sample_np = custom_scaling(sample_np,-1,1)\n",
    "    sample_np = sample_np.reshape((-1, lookback, 1))\n",
    "    sample_tensor = torch.tensor(sample_np).float()\n",
    "    with torch.no_grad():\n",
    "        predicted = model(sample2_tensor.to(device)).to('cpu').numpy()\n",
    "    res = reverse_custom_scaling(predicted,-1,1)\n",
    "    sample2[0][-1]\n",
    "    new_row = {'Price':res[0][0], \n",
    "               'Price(t-1)':shifted_df_as_np_before_scaling[-1][0],\n",
    "               'Price(t-2)':shifted_df_as_np_before_scaling[-1][1],\n",
    "               'Price(t-3)':shifted_df_as_np_before_scaling[-1][2],\n",
    "               'Price(t-4)':shifted_df_as_np_before_scaling[-1][3],\n",
    "               'Price(t-5)':shifted_df_as_np_before_scaling[-1][4],\n",
    "               'Price(t-6)':shifted_df_as_np_before_scaling[-1][5],\n",
    "               'Price(t-7)':shifted_df_as_np_before_scaling[-1][6]\n",
    "               }\n",
    "    new_row \n",
    "    shifted_df = shifted_df._append(new_row,ignore_index=True)\n",
    "shifted_df "
   ],
   "metadata": {
    "collapsed": false,
    "ExecuteTime": {
     "end_time": "2023-09-01T21:27:33.721727100Z",
     "start_time": "2023-09-01T21:27:33.539985100Z"
    }
   },
   "id": "dc113f9429938615"
  },
  {
   "cell_type": "code",
   "execution_count": 152,
   "outputs": [
    {
     "data": {
      "text/plain": "          Date     Price\n0   2023-09-02  3.839000\n1   2023-09-03  3.844000\n2   2023-09-04  3.822000\n3   2023-09-05  3.853300\n4   2023-09-06  3.821223\n..         ...       ...\n116 2023-12-27  3.619998\n117 2023-12-28  3.617750\n118 2023-12-29  3.615493\n119 2023-12-30  3.613227\n120 2023-12-31  3.610952\n\n[121 rows x 2 columns]",
      "text/html": "<div>\n<style scoped>\n    .dataframe tbody tr th:only-of-type {\n        vertical-align: middle;\n    }\n\n    .dataframe tbody tr th {\n        vertical-align: top;\n    }\n\n    .dataframe thead th {\n        text-align: right;\n    }\n</style>\n<table border=\"1\" class=\"dataframe\">\n  <thead>\n    <tr style=\"text-align: right;\">\n      <th></th>\n      <th>Date</th>\n      <th>Price</th>\n    </tr>\n  </thead>\n  <tbody>\n    <tr>\n      <th>0</th>\n      <td>2023-09-02</td>\n      <td>3.839000</td>\n    </tr>\n    <tr>\n      <th>1</th>\n      <td>2023-09-03</td>\n      <td>3.844000</td>\n    </tr>\n    <tr>\n      <th>2</th>\n      <td>2023-09-04</td>\n      <td>3.822000</td>\n    </tr>\n    <tr>\n      <th>3</th>\n      <td>2023-09-05</td>\n      <td>3.853300</td>\n    </tr>\n    <tr>\n      <th>4</th>\n      <td>2023-09-06</td>\n      <td>3.821223</td>\n    </tr>\n    <tr>\n      <th>...</th>\n      <td>...</td>\n      <td>...</td>\n    </tr>\n    <tr>\n      <th>116</th>\n      <td>2023-12-27</td>\n      <td>3.619998</td>\n    </tr>\n    <tr>\n      <th>117</th>\n      <td>2023-12-28</td>\n      <td>3.617750</td>\n    </tr>\n    <tr>\n      <th>118</th>\n      <td>2023-12-29</td>\n      <td>3.615493</td>\n    </tr>\n    <tr>\n      <th>119</th>\n      <td>2023-12-30</td>\n      <td>3.613227</td>\n    </tr>\n    <tr>\n      <th>120</th>\n      <td>2023-12-31</td>\n      <td>3.610952</td>\n    </tr>\n  </tbody>\n</table>\n<p>121 rows × 2 columns</p>\n</div>"
     },
     "execution_count": 152,
     "metadata": {},
     "output_type": "execute_result"
    }
   ],
   "source": [
    "testset\n",
    "temp = shifted_df.tail(125)[\"Price\"]\n",
    "new_set = pd.DataFrame(columns=[\"Date\",\"Price\"]) \n",
    "for i in range(test_dates.shape[0]):\n",
    "    item = {\"Date\":test_dates[i].date(), \"Price\": temp.iloc[i]}\n",
    "    new_set = new_set._append(item, ignore_index=True)\n",
    "\n",
    "new_set[\"Date\"] = pd.to_datetime(new_set[\"Date\"])\n",
    "new_set.sort_values(by=\"Date\",ascending=True)\n",
    "new_set"
   ],
   "metadata": {
    "collapsed": false,
    "ExecuteTime": {
     "end_time": "2023-09-01T21:25:37.981059800Z",
     "start_time": "2023-09-01T21:25:37.896742600Z"
    }
   },
   "id": "508e95b02b7f76bd"
  },
  {
   "cell_type": "code",
   "execution_count": 153,
   "outputs": [
    {
     "data": {
      "text/plain": "<Figure size 1000x600 with 1 Axes>",
      "image/png": "[encoded data removed]"
     },
     "metadata": {},
     "output_type": "display_data"
    }
   ],
   "source": [
    "plt.figure(figsize=(10, 6))\n",
    "\n",
    "plt.plot(new_set[\"Date\"], new_set[\"Price\"], marker='o')\n",
    "plt.xlabel('Date')\n",
    "plt.ylabel('Price')\n",
    "plt.title('Price Over Time')\n",
    "plt.grid(True)\n",
    "plt.show()"
   ],
   "metadata": {
    "collapsed": false,
    "ExecuteTime": {
     "end_time": "2023-09-01T21:25:41.200396600Z",
     "start_time": "2023-09-01T21:25:41.026395500Z"
    }
   },
   "id": "92d4fbd350006269"
  },
  {
   "cell_type": "markdown",
   "source": [
    "# Plotting Everything"
   ],
   "metadata": {
    "collapsed": false
   },
   "id": "310f8703c41aad94"
  },
  {
   "cell_type": "code",
   "execution_count": 154,
   "outputs": [
    {
     "data": {
      "text/plain": "<Figure size 1000x600 with 1 Axes>",
      "image/png": "[encoded data removed]"
     },
     "metadata": {},
     "output_type": "display_data"
    }
   ],
   "source": [
    "wholeset = pd.DataFrame()\n",
    "wholeset = pd.concat([train_dates[:],new_set[\"Date\"]],axis=0)\n",
    "wholeset = pd.to_datetime(wholeset)\n",
    "\n",
    "plt.figure(figsize=(10, 6))\n",
    "\n",
    "plt.plot(wholeset,shifted_df['Price'], marker='o')\n",
    "plt.xlabel('Date')\n",
    "plt.ylabel('Price')\n",
    "plt.title('Price Over Time')\n",
    "plt.grid(True)\n",
    "plt.show()"
   ],
   "metadata": {
    "collapsed": false,
    "ExecuteTime": {
     "end_time": "2023-09-01T21:25:53.157157500Z",
     "start_time": "2023-09-01T21:25:52.949158800Z"
    }
   },
   "id": "61ec4060d957d5bc"
  }
 ],
 "metadata": {
  "kernelspec": {
   "display_name": "Python 3",
   "language": "python",
   "name": "python3"
  },
  "language_info": {
   "codemirror_mode": {
    "name": "ipython",
    "version": 2
   },
   "file_extension": ".py",
   "mimetype": "text/x-python",
   "name": "python",
   "nbconvert_exporter": "python",
   "pygments_lexer": "ipython2",
   "version": "2.7.6"
  }
 },
 "nbformat": 4,
 "nbformat_minor": 5
}
