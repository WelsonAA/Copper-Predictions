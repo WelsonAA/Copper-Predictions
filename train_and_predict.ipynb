{
 "cells": [
  {
   "cell_type": "markdown",
   "source": [
    "# Importing Libraries"
   ],
   "metadata": {
    "collapsed": false
   },
   "id": "352328d6c2ce0c5d"
  },
  {
   "cell_type": "code",
   "execution_count": 49,
   "outputs": [],
   "source": [
    "import pandas as pd\n",
    "import numpy as np\n",
    "import matplotlib.pyplot as plt\n",
    "import torch\n",
    "import torch.nn as nn\n",
    "from datetime import timedelta\n",
    "from sklearn.preprocessing import MinMaxScaler"
   ],
   "metadata": {
    "collapsed": false,
    "ExecuteTime": {
     "end_time": "2023-09-21T12:11:03.982043100Z",
     "start_time": "2023-09-21T12:11:03.843045800Z"
    }
   },
   "id": "3a75c928dfc5c42f"
  },
  {
   "cell_type": "markdown",
   "source": [
    "# Reading Clean Dataset"
   ],
   "metadata": {
    "collapsed": false
   },
   "id": "81957f0d394557a3"
  },
  {
   "cell_type": "code",
   "execution_count": 50,
   "outputs": [
    {
     "data": {
      "text/plain": "            Date   Price\n0     1988-08-01  0.8655\n1     1988-08-02  0.8600\n2     1988-08-03  0.8680\n3     1988-08-04  0.8780\n4     1988-08-05  0.8870\n...          ...     ...\n8898  2023-09-15  3.8010\n8899  2023-09-18  3.7790\n8900  2023-09-19  3.7470\n8901  2023-09-20  3.7760\n8902  2023-09-21  3.6730\n\n[8903 rows x 2 columns]",
      "text/html": "<div>\n<style scoped>\n    .dataframe tbody tr th:only-of-type {\n        vertical-align: middle;\n    }\n\n    .dataframe tbody tr th {\n        vertical-align: top;\n    }\n\n    .dataframe thead th {\n        text-align: right;\n    }\n</style>\n<table border=\"1\" class=\"dataframe\">\n  <thead>\n    <tr style=\"text-align: right;\">\n      <th></th>\n      <th>Date</th>\n      <th>Price</th>\n    </tr>\n  </thead>\n  <tbody>\n    <tr>\n      <th>0</th>\n      <td>1988-08-01</td>\n      <td>0.8655</td>\n    </tr>\n    <tr>\n      <th>1</th>\n      <td>1988-08-02</td>\n      <td>0.8600</td>\n    </tr>\n    <tr>\n      <th>2</th>\n      <td>1988-08-03</td>\n      <td>0.8680</td>\n    </tr>\n    <tr>\n      <th>3</th>\n      <td>1988-08-04</td>\n      <td>0.8780</td>\n    </tr>\n    <tr>\n      <th>4</th>\n      <td>1988-08-05</td>\n      <td>0.8870</td>\n    </tr>\n    <tr>\n      <th>...</th>\n      <td>...</td>\n      <td>...</td>\n    </tr>\n    <tr>\n      <th>8898</th>\n      <td>2023-09-15</td>\n      <td>3.8010</td>\n    </tr>\n    <tr>\n      <th>8899</th>\n      <td>2023-09-18</td>\n      <td>3.7790</td>\n    </tr>\n    <tr>\n      <th>8900</th>\n      <td>2023-09-19</td>\n      <td>3.7470</td>\n    </tr>\n    <tr>\n      <th>8901</th>\n      <td>2023-09-20</td>\n      <td>3.7760</td>\n    </tr>\n    <tr>\n      <th>8902</th>\n      <td>2023-09-21</td>\n      <td>3.6730</td>\n    </tr>\n  </tbody>\n</table>\n<p>8903 rows × 2 columns</p>\n</div>"
     },
     "execution_count": 50,
     "metadata": {},
     "output_type": "execute_result"
    }
   ],
   "source": [
    "data = pd.read_csv(\"cleaned_dataset.csv\")\n",
    "train_dates = pd.to_datetime(data[\"Date\"])\n",
    "train_dates = train_dates[7:]\n",
    "data"
   ],
   "metadata": {
    "collapsed": false,
    "ExecuteTime": {
     "end_time": "2023-09-21T12:11:04.182041700Z",
     "start_time": "2023-09-21T12:11:03.861043400Z"
    }
   },
   "id": "8d44c26b1b41c0c0"
  },
  {
   "cell_type": "markdown",
   "source": [
    "# Setting Device to GPU"
   ],
   "metadata": {
    "collapsed": false
   },
   "id": "949fc77ffcd48cfd"
  },
  {
   "cell_type": "code",
   "execution_count": 51,
   "outputs": [
    {
     "data": {
      "text/plain": "'cpu'"
     },
     "execution_count": 51,
     "metadata": {},
     "output_type": "execute_result"
    }
   ],
   "source": [
    "device = 'cuda:0' if torch.cuda.is_available() else 'cpu'\n",
    "device"
   ],
   "metadata": {
    "collapsed": false,
    "ExecuteTime": {
     "end_time": "2023-09-21T12:11:04.185041200Z",
     "start_time": "2023-09-21T12:11:03.892042700Z"
    }
   },
   "id": "b6f8624872321429"
  },
  {
   "cell_type": "markdown",
   "source": [
    "# Formatting for LSTM"
   ],
   "metadata": {
    "collapsed": false
   },
   "id": "d311e4018c495b6b"
  },
  {
   "cell_type": "code",
   "execution_count": 52,
   "outputs": [
    {
     "data": {
      "text/plain": "             Price  Price(t-1)  Price(t-2)  Price(t-3)  Price(t-4)   \nDate                                                                 \n1988-08-10  0.8875      0.8760      0.8710      0.8870      0.8780  \\\n1988-08-11  0.9010      0.8875      0.8760      0.8710      0.8870   \n1988-08-12  0.8835      0.9010      0.8875      0.8760      0.8710   \n1988-08-15  0.8880      0.8835      0.9010      0.8875      0.8760   \n1988-08-16  0.8880      0.8880      0.8835      0.9010      0.8875   \n...            ...         ...         ...         ...         ...   \n2023-09-15  3.8010      3.8215      3.7930      3.7920      3.8070   \n2023-09-18  3.7790      3.8010      3.8215      3.7930      3.7920   \n2023-09-19  3.7470      3.7790      3.8010      3.8215      3.7930   \n2023-09-20  3.7760      3.7470      3.7790      3.8010      3.8215   \n2023-09-21  3.6730      3.7760      3.7470      3.7790      3.8010   \n\n            Price(t-5)  Price(t-6)  Price(t-7)  \nDate                                            \n1988-08-10      0.8680      0.8600      0.8655  \n1988-08-11      0.8780      0.8680      0.8600  \n1988-08-12      0.8870      0.8780      0.8680  \n1988-08-15      0.8710      0.8870      0.8780  \n1988-08-16      0.8760      0.8710      0.8870  \n...                ...         ...         ...  \n2023-09-15      3.7165      3.7620      3.7860  \n2023-09-18      3.8070      3.7165      3.7620  \n2023-09-19      3.7920      3.8070      3.7165  \n2023-09-20      3.7930      3.7920      3.8070  \n2023-09-21      3.8215      3.7930      3.7920  \n\n[8896 rows x 8 columns]",
      "text/html": "<div>\n<style scoped>\n    .dataframe tbody tr th:only-of-type {\n        vertical-align: middle;\n    }\n\n    .dataframe tbody tr th {\n        vertical-align: top;\n    }\n\n    .dataframe thead th {\n        text-align: right;\n    }\n</style>\n<table border=\"1\" class=\"dataframe\">\n  <thead>\n    <tr style=\"text-align: right;\">\n      <th></th>\n      <th>Price</th>\n      <th>Price(t-1)</th>\n      <th>Price(t-2)</th>\n      <th>Price(t-3)</th>\n      <th>Price(t-4)</th>\n      <th>Price(t-5)</th>\n      <th>Price(t-6)</th>\n      <th>Price(t-7)</th>\n    </tr>\n    <tr>\n      <th>Date</th>\n      <th></th>\n      <th></th>\n      <th></th>\n      <th></th>\n      <th></th>\n      <th></th>\n      <th></th>\n      <th></th>\n    </tr>\n  </thead>\n  <tbody>\n    <tr>\n      <th>1988-08-10</th>\n      <td>0.8875</td>\n      <td>0.8760</td>\n      <td>0.8710</td>\n      <td>0.8870</td>\n      <td>0.8780</td>\n      <td>0.8680</td>\n      <td>0.8600</td>\n      <td>0.8655</td>\n    </tr>\n    <tr>\n      <th>1988-08-11</th>\n      <td>0.9010</td>\n      <td>0.8875</td>\n      <td>0.8760</td>\n      <td>0.8710</td>\n      <td>0.8870</td>\n      <td>0.8780</td>\n      <td>0.8680</td>\n      <td>0.8600</td>\n    </tr>\n    <tr>\n      <th>1988-08-12</th>\n      <td>0.8835</td>\n      <td>0.9010</td>\n      <td>0.8875</td>\n      <td>0.8760</td>\n      <td>0.8710</td>\n      <td>0.8870</td>\n      <td>0.8780</td>\n      <td>0.8680</td>\n    </tr>\n    <tr>\n      <th>1988-08-15</th>\n      <td>0.8880</td>\n      <td>0.8835</td>\n      <td>0.9010</td>\n      <td>0.8875</td>\n      <td>0.8760</td>\n      <td>0.8710</td>\n      <td>0.8870</td>\n      <td>0.8780</td>\n    </tr>\n    <tr>\n      <th>1988-08-16</th>\n      <td>0.8880</td>\n      <td>0.8880</td>\n      <td>0.8835</td>\n      <td>0.9010</td>\n      <td>0.8875</td>\n      <td>0.8760</td>\n      <td>0.8710</td>\n      <td>0.8870</td>\n    </tr>\n    <tr>\n      <th>...</th>\n      <td>...</td>\n      <td>...</td>\n      <td>...</td>\n      <td>...</td>\n      <td>...</td>\n      <td>...</td>\n      <td>...</td>\n      <td>...</td>\n    </tr>\n    <tr>\n      <th>2023-09-15</th>\n      <td>3.8010</td>\n      <td>3.8215</td>\n      <td>3.7930</td>\n      <td>3.7920</td>\n      <td>3.8070</td>\n      <td>3.7165</td>\n      <td>3.7620</td>\n      <td>3.7860</td>\n    </tr>\n    <tr>\n      <th>2023-09-18</th>\n      <td>3.7790</td>\n      <td>3.8010</td>\n      <td>3.8215</td>\n      <td>3.7930</td>\n      <td>3.7920</td>\n      <td>3.8070</td>\n      <td>3.7165</td>\n      <td>3.7620</td>\n    </tr>\n    <tr>\n      <th>2023-09-19</th>\n      <td>3.7470</td>\n      <td>3.7790</td>\n      <td>3.8010</td>\n      <td>3.8215</td>\n      <td>3.7930</td>\n      <td>3.7920</td>\n      <td>3.8070</td>\n      <td>3.7165</td>\n    </tr>\n    <tr>\n      <th>2023-09-20</th>\n      <td>3.7760</td>\n      <td>3.7470</td>\n      <td>3.7790</td>\n      <td>3.8010</td>\n      <td>3.8215</td>\n      <td>3.7930</td>\n      <td>3.7920</td>\n      <td>3.8070</td>\n    </tr>\n    <tr>\n      <th>2023-09-21</th>\n      <td>3.6730</td>\n      <td>3.7760</td>\n      <td>3.7470</td>\n      <td>3.7790</td>\n      <td>3.8010</td>\n      <td>3.8215</td>\n      <td>3.7930</td>\n      <td>3.7920</td>\n    </tr>\n  </tbody>\n</table>\n<p>8896 rows × 8 columns</p>\n</div>"
     },
     "execution_count": 52,
     "metadata": {},
     "output_type": "execute_result"
    }
   ],
   "source": [
    "from copy import deepcopy as dc\n",
    "\n",
    "def prepare_dataframe_for_lstm(df, n_steps):\n",
    "    df = dc(df)\n",
    "\n",
    "    df.set_index('Date', inplace=True)\n",
    "\n",
    "    for i in range(1, n_steps+1):\n",
    "        df[f'Price(t-{i})'] = df['Price'].shift(i)\n",
    "\n",
    "    df.dropna(inplace=True)\n",
    "\n",
    "    return df\n",
    "\n",
    "lookback = 7\n",
    "shifted_df = prepare_dataframe_for_lstm(data, lookback)\n",
    "shifted_df"
   ],
   "metadata": {
    "collapsed": false,
    "ExecuteTime": {
     "end_time": "2023-09-21T12:11:04.186041400Z",
     "start_time": "2023-09-21T12:11:03.910043400Z"
    }
   },
   "id": "ead4168e8449253c"
  },
  {
   "cell_type": "code",
   "execution_count": 53,
   "outputs": [
    {
     "data": {
      "text/plain": "array([[0.8875, 0.876 , 0.871 , ..., 0.868 , 0.86  , 0.8655],\n       [0.901 , 0.8875, 0.876 , ..., 0.878 , 0.868 , 0.86  ],\n       [0.8835, 0.901 , 0.8875, ..., 0.887 , 0.878 , 0.868 ],\n       ...,\n       [3.747 , 3.779 , 3.801 , ..., 3.792 , 3.807 , 3.7165],\n       [3.776 , 3.747 , 3.779 , ..., 3.793 , 3.792 , 3.807 ],\n       [3.673 , 3.776 , 3.747 , ..., 3.8215, 3.793 , 3.792 ]])"
     },
     "execution_count": 53,
     "metadata": {},
     "output_type": "execute_result"
    }
   ],
   "source": [
    "shifted_df_as_np_before_scaling = shifted_df.to_numpy()\n",
    "shifted_df_as_np_before_scaling"
   ],
   "metadata": {
    "collapsed": false,
    "ExecuteTime": {
     "end_time": "2023-09-21T12:11:04.186041400Z",
     "start_time": "2023-09-21T12:11:03.939042400Z"
    }
   },
   "id": "225714ae09073c95"
  },
  {
   "cell_type": "code",
   "execution_count": 54,
   "outputs": [
    {
     "data": {
      "text/plain": "(8896, 8)"
     },
     "execution_count": 54,
     "metadata": {},
     "output_type": "execute_result"
    }
   ],
   "source": [
    "shifted_df_as_np_before_scaling.shape"
   ],
   "metadata": {
    "collapsed": false,
    "ExecuteTime": {
     "end_time": "2023-09-21T12:11:04.186041400Z",
     "start_time": "2023-09-21T12:11:03.954042100Z"
    }
   },
   "id": "48fd08f44827be66"
  },
  {
   "cell_type": "markdown",
   "source": [
    "# Scaling Data"
   ],
   "metadata": {
    "collapsed": false
   },
   "id": "8fe5d45338ba9c55"
  },
  {
   "cell_type": "code",
   "execution_count": 55,
   "outputs": [
    {
     "data": {
      "text/plain": "array([[-0.87110187, -0.87641488, -0.87872488, ..., -0.88011088,\n        -0.88380688, -0.88126588],\n       [-0.86486486, -0.87110187, -0.87641488, ..., -0.87549088,\n        -0.88011088, -0.88380688],\n       [-0.87294987, -0.86486486, -0.87110187, ..., -0.87133287,\n        -0.87549088, -0.88011088],\n       ...,\n       [ 0.44998845,  0.46477246,  0.47493647, ...,  0.47077847,\n         0.47770848,  0.43589744],\n       [ 0.46338646,  0.44998845,  0.46477246, ...,  0.47124047,\n         0.47077847,  0.47770848],\n       [ 0.41580042,  0.46338646,  0.44998845, ...,  0.48440748,\n         0.47124047,  0.47077847]])"
     },
     "execution_count": 55,
     "metadata": {},
     "output_type": "execute_result"
    }
   ],
   "source": [
    "scaler = MinMaxScaler(feature_range=(-1, 1))\n",
    "scaler.fit(shifted_df_as_np_before_scaling)\n",
    "shifted_df_as_np = scaler.transform(shifted_df_as_np_before_scaling)\n",
    "shifted_df_as_np\n",
    "#shifted_df_as_np"
   ],
   "metadata": {
    "collapsed": false,
    "ExecuteTime": {
     "end_time": "2023-09-21T12:11:04.188041300Z",
     "start_time": "2023-09-21T12:11:03.969041500Z"
    }
   },
   "id": "88b63a23fbbdf2b2"
  },
  {
   "cell_type": "code",
   "execution_count": 56,
   "outputs": [
    {
     "data": {
      "text/plain": "((8896, 7), (8896,))"
     },
     "execution_count": 56,
     "metadata": {},
     "output_type": "execute_result"
    }
   ],
   "source": [
    "X = shifted_df_as_np[:, 1:]\n",
    "y = shifted_df_as_np[:, 0]\n",
    "\n",
    "X.shape, y.shape"
   ],
   "metadata": {
    "collapsed": false,
    "ExecuteTime": {
     "end_time": "2023-09-21T12:11:04.188041300Z",
     "start_time": "2023-09-21T12:11:03.985045300Z"
    }
   },
   "id": "a56633f8e9b7ee12"
  },
  {
   "cell_type": "code",
   "execution_count": 57,
   "outputs": [
    {
     "data": {
      "text/plain": "array([[-0.88126588, -0.88380688, -0.88011088, ..., -0.87133287,\n        -0.87872488, -0.87641488],\n       [-0.88380688, -0.88011088, -0.87549088, ..., -0.87872488,\n        -0.87641488, -0.87110187],\n       [-0.88011088, -0.87549088, -0.87133287, ..., -0.87641488,\n        -0.87110187, -0.86486486],\n       ...,\n       [ 0.43589744,  0.47770848,  0.47077847, ...,  0.48440748,\n         0.47493647,  0.46477246],\n       [ 0.47770848,  0.47077847,  0.47124047, ...,  0.47493647,\n         0.46477246,  0.44998845],\n       [ 0.47077847,  0.47124047,  0.48440748, ...,  0.46477246,\n         0.44998845,  0.46338646]])"
     },
     "execution_count": 57,
     "metadata": {},
     "output_type": "execute_result"
    }
   ],
   "source": [
    "X = dc(np.flip(X, axis=1))\n",
    "X"
   ],
   "metadata": {
    "collapsed": false,
    "ExecuteTime": {
     "end_time": "2023-09-21T12:11:04.188041300Z",
     "start_time": "2023-09-21T12:11:04.000042200Z"
    }
   },
   "id": "e79a79621d72f6f9"
  },
  {
   "cell_type": "code",
   "execution_count": 58,
   "outputs": [
    {
     "data": {
      "text/plain": "((8896, 7, 1), (8896, 1))"
     },
     "execution_count": 58,
     "metadata": {},
     "output_type": "execute_result"
    }
   ],
   "source": [
    "X = X.reshape((-1, lookback, 1))\n",
    "y = y.reshape((-1, 1))\n",
    "X.shape,y.shape"
   ],
   "metadata": {
    "collapsed": false,
    "ExecuteTime": {
     "end_time": "2023-09-21T12:11:04.189041200Z",
     "start_time": "2023-09-21T12:11:04.018043900Z"
    }
   },
   "id": "af945a2a03630db4"
  },
  {
   "cell_type": "code",
   "execution_count": 59,
   "outputs": [],
   "source": [
    "X = torch.tensor(X).float()\n",
    "y = torch.tensor(y).float()"
   ],
   "metadata": {
    "collapsed": false,
    "ExecuteTime": {
     "end_time": "2023-09-21T12:11:04.189041200Z",
     "start_time": "2023-09-21T12:11:04.034046300Z"
    }
   },
   "id": "ade7e5d20cf08bca"
  },
  {
   "cell_type": "markdown",
   "source": [
    "# Preparing LSTM"
   ],
   "metadata": {
    "collapsed": false
   },
   "id": "61b097bcea15e8a8"
  },
  {
   "cell_type": "code",
   "execution_count": 60,
   "outputs": [],
   "source": [
    "from torch.utils.data import Dataset\n",
    "\n",
    "class TimeSeriesDataset(Dataset):\n",
    "    def __init__(self, X, y):\n",
    "        self.X = X\n",
    "        self.y = y\n",
    "\n",
    "    def __len__(self):\n",
    "        return len(self.X)\n",
    "\n",
    "    def __getitem__(self, i):\n",
    "        return self.X[i], self.y[i]\n",
    "\n",
    "dataset = TimeSeriesDataset(X, y)"
   ],
   "metadata": {
    "collapsed": false,
    "ExecuteTime": {
     "end_time": "2023-09-21T12:11:04.189041200Z",
     "start_time": "2023-09-21T12:11:04.047041100Z"
    }
   },
   "id": "6fa07ee1acf91b83"
  },
  {
   "cell_type": "code",
   "execution_count": 61,
   "outputs": [],
   "source": [
    "from torch.utils.data import DataLoader\n",
    "\n",
    "batch_size = 16\n",
    "\n",
    "train_loader = DataLoader(dataset, batch_size=batch_size, shuffle=True)\n",
    "test_loader = DataLoader(dataset, batch_size=batch_size, shuffle=False)"
   ],
   "metadata": {
    "collapsed": false,
    "ExecuteTime": {
     "end_time": "2023-09-21T12:11:04.189041200Z",
     "start_time": "2023-09-21T12:11:04.062041600Z"
    }
   },
   "id": "2e4cf93f3140a6df"
  },
  {
   "cell_type": "code",
   "execution_count": 62,
   "outputs": [
    {
     "name": "stdout",
     "output_type": "stream",
     "text": [
      "torch.Size([16, 7, 1]) torch.Size([16, 1])\n"
     ]
    }
   ],
   "source": [
    "for _, batch in enumerate(train_loader):\n",
    "    x_batch, y_batch = batch[0].to(device), batch[1].to(device)\n",
    "    print(x_batch.shape, y_batch.shape)\n",
    "    break"
   ],
   "metadata": {
    "collapsed": false,
    "ExecuteTime": {
     "end_time": "2023-09-21T12:11:04.189041200Z",
     "start_time": "2023-09-21T12:11:04.078041300Z"
    }
   },
   "id": "e45531b9f103b167"
  },
  {
   "cell_type": "code",
   "execution_count": 63,
   "outputs": [
    {
     "data": {
      "text/plain": "LSTM(\n  (lstm): LSTM(1, 4, batch_first=True)\n  (fc): Linear(in_features=4, out_features=1, bias=True)\n)"
     },
     "execution_count": 63,
     "metadata": {},
     "output_type": "execute_result"
    }
   ],
   "source": [
    "class LSTM(nn.Module):\n",
    "    def __init__(self, input_size, hidden_size, num_stacked_layers):\n",
    "        super().__init__()\n",
    "        self.hidden_size = hidden_size\n",
    "        self.num_stacked_layers = num_stacked_layers\n",
    "\n",
    "        self.lstm = nn.LSTM(input_size, hidden_size, num_stacked_layers,\n",
    "                            batch_first=True)\n",
    "\n",
    "        self.fc = nn.Linear(hidden_size, 1)\n",
    "\n",
    "    def forward(self, x):\n",
    "        batch_size = x.size(0)\n",
    "        h0 = torch.zeros(self.num_stacked_layers, batch_size, self.hidden_size).to(device)\n",
    "        c0 = torch.zeros(self.num_stacked_layers, batch_size, self.hidden_size).to(device)\n",
    "\n",
    "        out, _ = self.lstm(x, (h0, c0))\n",
    "        out = self.fc(out[:, -1, :])\n",
    "        return out\n",
    "\n",
    "model = LSTM(1, 4, 1)\n",
    "model.to(device)\n",
    "model"
   ],
   "metadata": {
    "collapsed": false,
    "ExecuteTime": {
     "end_time": "2023-09-21T12:11:04.189041200Z",
     "start_time": "2023-09-21T12:11:04.092042800Z"
    }
   },
   "id": "f37f3e3d321f2637"
  },
  {
   "cell_type": "markdown",
   "source": [
    "# Training and Optimising"
   ],
   "metadata": {
    "collapsed": false
   },
   "id": "7499e93e3e84c1b2"
  },
  {
   "cell_type": "code",
   "execution_count": 64,
   "outputs": [],
   "source": [
    "def train_one_epoch():\n",
    "    model.train(True)\n",
    "    print(f'Epoch: {epoch + 1}')\n",
    "    running_loss = 0.0\n",
    "\n",
    "    for batch_index, batch in enumerate(train_loader):\n",
    "        x_batch, y_batch = batch[0].to(device), batch[1].to(device)\n",
    "\n",
    "        output = model(x_batch)\n",
    "        loss = loss_function(output, y_batch)\n",
    "        running_loss += loss.item()\n",
    "\n",
    "        optimizer.zero_grad()\n",
    "        loss.backward()\n",
    "        optimizer.step()\n",
    "\n",
    "        if batch_index % 100 == 99:  # print every 100 batches\n",
    "            avg_loss_across_batches = running_loss / 100\n",
    "            print('Batch {0}, Loss: {1:.3f}'.format(batch_index+1,\n",
    "                                                    avg_loss_across_batches))\n",
    "            running_loss = 0.0\n",
    "    print()"
   ],
   "metadata": {
    "collapsed": false,
    "ExecuteTime": {
     "end_time": "2023-09-21T12:11:04.189041200Z",
     "start_time": "2023-09-21T12:11:04.107042800Z"
    }
   },
   "id": "9ad970afb24ab0f8"
  },
  {
   "cell_type": "code",
   "execution_count": 65,
   "outputs": [],
   "source": [
    "def validate_one_epoch():\n",
    "    model.train(False)\n",
    "    running_loss = 0.0\n",
    "\n",
    "    for batch_index, batch in enumerate(test_loader):\n",
    "        x_batch, y_batch = batch[0].to(device), batch[1].to(device)\n",
    "\n",
    "        with torch.no_grad():\n",
    "            output = model(x_batch)\n",
    "            loss = loss_function(output, y_batch)\n",
    "            running_loss += loss.item()\n",
    "\n",
    "    avg_loss_across_batches = running_loss / len(test_loader)\n",
    "\n",
    "    print('Val Loss: {0:.3f}'.format(avg_loss_across_batches))\n",
    "    print('***************************************************')\n",
    "    print()"
   ],
   "metadata": {
    "collapsed": false,
    "ExecuteTime": {
     "end_time": "2023-09-21T12:11:04.189041200Z",
     "start_time": "2023-09-21T12:11:04.126041Z"
    }
   },
   "id": "3ab775190ab25909"
  },
  {
   "cell_type": "code",
   "execution_count": 66,
   "outputs": [
    {
     "name": "stdout",
     "output_type": "stream",
     "text": [
      "Epoch: 1\n",
      "Batch 100, Loss: 0.211\n",
      "Batch 200, Loss: 0.054\n",
      "Batch 300, Loss: 0.009\n",
      "Batch 400, Loss: 0.007\n",
      "Batch 500, Loss: 0.005\n",
      "Val Loss: 0.004\n",
      "***************************************************\n",
      "\n",
      "Epoch: 2\n",
      "Batch 100, Loss: 0.003\n",
      "Batch 200, Loss: 0.002\n",
      "Batch 300, Loss: 0.002\n",
      "Batch 400, Loss: 0.001\n",
      "Batch 500, Loss: 0.001\n",
      "Val Loss: 0.001\n",
      "***************************************************\n",
      "\n",
      "Epoch: 3\n",
      "Batch 100, Loss: 0.001\n",
      "Batch 200, Loss: 0.001\n",
      "Batch 300, Loss: 0.001\n",
      "Batch 400, Loss: 0.001\n",
      "Batch 500, Loss: 0.001\n",
      "Val Loss: 0.001\n",
      "***************************************************\n",
      "\n",
      "Epoch: 4\n",
      "Batch 100, Loss: 0.001\n",
      "Batch 200, Loss: 0.001\n",
      "Batch 300, Loss: 0.001\n",
      "Batch 400, Loss: 0.001\n",
      "Batch 500, Loss: 0.001\n",
      "Val Loss: 0.001\n",
      "***************************************************\n",
      "\n",
      "Epoch: 5\n",
      "Batch 100, Loss: 0.001\n",
      "Batch 200, Loss: 0.001\n",
      "Batch 300, Loss: 0.001\n",
      "Batch 400, Loss: 0.001\n",
      "Batch 500, Loss: 0.001\n",
      "Val Loss: 0.001\n",
      "***************************************************\n",
      "\n",
      "Epoch: 6\n",
      "Batch 100, Loss: 0.001\n",
      "Batch 200, Loss: 0.001\n",
      "Batch 300, Loss: 0.001\n",
      "Batch 400, Loss: 0.001\n",
      "Batch 500, Loss: 0.001\n",
      "Val Loss: 0.001\n",
      "***************************************************\n",
      "\n",
      "Epoch: 7\n",
      "Batch 100, Loss: 0.001\n",
      "Batch 200, Loss: 0.001\n",
      "Batch 300, Loss: 0.000\n",
      "Batch 400, Loss: 0.000\n",
      "Batch 500, Loss: 0.001\n",
      "Val Loss: 0.001\n",
      "***************************************************\n",
      "\n",
      "Epoch: 8\n",
      "Batch 100, Loss: 0.000\n",
      "Batch 200, Loss: 0.001\n",
      "Batch 300, Loss: 0.000\n",
      "Batch 400, Loss: 0.000\n",
      "Batch 500, Loss: 0.000\n",
      "Val Loss: 0.000\n",
      "***************************************************\n",
      "\n",
      "Epoch: 9\n",
      "Batch 100, Loss: 0.000\n",
      "Batch 200, Loss: 0.000\n",
      "Batch 300, Loss: 0.000\n",
      "Batch 400, Loss: 0.000\n",
      "Batch 500, Loss: 0.000\n",
      "Val Loss: 0.000\n",
      "***************************************************\n",
      "\n",
      "Epoch: 10\n",
      "Batch 100, Loss: 0.000\n",
      "Batch 200, Loss: 0.000\n",
      "Batch 300, Loss: 0.000\n",
      "Batch 400, Loss: 0.000\n",
      "Batch 500, Loss: 0.000\n",
      "Val Loss: 0.000\n",
      "***************************************************\n",
      "\n",
      "Epoch: 11\n",
      "Batch 100, Loss: 0.000\n",
      "Batch 200, Loss: 0.000\n",
      "Batch 300, Loss: 0.000\n",
      "Batch 400, Loss: 0.000\n",
      "Batch 500, Loss: 0.000\n",
      "Val Loss: 0.000\n",
      "***************************************************\n",
      "\n",
      "Epoch: 12\n",
      "Batch 100, Loss: 0.000\n",
      "Batch 200, Loss: 0.000\n",
      "Batch 300, Loss: 0.000\n",
      "Batch 400, Loss: 0.000\n",
      "Batch 500, Loss: 0.000\n",
      "Val Loss: 0.000\n",
      "***************************************************\n",
      "\n",
      "Epoch: 13\n",
      "Batch 100, Loss: 0.000\n",
      "Batch 200, Loss: 0.000\n",
      "Batch 300, Loss: 0.000\n",
      "Batch 400, Loss: 0.000\n",
      "Batch 500, Loss: 0.000\n",
      "Val Loss: 0.000\n",
      "***************************************************\n",
      "\n",
      "Epoch: 14\n",
      "Batch 100, Loss: 0.000\n",
      "Batch 200, Loss: 0.000\n",
      "Batch 300, Loss: 0.000\n",
      "Batch 400, Loss: 0.000\n",
      "Batch 500, Loss: 0.000\n",
      "Val Loss: 0.000\n",
      "***************************************************\n",
      "\n",
      "Epoch: 15\n",
      "Batch 100, Loss: 0.000\n",
      "Batch 200, Loss: 0.000\n",
      "Batch 300, Loss: 0.000\n",
      "Batch 400, Loss: 0.000\n",
      "Batch 500, Loss: 0.000\n",
      "Val Loss: 0.000\n",
      "***************************************************\n",
      "\n",
      "Epoch: 16\n",
      "Batch 100, Loss: 0.000\n",
      "Batch 200, Loss: 0.000\n",
      "Batch 300, Loss: 0.000\n",
      "Batch 400, Loss: 0.000\n",
      "Batch 500, Loss: 0.000\n",
      "Val Loss: 0.000\n",
      "***************************************************\n",
      "\n",
      "Epoch: 17\n",
      "Batch 100, Loss: 0.000\n",
      "Batch 200, Loss: 0.000\n",
      "Batch 300, Loss: 0.000\n",
      "Batch 400, Loss: 0.000\n",
      "Batch 500, Loss: 0.000\n",
      "Val Loss: 0.000\n",
      "***************************************************\n",
      "\n",
      "Epoch: 18\n",
      "Batch 100, Loss: 0.000\n",
      "Batch 200, Loss: 0.000\n",
      "Batch 300, Loss: 0.000\n",
      "Batch 400, Loss: 0.000\n",
      "Batch 500, Loss: 0.000\n",
      "Val Loss: 0.000\n",
      "***************************************************\n",
      "\n",
      "Epoch: 19\n",
      "Batch 100, Loss: 0.000\n",
      "Batch 200, Loss: 0.000\n",
      "Batch 300, Loss: 0.000\n",
      "Batch 400, Loss: 0.000\n",
      "Batch 500, Loss: 0.000\n",
      "Val Loss: 0.000\n",
      "***************************************************\n",
      "\n",
      "Epoch: 20\n",
      "Batch 100, Loss: 0.000\n",
      "Batch 200, Loss: 0.000\n",
      "Batch 300, Loss: 0.000\n",
      "Batch 400, Loss: 0.000\n",
      "Batch 500, Loss: 0.000\n",
      "Val Loss: 0.000\n",
      "***************************************************\n"
     ]
    }
   ],
   "source": [
    "learning_rate = 0.001\n",
    "num_epochs = 20\n",
    "loss_function = nn.MSELoss()\n",
    "optimizer = torch.optim.Adam(model.parameters(), lr=learning_rate)\n",
    "\"\"\"\n",
    "Adam does the gradient descent for me\n",
    "\"\"\"\n",
    "for epoch in range(num_epochs):\n",
    "    train_one_epoch()\n",
    "    validate_one_epoch()"
   ],
   "metadata": {
    "collapsed": false,
    "ExecuteTime": {
     "end_time": "2023-09-21T12:11:21.819287700Z",
     "start_time": "2023-09-21T12:11:04.139044Z"
    }
   },
   "id": "8a8d56e32fea1cae"
  },
  {
   "cell_type": "markdown",
   "source": [
    "# Predicting"
   ],
   "metadata": {
    "collapsed": false
   },
   "id": "c9ff904e85438cac"
  },
  {
   "cell_type": "code",
   "execution_count": 67,
   "outputs": [
    {
     "data": {
      "text/plain": "          Date\n0   2023-09-22\n1   2023-09-23\n2   2023-09-24\n3   2023-09-25\n4   2023-09-26\n..         ...\n96  2023-12-27\n97  2023-12-28\n98  2023-12-29\n99  2023-12-30\n100 2023-12-31\n\n[101 rows x 1 columns]",
      "text/html": "<div>\n<style scoped>\n    .dataframe tbody tr th:only-of-type {\n        vertical-align: middle;\n    }\n\n    .dataframe tbody tr th {\n        vertical-align: top;\n    }\n\n    .dataframe thead th {\n        text-align: right;\n    }\n</style>\n<table border=\"1\" class=\"dataframe\">\n  <thead>\n    <tr style=\"text-align: right;\">\n      <th></th>\n      <th>Date</th>\n    </tr>\n  </thead>\n  <tbody>\n    <tr>\n      <th>0</th>\n      <td>2023-09-22</td>\n    </tr>\n    <tr>\n      <th>1</th>\n      <td>2023-09-23</td>\n    </tr>\n    <tr>\n      <th>2</th>\n      <td>2023-09-24</td>\n    </tr>\n    <tr>\n      <th>3</th>\n      <td>2023-09-25</td>\n    </tr>\n    <tr>\n      <th>4</th>\n      <td>2023-09-26</td>\n    </tr>\n    <tr>\n      <th>...</th>\n      <td>...</td>\n    </tr>\n    <tr>\n      <th>96</th>\n      <td>2023-12-27</td>\n    </tr>\n    <tr>\n      <th>97</th>\n      <td>2023-12-28</td>\n    </tr>\n    <tr>\n      <th>98</th>\n      <td>2023-12-29</td>\n    </tr>\n    <tr>\n      <th>99</th>\n      <td>2023-12-30</td>\n    </tr>\n    <tr>\n      <th>100</th>\n      <td>2023-12-31</td>\n    </tr>\n  </tbody>\n</table>\n<p>101 rows × 1 columns</p>\n</div>"
     },
     "execution_count": 67,
     "metadata": {},
     "output_type": "execute_result"
    }
   ],
   "source": [
    "start_date = (train_dates.iloc[-1].date()+ timedelta(days=1)).strftime(\"%Y-%m-%d\")\n",
    "end_date = '2023-12-31'\n",
    "test_dates = pd.date_range(start=start_date, end=end_date, freq='D')\n",
    "\n",
    "# Create a DataFrame with the date column\n",
    "testset = pd.DataFrame({'Date': test_dates})\n",
    "testset['Date'] = pd.to_datetime(testset['Date'])\n",
    "testset.to_numpy()\n",
    "testset\n"
   ],
   "metadata": {
    "collapsed": false,
    "ExecuteTime": {
     "end_time": "2023-09-21T12:11:21.823288200Z",
     "start_time": "2023-09-21T12:11:21.806286500Z"
    }
   },
   "id": "517e3acebd200953"
  },
  {
   "cell_type": "markdown",
   "source": [
    "## Scaling Data"
   ],
   "metadata": {
    "collapsed": false
   },
   "id": "b725904324ad6157"
  },
  {
   "cell_type": "code",
   "execution_count": 68,
   "outputs": [],
   "source": [
    "min_data = np.min(shifted_df_as_np_before_scaling)\n",
    "max_data = np.max(shifted_df_as_np_before_scaling)\n",
    "scaled_min = np.min(shifted_df_as_np)\n",
    "scaled_max = np.max(shifted_df_as_np)"
   ],
   "metadata": {
    "collapsed": false,
    "ExecuteTime": {
     "end_time": "2023-09-21T12:11:21.839288600Z",
     "start_time": "2023-09-21T12:11:21.821287800Z"
    }
   },
   "id": "9ef9b951638386af"
  },
  {
   "cell_type": "code",
   "execution_count": 69,
   "outputs": [
    {
     "name": "stdout",
     "output_type": "stream",
     "text": [
      "1.0\n"
     ]
    }
   ],
   "source": [
    "# custom scaling works the same way as MinMaxScaling, but MinMaxScaling require numpy with sizes similar to oriinal data, which is not possible\n",
    "def custom_scaling(data, min_val, max_val):\n",
    "    global min_data, max_data\n",
    "    if np.min(data) < min_data:\n",
    "        min_data = np.min(data)\n",
    "    else:\n",
    "        min_data = np.min(shifted_df_as_np_before_scaling)\n",
    "    if np.max(data) > max_data:\n",
    "        max_data = np.max(data)\n",
    "    else:\n",
    "        max_data = np.max(shifted_df_as_np_before_scaling)\n",
    "    scaled_data = min_val + ((data - min_data) / (max_data - min_data)) * (max_val - min_val)\n",
    "    return scaled_data\n",
    "\n",
    "scaled_min = np.min(shifted_df_as_np)\n",
    "scaled_max = np.max(shifted_df_as_np)\n",
    "print(scaled_max)\n",
    "def reverse_custom_scaling(scaled_data, min_val, max_val):\n",
    "    global scaled_min, scaled_max\n",
    "    if np.min(scaled_data) < scaled_min:\n",
    "        scaled_min = np.min(scaled_data)\n",
    "    if np.max(scaled_data) > scaled_max:\n",
    "        scaled_max = np.max(scaled_data)\n",
    "    original_data = min_data + (((scaled_data - min_val)/(max_val - min_val))*(max_data-min_data))\n",
    "    return original_data"
   ],
   "metadata": {
    "collapsed": false,
    "ExecuteTime": {
     "end_time": "2023-09-21T12:11:21.879286Z",
     "start_time": "2023-09-21T12:11:21.840288200Z"
    }
   },
   "id": "da723160262728ee"
  },
  {
   "cell_type": "code",
   "execution_count": 70,
   "outputs": [
    {
     "data": {
      "text/plain": "         Price  Price(t-1)  Price(t-2)  Price(t-3)  Price(t-4)  Price(t-5)   \n0     0.887500    0.876000    0.871000    0.887000    0.878000    0.868000  \\\n1     0.901000    0.887500    0.876000    0.871000    0.887000    0.878000   \n2     0.883500    0.901000    0.887500    0.876000    0.871000    0.887000   \n3     0.888000    0.883500    0.901000    0.887500    0.876000    0.871000   \n4     0.888000    0.888000    0.883500    0.901000    0.887500    0.876000   \n...        ...         ...         ...         ...         ...         ...   \n8992  4.664835    4.661624    4.658314    4.654901    4.651383    4.647758   \n8993  4.667948    4.664835    4.661624    4.658314    4.654901    4.651383   \n8994  4.670965    4.667948    4.664835    4.661624    4.658314    4.654901   \n8995  4.673890    4.670965    4.667948    4.664835    4.661624    4.658314   \n8996  4.676723    4.673890    4.670965    4.667948    4.664835    4.661624   \n\n      Price(t-6)  Price(t-7)  \n0       0.860000    0.865500  \n1       0.868000    0.860000  \n2       0.878000    0.868000  \n3       0.887000    0.878000  \n4       0.871000    0.887000  \n...          ...         ...  \n8992    4.644022    4.640174  \n8993    4.647758    4.644022  \n8994    4.651383    4.647758  \n8995    4.654901    4.651383  \n8996    4.658314    4.654901  \n\n[8997 rows x 8 columns]",
      "text/html": "<div>\n<style scoped>\n    .dataframe tbody tr th:only-of-type {\n        vertical-align: middle;\n    }\n\n    .dataframe tbody tr th {\n        vertical-align: top;\n    }\n\n    .dataframe thead th {\n        text-align: right;\n    }\n</style>\n<table border=\"1\" class=\"dataframe\">\n  <thead>\n    <tr style=\"text-align: right;\">\n      <th></th>\n      <th>Price</th>\n      <th>Price(t-1)</th>\n      <th>Price(t-2)</th>\n      <th>Price(t-3)</th>\n      <th>Price(t-4)</th>\n      <th>Price(t-5)</th>\n      <th>Price(t-6)</th>\n      <th>Price(t-7)</th>\n    </tr>\n  </thead>\n  <tbody>\n    <tr>\n      <th>0</th>\n      <td>0.887500</td>\n      <td>0.876000</td>\n      <td>0.871000</td>\n      <td>0.887000</td>\n      <td>0.878000</td>\n      <td>0.868000</td>\n      <td>0.860000</td>\n      <td>0.865500</td>\n    </tr>\n    <tr>\n      <th>1</th>\n      <td>0.901000</td>\n      <td>0.887500</td>\n      <td>0.876000</td>\n      <td>0.871000</td>\n      <td>0.887000</td>\n      <td>0.878000</td>\n      <td>0.868000</td>\n      <td>0.860000</td>\n    </tr>\n    <tr>\n      <th>2</th>\n      <td>0.883500</td>\n      <td>0.901000</td>\n      <td>0.887500</td>\n      <td>0.876000</td>\n      <td>0.871000</td>\n      <td>0.887000</td>\n      <td>0.878000</td>\n      <td>0.868000</td>\n    </tr>\n    <tr>\n      <th>3</th>\n      <td>0.888000</td>\n      <td>0.883500</td>\n      <td>0.901000</td>\n      <td>0.887500</td>\n      <td>0.876000</td>\n      <td>0.871000</td>\n      <td>0.887000</td>\n      <td>0.878000</td>\n    </tr>\n    <tr>\n      <th>4</th>\n      <td>0.888000</td>\n      <td>0.888000</td>\n      <td>0.883500</td>\n      <td>0.901000</td>\n      <td>0.887500</td>\n      <td>0.876000</td>\n      <td>0.871000</td>\n      <td>0.887000</td>\n    </tr>\n    <tr>\n      <th>...</th>\n      <td>...</td>\n      <td>...</td>\n      <td>...</td>\n      <td>...</td>\n      <td>...</td>\n      <td>...</td>\n      <td>...</td>\n      <td>...</td>\n    </tr>\n    <tr>\n      <th>8992</th>\n      <td>4.664835</td>\n      <td>4.661624</td>\n      <td>4.658314</td>\n      <td>4.654901</td>\n      <td>4.651383</td>\n      <td>4.647758</td>\n      <td>4.644022</td>\n      <td>4.640174</td>\n    </tr>\n    <tr>\n      <th>8993</th>\n      <td>4.667948</td>\n      <td>4.664835</td>\n      <td>4.661624</td>\n      <td>4.658314</td>\n      <td>4.654901</td>\n      <td>4.651383</td>\n      <td>4.647758</td>\n      <td>4.644022</td>\n    </tr>\n    <tr>\n      <th>8994</th>\n      <td>4.670965</td>\n      <td>4.667948</td>\n      <td>4.664835</td>\n      <td>4.661624</td>\n      <td>4.658314</td>\n      <td>4.654901</td>\n      <td>4.651383</td>\n      <td>4.647758</td>\n    </tr>\n    <tr>\n      <th>8995</th>\n      <td>4.673890</td>\n      <td>4.670965</td>\n      <td>4.667948</td>\n      <td>4.664835</td>\n      <td>4.661624</td>\n      <td>4.658314</td>\n      <td>4.654901</td>\n      <td>4.651383</td>\n    </tr>\n    <tr>\n      <th>8996</th>\n      <td>4.676723</td>\n      <td>4.673890</td>\n      <td>4.670965</td>\n      <td>4.667948</td>\n      <td>4.664835</td>\n      <td>4.661624</td>\n      <td>4.658314</td>\n      <td>4.654901</td>\n    </tr>\n  </tbody>\n</table>\n<p>8997 rows × 8 columns</p>\n</div>"
     },
     "execution_count": 70,
     "metadata": {},
     "output_type": "execute_result"
    }
   ],
   "source": [
    "for _ in range(test_dates.shape[0]):    \n",
    "    shifted_df_as_np_before_scaling = shifted_df.to_numpy()\n",
    "    sample = shifted_df_as_np_before_scaling[-1,1:]\n",
    "    sample = sample.reshape(1,-1)\n",
    "    sample_np = np.flip(sample,axis=1)\n",
    "    sample_np = custom_scaling(sample_np,-1,1)\n",
    "    sample_np = sample_np.reshape((-1, lookback, 1))\n",
    "    sample_tensor = torch.tensor(sample_np).float()\n",
    "    with torch.no_grad():\n",
    "        predicted = model(sample_tensor.to(device)).to('cpu').numpy()\n",
    "    res = reverse_custom_scaling(predicted,-1,1)\n",
    "    sample[0][-1]\n",
    "    new_row = {'Price':res[0][0], \n",
    "               'Price(t-1)':shifted_df_as_np_before_scaling[-1][0],\n",
    "               'Price(t-2)':shifted_df_as_np_before_scaling[-1][1],\n",
    "               'Price(t-3)':shifted_df_as_np_before_scaling[-1][2],\n",
    "               'Price(t-4)':shifted_df_as_np_before_scaling[-1][3],\n",
    "               'Price(t-5)':shifted_df_as_np_before_scaling[-1][4],\n",
    "               'Price(t-6)':shifted_df_as_np_before_scaling[-1][5],\n",
    "               'Price(t-7)':shifted_df_as_np_before_scaling[-1][6]\n",
    "               }\n",
    "    new_row \n",
    "    shifted_df = shifted_df._append(new_row,ignore_index=True)\n",
    "shifted_df "
   ],
   "metadata": {
    "collapsed": false,
    "ExecuteTime": {
     "end_time": "2023-09-21T12:11:22.024291Z",
     "start_time": "2023-09-21T12:11:21.856291500Z"
    }
   },
   "id": "dc113f9429938615"
  },
  {
   "cell_type": "code",
   "execution_count": 71,
   "outputs": [
    {
     "data": {
      "text/plain": "          Date     Price\n0   2023-09-22  3.782500\n1   2023-09-23  3.830500\n2   2023-09-24  3.787500\n3   2023-09-25  3.779000\n4   2023-09-26  3.785500\n..         ...       ...\n96  2023-12-27  4.555205\n97  2023-12-28  4.561331\n98  2023-12-29  4.567304\n99  2023-12-30  4.573128\n100 2023-12-31  4.578804\n\n[101 rows x 2 columns]",
      "text/html": "<div>\n<style scoped>\n    .dataframe tbody tr th:only-of-type {\n        vertical-align: middle;\n    }\n\n    .dataframe tbody tr th {\n        vertical-align: top;\n    }\n\n    .dataframe thead th {\n        text-align: right;\n    }\n</style>\n<table border=\"1\" class=\"dataframe\">\n  <thead>\n    <tr style=\"text-align: right;\">\n      <th></th>\n      <th>Date</th>\n      <th>Price</th>\n    </tr>\n  </thead>\n  <tbody>\n    <tr>\n      <th>0</th>\n      <td>2023-09-22</td>\n      <td>3.782500</td>\n    </tr>\n    <tr>\n      <th>1</th>\n      <td>2023-09-23</td>\n      <td>3.830500</td>\n    </tr>\n    <tr>\n      <th>2</th>\n      <td>2023-09-24</td>\n      <td>3.787500</td>\n    </tr>\n    <tr>\n      <th>3</th>\n      <td>2023-09-25</td>\n      <td>3.779000</td>\n    </tr>\n    <tr>\n      <th>4</th>\n      <td>2023-09-26</td>\n      <td>3.785500</td>\n    </tr>\n    <tr>\n      <th>...</th>\n      <td>...</td>\n      <td>...</td>\n    </tr>\n    <tr>\n      <th>96</th>\n      <td>2023-12-27</td>\n      <td>4.555205</td>\n    </tr>\n    <tr>\n      <th>97</th>\n      <td>2023-12-28</td>\n      <td>4.561331</td>\n    </tr>\n    <tr>\n      <th>98</th>\n      <td>2023-12-29</td>\n      <td>4.567304</td>\n    </tr>\n    <tr>\n      <th>99</th>\n      <td>2023-12-30</td>\n      <td>4.573128</td>\n    </tr>\n    <tr>\n      <th>100</th>\n      <td>2023-12-31</td>\n      <td>4.578804</td>\n    </tr>\n  </tbody>\n</table>\n<p>101 rows × 2 columns</p>\n</div>"
     },
     "execution_count": 71,
     "metadata": {},
     "output_type": "execute_result"
    }
   ],
   "source": [
    "testset\n",
    "temp = shifted_df.tail(125)[\"Price\"]\n",
    "new_set = pd.DataFrame(columns=[\"Date\",\"Price\"]) \n",
    "for i in range(test_dates.shape[0]):\n",
    "    item = {\"Date\":test_dates[i].date(), \"Price\": temp.iloc[i]}\n",
    "    new_set = new_set._append(item, ignore_index=True)\n",
    "\n",
    "new_set[\"Date\"] = pd.to_datetime(new_set[\"Date\"])\n",
    "new_set.sort_values(by=\"Date\",ascending=True)\n",
    "new_set"
   ],
   "metadata": {
    "collapsed": false,
    "ExecuteTime": {
     "end_time": "2023-09-21T12:11:22.155287200Z",
     "start_time": "2023-09-21T12:11:22.012286900Z"
    }
   },
   "id": "508e95b02b7f76bd"
  },
  {
   "cell_type": "code",
   "execution_count": 72,
   "outputs": [
    {
     "data": {
      "text/plain": "<Figure size 1000x600 with 1 Axes>",
      "image/png": "[encoded data removed]"
     },
     "metadata": {},
     "output_type": "display_data"
    }
   ],
   "source": [
    "plt.figure(figsize=(10, 6))\n",
    "\n",
    "plt.plot(new_set[\"Date\"], new_set[\"Price\"], marker='o')\n",
    "plt.xlabel('Date')\n",
    "plt.ylabel('Price')\n",
    "plt.title('Price Over Time')\n",
    "plt.grid(True)\n",
    "plt.show()"
   ],
   "metadata": {
    "collapsed": false,
    "ExecuteTime": {
     "end_time": "2023-09-21T12:11:22.264289200Z",
     "start_time": "2023-09-21T12:11:22.088291800Z"
    }
   },
   "id": "92d4fbd350006269"
  },
  {
   "cell_type": "markdown",
   "source": [
    "# Plotting Everything"
   ],
   "metadata": {
    "collapsed": false
   },
   "id": "310f8703c41aad94"
  },
  {
   "cell_type": "code",
   "execution_count": 73,
   "outputs": [
    {
     "data": {
      "text/plain": "<Figure size 1000x600 with 1 Axes>",
      "image/png": "[encoded data removed]"
     },
     "metadata": {},
     "output_type": "display_data"
    }
   ],
   "source": [
    "wholeset = pd.DataFrame()\n",
    "wholeset = pd.concat([train_dates[:],new_set[\"Date\"]],axis=0)\n",
    "wholeset = pd.to_datetime(wholeset)\n",
    "\n",
    "plt.figure(figsize=(10, 6))\n",
    "\n",
    "plt.plot(wholeset,shifted_df['Price'], marker='o')\n",
    "plt.xlabel('Date')\n",
    "plt.ylabel('Price')\n",
    "plt.title('Price Over Time')\n",
    "plt.grid(True)\n",
    "plt.show()"
   ],
   "metadata": {
    "collapsed": false,
    "ExecuteTime": {
     "end_time": "2023-09-21T12:11:22.528288200Z",
     "start_time": "2023-09-21T12:11:22.258290200Z"
    }
   },
   "id": "61ec4060d957d5bc"
  },
  {
   "cell_type": "code",
   "execution_count": 73,
   "outputs": [],
   "source": [],
   "metadata": {
    "collapsed": false,
    "ExecuteTime": {
     "end_time": "2023-09-21T12:11:22.630288800Z",
     "start_time": "2023-09-21T12:11:22.527289400Z"
    }
   },
   "id": "9a1f26f035013e17"
  }
 ],
 "metadata": {
  "kernelspec": {
   "display_name": "Python 3",
   "language": "python",
   "name": "python3"
  },
  "language_info": {
   "codemirror_mode": {
    "name": "ipython",
    "version": 2
   },
   "file_extension": ".py",
   "mimetype": "text/x-python",
   "name": "python",
   "nbconvert_exporter": "python",
   "pygments_lexer": "ipython2",
   "version": "2.7.6"
  }
 },
 "nbformat": 4,
 "nbformat_minor": 5
}
