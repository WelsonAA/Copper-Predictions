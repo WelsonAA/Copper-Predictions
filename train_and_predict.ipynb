{
 "cells": [
  {
   "cell_type": "markdown",
   "id": "352328d6c2ce0c5d",
   "metadata": {},
   "source": [
    "# Importing Libraries"
   ]
  },
  {
   "cell_type": "code",
   "execution_count": 183,
   "id": "3a75c928dfc5c42f",
   "metadata": {
    "ExecuteTime": {
     "end_time": "2023-09-23T22:25:32.213507900Z",
     "start_time": "2023-09-23T22:25:32.005155700Z"
    }
   },
   "outputs": [],
   "source": [
    "import pandas as pd\n",
    "import numpy as np\n",
    "import matplotlib.pyplot as plt\n",
    "import torch\n",
    "import torch.nn as nn\n",
    "from datetime import timedelta\n",
    "from sklearn.preprocessing import MinMaxScaler"
   ]
  },
  {
   "cell_type": "markdown",
   "id": "81957f0d394557a3",
   "metadata": {},
   "source": [
    "# Reading Clean Dataset"
   ]
  },
  {
   "cell_type": "code",
   "execution_count": 184,
   "id": "8d44c26b1b41c0c0",
   "metadata": {
    "ExecuteTime": {
     "end_time": "2023-09-23T22:25:32.357423Z",
     "start_time": "2023-09-23T22:25:32.023155Z"
    }
   },
   "outputs": [],
   "source": [
    "LOOKBACK = 7\n",
    "data = pd.read_csv(\"cleaned_dataset.csv\")\n",
    "\n",
    "# Convert the \"Date\" column in the DataFrame to datetime format for time-related operations.\n",
    "data[\"Date\"] = pd.to_datetime(data[\"Date\"])\n",
    "\n",
    "# Select the \"Date\" column and store it in the variable 'train_dates'.\n",
    "train_dates = data[\"Date\"]\n",
    "\n",
    "# Exclude the first 'LOOKBACK' dates from 'train_dates' to create a time window.\n",
    "train_dates = train_dates[LOOKBACK:]"
   ]
  },
  {
   "cell_type": "markdown",
   "id": "949fc77ffcd48cfd",
   "metadata": {},
   "source": [
    "# Setting Device to GPU"
   ]
  },
  {
   "cell_type": "code",
   "execution_count": 185,
   "id": "b6f8624872321429",
   "metadata": {
    "ExecuteTime": {
     "end_time": "2023-09-23T22:25:32.498425Z",
     "start_time": "2023-09-23T22:25:32.038154100Z"
    }
   },
   "outputs": [
    {
     "data": {
      "text/plain": "'cpu'"
     },
     "execution_count": 185,
     "metadata": {},
     "output_type": "execute_result"
    }
   ],
   "source": [
    "device = 'cuda:0' if torch.cuda.is_available() else 'cpu'\n",
    "device"
   ]
  },
  {
   "cell_type": "markdown",
   "id": "d311e4018c495b6b",
   "metadata": {},
   "source": [
    "# Formatting for LSTM"
   ]
  },
  {
   "cell_type": "code",
   "execution_count": 186,
   "id": "ead4168e8449253c",
   "metadata": {
    "ExecuteTime": {
     "end_time": "2023-09-23T22:25:32.502425700Z",
     "start_time": "2023-09-23T22:25:32.061157400Z"
    }
   },
   "outputs": [
    {
     "data": {
      "text/plain": "             Price  Price(t-1)  Price(t-2)  Price(t-3)  Price(t-4)   \nDate                                                                 \n1988-08-10  0.8875      0.8760      0.8710      0.8870      0.8780  \\\n1988-08-11  0.9010      0.8875      0.8760      0.8710      0.8870   \n1988-08-12  0.8835      0.9010      0.8875      0.8760      0.8710   \n1988-08-15  0.8880      0.8835      0.9010      0.8875      0.8760   \n1988-08-16  0.8880      0.8880      0.8835      0.9010      0.8875   \n...            ...         ...         ...         ...         ...   \n2023-09-15  3.8010      3.8215      3.7930      3.7920      3.8070   \n2023-09-18  3.7790      3.8010      3.8215      3.7930      3.7920   \n2023-09-19  3.7470      3.7790      3.8010      3.8215      3.7930   \n2023-09-20  3.7760      3.7470      3.7790      3.8010      3.8215   \n2023-09-21  3.6730      3.7760      3.7470      3.7790      3.8010   \n\n            Price(t-5)  Price(t-6)  Price(t-7)  \nDate                                            \n1988-08-10      0.8680      0.8600      0.8655  \n1988-08-11      0.8780      0.8680      0.8600  \n1988-08-12      0.8870      0.8780      0.8680  \n1988-08-15      0.8710      0.8870      0.8780  \n1988-08-16      0.8760      0.8710      0.8870  \n...                ...         ...         ...  \n2023-09-15      3.7165      3.7620      3.7860  \n2023-09-18      3.8070      3.7165      3.7620  \n2023-09-19      3.7920      3.8070      3.7165  \n2023-09-20      3.7930      3.7920      3.8070  \n2023-09-21      3.8215      3.7930      3.7920  \n\n[8896 rows x 8 columns]",
      "text/html": "<div>\n<style scoped>\n    .dataframe tbody tr th:only-of-type {\n        vertical-align: middle;\n    }\n\n    .dataframe tbody tr th {\n        vertical-align: top;\n    }\n\n    .dataframe thead th {\n        text-align: right;\n    }\n</style>\n<table border=\"1\" class=\"dataframe\">\n  <thead>\n    <tr style=\"text-align: right;\">\n      <th></th>\n      <th>Price</th>\n      <th>Price(t-1)</th>\n      <th>Price(t-2)</th>\n      <th>Price(t-3)</th>\n      <th>Price(t-4)</th>\n      <th>Price(t-5)</th>\n      <th>Price(t-6)</th>\n      <th>Price(t-7)</th>\n    </tr>\n    <tr>\n      <th>Date</th>\n      <th></th>\n      <th></th>\n      <th></th>\n      <th></th>\n      <th></th>\n      <th></th>\n      <th></th>\n      <th></th>\n    </tr>\n  </thead>\n  <tbody>\n    <tr>\n      <th>1988-08-10</th>\n      <td>0.8875</td>\n      <td>0.8760</td>\n      <td>0.8710</td>\n      <td>0.8870</td>\n      <td>0.8780</td>\n      <td>0.8680</td>\n      <td>0.8600</td>\n      <td>0.8655</td>\n    </tr>\n    <tr>\n      <th>1988-08-11</th>\n      <td>0.9010</td>\n      <td>0.8875</td>\n      <td>0.8760</td>\n      <td>0.8710</td>\n      <td>0.8870</td>\n      <td>0.8780</td>\n      <td>0.8680</td>\n      <td>0.8600</td>\n    </tr>\n    <tr>\n      <th>1988-08-12</th>\n      <td>0.8835</td>\n      <td>0.9010</td>\n      <td>0.8875</td>\n      <td>0.8760</td>\n      <td>0.8710</td>\n      <td>0.8870</td>\n      <td>0.8780</td>\n      <td>0.8680</td>\n    </tr>\n    <tr>\n      <th>1988-08-15</th>\n      <td>0.8880</td>\n      <td>0.8835</td>\n      <td>0.9010</td>\n      <td>0.8875</td>\n      <td>0.8760</td>\n      <td>0.8710</td>\n      <td>0.8870</td>\n      <td>0.8780</td>\n    </tr>\n    <tr>\n      <th>1988-08-16</th>\n      <td>0.8880</td>\n      <td>0.8880</td>\n      <td>0.8835</td>\n      <td>0.9010</td>\n      <td>0.8875</td>\n      <td>0.8760</td>\n      <td>0.8710</td>\n      <td>0.8870</td>\n    </tr>\n    <tr>\n      <th>...</th>\n      <td>...</td>\n      <td>...</td>\n      <td>...</td>\n      <td>...</td>\n      <td>...</td>\n      <td>...</td>\n      <td>...</td>\n      <td>...</td>\n    </tr>\n    <tr>\n      <th>2023-09-15</th>\n      <td>3.8010</td>\n      <td>3.8215</td>\n      <td>3.7930</td>\n      <td>3.7920</td>\n      <td>3.8070</td>\n      <td>3.7165</td>\n      <td>3.7620</td>\n      <td>3.7860</td>\n    </tr>\n    <tr>\n      <th>2023-09-18</th>\n      <td>3.7790</td>\n      <td>3.8010</td>\n      <td>3.8215</td>\n      <td>3.7930</td>\n      <td>3.7920</td>\n      <td>3.8070</td>\n      <td>3.7165</td>\n      <td>3.7620</td>\n    </tr>\n    <tr>\n      <th>2023-09-19</th>\n      <td>3.7470</td>\n      <td>3.7790</td>\n      <td>3.8010</td>\n      <td>3.8215</td>\n      <td>3.7930</td>\n      <td>3.7920</td>\n      <td>3.8070</td>\n      <td>3.7165</td>\n    </tr>\n    <tr>\n      <th>2023-09-20</th>\n      <td>3.7760</td>\n      <td>3.7470</td>\n      <td>3.7790</td>\n      <td>3.8010</td>\n      <td>3.8215</td>\n      <td>3.7930</td>\n      <td>3.7920</td>\n      <td>3.8070</td>\n    </tr>\n    <tr>\n      <th>2023-09-21</th>\n      <td>3.6730</td>\n      <td>3.7760</td>\n      <td>3.7470</td>\n      <td>3.7790</td>\n      <td>3.8010</td>\n      <td>3.8215</td>\n      <td>3.7930</td>\n      <td>3.7920</td>\n    </tr>\n  </tbody>\n</table>\n<p>8896 rows × 8 columns</p>\n</div>"
     },
     "execution_count": 186,
     "metadata": {},
     "output_type": "execute_result"
    }
   ],
   "source": [
    "from copy import deepcopy as dc\n",
    "\n",
    "def prepare_dataframe_for_lstm(df, n_steps):\n",
    "    df = dc(df)\n",
    "\n",
    "    df.set_index('Date', inplace=True)\n",
    "\n",
    "    for i in range(1, n_steps+1):\n",
    "        df[f'Price(t-{i})'] = df['Price'].shift(i)\n",
    "\n",
    "    df.dropna(inplace=True)\n",
    "\n",
    "    return df\n",
    "\n",
    "shifted_df = prepare_dataframe_for_lstm(data, LOOKBACK)\n",
    "shifted_df"
   ]
  },
  {
   "cell_type": "code",
   "execution_count": 187,
   "outputs": [],
   "source": [
    "shifted_df_as_np_before_scaling = shifted_df.to_numpy()\n",
    "shifted_df_as_np_before_scaling"
   ],
   "metadata": {
    "collapsed": false
   },
   "id": "225714ae09073c95"
  },
  {
   "cell_type": "code",
   "execution_count": 188,
   "outputs": [
    {
     "data": {
      "text/plain": "(8896, 8)"
     },
     "execution_count": 188,
     "metadata": {},
     "output_type": "execute_result"
    }
   ],
   "source": [
    "shifted_df_as_np_before_scaling.shape"
   ],
   "metadata": {
    "collapsed": false
   },
   "id": "48fd08f44827be66"
  },
  {
   "cell_type": "markdown",
   "id": "8fe5d45338ba9c55",
   "metadata": {},
   "source": [
    "# Scaling Data"
   ]
  },
  {
   "cell_type": "code",
   "execution_count": 189,
   "outputs": [],
   "source": [
    "# Create an instance of MinMaxScaler with a specified feature range of (-1, 1).\n",
    "scaler = MinMaxScaler(feature_range=(-1, 1))\n",
    "\n",
    "# Fit the scaler to the data in 'shifted_df_as_np_before_scaling' to learn scaling parameters.\n",
    "scaler.fit(shifted_df_as_np_before_scaling)\n",
    "\n",
    "# Transform (scale) the data in 'shifted_df_as_np_before_scaling' using the previously learned parameters.\n",
    "shifted_df_as_np = scaler.transform(shifted_df_as_np_before_scaling)"
   ],
   "metadata": {
    "collapsed": false
   },
   "id": "88b63a23fbbdf2b2"
  },
  {
   "cell_type": "code",
   "execution_count": 190,
   "id": "a56633f8e9b7ee12",
   "metadata": {
    "ExecuteTime": {
     "end_time": "2023-09-23T22:25:32.504426Z",
     "start_time": "2023-09-23T22:25:32.130510Z"
    }
   },
   "outputs": [
    {
     "data": {
      "text/plain": "((8896, 7), (8896,))"
     },
     "execution_count": 190,
     "metadata": {},
     "output_type": "execute_result"
    }
   ],
   "source": [
    "X = shifted_df_as_np[:, 1:]\n",
    "y = shifted_df_as_np[:, 0]\n",
    "\n",
    "X.shape, y.shape"
   ]
  },
  {
   "cell_type": "code",
   "execution_count": 191,
   "id": "e79a79621d72f6f9",
   "metadata": {
    "ExecuteTime": {
     "end_time": "2023-09-23T22:25:32.504426Z",
     "start_time": "2023-09-23T22:25:32.146427600Z"
    }
   },
   "outputs": [
    {
     "data": {
      "text/plain": "array([[-0.88126588, -0.88380688, -0.88011088, ..., -0.87133287,\n        -0.87872488, -0.87641488],\n       [-0.88380688, -0.88011088, -0.87549088, ..., -0.87872488,\n        -0.87641488, -0.87110187],\n       [-0.88011088, -0.87549088, -0.87133287, ..., -0.87641488,\n        -0.87110187, -0.86486486],\n       ...,\n       [ 0.43589744,  0.47770848,  0.47077847, ...,  0.48440748,\n         0.47493647,  0.46477246],\n       [ 0.47770848,  0.47077847,  0.47124047, ...,  0.47493647,\n         0.46477246,  0.44998845],\n       [ 0.47077847,  0.47124047,  0.48440748, ...,  0.46477246,\n         0.44998845,  0.46338646]])"
     },
     "execution_count": 191,
     "metadata": {},
     "output_type": "execute_result"
    }
   ],
   "source": [
    "X = dc(np.flip(X, axis=1))\n",
    "X"
   ]
  },
  {
   "cell_type": "code",
   "execution_count": 192,
   "id": "af945a2a03630db4",
   "metadata": {
    "ExecuteTime": {
     "end_time": "2023-09-23T22:25:32.505425300Z",
     "start_time": "2023-09-23T22:25:32.163736600Z"
    }
   },
   "outputs": [
    {
     "data": {
      "text/plain": "((8896, 7, 1), (8896, 1))"
     },
     "execution_count": 192,
     "metadata": {},
     "output_type": "execute_result"
    }
   ],
   "source": [
    "X = X.reshape((-1, LOOKBACK, 1))\n",
    "y = y.reshape((-1, 1))\n",
    "X.shape,y.shape"
   ]
  },
  {
   "cell_type": "code",
   "execution_count": 193,
   "id": "ade7e5d20cf08bca",
   "metadata": {
    "ExecuteTime": {
     "end_time": "2023-09-23T22:25:32.505425300Z",
     "start_time": "2023-09-23T22:25:32.177025900Z"
    }
   },
   "outputs": [
    {
     "data": {
      "text/plain": "tensor([[[-0.881266],\n         [-0.883807],\n         [-0.880111],\n         ...,\n         [-0.871333],\n         [-0.878725],\n         [-0.876415]],\n\n        [[-0.883807],\n         [-0.880111],\n         [-0.875491],\n         ...,\n         [-0.878725],\n         [-0.876415],\n         [-0.871102]],\n\n        [[-0.880111],\n         [-0.875491],\n         [-0.871333],\n         ...,\n         [-0.876415],\n         [-0.871102],\n         [-0.864865]],\n\n        ...,\n\n        [[ 0.435897],\n         [ 0.477708],\n         [ 0.470778],\n         ...,\n         [ 0.484407],\n         [ 0.474936],\n         [ 0.464772]],\n\n        [[ 0.477708],\n         [ 0.470778],\n         [ 0.471240],\n         ...,\n         [ 0.474936],\n         [ 0.464772],\n         [ 0.449988]],\n\n        [[ 0.470778],\n         [ 0.471240],\n         [ 0.484407],\n         ...,\n         [ 0.464772],\n         [ 0.449988],\n         [ 0.463386]]])"
     },
     "execution_count": 193,
     "metadata": {},
     "output_type": "execute_result"
    }
   ],
   "source": [
    "X = torch.tensor(X,dtype=torch.float32)\n",
    "y = torch.tensor(y,dtype=torch.float32)\n",
    "X"
   ]
  },
  {
   "cell_type": "markdown",
   "id": "61b097bcea15e8a8",
   "metadata": {
    "ExecuteTime": {
     "end_time": "2023-09-23T20:26:58.281278800Z",
     "start_time": "2023-09-23T20:26:57.946282800Z"
    }
   },
   "source": [
    "# Preparing LSTM"
   ]
  },
  {
   "cell_type": "code",
   "execution_count": 194,
   "id": "6fa07ee1acf91b83",
   "metadata": {
    "ExecuteTime": {
     "end_time": "2023-09-23T22:25:32.505425300Z",
     "start_time": "2023-09-23T22:25:32.193974800Z"
    }
   },
   "outputs": [],
   "source": [
    "from torch.utils.data import Dataset\n",
    "\n",
    "class TimeSeriesDataset(Dataset):\n",
    "    def __init__(self, X, y):\n",
    "        self.X = X\n",
    "        self.y = y\n",
    "\n",
    "    def __len__(self):\n",
    "        return len(self.X)\n",
    "\n",
    "    def __getitem__(self, i):\n",
    "        return self.X[i], self.y[i]\n",
    "    \n",
    "dataset = TimeSeriesDataset(X, y)"
   ]
  },
  {
   "cell_type": "code",
   "execution_count": 195,
   "id": "2e4cf93f3140a6df",
   "metadata": {
    "ExecuteTime": {
     "end_time": "2023-09-23T22:25:32.506424900Z",
     "start_time": "2023-09-23T22:25:32.209804900Z"
    }
   },
   "outputs": [],
   "source": [
    "from torch.utils.data import DataLoader\n",
    "\n",
    "batch_size = 16\n",
    "\n",
    "train_loader = DataLoader(dataset, batch_size=batch_size, shuffle=True)\n",
    "test_loader = DataLoader(dataset, batch_size=batch_size, shuffle=False)"
   ]
  },
  {
   "cell_type": "code",
   "execution_count": 196,
   "id": "e45531b9f103b167",
   "metadata": {
    "ExecuteTime": {
     "end_time": "2023-09-23T22:25:32.506424900Z",
     "start_time": "2023-09-23T22:25:32.224733Z"
    }
   },
   "outputs": [
    {
     "name": "stdout",
     "output_type": "stream",
     "text": [
      "torch.Size([16, 7, 1]) torch.Size([16, 1])\n"
     ]
    }
   ],
   "source": [
    "for _, batch in enumerate(train_loader):\n",
    "    x_batch, y_batch = batch[0].to(device), batch[1].to(device)\n",
    "    print(x_batch.shape, y_batch.shape)\n",
    "    break"
   ]
  },
  {
   "cell_type": "code",
   "execution_count": 197,
   "id": "f37f3e3d321f2637",
   "metadata": {
    "ExecuteTime": {
     "end_time": "2023-09-23T22:25:32.506424900Z",
     "start_time": "2023-09-23T22:25:32.242882700Z"
    }
   },
   "outputs": [
    {
     "data": {
      "text/plain": "LSTM(\n  (lstm): LSTM(1, 4, batch_first=True)\n  (fc): Linear(in_features=4, out_features=1, bias=True)\n)"
     },
     "execution_count": 197,
     "metadata": {},
     "output_type": "execute_result"
    }
   ],
   "source": [
    "class LSTM(nn.Module):\n",
    "    def __init__(self, input_size, hidden_size, num_stacked_layers):\n",
    "        super().__init__()\n",
    "        self.hidden_size = hidden_size\n",
    "        self.num_stacked_layers = num_stacked_layers\n",
    "\n",
    "        self.lstm = nn.LSTM(input_size, hidden_size, num_stacked_layers,\n",
    "                            batch_first=True)\n",
    "\n",
    "        self.fc = nn.Linear(hidden_size, 1)\n",
    "\n",
    "    def forward(self, x):\n",
    "        batch_size = x.size(0)\n",
    "        h0 = torch.zeros(self.num_stacked_layers, batch_size, self.hidden_size).to(device)\n",
    "        c0 = torch.zeros(self.num_stacked_layers, batch_size, self.hidden_size).to(device)\n",
    "\n",
    "        out, _ = self.lstm(x, (h0, c0))\n",
    "        out = self.fc(out[:, -1, :])\n",
    "        return out\n",
    "\n",
    "model = LSTM(input_size=1, hidden_size=4, num_stacked_layers=1)\n",
    "# Move the LSTM neural network 'rnn' to a specific computing device (e.g., CPU or GPU).\n",
    "model.to(device)\n",
    "model"
   ]
  },
  {
   "cell_type": "markdown",
   "id": "7499e93e3e84c1b2",
   "metadata": {
    "ExecuteTime": {
     "end_time": "2023-09-23T20:29:44.582572200Z",
     "start_time": "2023-09-23T20:29:44.485573300Z"
    }
   },
   "source": [
    "# Training and Optimising"
   ]
  },
  {
   "cell_type": "code",
   "execution_count": 198,
   "id": "9ad970afb24ab0f8",
   "metadata": {
    "ExecuteTime": {
     "end_time": "2023-09-23T22:25:32.506424900Z",
     "start_time": "2023-09-23T22:25:32.255600700Z"
    }
   },
   "outputs": [],
   "source": [
    "def train_one_epoch():\n",
    "    model.train(True)\n",
    "    print(f'Epoch: {epoch + 1}')\n",
    "    running_loss = 0.0\n",
    "\n",
    "    for batch_index, batch in enumerate(train_loader):\n",
    "        x_batch, y_batch = batch[0].to(device), batch[1].to(device)\n",
    "\n",
    "        output = model(x_batch)\n",
    "        loss = loss_function(output, y_batch)\n",
    "        running_loss += loss.item()\n",
    "\n",
    "        optimizer.zero_grad()\n",
    "        loss.backward()\n",
    "        optimizer.step()\n",
    "\n",
    "        if batch_index % 100 == 99:  # print every 100 batches\n",
    "            avg_loss_across_batches = running_loss / 100\n",
    "            print('Batch {0}, Loss: {1:.3f}'.format(batch_index+1,\n",
    "                                                    avg_loss_across_batches))\n",
    "            running_loss = 0.0\n",
    "    print()"
   ]
  },
  {
   "cell_type": "code",
   "execution_count": 199,
   "id": "3ab775190ab25909",
   "metadata": {
    "ExecuteTime": {
     "end_time": "2023-09-23T22:25:32.507426500Z",
     "start_time": "2023-09-23T22:25:32.275074Z"
    }
   },
   "outputs": [],
   "source": [
    "def validate_one_epoch():\n",
    "    model.train(False)\n",
    "    running_loss = 0.0\n",
    "\n",
    "    for batch_index, batch in enumerate(test_loader):\n",
    "        x_batch, y_batch = batch[0].to(device), batch[1].to(device)\n",
    "\n",
    "        with torch.no_grad():\n",
    "            output = model(x_batch)\n",
    "            loss = loss_function(output, y_batch)\n",
    "            running_loss += loss.item()\n",
    "\n",
    "    avg_loss_across_batches = running_loss / len(test_loader)\n",
    "\n",
    "    print('Val Loss: {0:.3f}'.format(avg_loss_across_batches))\n",
    "    print('***************************************************')\n",
    "    print()"
   ]
  },
  {
   "cell_type": "code",
   "execution_count": 200,
   "id": "8a8d56e32fea1cae",
   "metadata": {
    "ExecuteTime": {
     "end_time": "2023-09-23T22:25:50.276704800Z",
     "start_time": "2023-09-23T22:25:32.288424200Z"
    }
   },
   "outputs": [
    {
     "name": "stdout",
     "output_type": "stream",
     "text": [
      "Epoch: 1\n",
      "Batch 100, Loss: 0.191\n",
      "Batch 200, Loss: 0.045\n",
      "Batch 300, Loss: 0.008\n",
      "Batch 400, Loss: 0.006\n",
      "Batch 500, Loss: 0.004\n",
      "Val Loss: 0.002\n",
      "***************************************************\n",
      "\n",
      "Epoch: 2\n",
      "Batch 100, Loss: 0.002\n",
      "Batch 200, Loss: 0.001\n",
      "Batch 300, Loss: 0.001\n",
      "Batch 400, Loss: 0.001\n",
      "Batch 500, Loss: 0.001\n",
      "Val Loss: 0.001\n",
      "***************************************************\n",
      "\n",
      "Epoch: 3\n",
      "Batch 100, Loss: 0.001\n",
      "Batch 200, Loss: 0.001\n",
      "Batch 300, Loss: 0.001\n",
      "Batch 400, Loss: 0.001\n",
      "Batch 500, Loss: 0.001\n",
      "Val Loss: 0.001\n",
      "***************************************************\n",
      "\n",
      "Epoch: 4\n",
      "Batch 100, Loss: 0.001\n",
      "Batch 200, Loss: 0.001\n",
      "Batch 300, Loss: 0.001\n",
      "Batch 400, Loss: 0.001\n",
      "Batch 500, Loss: 0.001\n",
      "Val Loss: 0.001\n",
      "***************************************************\n",
      "\n",
      "Epoch: 5\n",
      "Batch 100, Loss: 0.001\n",
      "Batch 200, Loss: 0.001\n",
      "Batch 300, Loss: 0.001\n",
      "Batch 400, Loss: 0.001\n",
      "Batch 500, Loss: 0.001\n",
      "Val Loss: 0.001\n",
      "***************************************************\n",
      "\n",
      "Epoch: 6\n",
      "Batch 100, Loss: 0.001\n",
      "Batch 200, Loss: 0.001\n",
      "Batch 300, Loss: 0.001\n",
      "Batch 400, Loss: 0.001\n",
      "Batch 500, Loss: 0.001\n",
      "Val Loss: 0.001\n",
      "***************************************************\n",
      "\n",
      "Epoch: 7\n",
      "Batch 100, Loss: 0.001\n",
      "Batch 200, Loss: 0.001\n",
      "Batch 300, Loss: 0.001\n",
      "Batch 400, Loss: 0.001\n",
      "Batch 500, Loss: 0.001\n",
      "Val Loss: 0.001\n",
      "***************************************************\n",
      "\n",
      "Epoch: 8\n",
      "Batch 100, Loss: 0.001\n",
      "Batch 200, Loss: 0.001\n",
      "Batch 300, Loss: 0.001\n",
      "Batch 400, Loss: 0.001\n",
      "Batch 500, Loss: 0.001\n",
      "Val Loss: 0.001\n",
      "***************************************************\n",
      "\n",
      "Epoch: 9\n",
      "Batch 100, Loss: 0.000\n",
      "Batch 200, Loss: 0.000\n",
      "Batch 300, Loss: 0.000\n",
      "Batch 400, Loss: 0.001\n",
      "Batch 500, Loss: 0.000\n",
      "Val Loss: 0.000\n",
      "***************************************************\n",
      "\n",
      "Epoch: 10\n",
      "Batch 100, Loss: 0.000\n",
      "Batch 200, Loss: 0.001\n",
      "Batch 300, Loss: 0.000\n",
      "Batch 400, Loss: 0.000\n",
      "Batch 500, Loss: 0.000\n",
      "Val Loss: 0.000\n",
      "***************************************************\n",
      "\n",
      "Epoch: 11\n",
      "Batch 100, Loss: 0.000\n",
      "Batch 200, Loss: 0.000\n",
      "Batch 300, Loss: 0.000\n",
      "Batch 400, Loss: 0.000\n",
      "Batch 500, Loss: 0.000\n",
      "Val Loss: 0.000\n",
      "***************************************************\n",
      "\n",
      "Epoch: 12\n",
      "Batch 100, Loss: 0.000\n",
      "Batch 200, Loss: 0.000\n",
      "Batch 300, Loss: 0.000\n",
      "Batch 400, Loss: 0.000\n",
      "Batch 500, Loss: 0.000\n",
      "Val Loss: 0.000\n",
      "***************************************************\n",
      "\n",
      "Epoch: 13\n",
      "Batch 100, Loss: 0.000\n",
      "Batch 200, Loss: 0.000\n",
      "Batch 300, Loss: 0.000\n",
      "Batch 400, Loss: 0.000\n",
      "Batch 500, Loss: 0.000\n",
      "Val Loss: 0.000\n",
      "***************************************************\n",
      "\n",
      "Epoch: 14\n",
      "Batch 100, Loss: 0.000\n",
      "Batch 200, Loss: 0.000\n",
      "Batch 300, Loss: 0.000\n",
      "Batch 400, Loss: 0.000\n",
      "Batch 500, Loss: 0.000\n",
      "Val Loss: 0.000\n",
      "***************************************************\n",
      "\n",
      "Epoch: 15\n",
      "Batch 100, Loss: 0.000\n",
      "Batch 200, Loss: 0.000\n",
      "Batch 300, Loss: 0.000\n",
      "Batch 400, Loss: 0.000\n",
      "Batch 500, Loss: 0.000\n",
      "Val Loss: 0.000\n",
      "***************************************************\n",
      "\n",
      "Epoch: 16\n",
      "Batch 100, Loss: 0.000\n",
      "Batch 200, Loss: 0.000\n",
      "Batch 300, Loss: 0.000\n",
      "Batch 400, Loss: 0.000\n",
      "Batch 500, Loss: 0.000\n",
      "Val Loss: 0.000\n",
      "***************************************************\n",
      "\n",
      "Epoch: 17\n",
      "Batch 100, Loss: 0.000\n",
      "Batch 200, Loss: 0.000\n",
      "Batch 300, Loss: 0.000\n",
      "Batch 400, Loss: 0.000\n",
      "Batch 500, Loss: 0.000\n",
      "Val Loss: 0.000\n",
      "***************************************************\n",
      "\n",
      "Epoch: 18\n",
      "Batch 100, Loss: 0.000\n",
      "Batch 200, Loss: 0.000\n",
      "Batch 300, Loss: 0.000\n",
      "Batch 400, Loss: 0.000\n",
      "Batch 500, Loss: 0.000\n",
      "Val Loss: 0.000\n",
      "***************************************************\n",
      "\n",
      "Epoch: 19\n",
      "Batch 100, Loss: 0.000\n",
      "Batch 200, Loss: 0.000\n",
      "Batch 300, Loss: 0.000\n",
      "Batch 400, Loss: 0.000\n",
      "Batch 500, Loss: 0.000\n",
      "Val Loss: 0.000\n",
      "***************************************************\n",
      "\n",
      "Epoch: 20\n",
      "Batch 100, Loss: 0.000\n",
      "Batch 200, Loss: 0.000\n",
      "Batch 300, Loss: 0.000\n",
      "Batch 400, Loss: 0.000\n",
      "Batch 500, Loss: 0.000\n",
      "Val Loss: 0.000\n",
      "***************************************************\n"
     ]
    }
   ],
   "source": [
    "learning_rate = 0.001\n",
    "num_epochs = 20\n",
    "loss_function = nn.MSELoss()\n",
    "optimizer = torch.optim.Adam(model.parameters(), lr=learning_rate)\n",
    "\"\"\"\n",
    "Adam does the gradient descent for me\n",
    "\"\"\"\n",
    "for epoch in range(num_epochs):\n",
    "    train_one_epoch()\n",
    "    validate_one_epoch()"
   ]
  },
  {
   "cell_type": "markdown",
   "id": "c9ff904e85438cac",
   "metadata": {
    "ExecuteTime": {
     "end_time": "2023-09-23T20:27:16.271927300Z",
     "start_time": "2023-09-23T20:27:16.241932200Z"
    }
   },
   "source": [
    "# Predicting"
   ]
  },
  {
   "cell_type": "code",
   "execution_count": 201,
   "id": "517e3acebd200953",
   "metadata": {
    "ExecuteTime": {
     "end_time": "2023-09-23T22:25:50.309249100Z",
     "start_time": "2023-09-23T22:25:50.277704900Z"
    }
   },
   "outputs": [
    {
     "data": {
      "text/plain": "          Date\n0   2023-09-22\n1   2023-09-23\n2   2023-09-24\n3   2023-09-25\n4   2023-09-26\n..         ...\n96  2023-12-27\n97  2023-12-28\n98  2023-12-29\n99  2023-12-30\n100 2023-12-31\n\n[101 rows x 1 columns]",
      "text/html": "<div>\n<style scoped>\n    .dataframe tbody tr th:only-of-type {\n        vertical-align: middle;\n    }\n\n    .dataframe tbody tr th {\n        vertical-align: top;\n    }\n\n    .dataframe thead th {\n        text-align: right;\n    }\n</style>\n<table border=\"1\" class=\"dataframe\">\n  <thead>\n    <tr style=\"text-align: right;\">\n      <th></th>\n      <th>Date</th>\n    </tr>\n  </thead>\n  <tbody>\n    <tr>\n      <th>0</th>\n      <td>2023-09-22</td>\n    </tr>\n    <tr>\n      <th>1</th>\n      <td>2023-09-23</td>\n    </tr>\n    <tr>\n      <th>2</th>\n      <td>2023-09-24</td>\n    </tr>\n    <tr>\n      <th>3</th>\n      <td>2023-09-25</td>\n    </tr>\n    <tr>\n      <th>4</th>\n      <td>2023-09-26</td>\n    </tr>\n    <tr>\n      <th>...</th>\n      <td>...</td>\n    </tr>\n    <tr>\n      <th>96</th>\n      <td>2023-12-27</td>\n    </tr>\n    <tr>\n      <th>97</th>\n      <td>2023-12-28</td>\n    </tr>\n    <tr>\n      <th>98</th>\n      <td>2023-12-29</td>\n    </tr>\n    <tr>\n      <th>99</th>\n      <td>2023-12-30</td>\n    </tr>\n    <tr>\n      <th>100</th>\n      <td>2023-12-31</td>\n    </tr>\n  </tbody>\n</table>\n<p>101 rows × 1 columns</p>\n</div>"
     },
     "execution_count": 201,
     "metadata": {},
     "output_type": "execute_result"
    }
   ],
   "source": [
    "start_date = (train_dates.iloc[-1].date()+ timedelta(days=1)).strftime(\"%Y-%m-%d\")\n",
    "end_date = '2023-12-31'\n",
    "test_dates = pd.date_range(start=start_date, end=end_date, freq='D')\n",
    "\n",
    "# Create a DataFrame with the date column\n",
    "testset = pd.DataFrame({'Date': test_dates})\n",
    "testset['Date'] = pd.to_datetime(testset['Date'])\n",
    "testset.to_numpy()\n",
    "testset\n"
   ]
  },
  {
   "cell_type": "markdown",
   "id": "b725904324ad6157",
   "metadata": {
    "ExecuteTime": {
     "end_time": "2023-09-23T20:27:16.355927800Z",
     "start_time": "2023-09-23T20:27:16.272927100Z"
    }
   },
   "source": [
    "## Scaling Data"
   ]
  },
  {
   "cell_type": "code",
   "execution_count": 202,
   "id": "e377c6de1e960b3",
   "metadata": {
    "ExecuteTime": {
     "end_time": "2023-09-23T22:25:50.336246600Z",
     "start_time": "2023-09-23T22:25:50.291246200Z"
    }
   },
   "outputs": [
    {
     "data": {
      "text/plain": "array([[-0.88126588, -0.88380688, -0.88011088, ..., -0.87872488,\n        -0.87641488, -0.87110187],\n       [-0.88380688, -0.88011088, -0.87549088, ..., -0.87641488,\n        -0.87110187, -0.86486486],\n       [-0.88011088, -0.87549088, -0.87133287, ..., -0.87110187,\n        -0.86486486, -0.87294987],\n       ...,\n       [ 0.43589744,  0.47770848,  0.47077847, ...,  0.47493647,\n         0.46477246,  0.44998845],\n       [ 0.47770848,  0.47077847,  0.47124047, ...,  0.46477246,\n         0.44998845,  0.46338646],\n       [ 0.47077847,  0.47124047,  0.48440748, ...,  0.44998845,\n         0.46338646,  0.41580042]])"
     },
     "execution_count": 202,
     "metadata": {},
     "output_type": "execute_result"
    }
   ],
   "source": [
    "shifted_df_as_np\n",
    "shifted_df_as_np_flipped = np.fliplr(shifted_df_as_np)\n",
    "shifted_df_as_np_flipped"
   ]
  },
  {
   "cell_type": "code",
   "execution_count": 203,
   "id": "8f870e80ba979dbb",
   "metadata": {
    "ExecuteTime": {
     "end_time": "2023-09-23T22:25:50.399249900Z",
     "start_time": "2023-09-23T22:25:50.308249200Z"
    }
   },
   "outputs": [
    {
     "data": {
      "text/plain": "torch.Size([1, 7, 1])"
     },
     "execution_count": 203,
     "metadata": {},
     "output_type": "execute_result"
    }
   ],
   "source": [
    "shifted_df_as_tensor = torch.tensor(shifted_df_as_np_flipped.copy())\n",
    "torch.set_printoptions(precision=6)\n",
    "last = shifted_df_as_tensor[-1][1:]\n",
    "last = last.unsqueeze(0).unsqueeze(-1)\n",
    "last.shape"
   ]
  },
  {
   "cell_type": "code",
   "execution_count": 204,
   "outputs": [
    {
     "name": "stdout",
     "output_type": "stream",
     "text": [
      "         Price  Price(t-1)  Price(t-2)  Price(t-3)  Price(t-4)  Price(t-5)   \n",
      "0     0.887500    0.876000    0.871000    0.887000    0.878000    0.868000  \\\n",
      "1     0.901000    0.887500    0.876000    0.871000    0.887000    0.878000   \n",
      "2     0.883500    0.901000    0.887500    0.876000    0.871000    0.887000   \n",
      "3     0.888000    0.883500    0.901000    0.887500    0.876000    0.871000   \n",
      "4     0.888000    0.888000    0.883500    0.901000    0.887500    0.876000   \n",
      "...        ...         ...         ...         ...         ...         ...   \n",
      "8992  2.079621    2.088561    2.097637    2.106853    2.116212    2.125717   \n",
      "8993  2.070814    2.079621    2.088561    2.097637    2.106853    2.116212   \n",
      "8994  2.062136    2.070814    2.079621    2.088561    2.097637    2.106853   \n",
      "8995  2.053584    2.062136    2.070814    2.079621    2.088561    2.097637   \n",
      "8996  2.045155    2.053584    2.062136    2.070814    2.079621    2.088561   \n",
      "\n",
      "      Price(t-6)  Price(t-7)  \n",
      "0       0.860000    0.865500  \n",
      "1       0.868000    0.860000  \n",
      "2       0.878000    0.868000  \n",
      "3       0.887000    0.878000  \n",
      "4       0.871000    0.887000  \n",
      "...          ...         ...  \n",
      "8992    2.135373    2.145183  \n",
      "8993    2.125717    2.135373  \n",
      "8994    2.116212    2.125717  \n",
      "8995    2.106853    2.116212  \n",
      "8996    2.097637    2.106853  \n",
      "\n",
      "[8997 rows x 8 columns]\n"
     ]
    }
   ],
   "source": [
    "for i in range(test_dates.shape[0]):\n",
    "    last = shifted_df_as_tensor[-1][1:]\n",
    "    last = last.unsqueeze(0).unsqueeze(-1).float()\n",
    "    with torch.no_grad():\n",
    "        predicted = model(last.to(device)).to('cpu').numpy()\n",
    "    row = torch.cat([shifted_df_as_tensor[-1][1:],torch.tensor(predicted).reshape(1)],dim=0).unsqueeze(0)\n",
    "    quick_reverse = scaler.inverse_transform(row.to('cpu').numpy())\n",
    "    new_row = {'Price':quick_reverse[0][7], \n",
    "               'Price(t-1)':quick_reverse[0][6],\n",
    "               'Price(t-2)':quick_reverse[0][5],\n",
    "               'Price(t-3)':quick_reverse[0][4],\n",
    "               'Price(t-4)':quick_reverse[0][3],\n",
    "               'Price(t-5)':quick_reverse[0][2],\n",
    "               'Price(t-6)':quick_reverse[0][1],\n",
    "               'Price(t-7)':quick_reverse[0][0]\n",
    "               }\n",
    "    shifted_df_as_tensor = torch.cat((shifted_df_as_tensor,row),dim=0)\n",
    "    shifted_df = shifted_df._append(new_row,ignore_index=True)\n",
    "print(shifted_df) \n",
    "    \n",
    "final_set = scaler.inverse_transform(shifted_df_as_tensor.to('cpu').numpy())"
   ],
   "metadata": {
    "collapsed": false,
    "ExecuteTime": {
     "end_time": "2023-09-23T22:25:50.481248Z",
     "start_time": "2023-09-23T22:25:50.327247700Z"
    }
   },
   "id": "4210e68f042463d5"
  },
  {
   "cell_type": "code",
   "execution_count": 205,
   "outputs": [
    {
     "data": {
      "text/plain": "array([[0.8655    , 0.86      , 0.868     , ..., 0.871     , 0.876     ,\n        0.8875    ],\n       [0.86      , 0.868     , 0.878     , ..., 0.876     , 0.8875    ,\n        0.901     ],\n       [0.868     , 0.878     , 0.887     , ..., 0.8875    , 0.901     ,\n        0.8835    ],\n       ...,\n       [2.1257173 , 2.11621153, 2.10685258, ..., 2.07962063, 2.07081361,\n        2.06213572],\n       [2.11621153, 2.10685258, 2.0976367 , ..., 2.07081361, 2.06213572,\n        2.0535842 ],\n       [2.10685258, 2.0976367 , 2.08856055, ..., 2.06213572, 2.0535842 ,\n        2.04515538]])"
     },
     "execution_count": 205,
     "metadata": {},
     "output_type": "execute_result"
    }
   ],
   "source": [
    "final_set"
   ],
   "metadata": {
    "collapsed": false,
    "ExecuteTime": {
     "end_time": "2023-09-23T22:25:50.508251100Z",
     "start_time": "2023-09-23T22:25:50.480246200Z"
    }
   },
   "id": "b00bd0453b80b7e8"
  },
  {
   "cell_type": "code",
   "execution_count": 206,
   "id": "508e95b02b7f76bd",
   "metadata": {
    "ExecuteTime": {
     "end_time": "2023-09-23T22:25:50.602247700Z",
     "start_time": "2023-09-23T22:25:50.497249400Z"
    }
   },
   "outputs": [
    {
     "data": {
      "text/plain": "          Date     Price\n0   2023-09-22  3.782500\n1   2023-09-23  3.830500\n2   2023-09-24  3.787500\n3   2023-09-25  3.779000\n4   2023-09-26  3.785500\n..         ...       ...\n96  2023-12-27  2.339112\n97  2023-12-28  2.326121\n98  2023-12-29  2.313345\n99  2023-12-30  2.300781\n100 2023-12-31  2.288425\n\n[101 rows x 2 columns]",
      "text/html": "<div>\n<style scoped>\n    .dataframe tbody tr th:only-of-type {\n        vertical-align: middle;\n    }\n\n    .dataframe tbody tr th {\n        vertical-align: top;\n    }\n\n    .dataframe thead th {\n        text-align: right;\n    }\n</style>\n<table border=\"1\" class=\"dataframe\">\n  <thead>\n    <tr style=\"text-align: right;\">\n      <th></th>\n      <th>Date</th>\n      <th>Price</th>\n    </tr>\n  </thead>\n  <tbody>\n    <tr>\n      <th>0</th>\n      <td>2023-09-22</td>\n      <td>3.782500</td>\n    </tr>\n    <tr>\n      <th>1</th>\n      <td>2023-09-23</td>\n      <td>3.830500</td>\n    </tr>\n    <tr>\n      <th>2</th>\n      <td>2023-09-24</td>\n      <td>3.787500</td>\n    </tr>\n    <tr>\n      <th>3</th>\n      <td>2023-09-25</td>\n      <td>3.779000</td>\n    </tr>\n    <tr>\n      <th>4</th>\n      <td>2023-09-26</td>\n      <td>3.785500</td>\n    </tr>\n    <tr>\n      <th>...</th>\n      <td>...</td>\n      <td>...</td>\n    </tr>\n    <tr>\n      <th>96</th>\n      <td>2023-12-27</td>\n      <td>2.339112</td>\n    </tr>\n    <tr>\n      <th>97</th>\n      <td>2023-12-28</td>\n      <td>2.326121</td>\n    </tr>\n    <tr>\n      <th>98</th>\n      <td>2023-12-29</td>\n      <td>2.313345</td>\n    </tr>\n    <tr>\n      <th>99</th>\n      <td>2023-12-30</td>\n      <td>2.300781</td>\n    </tr>\n    <tr>\n      <th>100</th>\n      <td>2023-12-31</td>\n      <td>2.288425</td>\n    </tr>\n  </tbody>\n</table>\n<p>101 rows × 2 columns</p>\n</div>"
     },
     "execution_count": 206,
     "metadata": {},
     "output_type": "execute_result"
    }
   ],
   "source": [
    "testset\n",
    "temp = shifted_df.tail(125)[\"Price\"]\n",
    "new_set = pd.DataFrame(columns=[\"Date\",\"Price\"]) \n",
    "for i in range(test_dates.shape[0]):\n",
    "    item = {\"Date\":test_dates[i].date(), \"Price\": temp.iloc[i]}\n",
    "    new_set = new_set._append(item, ignore_index=True)\n",
    "\n",
    "new_set[\"Date\"] = pd.to_datetime(new_set[\"Date\"])\n",
    "new_set.sort_values(by=\"Date\",ascending=True)\n",
    "new_set"
   ]
  },
  {
   "cell_type": "code",
   "execution_count": 207,
   "id": "92d4fbd350006269",
   "metadata": {
    "ExecuteTime": {
     "end_time": "2023-09-23T22:25:51.083565100Z",
     "start_time": "2023-09-23T22:25:50.575246200Z"
    }
   },
   "outputs": [
    {
     "data": {
      "text/plain": "<Figure size 1000x600 with 1 Axes>",
      "image/png": "[encoded data removed]"
     },
     "metadata": {},
     "output_type": "display_data"
    }
   ],
   "source": [
    "plt.figure(figsize=(10, 6))\n",
    "\n",
    "plt.plot(new_set[\"Date\"], new_set[\"Price\"], marker='o')\n",
    "plt.xlabel('Date')\n",
    "plt.ylabel('Price')\n",
    "plt.title('Price Over Time')\n",
    "plt.grid(True)\n",
    "plt.show()"
   ]
  },
  {
   "cell_type": "markdown",
   "id": "310f8703c41aad94",
   "metadata": {
    "ExecuteTime": {
     "start_time": "2023-09-23T20:27:16.578197200Z"
    }
   },
   "source": [
    "# Plotting Everything"
   ]
  },
  {
   "cell_type": "code",
   "execution_count": 208,
   "id": "ba9e0feb7ce0541c",
   "metadata": {
    "ExecuteTime": {
     "end_time": "2023-09-23T22:25:51.171561700Z",
     "start_time": "2023-09-23T22:25:51.085565300Z"
    }
   },
   "outputs": [
    {
     "data": {
      "text/plain": "(9004,)"
     },
     "execution_count": 208,
     "metadata": {},
     "output_type": "execute_result"
    }
   ],
   "source": [
    "wholeset = pd.DataFrame()\n",
    "wholeset = pd.concat([data[\"Date\"],new_set[\"Date\"]],axis=0)\n",
    "wholeset = pd.to_datetime(wholeset)\n",
    "wholeset.shape"
   ]
  },
  {
   "cell_type": "code",
   "execution_count": 209,
   "id": "efed3ac90249d941",
   "metadata": {
    "ExecuteTime": {
     "end_time": "2023-09-23T22:25:51.173562200Z",
     "start_time": "2023-09-23T22:25:51.099561300Z"
    }
   },
   "outputs": [
    {
     "data": {
      "text/plain": "(9004,)"
     },
     "execution_count": 209,
     "metadata": {},
     "output_type": "execute_result"
    }
   ],
   "source": [
    "all_prices = pd.DataFrame()\n",
    "all_prices = pd.concat([data[0:7]['Price'], shifted_df[:]['Price']],axis=0)\n",
    "all_prices.shape"
   ]
  },
  {
   "cell_type": "code",
   "execution_count": 210,
   "id": "61ec4060d957d5bc",
   "metadata": {
    "ExecuteTime": {
     "end_time": "2023-09-23T22:25:51.356564500Z",
     "start_time": "2023-09-23T22:25:51.116563300Z"
    }
   },
   "outputs": [
    {
     "data": {
      "text/plain": "<Figure size 1000x600 with 1 Axes>",
      "image/png": "[encoded data removed]"
     },
     "metadata": {},
     "output_type": "display_data"
    }
   ],
   "source": [
    "\n",
    "plt.figure(figsize=(10, 6))\n",
    "\n",
    "plt.plot(data[\"Date\"],data[\"Price\"] , marker='o')\n",
    "plt.xlabel('Date')\n",
    "plt.ylabel('Price')\n",
    "plt.title('Price Over Time')\n",
    "plt.grid(True)\n",
    "plt.show()"
   ]
  },
  {
   "cell_type": "code",
   "execution_count": 215,
   "id": "96e741bb298ef02e",
   "metadata": {
    "ExecuteTime": {
     "end_time": "2023-09-23T22:27:08.504844700Z",
     "start_time": "2023-09-23T22:27:08.460798600Z"
    }
   },
   "outputs": [
    {
     "data": {
      "text/plain": "           Date   Price  year\n0    1988-08-01  0.8655  1988\n1    1988-08-02  0.8600  1988\n2    1988-08-03  0.8680  1988\n3    1988-08-04  0.8780  1988\n4    1988-08-05  0.8870  1988\n...         ...     ...   ...\n8898 2023-09-15  3.8010  2023\n8899 2023-09-18  3.7790  2023\n8900 2023-09-19  3.7470  2023\n8901 2023-09-20  3.7760  2023\n8902 2023-09-21  3.6730  2023\n\n[8903 rows x 3 columns]",
      "text/html": "<div>\n<style scoped>\n    .dataframe tbody tr th:only-of-type {\n        vertical-align: middle;\n    }\n\n    .dataframe tbody tr th {\n        vertical-align: top;\n    }\n\n    .dataframe thead th {\n        text-align: right;\n    }\n</style>\n<table border=\"1\" class=\"dataframe\">\n  <thead>\n    <tr style=\"text-align: right;\">\n      <th></th>\n      <th>Date</th>\n      <th>Price</th>\n      <th>year</th>\n    </tr>\n  </thead>\n  <tbody>\n    <tr>\n      <th>0</th>\n      <td>1988-08-01</td>\n      <td>0.8655</td>\n      <td>1988</td>\n    </tr>\n    <tr>\n      <th>1</th>\n      <td>1988-08-02</td>\n      <td>0.8600</td>\n      <td>1988</td>\n    </tr>\n    <tr>\n      <th>2</th>\n      <td>1988-08-03</td>\n      <td>0.8680</td>\n      <td>1988</td>\n    </tr>\n    <tr>\n      <th>3</th>\n      <td>1988-08-04</td>\n      <td>0.8780</td>\n      <td>1988</td>\n    </tr>\n    <tr>\n      <th>4</th>\n      <td>1988-08-05</td>\n      <td>0.8870</td>\n      <td>1988</td>\n    </tr>\n    <tr>\n      <th>...</th>\n      <td>...</td>\n      <td>...</td>\n      <td>...</td>\n    </tr>\n    <tr>\n      <th>8898</th>\n      <td>2023-09-15</td>\n      <td>3.8010</td>\n      <td>2023</td>\n    </tr>\n    <tr>\n      <th>8899</th>\n      <td>2023-09-18</td>\n      <td>3.7790</td>\n      <td>2023</td>\n    </tr>\n    <tr>\n      <th>8900</th>\n      <td>2023-09-19</td>\n      <td>3.7470</td>\n      <td>2023</td>\n    </tr>\n    <tr>\n      <th>8901</th>\n      <td>2023-09-20</td>\n      <td>3.7760</td>\n      <td>2023</td>\n    </tr>\n    <tr>\n      <th>8902</th>\n      <td>2023-09-21</td>\n      <td>3.6730</td>\n      <td>2023</td>\n    </tr>\n  </tbody>\n</table>\n<p>8903 rows × 3 columns</p>\n</div>"
     },
     "execution_count": 215,
     "metadata": {},
     "output_type": "execute_result"
    }
   ],
   "source": [
    "EVALUATION_YEARS = 5\n",
    "QUARTER = 4\n",
    "current_year = pd.Timestamp.now().year\n",
    "data['year'] = data['Date'].dt.year\n",
    "q4 = data[(data[\"Date\"].dt.quarter == QUARTER) & (data['year'] >= current_year - EVALUATION_YEARS)]\n",
    "data"
   ]
  },
  {
   "cell_type": "code",
   "execution_count": 216,
   "id": "9a1f26f035013e17",
   "metadata": {
    "ExecuteTime": {
     "end_time": "2023-09-23T22:27:09.195273100Z",
     "start_time": "2023-09-23T22:27:09.015316400Z"
    }
   },
   "outputs": [
    {
     "data": {
      "text/plain": "<Figure size 1500x600 with 1 Axes>",
      "image/png": "[encoded data removed]"
     },
     "metadata": {},
     "output_type": "display_data"
    }
   ],
   "source": [
    "evaluation_set = pd.DataFrame()\n",
    "evaluation_set = pd.to_datetime(wholeset)\n",
    "\n",
    "plt.figure(figsize=(15, 6))\n",
    "\n",
    "plt.plot(q4[\"Date\"],q4['Price'], marker='o')\n",
    "plt.xlabel('Date')\n",
    "plt.ylabel('Price')\n",
    "plt.title(f'Price Over The Last {EVALUATION_YEARS} Years')\n",
    "plt.grid(True)\n",
    "plt.show()"
   ]
  },
  {
   "cell_type": "code",
   "execution_count": 212,
   "id": "9ca41dc9e55823ad",
   "metadata": {
    "ExecuteTime": {
     "end_time": "2023-09-23T22:25:51.617561600Z",
     "start_time": "2023-09-23T22:25:51.571563400Z"
    }
   },
   "outputs": [],
   "source": []
  }
 ],
 "metadata": {
  "kernelspec": {
   "display_name": "Python 3 (ipykernel)",
   "language": "python",
   "name": "python3"
  },
  "language_info": {
   "codemirror_mode": {
    "name": "ipython",
    "version": 3
   },
   "file_extension": ".py",
   "mimetype": "text/x-python",
   "name": "python",
   "nbconvert_exporter": "python",
   "pygments_lexer": "ipython3",
   "version": "3.10.11"
  }
 },
 "nbformat": 4,
 "nbformat_minor": 5
}
