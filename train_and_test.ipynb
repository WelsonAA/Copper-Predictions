{
 "cells": [
  {
   "cell_type": "markdown",
   "id": "1e772ca142390c59",
   "metadata": {},
   "source": [
    "# Installing Libraries"
   ]
  },
  {
   "cell_type": "code",
   "execution_count": 32,
   "id": "a675d251fbe934e1",
   "metadata": {
    "ExecuteTime": {
     "end_time": "2023-09-23T21:36:40.187182300Z",
     "start_time": "2023-09-23T21:36:40.084492800Z"
    }
   },
   "outputs": [
    {
     "name": "stderr",
     "output_type": "stream",
     "text": [
      "UsageError: Line magic function `%pip3` not found.\n"
     ]
    }
   ],
   "source": [
    "%pip3 install sklearn"
   ]
  },
  {
   "cell_type": "markdown",
   "id": "939526636bac7cdd",
   "metadata": {},
   "source": [
    "# Importing Libraries"
   ]
  },
  {
   "cell_type": "code",
   "execution_count": 52,
   "id": "708cf3ed",
   "metadata": {
    "ExecuteTime": {
     "end_time": "2023-09-23T21:37:02.990427400Z",
     "start_time": "2023-09-23T21:37:02.972427700Z"
    }
   },
   "outputs": [],
   "source": [
    "import pandas as pd\n",
    "import numpy as np\n",
    "import matplotlib.pyplot as plt\n",
    "import torch\n",
    "import torch.nn as nn\n",
    "from copy import deepcopy as dc\n",
    "from sklearn.preprocessing import MinMaxScaler\n",
    "from torch.utils.data import Dataset,DataLoader"
   ]
  },
  {
   "cell_type": "markdown",
   "id": "4adb2eae6ea4c8f0",
   "metadata": {},
   "source": [
    "# Reading Clean Dataset"
   ]
  },
  {
   "cell_type": "code",
   "execution_count": 53,
   "id": "81522e27ed71e73f",
   "metadata": {
    "ExecuteTime": {
     "end_time": "2023-09-23T21:37:03.656351400Z",
     "start_time": "2023-09-23T21:37:03.638350200Z"
    }
   },
   "outputs": [
    {
     "data": {
      "text/plain": "            Date   Price\n0     1988-08-01  0.8655\n1     1988-08-02  0.8600\n2     1988-08-03  0.8680\n3     1988-08-04  0.8780\n4     1988-08-05  0.8870\n...          ...     ...\n8898  2023-09-15  3.8010\n8899  2023-09-18  3.7790\n8900  2023-09-19  3.7470\n8901  2023-09-20  3.7760\n8902  2023-09-21  3.6730\n\n[8903 rows x 2 columns]",
      "text/html": "<div>\n<style scoped>\n    .dataframe tbody tr th:only-of-type {\n        vertical-align: middle;\n    }\n\n    .dataframe tbody tr th {\n        vertical-align: top;\n    }\n\n    .dataframe thead th {\n        text-align: right;\n    }\n</style>\n<table border=\"1\" class=\"dataframe\">\n  <thead>\n    <tr style=\"text-align: right;\">\n      <th></th>\n      <th>Date</th>\n      <th>Price</th>\n    </tr>\n  </thead>\n  <tbody>\n    <tr>\n      <th>0</th>\n      <td>1988-08-01</td>\n      <td>0.8655</td>\n    </tr>\n    <tr>\n      <th>1</th>\n      <td>1988-08-02</td>\n      <td>0.8600</td>\n    </tr>\n    <tr>\n      <th>2</th>\n      <td>1988-08-03</td>\n      <td>0.8680</td>\n    </tr>\n    <tr>\n      <th>3</th>\n      <td>1988-08-04</td>\n      <td>0.8780</td>\n    </tr>\n    <tr>\n      <th>4</th>\n      <td>1988-08-05</td>\n      <td>0.8870</td>\n    </tr>\n    <tr>\n      <th>...</th>\n      <td>...</td>\n      <td>...</td>\n    </tr>\n    <tr>\n      <th>8898</th>\n      <td>2023-09-15</td>\n      <td>3.8010</td>\n    </tr>\n    <tr>\n      <th>8899</th>\n      <td>2023-09-18</td>\n      <td>3.7790</td>\n    </tr>\n    <tr>\n      <th>8900</th>\n      <td>2023-09-19</td>\n      <td>3.7470</td>\n    </tr>\n    <tr>\n      <th>8901</th>\n      <td>2023-09-20</td>\n      <td>3.7760</td>\n    </tr>\n    <tr>\n      <th>8902</th>\n      <td>2023-09-21</td>\n      <td>3.6730</td>\n    </tr>\n  </tbody>\n</table>\n<p>8903 rows × 2 columns</p>\n</div>"
     },
     "execution_count": 53,
     "metadata": {},
     "output_type": "execute_result"
    }
   ],
   "source": [
    "data = pd.read_csv(\"cleaned_dataset.csv\")\n",
    "data"
   ]
  },
  {
   "cell_type": "markdown",
   "id": "42098477be1b68be",
   "metadata": {},
   "source": [
    "## Setting Date Column to Date Format"
   ]
  },
  {
   "cell_type": "code",
   "execution_count": 54,
   "id": "f0949dcdf717b792",
   "metadata": {
    "ExecuteTime": {
     "end_time": "2023-09-23T21:37:04.303404200Z",
     "start_time": "2023-09-23T21:37:04.286404Z"
    }
   },
   "outputs": [],
   "source": [
    "data[\"Date\"] = pd.to_datetime(data[\"Date\"])"
   ]
  },
  {
   "cell_type": "code",
   "execution_count": 55,
   "id": "52b510ef9174dcaa",
   "metadata": {
    "ExecuteTime": {
     "end_time": "2023-09-23T21:37:04.577143Z",
     "start_time": "2023-09-23T21:37:04.555141400Z"
    }
   },
   "outputs": [
    {
     "data": {
      "text/plain": "0      1988-08-01\n1      1988-08-02\n2      1988-08-03\n3      1988-08-04\n4      1988-08-05\n          ...    \n8898   2023-09-15\n8899   2023-09-18\n8900   2023-09-19\n8901   2023-09-20\n8902   2023-09-21\nName: Date, Length: 8903, dtype: datetime64[ns]"
     },
     "execution_count": 55,
     "metadata": {},
     "output_type": "execute_result"
    }
   ],
   "source": [
    "dates = data[\"Date\"]\n",
    "dates"
   ]
  },
  {
   "cell_type": "markdown",
   "id": "d881e2394a3f5db4",
   "metadata": {},
   "source": [
    "# Setting Device to GPU"
   ]
  },
  {
   "cell_type": "code",
   "execution_count": 56,
   "id": "9akB333XcFJ6",
   "metadata": {
    "colab": {
     "base_uri": "https://localhost:8080/",
     "height": 36
    },
    "id": "9akB333XcFJ6",
    "outputId": "2e8630de-1369-4281-d87c-9634ed90ba97",
    "ExecuteTime": {
     "end_time": "2023-09-23T21:37:05.093863300Z",
     "start_time": "2023-09-23T21:37:05.082322400Z"
    }
   },
   "outputs": [
    {
     "data": {
      "text/plain": "'cpu'"
     },
     "execution_count": 56,
     "metadata": {},
     "output_type": "execute_result"
    }
   ],
   "source": [
    "device = 'cuda:0' if torch.cuda.is_available() else 'cpu'\n",
    "device"
   ]
  },
  {
   "cell_type": "markdown",
   "id": "187186503c01cccb",
   "metadata": {},
   "source": [
    "# Formatting for LSTM"
   ]
  },
  {
   "cell_type": "code",
   "execution_count": 57,
   "id": "7aa93c59189557e0",
   "metadata": {
    "ExecuteTime": {
     "end_time": "2023-09-23T21:37:05.666673700Z",
     "start_time": "2023-09-23T21:37:05.653674200Z"
    }
   },
   "outputs": [],
   "source": [
    "def prepare_dataframe_for_lstm(df, n_steps):\n",
    "    df = dc(df)\n",
    "    df.set_index('Date', inplace=True)\n",
    "    for i in range(1, n_steps+1):\n",
    "        df[f'Price(t-{i})'] = df['Price'].shift(i)\n",
    "    df.dropna(inplace=True)\n",
    "    return df"
   ]
  },
  {
   "cell_type": "code",
   "execution_count": 58,
   "id": "Q4ma6QCscwfB",
   "metadata": {
    "colab": {
     "base_uri": "https://localhost:8080/",
     "height": 455
    },
    "id": "Q4ma6QCscwfB",
    "outputId": "61bd4c08-c3f7-453d-ed92-c2232a18a5ba",
    "ExecuteTime": {
     "end_time": "2023-09-23T21:37:06.054134400Z",
     "start_time": "2023-09-23T21:37:05.987963200Z"
    }
   },
   "outputs": [
    {
     "data": {
      "text/plain": "             Price  Price(t-1)  Price(t-2)  Price(t-3)  Price(t-4)   \nDate                                                                 \n1988-08-10  0.8875      0.8760      0.8710      0.8870      0.8780  \\\n1988-08-11  0.9010      0.8875      0.8760      0.8710      0.8870   \n1988-08-12  0.8835      0.9010      0.8875      0.8760      0.8710   \n1988-08-15  0.8880      0.8835      0.9010      0.8875      0.8760   \n1988-08-16  0.8880      0.8880      0.8835      0.9010      0.8875   \n...            ...         ...         ...         ...         ...   \n2023-09-15  3.8010      3.8215      3.7930      3.7920      3.8070   \n2023-09-18  3.7790      3.8010      3.8215      3.7930      3.7920   \n2023-09-19  3.7470      3.7790      3.8010      3.8215      3.7930   \n2023-09-20  3.7760      3.7470      3.7790      3.8010      3.8215   \n2023-09-21  3.6730      3.7760      3.7470      3.7790      3.8010   \n\n            Price(t-5)  Price(t-6)  Price(t-7)  \nDate                                            \n1988-08-10      0.8680      0.8600      0.8655  \n1988-08-11      0.8780      0.8680      0.8600  \n1988-08-12      0.8870      0.8780      0.8680  \n1988-08-15      0.8710      0.8870      0.8780  \n1988-08-16      0.8760      0.8710      0.8870  \n...                ...         ...         ...  \n2023-09-15      3.7165      3.7620      3.7860  \n2023-09-18      3.8070      3.7165      3.7620  \n2023-09-19      3.7920      3.8070      3.7165  \n2023-09-20      3.7930      3.7920      3.8070  \n2023-09-21      3.8215      3.7930      3.7920  \n\n[8896 rows x 8 columns]",
      "text/html": "<div>\n<style scoped>\n    .dataframe tbody tr th:only-of-type {\n        vertical-align: middle;\n    }\n\n    .dataframe tbody tr th {\n        vertical-align: top;\n    }\n\n    .dataframe thead th {\n        text-align: right;\n    }\n</style>\n<table border=\"1\" class=\"dataframe\">\n  <thead>\n    <tr style=\"text-align: right;\">\n      <th></th>\n      <th>Price</th>\n      <th>Price(t-1)</th>\n      <th>Price(t-2)</th>\n      <th>Price(t-3)</th>\n      <th>Price(t-4)</th>\n      <th>Price(t-5)</th>\n      <th>Price(t-6)</th>\n      <th>Price(t-7)</th>\n    </tr>\n    <tr>\n      <th>Date</th>\n      <th></th>\n      <th></th>\n      <th></th>\n      <th></th>\n      <th></th>\n      <th></th>\n      <th></th>\n      <th></th>\n    </tr>\n  </thead>\n  <tbody>\n    <tr>\n      <th>1988-08-10</th>\n      <td>0.8875</td>\n      <td>0.8760</td>\n      <td>0.8710</td>\n      <td>0.8870</td>\n      <td>0.8780</td>\n      <td>0.8680</td>\n      <td>0.8600</td>\n      <td>0.8655</td>\n    </tr>\n    <tr>\n      <th>1988-08-11</th>\n      <td>0.9010</td>\n      <td>0.8875</td>\n      <td>0.8760</td>\n      <td>0.8710</td>\n      <td>0.8870</td>\n      <td>0.8780</td>\n      <td>0.8680</td>\n      <td>0.8600</td>\n    </tr>\n    <tr>\n      <th>1988-08-12</th>\n      <td>0.8835</td>\n      <td>0.9010</td>\n      <td>0.8875</td>\n      <td>0.8760</td>\n      <td>0.8710</td>\n      <td>0.8870</td>\n      <td>0.8780</td>\n      <td>0.8680</td>\n    </tr>\n    <tr>\n      <th>1988-08-15</th>\n      <td>0.8880</td>\n      <td>0.8835</td>\n      <td>0.9010</td>\n      <td>0.8875</td>\n      <td>0.8760</td>\n      <td>0.8710</td>\n      <td>0.8870</td>\n      <td>0.8780</td>\n    </tr>\n    <tr>\n      <th>1988-08-16</th>\n      <td>0.8880</td>\n      <td>0.8880</td>\n      <td>0.8835</td>\n      <td>0.9010</td>\n      <td>0.8875</td>\n      <td>0.8760</td>\n      <td>0.8710</td>\n      <td>0.8870</td>\n    </tr>\n    <tr>\n      <th>...</th>\n      <td>...</td>\n      <td>...</td>\n      <td>...</td>\n      <td>...</td>\n      <td>...</td>\n      <td>...</td>\n      <td>...</td>\n      <td>...</td>\n    </tr>\n    <tr>\n      <th>2023-09-15</th>\n      <td>3.8010</td>\n      <td>3.8215</td>\n      <td>3.7930</td>\n      <td>3.7920</td>\n      <td>3.8070</td>\n      <td>3.7165</td>\n      <td>3.7620</td>\n      <td>3.7860</td>\n    </tr>\n    <tr>\n      <th>2023-09-18</th>\n      <td>3.7790</td>\n      <td>3.8010</td>\n      <td>3.8215</td>\n      <td>3.7930</td>\n      <td>3.7920</td>\n      <td>3.8070</td>\n      <td>3.7165</td>\n      <td>3.7620</td>\n    </tr>\n    <tr>\n      <th>2023-09-19</th>\n      <td>3.7470</td>\n      <td>3.7790</td>\n      <td>3.8010</td>\n      <td>3.8215</td>\n      <td>3.7930</td>\n      <td>3.7920</td>\n      <td>3.8070</td>\n      <td>3.7165</td>\n    </tr>\n    <tr>\n      <th>2023-09-20</th>\n      <td>3.7760</td>\n      <td>3.7470</td>\n      <td>3.7790</td>\n      <td>3.8010</td>\n      <td>3.8215</td>\n      <td>3.7930</td>\n      <td>3.7920</td>\n      <td>3.8070</td>\n    </tr>\n    <tr>\n      <th>2023-09-21</th>\n      <td>3.6730</td>\n      <td>3.7760</td>\n      <td>3.7470</td>\n      <td>3.7790</td>\n      <td>3.8010</td>\n      <td>3.8215</td>\n      <td>3.7930</td>\n      <td>3.7920</td>\n    </tr>\n  </tbody>\n</table>\n<p>8896 rows × 8 columns</p>\n</div>"
     },
     "execution_count": 58,
     "metadata": {},
     "output_type": "execute_result"
    }
   ],
   "source": [
    "LOOKBACK = 7\n",
    "dates = dates[LOOKBACK:]\n",
    "dates\n",
    "\n",
    "shifted_df = prepare_dataframe_for_lstm(data, LOOKBACK)\n",
    "shifted_df"
   ]
  },
  {
   "cell_type": "code",
   "execution_count": 59,
   "id": "yWcD1tHjfAU-",
   "metadata": {
    "colab": {
     "base_uri": "https://localhost:8080/"
    },
    "id": "yWcD1tHjfAU-",
    "outputId": "e10f8cdf-7b44-4c1a-d0a2-9007aac1685c",
    "ExecuteTime": {
     "end_time": "2023-09-23T21:37:07.548654100Z",
     "start_time": "2023-09-23T21:37:07.531111900Z"
    }
   },
   "outputs": [],
   "source": [
    "shifted_df_before_scaling_as_np = shifted_df.to_numpy()"
   ]
  },
  {
   "cell_type": "code",
   "execution_count": 60,
   "id": "Pq2p3opGELA_",
   "metadata": {
    "colab": {
     "base_uri": "https://localhost:8080/"
    },
    "id": "Pq2p3opGELA_",
    "outputId": "5cb2ff07-5d8f-4117-eafd-6a3c5663c6ff",
    "ExecuteTime": {
     "end_time": "2023-09-23T21:37:08.746673500Z",
     "start_time": "2023-09-23T21:37:08.736674400Z"
    }
   },
   "outputs": [
    {
     "data": {
      "text/plain": "array([[0.8875, 0.876 , 0.871 , ..., 0.868 , 0.86  , 0.8655],\n       [0.901 , 0.8875, 0.876 , ..., 0.878 , 0.868 , 0.86  ],\n       [0.8835, 0.901 , 0.8875, ..., 0.887 , 0.878 , 0.868 ],\n       ...,\n       [3.747 , 3.779 , 3.801 , ..., 3.792 , 3.807 , 3.7165],\n       [3.776 , 3.747 , 3.779 , ..., 3.793 , 3.792 , 3.807 ],\n       [3.673 , 3.776 , 3.747 , ..., 3.8215, 3.793 , 3.792 ]])"
     },
     "execution_count": 60,
     "metadata": {},
     "output_type": "execute_result"
    }
   ],
   "source": [
    "shifted_df_before_scaling_as_np"
   ]
  },
  {
   "cell_type": "markdown",
   "id": "7fce53fcb9adad45",
   "metadata": {},
   "source": [
    "# Scaling Data"
   ]
  },
  {
   "cell_type": "code",
   "execution_count": 61,
   "id": "pXHkuFeafNUU",
   "metadata": {
    "colab": {
     "base_uri": "https://localhost:8080/"
    },
    "id": "pXHkuFeafNUU",
    "outputId": "a67d1f79-d279-4c96-e40f-0d9a5f9f7d7d",
    "ExecuteTime": {
     "end_time": "2023-09-23T21:37:09.864314800Z",
     "start_time": "2023-09-23T21:37:09.841317300Z"
    }
   },
   "outputs": [
    {
     "data": {
      "text/plain": "array([[-0.87110187, -0.87641488, -0.87872488, ..., -0.88011088,\n        -0.88380688, -0.88126588],\n       [-0.86486486, -0.87110187, -0.87641488, ..., -0.87549088,\n        -0.88011088, -0.88380688],\n       [-0.87294987, -0.86486486, -0.87110187, ..., -0.87133287,\n        -0.87549088, -0.88011088],\n       ...,\n       [ 0.44998845,  0.46477246,  0.47493647, ...,  0.47077847,\n         0.47770848,  0.43589744],\n       [ 0.46338646,  0.44998845,  0.46477246, ...,  0.47124047,\n         0.47077847,  0.47770848],\n       [ 0.41580042,  0.46338646,  0.44998845, ...,  0.48440748,\n         0.47124047,  0.47077847]])"
     },
     "execution_count": 61,
     "metadata": {},
     "output_type": "execute_result"
    }
   ],
   "source": [
    "scaler = MinMaxScaler(feature_range=(-1, 1))\n",
    "\n",
    "shifted_df_after_scaling_as_np = scaler.fit_transform(shifted_df_before_scaling_as_np)\n",
    "\n",
    "shifted_df_after_scaling_as_np"
   ]
  },
  {
   "cell_type": "code",
   "execution_count": 62,
   "id": "Iui9unuTfxOe",
   "metadata": {
    "colab": {
     "base_uri": "https://localhost:8080/"
    },
    "id": "Iui9unuTfxOe",
    "outputId": "642f093d-5071-43ef-fb9c-4c54061aec3e",
    "ExecuteTime": {
     "end_time": "2023-09-23T21:37:10.470957300Z",
     "start_time": "2023-09-23T21:37:10.437959600Z"
    }
   },
   "outputs": [
    {
     "data": {
      "text/plain": "((8896, 7), (8896,))"
     },
     "execution_count": 62,
     "metadata": {},
     "output_type": "execute_result"
    }
   ],
   "source": [
    "X = shifted_df_after_scaling_as_np[:, 1:]\n",
    "y = shifted_df_after_scaling_as_np[:, 0]\n",
    "\n",
    "X.shape, y.shape"
   ]
  },
  {
   "cell_type": "code",
   "execution_count": 63,
   "id": "XmbIqwj-E0cv",
   "metadata": {
    "colab": {
     "base_uri": "https://localhost:8080/"
    },
    "id": "XmbIqwj-E0cv",
    "outputId": "48ccc3a1-1b5c-49fd-ae2f-3f8b143fbb4c",
    "ExecuteTime": {
     "end_time": "2023-09-23T21:37:10.956602100Z",
     "start_time": "2023-09-23T21:37:10.945601100Z"
    }
   },
   "outputs": [
    {
     "data": {
      "text/plain": "array([[-0.88126588, -0.88380688, -0.88011088, ..., -0.87133287,\n        -0.87872488, -0.87641488],\n       [-0.88380688, -0.88011088, -0.87549088, ..., -0.87872488,\n        -0.87641488, -0.87110187],\n       [-0.88011088, -0.87549088, -0.87133287, ..., -0.87641488,\n        -0.87110187, -0.86486486],\n       ...,\n       [ 0.43589744,  0.47770848,  0.47077847, ...,  0.48440748,\n         0.47493647,  0.46477246],\n       [ 0.47770848,  0.47077847,  0.47124047, ...,  0.47493647,\n         0.46477246,  0.44998845],\n       [ 0.47077847,  0.47124047,  0.48440748, ...,  0.46477246,\n         0.44998845,  0.46338646]])"
     },
     "execution_count": 63,
     "metadata": {},
     "output_type": "execute_result"
    }
   ],
   "source": [
    "X = dc(np.flip(X, axis=1))\n",
    "X"
   ]
  },
  {
   "cell_type": "markdown",
   "id": "aefc41ba987150d",
   "metadata": {},
   "source": [
    "# Splitting to Traing Set and Testing Set "
   ]
  },
  {
   "cell_type": "code",
   "execution_count": 64,
   "id": "GCHslawXgE21",
   "metadata": {
    "colab": {
     "base_uri": "https://localhost:8080/"
    },
    "id": "GCHslawXgE21",
    "outputId": "a2e50719-a1fb-460e-9ce4-9dd873642765",
    "ExecuteTime": {
     "end_time": "2023-09-23T21:37:11.886529200Z",
     "start_time": "2023-09-23T21:37:11.876529300Z"
    }
   },
   "outputs": [
    {
     "data": {
      "text/plain": "7123   2016-11-30\n7124   2016-12-01\n7125   2016-12-02\n7126   2016-12-05\n7127   2016-12-06\n          ...    \n8898   2023-09-15\n8899   2023-09-18\n8900   2023-09-19\n8901   2023-09-20\n8902   2023-09-21\nName: Date, Length: 1780, dtype: datetime64[ns]"
     },
     "execution_count": 64,
     "metadata": {},
     "output_type": "execute_result"
    }
   ],
   "source": [
    "split_index = int(len(X) * 0.80)\n",
    "split_date = dates[split_index]\n",
    "\n",
    "X_train = X[:split_index]\n",
    "X_test = X[split_index:]\n",
    "y_train = y[:split_index]\n",
    "y_test = y[split_index:]\n",
    "train_dates = dates[:split_index]\n",
    "test_dates = dates[split_index:]\n",
    "test_dates"
   ]
  },
  {
   "cell_type": "markdown",
   "id": "f2d7b0554564dcd0",
   "metadata": {},
   "source": [
    "# Formatting as a TimeSeriesDataset"
   ]
  },
  {
   "cell_type": "code",
   "execution_count": 65,
   "id": "Muqs9hKYhMUS",
   "metadata": {
    "colab": {
     "base_uri": "https://localhost:8080/"
    },
    "id": "Muqs9hKYhMUS",
    "outputId": "d35136a0-5855-4bfb-b66b-b8f7a1a8ea96",
    "ExecuteTime": {
     "end_time": "2023-09-23T21:37:12.907774600Z",
     "start_time": "2023-09-23T21:37:12.895779400Z"
    }
   },
   "outputs": [],
   "source": [
    "X_train = X_train.reshape((-1, LOOKBACK, 1))\n",
    "X_test = X_test.reshape((-1, LOOKBACK, 1))\n",
    "\n",
    "y_train = y_train.reshape((-1, 1))\n",
    "y_test = y_test.reshape((-1, 1)) "
   ]
  },
  {
   "cell_type": "code",
   "execution_count": 66,
   "id": "i7-PBcrMhR7z",
   "metadata": {
    "colab": {
     "base_uri": "https://localhost:8080/"
    },
    "id": "i7-PBcrMhR7z",
    "outputId": "b01a297a-75d6-4573-e450-a3545360112e",
    "ExecuteTime": {
     "end_time": "2023-09-23T21:37:13.436825900Z",
     "start_time": "2023-09-23T21:37:13.413827200Z"
    }
   },
   "outputs": [
    {
     "data": {
      "text/plain": "(torch.Size([7116, 7, 1]),\n torch.Size([1780, 7, 1]),\n torch.Size([7116, 1]),\n torch.Size([1780, 1]))"
     },
     "execution_count": 66,
     "metadata": {},
     "output_type": "execute_result"
    }
   ],
   "source": [
    "X_train = torch.tensor(X_train).float()\n",
    "y_train = torch.tensor(y_train).float()\n",
    "X_test = torch.tensor(X_test).float()\n",
    "y_test = torch.tensor(y_test).float()\n",
    "\n",
    "X_train.shape, X_test.shape, y_train.shape, y_test.shape"
   ]
  },
  {
   "cell_type": "code",
   "execution_count": 67,
   "id": "DWutCAGKhdqU",
   "metadata": {
    "id": "DWutCAGKhdqU",
    "ExecuteTime": {
     "end_time": "2023-09-23T21:37:14.059367700Z",
     "start_time": "2023-09-23T21:37:14.037369Z"
    }
   },
   "outputs": [],
   "source": [
    "class TimeSeriesDataset(Dataset):\n",
    "    def __init__(self, X, y):\n",
    "        self.X = X\n",
    "        self.y = y\n",
    "\n",
    "    def __len__(self):\n",
    "        return len(self.X)\n",
    "\n",
    "    def __getitem__(self, i):\n",
    "        return self.X[i], self.y[i]\n",
    "\n",
    "train_dataset = TimeSeriesDataset(X_train, y_train)\n",
    "test_dataset = TimeSeriesDataset(X_test, y_test)"
   ]
  },
  {
   "cell_type": "markdown",
   "id": "340b1169dadf343a",
   "metadata": {},
   "source": [
    "# Preparing DataLoader"
   ]
  },
  {
   "cell_type": "code",
   "execution_count": 68,
   "id": "XYsUmPl3ik46",
   "metadata": {
    "id": "XYsUmPl3ik46",
    "ExecuteTime": {
     "end_time": "2023-09-23T21:37:14.813697500Z",
     "start_time": "2023-09-23T21:37:14.799621Z"
    }
   },
   "outputs": [],
   "source": [
    "batch_size = 16\n",
    "train_loader = DataLoader(train_dataset, batch_size=batch_size, shuffle=True)\n",
    "test_loader = DataLoader(test_dataset, batch_size=batch_size, shuffle=False)"
   ]
  },
  {
   "cell_type": "code",
   "execution_count": 69,
   "id": "TJTnbgBDjOSK",
   "metadata": {
    "colab": {
     "base_uri": "https://localhost:8080/"
    },
    "id": "TJTnbgBDjOSK",
    "outputId": "51226616-d4de-4a22-f4d9-576fd3e8bfba",
    "ExecuteTime": {
     "end_time": "2023-09-23T21:37:15.268102400Z",
     "start_time": "2023-09-23T21:37:15.243707900Z"
    }
   },
   "outputs": [
    {
     "name": "stdout",
     "output_type": "stream",
     "text": [
      "torch.Size([16, 7, 1]) torch.Size([16, 1])\n"
     ]
    }
   ],
   "source": [
    "for _, batch in enumerate(train_loader):\n",
    "    x_batch, y_batch = batch[0].to(device), batch[1].to(device)\n",
    "    print(x_batch.shape, y_batch.shape)\n",
    "    break"
   ]
  },
  {
   "cell_type": "code",
   "execution_count": 70,
   "id": "njdkq_kmjib5",
   "metadata": {
    "colab": {
     "base_uri": "https://localhost:8080/"
    },
    "id": "njdkq_kmjib5",
    "outputId": "db355c8d-cc21-43f5-cdfa-2156444b4531",
    "ExecuteTime": {
     "end_time": "2023-09-23T21:37:15.835879500Z",
     "start_time": "2023-09-23T21:37:15.804882700Z"
    }
   },
   "outputs": [
    {
     "data": {
      "text/plain": "LSTM(\n  (lstm): LSTM(1, 4, batch_first=True)\n  (fc): Linear(in_features=4, out_features=1, bias=True)\n)"
     },
     "execution_count": 70,
     "metadata": {},
     "output_type": "execute_result"
    }
   ],
   "source": [
    "class LSTM(nn.Module):\n",
    "    def __init__(self, input_size, hidden_size, num_stacked_layers):\n",
    "        super().__init__()\n",
    "        self.hidden_size = hidden_size\n",
    "        self.num_stacked_layers = num_stacked_layers\n",
    "\n",
    "        self.lstm = nn.LSTM(input_size, hidden_size, num_stacked_layers,\n",
    "                            batch_first=True)\n",
    "\n",
    "        self.fc = nn.Linear(hidden_size, 1)\n",
    "\n",
    "    def forward(self, x):\n",
    "        batch_size = x.size(0)\n",
    "        h0 = torch.zeros(self.num_stacked_layers, batch_size, self.hidden_size).to(device)\n",
    "        c0 = torch.zeros(self.num_stacked_layers, batch_size, self.hidden_size).to(device)\n",
    "\n",
    "        out, _ = self.lstm(x, (h0, c0))\n",
    "        out = self.fc(out[:, -1, :])\n",
    "        return out\n",
    "\n",
    "model = LSTM(1, 4, 1)\n",
    "model.to(device)\n",
    "model"
   ]
  },
  {
   "cell_type": "markdown",
   "id": "669b9265ca282dbb",
   "metadata": {},
   "source": [
    "# Training and Optimising"
   ]
  },
  {
   "cell_type": "code",
   "execution_count": 71,
   "id": "iue5WvTxmVKB",
   "metadata": {
    "id": "iue5WvTxmVKB",
    "ExecuteTime": {
     "end_time": "2023-09-23T21:37:16.931332600Z",
     "start_time": "2023-09-23T21:37:16.921303Z"
    }
   },
   "outputs": [],
   "source": [
    "def train_one_epoch():\n",
    "    model.train(True)\n",
    "    print(f'Epoch: {epoch + 1}')\n",
    "    running_loss = 0.0\n",
    "\n",
    "    for batch_index, batch in enumerate(train_loader):\n",
    "        x_batch, y_batch = batch[0].to(device), batch[1].to(device)\n",
    "\n",
    "        output = model(x_batch)\n",
    "        loss = loss_function(output, y_batch)\n",
    "        running_loss += loss.item()\n",
    "\n",
    "        optimizer.zero_grad()\n",
    "        loss.backward()\n",
    "        optimizer.step()\n",
    "\n",
    "        if batch_index % 100 == 99:  # print every 100 batches\n",
    "            avg_loss_across_batches = running_loss / 100\n",
    "            print('Batch {0}, Loss: {1:.3f}'.format(batch_index+1,\n",
    "                                                    avg_loss_across_batches))\n",
    "            running_loss = 0.0\n",
    "    print()"
   ]
  },
  {
   "cell_type": "code",
   "execution_count": 72,
   "id": "gRmNuV3cmy-t",
   "metadata": {
    "id": "gRmNuV3cmy-t",
    "ExecuteTime": {
     "end_time": "2023-09-23T21:37:17.488984800Z",
     "start_time": "2023-09-23T21:37:17.484984900Z"
    }
   },
   "outputs": [],
   "source": [
    "def validate_one_epoch():\n",
    "    model.train(False)\n",
    "    running_loss = 0.0\n",
    "\n",
    "    for batch_index, batch in enumerate(test_loader):\n",
    "        x_batch, y_batch = batch[0].to(device), batch[1].to(device)\n",
    "\n",
    "        with torch.no_grad():\n",
    "            output = model(x_batch)\n",
    "            loss = loss_function(output, y_batch)\n",
    "            running_loss += loss.item()\n",
    "\n",
    "    avg_loss_across_batches = running_loss / len(test_loader)\n",
    "\n",
    "    print('Val Loss: {0:.3f}'.format(avg_loss_across_batches))\n",
    "    print('***************************************************')\n",
    "    print()"
   ]
  },
  {
   "cell_type": "code",
   "execution_count": 73,
   "id": "1jgb1aJ3lxlQ",
   "metadata": {
    "colab": {
     "base_uri": "https://localhost:8080/"
    },
    "id": "1jgb1aJ3lxlQ",
    "outputId": "2a25db36-4872-44e4-feca-4d26bad49f96",
    "ExecuteTime": {
     "end_time": "2023-09-23T21:37:28.844880900Z",
     "start_time": "2023-09-23T21:37:17.876460Z"
    }
   },
   "outputs": [
    {
     "name": "stdout",
     "output_type": "stream",
     "text": [
      "Epoch: 1\n",
      "Batch 100, Loss: 0.139\n",
      "Batch 200, Loss: 0.037\n",
      "Batch 300, Loss: 0.008\n",
      "Batch 400, Loss: 0.006\n",
      "\n",
      "Val Loss: 0.022\n",
      "***************************************************\n",
      "\n",
      "Epoch: 2\n",
      "Batch 100, Loss: 0.004\n",
      "Batch 200, Loss: 0.003\n",
      "Batch 300, Loss: 0.002\n",
      "Batch 400, Loss: 0.002\n",
      "\n",
      "Val Loss: 0.005\n",
      "***************************************************\n",
      "\n",
      "Epoch: 3\n",
      "Batch 100, Loss: 0.001\n",
      "Batch 200, Loss: 0.001\n",
      "Batch 300, Loss: 0.001\n",
      "Batch 400, Loss: 0.001\n",
      "\n",
      "Val Loss: 0.002\n",
      "***************************************************\n",
      "\n",
      "Epoch: 4\n",
      "Batch 100, Loss: 0.001\n",
      "Batch 200, Loss: 0.001\n",
      "Batch 300, Loss: 0.001\n",
      "Batch 400, Loss: 0.001\n",
      "\n",
      "Val Loss: 0.002\n",
      "***************************************************\n",
      "\n",
      "Epoch: 5\n",
      "Batch 100, Loss: 0.001\n",
      "Batch 200, Loss: 0.001\n",
      "Batch 300, Loss: 0.001\n",
      "Batch 400, Loss: 0.001\n",
      "\n",
      "Val Loss: 0.001\n",
      "***************************************************\n",
      "\n",
      "Epoch: 6\n",
      "Batch 100, Loss: 0.001\n",
      "Batch 200, Loss: 0.001\n",
      "Batch 300, Loss: 0.001\n",
      "Batch 400, Loss: 0.001\n",
      "Val Loss: 0.002\n",
      "***************************************************\n",
      "\n",
      "Epoch: 7\n",
      "Batch 100, Loss: 0.001\n",
      "Batch 200, Loss: 0.001\n",
      "Batch 300, Loss: 0.001\n",
      "Batch 400, Loss: 0.001\n",
      "\n",
      "Val Loss: 0.001\n",
      "***************************************************\n",
      "\n",
      "Epoch: 8\n",
      "Batch 100, Loss: 0.001\n",
      "Batch 200, Loss: 0.001\n",
      "Batch 300, Loss: 0.001\n",
      "Batch 400, Loss: 0.001\n",
      "\n",
      "Val Loss: 0.001\n",
      "***************************************************\n",
      "\n",
      "Epoch: 9\n",
      "Batch 100, Loss: 0.001\n",
      "Batch 200, Loss: 0.000\n",
      "Batch 300, Loss: 0.000\n",
      "Batch 400, Loss: 0.001\n",
      "\n",
      "Val Loss: 0.001\n",
      "***************************************************\n",
      "\n",
      "Epoch: 10\n",
      "Batch 100, Loss: 0.000\n",
      "Batch 200, Loss: 0.000\n",
      "Batch 300, Loss: 0.001\n",
      "Batch 400, Loss: 0.001\n",
      "\n",
      "Val Loss: 0.001\n",
      "***************************************************\n",
      "\n",
      "Epoch: 11\n",
      "Batch 100, Loss: 0.000\n",
      "Batch 200, Loss: 0.000\n",
      "Batch 300, Loss: 0.000\n",
      "Batch 400, Loss: 0.000\n",
      "Val Loss: 0.001\n",
      "***************************************************\n",
      "\n",
      "Epoch: 12\n",
      "Batch 100, Loss: 0.000\n",
      "Batch 200, Loss: 0.000\n",
      "Batch 300, Loss: 0.001\n",
      "Batch 400, Loss: 0.000\n",
      "\n",
      "Val Loss: 0.001\n",
      "***************************************************\n",
      "\n",
      "Epoch: 13\n",
      "Batch 100, Loss: 0.000\n",
      "Batch 200, Loss: 0.000\n",
      "Batch 300, Loss: 0.000\n",
      "Batch 400, Loss: 0.000\n",
      "Val Loss: 0.001\n",
      "***************************************************\n",
      "\n",
      "Epoch: 14\n",
      "Batch 100, Loss: 0.000\n",
      "Batch 200, Loss: 0.000\n",
      "Batch 300, Loss: 0.000\n",
      "Batch 400, Loss: 0.000\n",
      "\n",
      "Val Loss: 0.001\n",
      "***************************************************\n",
      "\n",
      "Epoch: 15\n",
      "Batch 100, Loss: 0.000\n",
      "Batch 200, Loss: 0.000\n",
      "Batch 300, Loss: 0.000\n",
      "Batch 400, Loss: 0.000\n",
      "\n",
      "Val Loss: 0.001\n",
      "***************************************************\n",
      "\n",
      "Epoch: 16\n",
      "Batch 100, Loss: 0.000\n",
      "Batch 200, Loss: 0.000\n",
      "Batch 300, Loss: 0.000\n",
      "Batch 400, Loss: 0.000\n",
      "\n",
      "Val Loss: 0.001\n",
      "***************************************************\n",
      "\n",
      "Epoch: 17\n",
      "Batch 100, Loss: 0.000\n",
      "Batch 200, Loss: 0.000\n",
      "Batch 300, Loss: 0.000\n",
      "Batch 400, Loss: 0.000\n",
      "Val Loss: 0.001\n",
      "***************************************************\n",
      "\n",
      "Epoch: 18\n",
      "Batch 100, Loss: 0.000\n",
      "Batch 200, Loss: 0.000\n",
      "Batch 300, Loss: 0.000\n",
      "Batch 400, Loss: 0.000\n",
      "\n",
      "Val Loss: 0.001\n",
      "***************************************************\n",
      "\n",
      "Epoch: 19\n",
      "Batch 100, Loss: 0.000\n",
      "Batch 200, Loss: 0.000\n",
      "Batch 300, Loss: 0.000\n",
      "Batch 400, Loss: 0.000\n",
      "\n",
      "Val Loss: 0.001\n",
      "***************************************************\n",
      "\n",
      "Epoch: 20\n",
      "Batch 100, Loss: 0.000\n",
      "Batch 200, Loss: 0.000\n",
      "Batch 300, Loss: 0.000\n",
      "Batch 400, Loss: 0.000\n",
      "\n",
      "Val Loss: 0.001\n",
      "***************************************************\n"
     ]
    }
   ],
   "source": [
    "learning_rate = 0.001\n",
    "num_epochs = 20\n",
    "loss_function = nn.MSELoss()\n",
    "optimizer = torch.optim.Adam(model.parameters(), lr=learning_rate)\n",
    "\n",
    "#Adam does the gradient descent\n",
    "\n",
    "for epoch in range(num_epochs):\n",
    "    train_one_epoch()\n",
    "    validate_one_epoch()"
   ]
  },
  {
   "cell_type": "markdown",
   "id": "5cec1eeb686ecabc",
   "metadata": {},
   "source": [
    "# Results"
   ]
  },
  {
   "cell_type": "code",
   "execution_count": 74,
   "id": "-Xon2PHWno7t",
   "metadata": {
    "colab": {
     "base_uri": "https://localhost:8080/",
     "height": 449
    },
    "id": "-Xon2PHWno7t",
    "outputId": "862b1d87-3e42-4fe1-8618-3cf0720e0da5",
    "ExecuteTime": {
     "end_time": "2023-09-23T21:37:55.270904300Z",
     "start_time": "2023-09-23T21:37:54.987904200Z"
    }
   },
   "outputs": [
    {
     "data": {
      "text/plain": "<Figure size 640x480 with 1 Axes>",
      "image/png": "[encoded data removed]"
     },
     "metadata": {},
     "output_type": "display_data"
    }
   ],
   "source": [
    "with torch.no_grad():\n",
    "    predicted = model(X_train[:].to(device)).to('cpu').numpy()\n",
    "\n",
    "plt.plot(train_dates,y_train, label='Actual Price')\n",
    "plt.plot(train_dates,predicted, label='Predicted Price')\n",
    "\n",
    "plt.xlabel('Dates')\n",
    "plt.ylabel('Price')\n",
    "plt.legend()\n",
    "plt.show()\n"
   ]
  },
  {
   "cell_type": "code",
   "execution_count": 75,
   "id": "d3SDgEvPpOcD",
   "metadata": {
    "colab": {
     "base_uri": "https://localhost:8080/"
    },
    "id": "d3SDgEvPpOcD",
    "outputId": "e9b8491e-b15e-4aa5-ae97-6619bb4a3be9",
    "ExecuteTime": {
     "end_time": "2023-09-23T21:37:59.349590700Z",
     "start_time": "2023-09-23T21:37:59.326594100Z"
    }
   },
   "outputs": [
    {
     "data": {
      "text/plain": "array([0.87319648, 0.87942258, 0.88897221, ..., 2.60784856, 2.67587419,\n       2.69203513])"
     },
     "execution_count": 75,
     "metadata": {},
     "output_type": "execute_result"
    }
   ],
   "source": [
    "train_predictions = predicted.flatten()\n",
    "\n",
    "dummies = np.zeros((X_train.shape[0], LOOKBACK+1))\n",
    "dummies[:, 0] = train_predictions\n",
    "dummies = scaler.inverse_transform(dummies)\n",
    "\n",
    "train_predictions = dc(dummies[:, 0])\n",
    "train_predictions"
   ]
  },
  {
   "cell_type": "code",
   "execution_count": 76,
   "id": "PHnvejOdrL7Q",
   "metadata": {
    "colab": {
     "base_uri": "https://localhost:8080/"
    },
    "id": "PHnvejOdrL7Q",
    "outputId": "952cb861-3f21-42d2-f1b2-9e489c9cdcd7",
    "ExecuteTime": {
     "end_time": "2023-09-23T21:38:00.020226500Z",
     "start_time": "2023-09-23T21:37:59.994224800Z"
    }
   },
   "outputs": [
    {
     "data": {
      "text/plain": "array([0.88750003, 0.90099995, 0.88349995, ..., 2.673     , 2.661     ,\n       2.60649999])"
     },
     "execution_count": 76,
     "metadata": {},
     "output_type": "execute_result"
    }
   ],
   "source": [
    "dummies = np.zeros((X_train.shape[0], LOOKBACK+1))\n",
    "dummies[:, 0] = y_train.flatten()\n",
    "dummies = scaler.inverse_transform(dummies)\n",
    "new_y_train = dc(dummies[:, 0])\n",
    "new_y_train"
   ]
  },
  {
   "cell_type": "code",
   "execution_count": 77,
   "id": "2LlDAUtyrcrN",
   "metadata": {
    "colab": {
     "base_uri": "https://localhost:8080/",
     "height": 449
    },
    "id": "2LlDAUtyrcrN",
    "outputId": "819c2ff2-be0d-4781-d164-915936251f66",
    "ExecuteTime": {
     "end_time": "2023-09-23T21:38:00.947143100Z",
     "start_time": "2023-09-23T21:38:00.766143Z"
    }
   },
   "outputs": [
    {
     "data": {
      "text/plain": "<Figure size 640x480 with 1 Axes>",
      "image/png": "[encoded data removed]"
     },
     "metadata": {},
     "output_type": "display_data"
    }
   ],
   "source": [
    "plt.plot(train_dates,new_y_train,  label='Actual Price')\n",
    "plt.plot(train_dates,train_predictions, label='Predicted Price')\n",
    "plt.xlabel('Day')\n",
    "plt.ylabel('Price')\n",
    "plt.legend()\n",
    "plt.show()"
   ]
  },
  {
   "cell_type": "code",
   "execution_count": 78,
   "id": "yYeC2JMorftR",
   "metadata": {
    "colab": {
     "base_uri": "https://localhost:8080/"
    },
    "id": "yYeC2JMorftR",
    "outputId": "94df7137-866f-42aa-cb02-5a78961f6779",
    "ExecuteTime": {
     "end_time": "2023-09-23T21:38:01.595412300Z",
     "start_time": "2023-09-23T21:38:01.568413900Z"
    }
   },
   "outputs": [
    {
     "data": {
      "text/plain": "array([2.65404217, 2.64769387, 2.65023677, ..., 3.80191093, 3.77300206,\n       3.77780049])"
     },
     "execution_count": 78,
     "metadata": {},
     "output_type": "execute_result"
    }
   ],
   "source": [
    "test_predictions = model(X_test.to(device)).detach().cpu().numpy().flatten()\n",
    "\n",
    "dummies = np.zeros((X_test.shape[0], LOOKBACK+1))\n",
    "dummies[:, 0] = test_predictions\n",
    "dummies = scaler.inverse_transform(dummies)\n",
    "\n",
    "test_predictions = dc(dummies[:, 0])\n",
    "test_predictions"
   ]
  },
  {
   "cell_type": "code",
   "execution_count": 79,
   "id": "g-DJXBgYsFyI",
   "metadata": {
    "colab": {
     "base_uri": "https://localhost:8080/"
    },
    "id": "g-DJXBgYsFyI",
    "outputId": "b606685e-137b-41ef-8a56-6171133ed013",
    "ExecuteTime": {
     "end_time": "2023-09-23T21:38:02.161086300Z",
     "start_time": "2023-09-23T21:38:02.125082300Z"
    }
   },
   "outputs": [
    {
     "data": {
      "text/plain": "0.054379720301422546"
     },
     "execution_count": 79,
     "metadata": {},
     "output_type": "execute_result"
    }
   ],
   "source": [
    "dummies = np.zeros((X_test.shape[0], LOOKBACK+1))\n",
    "dummies[:, 0] = y_test.flatten()\n",
    "dummies = scaler.inverse_transform(dummies)\n",
    "\n",
    "new_y_test = dc(dummies[:, 0])\n",
    "new_y_test\n",
    "squared_differences = (new_y_test - test_predictions)**2\n",
    "\n",
    "# Calculate the Root Mean Squared Error (RMSE)\n",
    "rmse = np.sqrt(np.mean(squared_differences))\n",
    "#rmse\n",
    "absolute_differences = np.abs(new_y_test - test_predictions)\n",
    "\n",
    "# Calculate the Mean Absolute Error (MAE)\n",
    "mae = np.mean(absolute_differences)\n",
    "rmse"
   ]
  },
  {
   "cell_type": "code",
   "execution_count": 80,
   "id": "PhLmIlHOsSK4",
   "metadata": {
    "colab": {
     "base_uri": "https://localhost:8080/",
     "height": 449
    },
    "id": "PhLmIlHOsSK4",
    "outputId": "09c21535-ea22-4d65-bc50-b159bd4dc135",
    "ExecuteTime": {
     "end_time": "2023-09-23T21:38:03.824218200Z",
     "start_time": "2023-09-23T21:38:03.656219500Z"
    }
   },
   "outputs": [
    {
     "data": {
      "text/plain": "<Figure size 640x480 with 1 Axes>",
      "image/png": "[encoded data removed]"
     },
     "metadata": {},
     "output_type": "display_data"
    }
   ],
   "source": [
    "plt.plot(test_dates, new_y_test, label='Actual Price')\n",
    "plt.plot(test_dates,test_predictions, label='Predicted Price')\n",
    "plt.xlabel('Day')\n",
    "plt.ylabel('Price')\n",
    "plt.legend()\n",
    "plt.show()\n"
   ]
  },
  {
   "cell_type": "code",
   "execution_count": null,
   "id": "2504b46781551d19",
   "metadata": {
    "ExecuteTime": {
     "start_time": "2023-09-23T21:36:52.330454Z"
    }
   },
   "outputs": [],
   "source": []
  }
 ],
 "metadata": {
  "colab": {
   "gpuType": "T4",
   "provenance": []
  },
  "gpuClass": "standard",
  "kernelspec": {
   "display_name": "Python 3 (ipykernel)",
   "language": "python",
   "name": "python3"
  },
  "language_info": {
   "codemirror_mode": {
    "name": "ipython",
    "version": 3
   },
   "file_extension": ".py",
   "mimetype": "text/x-python",
   "name": "python",
   "nbconvert_exporter": "python",
   "pygments_lexer": "ipython3",
   "version": "3.10.11"
  }
 },
 "nbformat": 4,
 "nbformat_minor": 5
}
