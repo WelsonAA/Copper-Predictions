{
 "cells": [
  {
   "cell_type": "markdown",
   "source": [],
   "metadata": {
    "collapsed": false
   },
   "id": "e55fb25899477088"
  },
  {
   "cell_type": "markdown",
   "source": [
    "# Installing Libraries"
   ],
   "metadata": {
    "collapsed": false
   },
   "id": "1e772ca142390c59"
  },
  {
   "cell_type": "code",
   "execution_count": 58,
   "outputs": [
    {
     "name": "stdout",
     "output_type": "stream",
     "text": [
      "Requirement already satisfied: sklearn in c:\\users\\george welson\\appdata\\local\\programs\\python\\python310\\lib\\site-packages (0.0.post7)\n",
      "Note: you may need to restart the kernel to use updated packages.\n"
     ]
    },
    {
     "name": "stderr",
     "output_type": "stream",
     "text": [
      "\n",
      "[notice] A new release of pip is available: 23.1.2 -> 23.2.1\n",
      "[notice] To update, run: C:\\Users\\George Welson\\AppData\\Local\\Programs\\Python\\Python310\\python.exe -m pip install --upgrade pip\n"
     ]
    }
   ],
   "source": [
    "%pip install sklearn"
   ],
   "metadata": {
    "collapsed": false,
    "ExecuteTime": {
     "end_time": "2023-09-01T20:15:08.401350800Z",
     "start_time": "2023-09-01T20:15:06.662034900Z"
    }
   },
   "id": "a675d251fbe934e1"
  },
  {
   "cell_type": "markdown",
   "source": [
    "# Importing Libraries"
   ],
   "metadata": {
    "collapsed": false
   },
   "id": "939526636bac7cdd"
  },
  {
   "cell_type": "code",
   "execution_count": 59,
   "id": "708cf3ed",
   "metadata": {
    "ExecuteTime": {
     "end_time": "2023-09-01T20:15:08.461349300Z",
     "start_time": "2023-09-01T20:15:08.402350Z"
    }
   },
   "outputs": [],
   "source": [
    "import pandas as pd\n",
    "import numpy as np\n",
    "import matplotlib.pyplot as plt\n",
    "import torch\n",
    "import torch.nn as nn\n",
    "from copy import deepcopy as dc\n",
    "from sklearn.preprocessing import MinMaxScaler\n",
    "from torch.utils.data import Dataset,DataLoader"
   ]
  },
  {
   "cell_type": "markdown",
   "source": [
    "# Reading Clean Dataset"
   ],
   "metadata": {
    "collapsed": false
   },
   "id": "4adb2eae6ea4c8f0"
  },
  {
   "cell_type": "code",
   "execution_count": 88,
   "outputs": [
    {
     "data": {
      "text/plain": "            Date   Price\n0     1988-08-01  0.8655\n1     1988-08-02  0.8600\n2     1988-08-03  0.8680\n3     1988-08-04  0.8780\n4     1988-08-05  0.8870\n...          ...     ...\n8883  2023-08-28  3.7920\n8884  2023-08-29  3.8390\n8885  2023-08-30  3.8440\n8886  2023-08-31  3.8220\n8887  2023-09-01  3.8533\n\n[8888 rows x 2 columns]",
      "text/html": "<div>\n<style scoped>\n    .dataframe tbody tr th:only-of-type {\n        vertical-align: middle;\n    }\n\n    .dataframe tbody tr th {\n        vertical-align: top;\n    }\n\n    .dataframe thead th {\n        text-align: right;\n    }\n</style>\n<table border=\"1\" class=\"dataframe\">\n  <thead>\n    <tr style=\"text-align: right;\">\n      <th></th>\n      <th>Date</th>\n      <th>Price</th>\n    </tr>\n  </thead>\n  <tbody>\n    <tr>\n      <th>0</th>\n      <td>1988-08-01</td>\n      <td>0.8655</td>\n    </tr>\n    <tr>\n      <th>1</th>\n      <td>1988-08-02</td>\n      <td>0.8600</td>\n    </tr>\n    <tr>\n      <th>2</th>\n      <td>1988-08-03</td>\n      <td>0.8680</td>\n    </tr>\n    <tr>\n      <th>3</th>\n      <td>1988-08-04</td>\n      <td>0.8780</td>\n    </tr>\n    <tr>\n      <th>4</th>\n      <td>1988-08-05</td>\n      <td>0.8870</td>\n    </tr>\n    <tr>\n      <th>...</th>\n      <td>...</td>\n      <td>...</td>\n    </tr>\n    <tr>\n      <th>8883</th>\n      <td>2023-08-28</td>\n      <td>3.7920</td>\n    </tr>\n    <tr>\n      <th>8884</th>\n      <td>2023-08-29</td>\n      <td>3.8390</td>\n    </tr>\n    <tr>\n      <th>8885</th>\n      <td>2023-08-30</td>\n      <td>3.8440</td>\n    </tr>\n    <tr>\n      <th>8886</th>\n      <td>2023-08-31</td>\n      <td>3.8220</td>\n    </tr>\n    <tr>\n      <th>8887</th>\n      <td>2023-09-01</td>\n      <td>3.8533</td>\n    </tr>\n  </tbody>\n</table>\n<p>8888 rows × 2 columns</p>\n</div>"
     },
     "execution_count": 88,
     "metadata": {},
     "output_type": "execute_result"
    }
   ],
   "source": [
    "data = pd.read_csv(\"cleaned_dataset.csv\")\n",
    "data"
   ],
   "metadata": {
    "collapsed": false,
    "ExecuteTime": {
     "end_time": "2023-09-01T20:16:36.538210Z",
     "start_time": "2023-09-01T20:16:36.498660700Z"
    }
   },
   "id": "81522e27ed71e73f"
  },
  {
   "cell_type": "markdown",
   "source": [
    "## Setting Date Column to Date Format"
   ],
   "metadata": {
    "collapsed": false
   },
   "id": "bbddefef1189bab9"
  },
  {
   "cell_type": "code",
   "execution_count": 89,
   "outputs": [],
   "source": [
    "dates = pd.to_datetime(data[\"Date\"])\n"
   ],
   "metadata": {
    "collapsed": false,
    "ExecuteTime": {
     "end_time": "2023-09-01T20:16:38.060628700Z",
     "start_time": "2023-09-01T20:16:38.051626700Z"
    }
   },
   "id": "300173b808f52d9a"
  },
  {
   "cell_type": "markdown",
   "source": [
    "# Setting Device to GPU"
   ],
   "metadata": {
    "collapsed": false
   },
   "id": "d881e2394a3f5db4"
  },
  {
   "cell_type": "code",
   "execution_count": 90,
   "id": "9akB333XcFJ6",
   "metadata": {
    "colab": {
     "base_uri": "https://localhost:8080/",
     "height": 36
    },
    "id": "9akB333XcFJ6",
    "outputId": "2e8630de-1369-4281-d87c-9634ed90ba97",
    "ExecuteTime": {
     "end_time": "2023-09-01T20:16:38.967762400Z",
     "start_time": "2023-09-01T20:16:38.954764800Z"
    }
   },
   "outputs": [
    {
     "data": {
      "text/plain": "'cpu'"
     },
     "execution_count": 90,
     "metadata": {},
     "output_type": "execute_result"
    }
   ],
   "source": [
    "device = 'cuda:0' if torch.cuda.is_available() else 'cpu'\n",
    "device"
   ]
  },
  {
   "cell_type": "markdown",
   "source": [
    "# Formatting for LSTM"
   ],
   "metadata": {
    "collapsed": false
   },
   "id": "187186503c01cccb"
  },
  {
   "cell_type": "code",
   "execution_count": 91,
   "id": "Q4ma6QCscwfB",
   "metadata": {
    "colab": {
     "base_uri": "https://localhost:8080/",
     "height": 455
    },
    "id": "Q4ma6QCscwfB",
    "outputId": "61bd4c08-c3f7-453d-ed92-c2232a18a5ba",
    "ExecuteTime": {
     "end_time": "2023-09-01T20:16:39.778305400Z",
     "start_time": "2023-09-01T20:16:39.739304900Z"
    }
   },
   "outputs": [
    {
     "data": {
      "text/plain": "             Price  Price(t-1)  Price(t-2)  Price(t-3)  Price(t-4)   \nDate                                                                 \n1988-08-10  0.8875      0.8760      0.8710      0.8870      0.8780  \\\n1988-08-11  0.9010      0.8875      0.8760      0.8710      0.8870   \n1988-08-12  0.8835      0.9010      0.8875      0.8760      0.8710   \n1988-08-15  0.8880      0.8835      0.9010      0.8875      0.8760   \n1988-08-16  0.8880      0.8880      0.8835      0.9010      0.8875   \n...            ...         ...         ...         ...         ...   \n2023-08-28  3.7920      3.7790      3.7875      3.8305      3.7825   \n2023-08-29  3.8390      3.7920      3.7790      3.7875      3.8305   \n2023-08-30  3.8440      3.8390      3.7920      3.7790      3.7875   \n2023-08-31  3.8220      3.8440      3.8390      3.7920      3.7790   \n2023-09-01  3.8533      3.8220      3.8440      3.8390      3.7920   \n\n            Price(t-5)  Price(t-6)  Price(t-7)  \nDate                                            \n1988-08-10      0.8680      0.8600      0.8655  \n1988-08-11      0.8780      0.8680      0.8600  \n1988-08-12      0.8870      0.8780      0.8680  \n1988-08-15      0.8710      0.8870      0.8780  \n1988-08-16      0.8760      0.8710      0.8870  \n...                ...         ...         ...  \n2023-08-28      3.7465      3.7060      3.6915  \n2023-08-29      3.7825      3.7465      3.7060  \n2023-08-30      3.8305      3.7825      3.7465  \n2023-08-31      3.7875      3.8305      3.7825  \n2023-09-01      3.7790      3.7875      3.8305  \n\n[8881 rows x 8 columns]",
      "text/html": "<div>\n<style scoped>\n    .dataframe tbody tr th:only-of-type {\n        vertical-align: middle;\n    }\n\n    .dataframe tbody tr th {\n        vertical-align: top;\n    }\n\n    .dataframe thead th {\n        text-align: right;\n    }\n</style>\n<table border=\"1\" class=\"dataframe\">\n  <thead>\n    <tr style=\"text-align: right;\">\n      <th></th>\n      <th>Price</th>\n      <th>Price(t-1)</th>\n      <th>Price(t-2)</th>\n      <th>Price(t-3)</th>\n      <th>Price(t-4)</th>\n      <th>Price(t-5)</th>\n      <th>Price(t-6)</th>\n      <th>Price(t-7)</th>\n    </tr>\n    <tr>\n      <th>Date</th>\n      <th></th>\n      <th></th>\n      <th></th>\n      <th></th>\n      <th></th>\n      <th></th>\n      <th></th>\n      <th></th>\n    </tr>\n  </thead>\n  <tbody>\n    <tr>\n      <th>1988-08-10</th>\n      <td>0.8875</td>\n      <td>0.8760</td>\n      <td>0.8710</td>\n      <td>0.8870</td>\n      <td>0.8780</td>\n      <td>0.8680</td>\n      <td>0.8600</td>\n      <td>0.8655</td>\n    </tr>\n    <tr>\n      <th>1988-08-11</th>\n      <td>0.9010</td>\n      <td>0.8875</td>\n      <td>0.8760</td>\n      <td>0.8710</td>\n      <td>0.8870</td>\n      <td>0.8780</td>\n      <td>0.8680</td>\n      <td>0.8600</td>\n    </tr>\n    <tr>\n      <th>1988-08-12</th>\n      <td>0.8835</td>\n      <td>0.9010</td>\n      <td>0.8875</td>\n      <td>0.8760</td>\n      <td>0.8710</td>\n      <td>0.8870</td>\n      <td>0.8780</td>\n      <td>0.8680</td>\n    </tr>\n    <tr>\n      <th>1988-08-15</th>\n      <td>0.8880</td>\n      <td>0.8835</td>\n      <td>0.9010</td>\n      <td>0.8875</td>\n      <td>0.8760</td>\n      <td>0.8710</td>\n      <td>0.8870</td>\n      <td>0.8780</td>\n    </tr>\n    <tr>\n      <th>1988-08-16</th>\n      <td>0.8880</td>\n      <td>0.8880</td>\n      <td>0.8835</td>\n      <td>0.9010</td>\n      <td>0.8875</td>\n      <td>0.8760</td>\n      <td>0.8710</td>\n      <td>0.8870</td>\n    </tr>\n    <tr>\n      <th>...</th>\n      <td>...</td>\n      <td>...</td>\n      <td>...</td>\n      <td>...</td>\n      <td>...</td>\n      <td>...</td>\n      <td>...</td>\n      <td>...</td>\n    </tr>\n    <tr>\n      <th>2023-08-28</th>\n      <td>3.7920</td>\n      <td>3.7790</td>\n      <td>3.7875</td>\n      <td>3.8305</td>\n      <td>3.7825</td>\n      <td>3.7465</td>\n      <td>3.7060</td>\n      <td>3.6915</td>\n    </tr>\n    <tr>\n      <th>2023-08-29</th>\n      <td>3.8390</td>\n      <td>3.7920</td>\n      <td>3.7790</td>\n      <td>3.7875</td>\n      <td>3.8305</td>\n      <td>3.7825</td>\n      <td>3.7465</td>\n      <td>3.7060</td>\n    </tr>\n    <tr>\n      <th>2023-08-30</th>\n      <td>3.8440</td>\n      <td>3.8390</td>\n      <td>3.7920</td>\n      <td>3.7790</td>\n      <td>3.7875</td>\n      <td>3.8305</td>\n      <td>3.7825</td>\n      <td>3.7465</td>\n    </tr>\n    <tr>\n      <th>2023-08-31</th>\n      <td>3.8220</td>\n      <td>3.8440</td>\n      <td>3.8390</td>\n      <td>3.7920</td>\n      <td>3.7790</td>\n      <td>3.7875</td>\n      <td>3.8305</td>\n      <td>3.7825</td>\n    </tr>\n    <tr>\n      <th>2023-09-01</th>\n      <td>3.8533</td>\n      <td>3.8220</td>\n      <td>3.8440</td>\n      <td>3.8390</td>\n      <td>3.7920</td>\n      <td>3.7790</td>\n      <td>3.7875</td>\n      <td>3.8305</td>\n    </tr>\n  </tbody>\n</table>\n<p>8881 rows × 8 columns</p>\n</div>"
     },
     "execution_count": 91,
     "metadata": {},
     "output_type": "execute_result"
    }
   ],
   "source": [
    "dates = dates[7:]\n",
    "dates\n",
    "\n",
    "\n",
    "def prepare_dataframe_for_lstm(df, n_steps):\n",
    "    df = dc(df)\n",
    "    df.set_index('Date', inplace=True)\n",
    "    for i in range(1, n_steps+1):\n",
    "        df[f'Price(t-{i})'] = df['Price'].shift(i)\n",
    "    df.dropna(inplace=True)\n",
    "    return df\n",
    "\n",
    "lookback = 7\n",
    "shifted_df = prepare_dataframe_for_lstm(data, lookback)\n",
    "shifted_df"
   ]
  },
  {
   "cell_type": "code",
   "execution_count": 92,
   "id": "yWcD1tHjfAU-",
   "metadata": {
    "colab": {
     "base_uri": "https://localhost:8080/"
    },
    "id": "yWcD1tHjfAU-",
    "outputId": "e10f8cdf-7b44-4c1a-d0a2-9007aac1685c",
    "ExecuteTime": {
     "end_time": "2023-09-01T20:16:40.429449Z",
     "start_time": "2023-09-01T20:16:40.395449400Z"
    }
   },
   "outputs": [],
   "source": [
    "shifted_df_before_scaling_as_np = shifted_df.to_numpy()"
   ]
  },
  {
   "cell_type": "code",
   "execution_count": 93,
   "id": "Pq2p3opGELA_",
   "metadata": {
    "colab": {
     "base_uri": "https://localhost:8080/"
    },
    "id": "Pq2p3opGELA_",
    "outputId": "5cb2ff07-5d8f-4117-eafd-6a3c5663c6ff",
    "ExecuteTime": {
     "end_time": "2023-09-01T20:16:42.510714400Z",
     "start_time": "2023-09-01T20:16:42.461716100Z"
    }
   },
   "outputs": [
    {
     "data": {
      "text/plain": "array([[0.8875, 0.876 , 0.871 , ..., 0.868 , 0.86  , 0.8655],\n       [0.901 , 0.8875, 0.876 , ..., 0.878 , 0.868 , 0.86  ],\n       [0.8835, 0.901 , 0.8875, ..., 0.887 , 0.878 , 0.868 ],\n       ...,\n       [3.844 , 3.839 , 3.792 , ..., 3.8305, 3.7825, 3.7465],\n       [3.822 , 3.844 , 3.839 , ..., 3.7875, 3.8305, 3.7825],\n       [3.8533, 3.822 , 3.844 , ..., 3.779 , 3.7875, 3.8305]])"
     },
     "execution_count": 93,
     "metadata": {},
     "output_type": "execute_result"
    }
   ],
   "source": [
    "shifted_df_before_scaling_as_np"
   ]
  },
  {
   "cell_type": "markdown",
   "id": "7fce53fcb9adad45",
   "metadata": {},
   "source": [
    "# Scaling Data"
   ]
  },
  {
   "cell_type": "code",
   "execution_count": 94,
   "id": "pXHkuFeafNUU",
   "metadata": {
    "colab": {
     "base_uri": "https://localhost:8080/"
    },
    "id": "pXHkuFeafNUU",
    "outputId": "a67d1f79-d279-4c96-e40f-0d9a5f9f7d7d",
    "ExecuteTime": {
     "end_time": "2023-09-01T20:16:43.633484700Z",
     "start_time": "2023-09-01T20:16:43.596487300Z"
    }
   },
   "outputs": [
    {
     "data": {
      "text/plain": "array([[-0.87110187, -0.87641488, -0.87872488, ..., -0.88011088,\n        -0.88380688, -0.88126588],\n       [-0.86486486, -0.87110187, -0.87641488, ..., -0.87549088,\n        -0.88011088, -0.88380688],\n       [-0.87294987, -0.86486486, -0.87110187, ..., -0.87133287,\n        -0.87549088, -0.88011088],\n       ...,\n       [ 0.49480249,  0.49249249,  0.47077847, ...,  0.48856549,\n         0.46638947,  0.44975745],\n       [ 0.48463848,  0.49480249,  0.49249249, ...,  0.46869947,\n         0.48856549,  0.46638947],\n       [ 0.4990991 ,  0.48463848,  0.49480249, ...,  0.46477246,\n         0.46869947,  0.48856549]])"
     },
     "execution_count": 94,
     "metadata": {},
     "output_type": "execute_result"
    }
   ],
   "source": [
    "scaler = MinMaxScaler(feature_range=(-1, 1))\n",
    "\n",
    "shifted_df_after_scaling_as_np = scaler.fit_transform(shifted_df_before_scaling_as_np)\n",
    "\n",
    "shifted_df_after_scaling_as_np"
   ]
  },
  {
   "cell_type": "code",
   "execution_count": 95,
   "id": "Iui9unuTfxOe",
   "metadata": {
    "colab": {
     "base_uri": "https://localhost:8080/"
    },
    "id": "Iui9unuTfxOe",
    "outputId": "642f093d-5071-43ef-fb9c-4c54061aec3e",
    "ExecuteTime": {
     "end_time": "2023-09-01T20:16:43.957204600Z",
     "start_time": "2023-09-01T20:16:43.939207700Z"
    }
   },
   "outputs": [
    {
     "data": {
      "text/plain": "((8881, 7), (8881,))"
     },
     "execution_count": 95,
     "metadata": {},
     "output_type": "execute_result"
    }
   ],
   "source": [
    "X = shifted_df_after_scaling_as_np[:, 1:]\n",
    "y = shifted_df_after_scaling_as_np[:, 0]\n",
    "\n",
    "X.shape, y.shape"
   ]
  },
  {
   "cell_type": "code",
   "execution_count": 96,
   "id": "XmbIqwj-E0cv",
   "metadata": {
    "colab": {
     "base_uri": "https://localhost:8080/"
    },
    "id": "XmbIqwj-E0cv",
    "outputId": "48ccc3a1-1b5c-49fd-ae2f-3f8b143fbb4c",
    "ExecuteTime": {
     "end_time": "2023-09-01T20:16:44.304458500Z",
     "start_time": "2023-09-01T20:16:44.273503500Z"
    }
   },
   "outputs": [
    {
     "data": {
      "text/plain": "array([[-0.88126588, -0.88380688, -0.88011088, ..., -0.87133287,\n        -0.87872488, -0.87641488],\n       [-0.88380688, -0.88011088, -0.87549088, ..., -0.87872488,\n        -0.87641488, -0.87110187],\n       [-0.88011088, -0.87549088, -0.87133287, ..., -0.87641488,\n        -0.87110187, -0.86486486],\n       ...,\n       [ 0.44975745,  0.46638947,  0.48856549, ...,  0.46477246,\n         0.47077847,  0.49249249],\n       [ 0.46638947,  0.48856549,  0.46869947, ...,  0.47077847,\n         0.49249249,  0.49480249],\n       [ 0.48856549,  0.46869947,  0.46477246, ...,  0.49249249,\n         0.49480249,  0.48463848]])"
     },
     "execution_count": 96,
     "metadata": {},
     "output_type": "execute_result"
    }
   ],
   "source": [
    "X = dc(np.flip(X, axis=1))\n",
    "X"
   ]
  },
  {
   "cell_type": "markdown",
   "source": [
    "# Splitting to Traing Set and Testing Set "
   ],
   "metadata": {
    "collapsed": false
   },
   "id": "aefc41ba987150d"
  },
  {
   "cell_type": "code",
   "execution_count": 97,
   "id": "GCHslawXgE21",
   "metadata": {
    "colab": {
     "base_uri": "https://localhost:8080/"
    },
    "id": "GCHslawXgE21",
    "outputId": "a2e50719-a1fb-460e-9ce4-9dd873642765",
    "ExecuteTime": {
     "end_time": "2023-09-01T20:16:44.885532100Z",
     "start_time": "2023-09-01T20:16:44.842533300Z"
    }
   },
   "outputs": [],
   "source": [
    "split_index = int(len(X) * 0.80)\n",
    "split_date = dates[split_index]\n",
    "\n",
    "X_train = X[:split_index]\n",
    "X_test = X[split_index:]\n",
    "y_train = y[:split_index]\n",
    "y_test = y[split_index:]\n",
    "train_dates = dates[:split_index]\n",
    "test_dates = dates[split_index:]"
   ]
  },
  {
   "cell_type": "markdown",
   "source": [
    "# Formatting as a TimeSeriesDataset"
   ],
   "metadata": {
    "collapsed": false
   },
   "id": "f2d7b0554564dcd0"
  },
  {
   "cell_type": "code",
   "execution_count": 98,
   "id": "Muqs9hKYhMUS",
   "metadata": {
    "colab": {
     "base_uri": "https://localhost:8080/"
    },
    "id": "Muqs9hKYhMUS",
    "outputId": "d35136a0-5855-4bfb-b66b-b8f7a1a8ea96",
    "ExecuteTime": {
     "end_time": "2023-09-01T20:16:45.423434500Z",
     "start_time": "2023-09-01T20:16:45.410435400Z"
    }
   },
   "outputs": [],
   "source": [
    "X_train = X_train.reshape((-1, lookback, 1))\n",
    "X_test = X_test.reshape((-1, lookback, 1))\n",
    "\n",
    "y_train = y_train.reshape((-1, 1))\n",
    "y_test = y_test.reshape((-1, 1)) "
   ]
  },
  {
   "cell_type": "code",
   "execution_count": 99,
   "id": "i7-PBcrMhR7z",
   "metadata": {
    "colab": {
     "base_uri": "https://localhost:8080/"
    },
    "id": "i7-PBcrMhR7z",
    "outputId": "b01a297a-75d6-4573-e450-a3545360112e",
    "ExecuteTime": {
     "end_time": "2023-09-01T20:16:45.740877Z",
     "start_time": "2023-09-01T20:16:45.711876Z"
    }
   },
   "outputs": [
    {
     "data": {
      "text/plain": "(torch.Size([7104, 7, 1]),\n torch.Size([1777, 7, 1]),\n torch.Size([7104, 1]),\n torch.Size([1777, 1]))"
     },
     "execution_count": 99,
     "metadata": {},
     "output_type": "execute_result"
    }
   ],
   "source": [
    "X_train = torch.tensor(X_train).float()\n",
    "y_train = torch.tensor(y_train).float()\n",
    "X_test = torch.tensor(X_test).float()\n",
    "y_test = torch.tensor(y_test).float()\n",
    "\n",
    "X_train.shape, X_test.shape, y_train.shape, y_test.shape"
   ]
  },
  {
   "cell_type": "code",
   "execution_count": 100,
   "id": "DWutCAGKhdqU",
   "metadata": {
    "id": "DWutCAGKhdqU",
    "ExecuteTime": {
     "end_time": "2023-09-01T20:16:46.094472600Z",
     "start_time": "2023-09-01T20:16:46.087472400Z"
    }
   },
   "outputs": [],
   "source": [
    "class TimeSeriesDataset(Dataset):\n",
    "    def __init__(self, X, y):\n",
    "        self.X = X\n",
    "        self.y = y\n",
    "\n",
    "    def __len__(self):\n",
    "        return len(self.X)\n",
    "\n",
    "    def __getitem__(self, i):\n",
    "        return self.X[i], self.y[i]\n",
    "\n",
    "train_dataset = TimeSeriesDataset(X_train, y_train)\n",
    "test_dataset = TimeSeriesDataset(X_test, y_test)"
   ]
  },
  {
   "cell_type": "markdown",
   "source": [
    "# Preparing DataLoader"
   ],
   "metadata": {
    "collapsed": false
   },
   "id": "340b1169dadf343a"
  },
  {
   "cell_type": "code",
   "execution_count": 101,
   "id": "XYsUmPl3ik46",
   "metadata": {
    "id": "XYsUmPl3ik46",
    "ExecuteTime": {
     "end_time": "2023-09-01T20:16:46.858139Z",
     "start_time": "2023-09-01T20:16:46.835092700Z"
    }
   },
   "outputs": [],
   "source": [
    "batch_size = 16\n",
    "train_loader = DataLoader(train_dataset, batch_size=batch_size, shuffle=True)\n",
    "test_loader = DataLoader(test_dataset, batch_size=batch_size, shuffle=False)"
   ]
  },
  {
   "cell_type": "code",
   "execution_count": 102,
   "id": "TJTnbgBDjOSK",
   "metadata": {
    "colab": {
     "base_uri": "https://localhost:8080/"
    },
    "id": "TJTnbgBDjOSK",
    "outputId": "51226616-d4de-4a22-f4d9-576fd3e8bfba",
    "ExecuteTime": {
     "end_time": "2023-09-01T20:16:47.158494700Z",
     "start_time": "2023-09-01T20:16:47.135495400Z"
    }
   },
   "outputs": [
    {
     "name": "stdout",
     "output_type": "stream",
     "text": [
      "torch.Size([16, 7, 1]) torch.Size([16, 1])\n"
     ]
    }
   ],
   "source": [
    "for _, batch in enumerate(train_loader):\n",
    "    x_batch, y_batch = batch[0].to(device), batch[1].to(device)\n",
    "    print(x_batch.shape, y_batch.shape)\n",
    "    break"
   ]
  },
  {
   "cell_type": "code",
   "execution_count": 103,
   "id": "njdkq_kmjib5",
   "metadata": {
    "colab": {
     "base_uri": "https://localhost:8080/"
    },
    "id": "njdkq_kmjib5",
    "outputId": "db355c8d-cc21-43f5-cdfa-2156444b4531",
    "ExecuteTime": {
     "end_time": "2023-09-01T20:16:47.587481200Z",
     "start_time": "2023-09-01T20:16:47.559482500Z"
    }
   },
   "outputs": [
    {
     "data": {
      "text/plain": "LSTM(\n  (lstm): LSTM(1, 4, batch_first=True)\n  (fc): Linear(in_features=4, out_features=1, bias=True)\n)"
     },
     "execution_count": 103,
     "metadata": {},
     "output_type": "execute_result"
    }
   ],
   "source": [
    "class LSTM(nn.Module):\n",
    "    def __init__(self, input_size, hidden_size, num_stacked_layers):\n",
    "        super().__init__()\n",
    "        self.hidden_size = hidden_size\n",
    "        self.num_stacked_layers = num_stacked_layers\n",
    "\n",
    "        self.lstm = nn.LSTM(input_size, hidden_size, num_stacked_layers,\n",
    "                            batch_first=True)\n",
    "\n",
    "        self.fc = nn.Linear(hidden_size, 1)\n",
    "\n",
    "    def forward(self, x):\n",
    "        batch_size = x.size(0)\n",
    "        h0 = torch.zeros(self.num_stacked_layers, batch_size, self.hidden_size).to(device)\n",
    "        c0 = torch.zeros(self.num_stacked_layers, batch_size, self.hidden_size).to(device)\n",
    "\n",
    "        out, _ = self.lstm(x, (h0, c0))\n",
    "        out = self.fc(out[:, -1, :])\n",
    "        return out\n",
    "\n",
    "model = LSTM(1, 4, 1)\n",
    "model.to(device)\n",
    "model"
   ]
  },
  {
   "cell_type": "markdown",
   "source": [
    "# Training and Optimising"
   ],
   "metadata": {
    "collapsed": false
   },
   "id": "669b9265ca282dbb"
  },
  {
   "cell_type": "code",
   "execution_count": 104,
   "id": "iue5WvTxmVKB",
   "metadata": {
    "id": "iue5WvTxmVKB",
    "ExecuteTime": {
     "end_time": "2023-09-01T20:16:48.384795100Z",
     "start_time": "2023-09-01T20:16:48.371796300Z"
    }
   },
   "outputs": [],
   "source": [
    "def train_one_epoch():\n",
    "    model.train(True)\n",
    "    print(f'Epoch: {epoch + 1}')\n",
    "    running_loss = 0.0\n",
    "\n",
    "    for batch_index, batch in enumerate(train_loader):\n",
    "        x_batch, y_batch = batch[0].to(device), batch[1].to(device)\n",
    "\n",
    "        output = model(x_batch)\n",
    "        loss = loss_function(output, y_batch)\n",
    "        running_loss += loss.item()\n",
    "\n",
    "        optimizer.zero_grad()\n",
    "        loss.backward()\n",
    "        optimizer.step()\n",
    "\n",
    "        if batch_index % 100 == 99:  # print every 100 batches\n",
    "            avg_loss_across_batches = running_loss / 100\n",
    "            print('Batch {0}, Loss: {1:.3f}'.format(batch_index+1,\n",
    "                                                    avg_loss_across_batches))\n",
    "            running_loss = 0.0\n",
    "    print()"
   ]
  },
  {
   "cell_type": "code",
   "execution_count": 105,
   "id": "gRmNuV3cmy-t",
   "metadata": {
    "id": "gRmNuV3cmy-t",
    "ExecuteTime": {
     "end_time": "2023-09-01T20:16:48.896015100Z",
     "start_time": "2023-09-01T20:16:48.871053100Z"
    }
   },
   "outputs": [],
   "source": [
    "def validate_one_epoch():\n",
    "    model.train(False)\n",
    "    running_loss = 0.0\n",
    "\n",
    "    for batch_index, batch in enumerate(test_loader):\n",
    "        x_batch, y_batch = batch[0].to(device), batch[1].to(device)\n",
    "\n",
    "        with torch.no_grad():\n",
    "            output = model(x_batch)\n",
    "            loss = loss_function(output, y_batch)\n",
    "            running_loss += loss.item()\n",
    "\n",
    "    avg_loss_across_batches = running_loss / len(test_loader)\n",
    "\n",
    "    print('Val Loss: {0:.3f}'.format(avg_loss_across_batches))\n",
    "    print('***************************************************')\n",
    "    print()"
   ]
  },
  {
   "cell_type": "code",
   "execution_count": 106,
   "id": "1jgb1aJ3lxlQ",
   "metadata": {
    "colab": {
     "base_uri": "https://localhost:8080/"
    },
    "id": "1jgb1aJ3lxlQ",
    "outputId": "2a25db36-4872-44e4-feca-4d26bad49f96",
    "ExecuteTime": {
     "end_time": "2023-09-01T20:17:00.492241500Z",
     "start_time": "2023-09-01T20:16:49.768550800Z"
    }
   },
   "outputs": [
    {
     "name": "stdout",
     "output_type": "stream",
     "text": [
      "Epoch: 1\n",
      "Batch 100, Loss: 0.503\n",
      "Batch 200, Loss: 0.137\n",
      "Batch 300, Loss: 0.018\n",
      "Batch 400, Loss: 0.007\n",
      "\n",
      "Val Loss: 0.026\n",
      "***************************************************\n",
      "\n",
      "Epoch: 2\n",
      "Batch 100, Loss: 0.006\n",
      "Batch 200, Loss: 0.005\n",
      "Batch 300, Loss: 0.005\n",
      "Batch 400, Loss: 0.004\n",
      "\n",
      "Val Loss: 0.021\n",
      "***************************************************\n",
      "\n",
      "Epoch: 3\n",
      "Batch 100, Loss: 0.004\n",
      "Batch 200, Loss: 0.003\n",
      "Batch 300, Loss: 0.003\n",
      "Batch 400, Loss: 0.003\n",
      "\n",
      "Val Loss: 0.014\n",
      "***************************************************\n",
      "\n",
      "Epoch: 4\n",
      "Batch 100, Loss: 0.003\n",
      "Batch 200, Loss: 0.002\n",
      "Batch 300, Loss: 0.002\n",
      "Batch 400, Loss: 0.002\n",
      "\n",
      "Val Loss: 0.009\n",
      "***************************************************\n",
      "\n",
      "Epoch: 5\n",
      "Batch 100, Loss: 0.002\n",
      "Batch 200, Loss: 0.002\n",
      "Batch 300, Loss: 0.001\n",
      "Batch 400, Loss: 0.001\n",
      "\n",
      "Val Loss: 0.005\n",
      "***************************************************\n",
      "\n",
      "Epoch: 6\n",
      "Batch 100, Loss: 0.001\n",
      "Batch 200, Loss: 0.001\n",
      "Batch 300, Loss: 0.001\n",
      "Batch 400, Loss: 0.001\n",
      "\n",
      "Val Loss: 0.003\n",
      "***************************************************\n",
      "\n",
      "Epoch: 7\n",
      "Batch 100, Loss: 0.001\n",
      "Batch 200, Loss: 0.001\n",
      "Batch 300, Loss: 0.001\n",
      "Batch 400, Loss: 0.001\n",
      "\n",
      "Val Loss: 0.002\n",
      "***************************************************\n",
      "\n",
      "Epoch: 8\n",
      "Batch 100, Loss: 0.001\n",
      "Batch 200, Loss: 0.001\n",
      "Batch 300, Loss: 0.001\n",
      "Batch 400, Loss: 0.001\n",
      "\n",
      "Val Loss: 0.002\n",
      "***************************************************\n",
      "\n",
      "Epoch: 9\n",
      "Batch 100, Loss: 0.001\n",
      "Batch 200, Loss: 0.001\n",
      "Batch 300, Loss: 0.001\n",
      "Batch 400, Loss: 0.001\n",
      "\n",
      "Val Loss: 0.001\n",
      "***************************************************\n",
      "\n",
      "Epoch: 10\n",
      "Batch 100, Loss: 0.001\n",
      "Batch 200, Loss: 0.001\n",
      "Batch 300, Loss: 0.001\n",
      "Batch 400, Loss: 0.001\n",
      "\n",
      "Val Loss: 0.001\n",
      "***************************************************\n",
      "\n",
      "Epoch: 11\n",
      "Batch 100, Loss: 0.001\n",
      "Batch 200, Loss: 0.000\n",
      "Batch 300, Loss: 0.001\n",
      "Batch 400, Loss: 0.001\n",
      "\n",
      "Val Loss: 0.001\n",
      "***************************************************\n",
      "\n",
      "Epoch: 12\n",
      "Batch 100, Loss: 0.001\n",
      "Batch 200, Loss: 0.001\n",
      "Batch 300, Loss: 0.001\n",
      "Batch 400, Loss: 0.000\n",
      "\n",
      "Val Loss: 0.001\n",
      "***************************************************\n",
      "\n",
      "Epoch: 13\n",
      "Batch 100, Loss: 0.000\n",
      "Batch 200, Loss: 0.001\n",
      "Batch 300, Loss: 0.000\n",
      "Batch 400, Loss: 0.001\n",
      "\n",
      "Val Loss: 0.001\n",
      "***************************************************\n",
      "\n",
      "Epoch: 14\n",
      "Batch 100, Loss: 0.000\n",
      "Batch 200, Loss: 0.000\n",
      "Batch 300, Loss: 0.000\n",
      "Batch 400, Loss: 0.000\n",
      "\n",
      "Val Loss: 0.001\n",
      "***************************************************\n",
      "\n",
      "Epoch: 15\n",
      "Batch 100, Loss: 0.000\n",
      "Batch 200, Loss: 0.000\n",
      "Batch 300, Loss: 0.001\n",
      "Batch 400, Loss: 0.000\n",
      "\n",
      "Val Loss: 0.001\n",
      "***************************************************\n",
      "\n",
      "Epoch: 16\n",
      "Batch 100, Loss: 0.000\n",
      "Batch 200, Loss: 0.000\n",
      "Batch 300, Loss: 0.000\n",
      "Batch 400, Loss: 0.000\n",
      "\n",
      "Val Loss: 0.001\n",
      "***************************************************\n",
      "\n",
      "Epoch: 17\n",
      "Batch 100, Loss: 0.000\n",
      "Batch 200, Loss: 0.000\n",
      "Batch 300, Loss: 0.000\n",
      "Batch 400, Loss: 0.000\n",
      "\n",
      "Val Loss: 0.001\n",
      "***************************************************\n",
      "\n",
      "Epoch: 18\n",
      "Batch 100, Loss: 0.000\n",
      "Batch 200, Loss: 0.000\n",
      "Batch 300, Loss: 0.000\n",
      "Batch 400, Loss: 0.000\n",
      "\n",
      "Val Loss: 0.001\n",
      "***************************************************\n",
      "\n",
      "Epoch: 19\n",
      "Batch 100, Loss: 0.000\n",
      "Batch 200, Loss: 0.000\n",
      "Batch 300, Loss: 0.000\n",
      "Batch 400, Loss: 0.000\n",
      "\n",
      "Val Loss: 0.001\n",
      "***************************************************\n",
      "\n",
      "Epoch: 20\n",
      "Batch 100, Loss: 0.000\n",
      "Batch 200, Loss: 0.000\n",
      "Batch 300, Loss: 0.000\n",
      "Batch 400, Loss: 0.000\n",
      "\n",
      "Val Loss: 0.001\n",
      "***************************************************\n"
     ]
    }
   ],
   "source": [
    "learning_rate = 0.001\n",
    "num_epochs = 20\n",
    "loss_function = nn.MSELoss()\n",
    "optimizer = torch.optim.Adam(model.parameters(), lr=learning_rate)\n",
    "\n",
    "#Adam does the gradient descent\n",
    "\n",
    "for epoch in range(num_epochs):\n",
    "    train_one_epoch()\n",
    "    validate_one_epoch()"
   ]
  },
  {
   "cell_type": "markdown",
   "source": [
    "# Results"
   ],
   "metadata": {
    "collapsed": false
   },
   "id": "5cec1eeb686ecabc"
  },
  {
   "cell_type": "code",
   "execution_count": 107,
   "id": "-Xon2PHWno7t",
   "metadata": {
    "colab": {
     "base_uri": "https://localhost:8080/",
     "height": 449
    },
    "id": "-Xon2PHWno7t",
    "outputId": "862b1d87-3e42-4fe1-8618-3cf0720e0da5",
    "ExecuteTime": {
     "end_time": "2023-09-01T20:17:05.627415700Z",
     "start_time": "2023-09-01T20:17:05.373035500Z"
    }
   },
   "outputs": [
    {
     "data": {
      "text/plain": "<Figure size 640x480 with 1 Axes>",
      "image/png": "[encoded data removed]"
     },
     "metadata": {},
     "output_type": "display_data"
    }
   ],
   "source": [
    "with torch.no_grad():\n",
    "    predicted = model(X_train[:].to(device)).to('cpu').numpy()\n",
    "\n",
    "plt.plot(train_dates,y_train, label='Actual Price')\n",
    "plt.plot(train_dates,predicted, label='Predicted Price')\n",
    "\n",
    "plt.xlabel('Dates')\n",
    "plt.ylabel('Price')\n",
    "plt.legend()\n",
    "plt.show()\n"
   ]
  },
  {
   "cell_type": "code",
   "execution_count": 108,
   "id": "d3SDgEvPpOcD",
   "metadata": {
    "colab": {
     "base_uri": "https://localhost:8080/"
    },
    "id": "d3SDgEvPpOcD",
    "outputId": "e9b8491e-b15e-4aa5-ae97-6619bb4a3be9",
    "ExecuteTime": {
     "end_time": "2023-09-01T20:17:09.556746Z",
     "start_time": "2023-09-01T20:17:09.531729600Z"
    }
   },
   "outputs": [
    {
     "data": {
      "text/plain": "array([0.88572454, 0.89036441, 0.89874285, ..., 2.28882241, 2.34472899,\n       2.41725726])"
     },
     "execution_count": 108,
     "metadata": {},
     "output_type": "execute_result"
    }
   ],
   "source": [
    "train_predictions = predicted.flatten()\n",
    "\n",
    "dummies = np.zeros((X_train.shape[0], lookback+1))\n",
    "dummies[:, 0] = train_predictions\n",
    "dummies = scaler.inverse_transform(dummies)\n",
    "\n",
    "train_predictions = dc(dummies[:, 0])\n",
    "train_predictions"
   ]
  },
  {
   "cell_type": "code",
   "execution_count": 109,
   "id": "PHnvejOdrL7Q",
   "metadata": {
    "colab": {
     "base_uri": "https://localhost:8080/"
    },
    "id": "PHnvejOdrL7Q",
    "outputId": "952cb861-3f21-42d2-f1b2-9e489c9cdcd7",
    "ExecuteTime": {
     "end_time": "2023-09-01T20:17:12.337280900Z",
     "start_time": "2023-09-01T20:17:12.298283Z"
    }
   },
   "outputs": [
    {
     "data": {
      "text/plain": "array([0.88750003, 0.90099995, 0.88349995, ..., 2.38300001, 2.46149999,\n       2.554     ])"
     },
     "execution_count": 109,
     "metadata": {},
     "output_type": "execute_result"
    }
   ],
   "source": [
    "dummies = np.zeros((X_train.shape[0], lookback+1))\n",
    "dummies[:, 0] = y_train.flatten()\n",
    "dummies = scaler.inverse_transform(dummies)\n",
    "new_y_train = dc(dummies[:, 0])\n",
    "new_y_train"
   ]
  },
  {
   "cell_type": "code",
   "execution_count": 110,
   "id": "2LlDAUtyrcrN",
   "metadata": {
    "colab": {
     "base_uri": "https://localhost:8080/",
     "height": 449
    },
    "id": "2LlDAUtyrcrN",
    "outputId": "819c2ff2-be0d-4781-d164-915936251f66",
    "ExecuteTime": {
     "end_time": "2023-09-01T20:17:14.202873500Z",
     "start_time": "2023-09-01T20:17:14.027876200Z"
    }
   },
   "outputs": [
    {
     "data": {
      "text/plain": "<Figure size 640x480 with 1 Axes>",
      "image/png": "[encoded data removed]"
     },
     "metadata": {},
     "output_type": "display_data"
    }
   ],
   "source": [
    "plt.plot(train_dates,new_y_train,  label='Actual Price')\n",
    "plt.plot(train_dates,train_predictions, label='Predicted Price')\n",
    "plt.xlabel('Day')\n",
    "plt.ylabel('Price')\n",
    "plt.legend()\n",
    "plt.show()"
   ]
  },
  {
   "cell_type": "code",
   "execution_count": 111,
   "id": "yYeC2JMorftR",
   "metadata": {
    "colab": {
     "base_uri": "https://localhost:8080/"
    },
    "id": "yYeC2JMorftR",
    "outputId": "94df7137-866f-42aa-cb02-5a78961f6779",
    "ExecuteTime": {
     "end_time": "2023-09-01T20:17:16.230828700Z",
     "start_time": "2023-09-01T20:17:16.201829500Z"
    }
   },
   "outputs": [
    {
     "data": {
      "text/plain": "array([2.50478659, 2.51941778, 2.52406984, ..., 3.78173542, 3.79689885,\n       3.79245644])"
     },
     "execution_count": 111,
     "metadata": {},
     "output_type": "execute_result"
    }
   ],
   "source": [
    "test_predictions = model(X_test.to(device)).detach().cpu().numpy().flatten()\n",
    "\n",
    "dummies = np.zeros((X_test.shape[0], lookback+1))\n",
    "dummies[:, 0] = test_predictions\n",
    "dummies = scaler.inverse_transform(dummies)\n",
    "\n",
    "test_predictions = dc(dummies[:, 0])\n",
    "test_predictions"
   ]
  },
  {
   "cell_type": "code",
   "execution_count": 112,
   "id": "g-DJXBgYsFyI",
   "metadata": {
    "colab": {
     "base_uri": "https://localhost:8080/"
    },
    "id": "g-DJXBgYsFyI",
    "outputId": "b606685e-137b-41ef-8a56-6171133ed013",
    "ExecuteTime": {
     "end_time": "2023-09-01T20:17:17.988010700Z",
     "start_time": "2023-09-01T20:17:17.974012300Z"
    }
   },
   "outputs": [
    {
     "data": {
      "text/plain": "0.06230424418636357"
     },
     "execution_count": 112,
     "metadata": {},
     "output_type": "execute_result"
    }
   ],
   "source": [
    "dummies = np.zeros((X_test.shape[0], lookback+1))\n",
    "dummies[:, 0] = y_test.flatten()\n",
    "dummies = scaler.inverse_transform(dummies)\n",
    "\n",
    "new_y_test = dc(dummies[:, 0])\n",
    "new_y_test\n",
    "squared_differences = (new_y_test - test_predictions)**2\n",
    "\n",
    "# Calculate the Root Mean Squared Error (RMSE)\n",
    "rmse = np.sqrt(np.mean(squared_differences))\n",
    "#rmse\n",
    "absolute_differences = np.abs(new_y_test - test_predictions)\n",
    "\n",
    "# Calculate the Mean Absolute Error (MAE)\n",
    "mae = np.mean(absolute_differences)\n",
    "rmse"
   ]
  },
  {
   "cell_type": "code",
   "execution_count": 113,
   "id": "PhLmIlHOsSK4",
   "metadata": {
    "colab": {
     "base_uri": "https://localhost:8080/",
     "height": 449
    },
    "id": "PhLmIlHOsSK4",
    "outputId": "09c21535-ea22-4d65-bc50-b159bd4dc135",
    "ExecuteTime": {
     "end_time": "2023-09-01T20:17:19.566375Z",
     "start_time": "2023-09-01T20:17:19.410339300Z"
    }
   },
   "outputs": [
    {
     "data": {
      "text/plain": "<Figure size 640x480 with 1 Axes>",
      "image/png": "[encoded data removed]"
     },
     "metadata": {},
     "output_type": "display_data"
    }
   ],
   "source": [
    "plt.plot(test_dates, new_y_test, label='Actual Price')\n",
    "plt.plot(test_dates,test_predictions, label='Predicted Price')\n",
    "plt.xlabel('Day')\n",
    "plt.ylabel('Price')\n",
    "plt.legend()\n",
    "plt.show()\n"
   ]
  },
  {
   "cell_type": "code",
   "execution_count": 114,
   "outputs": [
    {
     "data": {
      "text/plain": "7111   2016-11-11\n7112   2016-11-14\n7113   2016-11-15\n7114   2016-11-16\n7115   2016-11-17\n          ...    \n8883   2023-08-28\n8884   2023-08-29\n8885   2023-08-30\n8886   2023-08-31\n8887   2023-09-01\nName: Date, Length: 1777, dtype: datetime64[ns]"
     },
     "execution_count": 114,
     "metadata": {},
     "output_type": "execute_result"
    }
   ],
   "source": [
    "test_dates"
   ],
   "metadata": {
    "collapsed": false,
    "ExecuteTime": {
     "end_time": "2023-09-01T20:17:28.347475900Z",
     "start_time": "2023-09-01T20:17:28.323476Z"
    }
   },
   "id": "b7bfaa2c740dcd3c"
  },
  {
   "cell_type": "code",
   "execution_count": 86,
   "outputs": [],
   "source": [],
   "metadata": {
    "collapsed": false,
    "ExecuteTime": {
     "end_time": "2023-09-01T20:15:20.400614800Z",
     "start_time": "2023-09-01T20:15:20.342614600Z"
    }
   },
   "id": "f86827c76a983512"
  }
 ],
 "metadata": {
  "colab": {
   "gpuType": "T4",
   "provenance": []
  },
  "gpuClass": "standard",
  "kernelspec": {
   "display_name": "Python 3 (ipykernel)",
   "language": "python",
   "name": "python3"
  },
  "language_info": {
   "codemirror_mode": {
    "name": "ipython",
    "version": 3
   },
   "file_extension": ".py",
   "mimetype": "text/x-python",
   "name": "python",
   "nbconvert_exporter": "python",
   "pygments_lexer": "ipython3",
   "version": "3.10.11"
  }
 },
 "nbformat": 4,
 "nbformat_minor": 5
}
