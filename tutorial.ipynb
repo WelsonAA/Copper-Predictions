{
 "cells": [
  {
   "cell_type": "markdown",
   "source": [
    "# Importing Cleaned Dataset"
   ],
   "metadata": {
    "collapsed": false
   },
   "id": "939526636bac7cdd"
  },
  {
   "cell_type": "code",
   "execution_count": 2,
   "id": "708cf3ed",
   "metadata": {
    "ExecuteTime": {
     "end_time": "2023-08-31T07:09:10.490779800Z",
     "start_time": "2023-08-31T07:09:08.377237400Z"
    }
   },
   "outputs": [
    {
     "data": {
      "text/plain": "7      1988-08-10\n8      1988-08-11\n9      1988-08-12\n10     1988-08-15\n11     1988-08-16\n          ...    \n9009   2023-08-23\n9010   2023-08-24\n9011   2023-08-25\n9012   2023-08-27\n9013   2023-08-28\nName: Date, Length: 9007, dtype: datetime64[ns]"
     },
     "execution_count": 2,
     "metadata": {},
     "output_type": "execute_result"
    }
   ],
   "source": [
    "import pandas as pd\n",
    "import numpy as np\n",
    "import matplotlib.pyplot as plt\n",
    "\n",
    "import torch\n",
    "import torch.nn as nn\n",
    "\n",
    "data = pd.read_csv(\"output.csv\")\n",
    "dates = pd.to_datetime(data[\"Date\"])\n",
    "dates = dates[7:]\n",
    "dates"
   ]
  },
  {
   "cell_type": "markdown",
   "source": [
    "# Setting Device to GPU"
   ],
   "metadata": {
    "collapsed": false
   },
   "id": "d881e2394a3f5db4"
  },
  {
   "cell_type": "code",
   "execution_count": 3,
   "id": "9akB333XcFJ6",
   "metadata": {
    "colab": {
     "base_uri": "https://localhost:8080/",
     "height": 36
    },
    "id": "9akB333XcFJ6",
    "outputId": "2e8630de-1369-4281-d87c-9634ed90ba97",
    "ExecuteTime": {
     "end_time": "2023-08-31T07:09:10.525311100Z",
     "start_time": "2023-08-31T07:09:10.486781400Z"
    }
   },
   "outputs": [
    {
     "data": {
      "text/plain": "'cpu'"
     },
     "execution_count": 3,
     "metadata": {},
     "output_type": "execute_result"
    }
   ],
   "source": [
    "device = 'cuda:0' if torch.cuda.is_available() else 'cpu'\n",
    "device"
   ]
  },
  {
   "cell_type": "code",
   "execution_count": 4,
   "id": "tr2YuqKGcXcJ",
   "metadata": {
    "colab": {
     "base_uri": "https://localhost:8080/",
     "height": 551
    },
    "id": "tr2YuqKGcXcJ",
    "outputId": "bd197a93-bf7f-413c-fac0-5f4dc1a8471d",
    "ExecuteTime": {
     "end_time": "2023-08-31T07:09:10.546357300Z",
     "start_time": "2023-08-31T07:09:10.502313200Z"
    }
   },
   "outputs": [],
   "source": [
    "#plt.plot(data['Date'], data['Price'])"
   ]
  },
  {
   "cell_type": "markdown",
   "source": [
    "# Formatting for LSTM"
   ],
   "metadata": {
    "collapsed": false
   },
   "id": "187186503c01cccb"
  },
  {
   "cell_type": "code",
   "execution_count": 5,
   "id": "Q4ma6QCscwfB",
   "metadata": {
    "colab": {
     "base_uri": "https://localhost:8080/",
     "height": 455
    },
    "id": "Q4ma6QCscwfB",
    "outputId": "61bd4c08-c3f7-453d-ed92-c2232a18a5ba",
    "ExecuteTime": {
     "end_time": "2023-08-31T07:09:10.582357100Z",
     "start_time": "2023-08-31T07:09:10.519312800Z"
    }
   },
   "outputs": [
    {
     "data": {
      "text/plain": "             Price  Price(t-1)  Price(t-2)  Price(t-3)  Price(t-4)   \nDate                                                                 \n1988-08-10  0.8875      0.8760      0.8710      0.8870      0.8780  \\\n1988-08-11  0.9010      0.8875      0.8760      0.8710      0.8870   \n1988-08-12  0.8835      0.9010      0.8875      0.8760      0.8710   \n1988-08-15  0.8880      0.8835      0.9010      0.8875      0.8760   \n1988-08-16  0.8880      0.8880      0.8835      0.9010      0.8875   \n...            ...         ...         ...         ...         ...   \n2023-08-23  3.8375      3.7885      3.7185      3.7060      3.6915   \n2023-08-24  3.7935      3.8375      3.7885      3.7185      3.7060   \n2023-08-25  3.7840      3.7935      3.8375      3.7885      3.7185   \n2023-08-27  3.8027      3.7840      3.7935      3.8375      3.7885   \n2023-08-28  3.7880      3.8027      3.7840      3.7935      3.8375   \n\n            Price(t-5)  Price(t-6)  Price(t-7)  \nDate                                            \n1988-08-10      0.8680      0.8600      0.8655  \n1988-08-11      0.8780      0.8680      0.8600  \n1988-08-12      0.8870      0.8780      0.8680  \n1988-08-15      0.8710      0.8870      0.8780  \n1988-08-16      0.8760      0.8710      0.8870  \n...                ...         ...         ...  \n2023-08-23      3.6575      3.6675      3.7255  \n2023-08-24      3.6915      3.6575      3.6675  \n2023-08-25      3.7060      3.6915      3.6575  \n2023-08-27      3.7185      3.7060      3.6915  \n2023-08-28      3.7885      3.7185      3.7060  \n\n[9007 rows x 8 columns]",
      "text/html": "<div>\n<style scoped>\n    .dataframe tbody tr th:only-of-type {\n        vertical-align: middle;\n    }\n\n    .dataframe tbody tr th {\n        vertical-align: top;\n    }\n\n    .dataframe thead th {\n        text-align: right;\n    }\n</style>\n<table border=\"1\" class=\"dataframe\">\n  <thead>\n    <tr style=\"text-align: right;\">\n      <th></th>\n      <th>Price</th>\n      <th>Price(t-1)</th>\n      <th>Price(t-2)</th>\n      <th>Price(t-3)</th>\n      <th>Price(t-4)</th>\n      <th>Price(t-5)</th>\n      <th>Price(t-6)</th>\n      <th>Price(t-7)</th>\n    </tr>\n    <tr>\n      <th>Date</th>\n      <th></th>\n      <th></th>\n      <th></th>\n      <th></th>\n      <th></th>\n      <th></th>\n      <th></th>\n      <th></th>\n    </tr>\n  </thead>\n  <tbody>\n    <tr>\n      <th>1988-08-10</th>\n      <td>0.8875</td>\n      <td>0.8760</td>\n      <td>0.8710</td>\n      <td>0.8870</td>\n      <td>0.8780</td>\n      <td>0.8680</td>\n      <td>0.8600</td>\n      <td>0.8655</td>\n    </tr>\n    <tr>\n      <th>1988-08-11</th>\n      <td>0.9010</td>\n      <td>0.8875</td>\n      <td>0.8760</td>\n      <td>0.8710</td>\n      <td>0.8870</td>\n      <td>0.8780</td>\n      <td>0.8680</td>\n      <td>0.8600</td>\n    </tr>\n    <tr>\n      <th>1988-08-12</th>\n      <td>0.8835</td>\n      <td>0.9010</td>\n      <td>0.8875</td>\n      <td>0.8760</td>\n      <td>0.8710</td>\n      <td>0.8870</td>\n      <td>0.8780</td>\n      <td>0.8680</td>\n    </tr>\n    <tr>\n      <th>1988-08-15</th>\n      <td>0.8880</td>\n      <td>0.8835</td>\n      <td>0.9010</td>\n      <td>0.8875</td>\n      <td>0.8760</td>\n      <td>0.8710</td>\n      <td>0.8870</td>\n      <td>0.8780</td>\n    </tr>\n    <tr>\n      <th>1988-08-16</th>\n      <td>0.8880</td>\n      <td>0.8880</td>\n      <td>0.8835</td>\n      <td>0.9010</td>\n      <td>0.8875</td>\n      <td>0.8760</td>\n      <td>0.8710</td>\n      <td>0.8870</td>\n    </tr>\n    <tr>\n      <th>...</th>\n      <td>...</td>\n      <td>...</td>\n      <td>...</td>\n      <td>...</td>\n      <td>...</td>\n      <td>...</td>\n      <td>...</td>\n      <td>...</td>\n    </tr>\n    <tr>\n      <th>2023-08-23</th>\n      <td>3.8375</td>\n      <td>3.7885</td>\n      <td>3.7185</td>\n      <td>3.7060</td>\n      <td>3.6915</td>\n      <td>3.6575</td>\n      <td>3.6675</td>\n      <td>3.7255</td>\n    </tr>\n    <tr>\n      <th>2023-08-24</th>\n      <td>3.7935</td>\n      <td>3.8375</td>\n      <td>3.7885</td>\n      <td>3.7185</td>\n      <td>3.7060</td>\n      <td>3.6915</td>\n      <td>3.6575</td>\n      <td>3.6675</td>\n    </tr>\n    <tr>\n      <th>2023-08-25</th>\n      <td>3.7840</td>\n      <td>3.7935</td>\n      <td>3.8375</td>\n      <td>3.7885</td>\n      <td>3.7185</td>\n      <td>3.7060</td>\n      <td>3.6915</td>\n      <td>3.6575</td>\n    </tr>\n    <tr>\n      <th>2023-08-27</th>\n      <td>3.8027</td>\n      <td>3.7840</td>\n      <td>3.7935</td>\n      <td>3.8375</td>\n      <td>3.7885</td>\n      <td>3.7185</td>\n      <td>3.7060</td>\n      <td>3.6915</td>\n    </tr>\n    <tr>\n      <th>2023-08-28</th>\n      <td>3.7880</td>\n      <td>3.8027</td>\n      <td>3.7840</td>\n      <td>3.7935</td>\n      <td>3.8375</td>\n      <td>3.7885</td>\n      <td>3.7185</td>\n      <td>3.7060</td>\n    </tr>\n  </tbody>\n</table>\n<p>9007 rows × 8 columns</p>\n</div>"
     },
     "execution_count": 5,
     "metadata": {},
     "output_type": "execute_result"
    }
   ],
   "source": [
    "from copy import deepcopy as dc\n",
    "\n",
    "def prepare_dataframe_for_lstm(df, n_steps):\n",
    "    df = dc(df)\n",
    "\n",
    "    df.set_index('Date', inplace=True)\n",
    "\n",
    "    for i in range(1, n_steps+1):\n",
    "        df[f'Price(t-{i})'] = df['Price'].shift(i)\n",
    "\n",
    "    df.dropna(inplace=True)\n",
    "\n",
    "    return df\n",
    "\n",
    "lookback = 7\n",
    "shifted_df = prepare_dataframe_for_lstm(data, lookback)\n",
    "shifted_df"
   ]
  },
  {
   "cell_type": "code",
   "execution_count": 6,
   "id": "yWcD1tHjfAU-",
   "metadata": {
    "colab": {
     "base_uri": "https://localhost:8080/"
    },
    "id": "yWcD1tHjfAU-",
    "outputId": "e10f8cdf-7b44-4c1a-d0a2-9007aac1685c",
    "ExecuteTime": {
     "end_time": "2023-08-31T07:09:10.583356600Z",
     "start_time": "2023-08-31T07:09:10.549357300Z"
    }
   },
   "outputs": [],
   "source": [
    "shifted_df_as_np_before_scaling = shifted_df.to_numpy()"
   ]
  },
  {
   "cell_type": "code",
   "execution_count": 7,
   "id": "Pq2p3opGELA_",
   "metadata": {
    "colab": {
     "base_uri": "https://localhost:8080/"
    },
    "id": "Pq2p3opGELA_",
    "outputId": "5cb2ff07-5d8f-4117-eafd-6a3c5663c6ff",
    "ExecuteTime": {
     "end_time": "2023-08-31T07:09:10.634357100Z",
     "start_time": "2023-08-31T07:09:10.565358200Z"
    }
   },
   "outputs": [
    {
     "data": {
      "text/plain": "array([[0.8875, 0.876 , 0.871 , ..., 0.868 , 0.86  , 0.8655],\n       [0.901 , 0.8875, 0.876 , ..., 0.878 , 0.868 , 0.86  ],\n       [0.8835, 0.901 , 0.8875, ..., 0.887 , 0.878 , 0.868 ],\n       ...,\n       [3.784 , 3.7935, 3.8375, ..., 3.706 , 3.6915, 3.6575],\n       [3.8027, 3.784 , 3.7935, ..., 3.7185, 3.706 , 3.6915],\n       [3.788 , 3.8027, 3.784 , ..., 3.7885, 3.7185, 3.706 ]])"
     },
     "execution_count": 7,
     "metadata": {},
     "output_type": "execute_result"
    }
   ],
   "source": [
    "shifted_df_as_np_before_scaling"
   ]
  },
  {
   "cell_type": "code",
   "execution_count": 8,
   "id": "92def439dd652c95",
   "metadata": {
    "ExecuteTime": {
     "end_time": "2023-08-31T07:09:10.673356100Z",
     "start_time": "2023-08-31T07:09:10.581358800Z"
    }
   },
   "outputs": [],
   "source": [
    "#%pip install sklearn"
   ]
  },
  {
   "cell_type": "markdown",
   "id": "7fce53fcb9adad45",
   "metadata": {},
   "source": [
    "# Scaling Data"
   ]
  },
  {
   "cell_type": "code",
   "execution_count": 9,
   "id": "pXHkuFeafNUU",
   "metadata": {
    "colab": {
     "base_uri": "https://localhost:8080/"
    },
    "id": "pXHkuFeafNUU",
    "outputId": "a67d1f79-d279-4c96-e40f-0d9a5f9f7d7d",
    "ExecuteTime": {
     "end_time": "2023-08-31T07:09:11.176134500Z",
     "start_time": "2023-08-31T07:09:10.597357700Z"
    }
   },
   "outputs": [
    {
     "data": {
      "text/plain": "array([[-0.64423604, -0.64890486, -0.65093478, ..., -0.65215273,\n        -0.6554006 , -0.65316769],\n       [-0.63875525, -0.64423604, -0.64890486, ..., -0.64809289,\n        -0.65215273, -0.6554006 ],\n       [-0.64585998, -0.63875525, -0.64423604, ..., -0.64443903,\n        -0.64809289, -0.65215273],\n       ...,\n       [ 0.53169722,  0.53555407,  0.55341737, ...,  0.50003045,\n         0.49414368,  0.48034021],\n       [ 0.53928912,  0.53169722,  0.53555407, ...,  0.50510525,\n         0.50003045,  0.49414368],\n       [ 0.53332115,  0.53928912,  0.53169722, ...,  0.53352415,\n         0.50510525,  0.50003045]])"
     },
     "execution_count": 9,
     "metadata": {},
     "output_type": "execute_result"
    }
   ],
   "source": [
    "from sklearn.preprocessing import MinMaxScaler\n",
    "\n",
    "scaler = MinMaxScaler(feature_range=(-1, 1))\n",
    "\n",
    "shifted_df_as_np = scaler.fit_transform(shifted_df_as_np_before_scaling)\n",
    "\n",
    "shifted_df_as_np"
   ]
  },
  {
   "cell_type": "code",
   "execution_count": 10,
   "id": "Iui9unuTfxOe",
   "metadata": {
    "colab": {
     "base_uri": "https://localhost:8080/"
    },
    "id": "Iui9unuTfxOe",
    "outputId": "642f093d-5071-43ef-fb9c-4c54061aec3e",
    "ExecuteTime": {
     "end_time": "2023-08-31T07:09:11.207134200Z",
     "start_time": "2023-08-31T07:09:11.168135600Z"
    }
   },
   "outputs": [
    {
     "data": {
      "text/plain": "((9007, 7), (9007,))"
     },
     "execution_count": 10,
     "metadata": {},
     "output_type": "execute_result"
    }
   ],
   "source": [
    "X = shifted_df_as_np[:, 1:]\n",
    "y = shifted_df_as_np[:, 0]\n",
    "\n",
    "X.shape, y.shape"
   ]
  },
  {
   "cell_type": "code",
   "execution_count": 11,
   "id": "XmbIqwj-E0cv",
   "metadata": {
    "colab": {
     "base_uri": "https://localhost:8080/"
    },
    "id": "XmbIqwj-E0cv",
    "outputId": "48ccc3a1-1b5c-49fd-ae2f-3f8b143fbb4c",
    "ExecuteTime": {
     "end_time": "2023-08-31T07:09:11.229134100Z",
     "start_time": "2023-08-31T07:09:11.185136200Z"
    }
   },
   "outputs": [
    {
     "data": {
      "text/plain": "array([[-0.65316769, -0.6554006 , -0.65215273, ..., -0.64443903,\n        -0.65093478, -0.64890486],\n       [-0.6554006 , -0.65215273, -0.64809289, ..., -0.65093478,\n        -0.64890486, -0.64423604],\n       [-0.65215273, -0.64809289, -0.64443903, ..., -0.64890486,\n        -0.64423604, -0.63875525],\n       ...,\n       [ 0.48034021,  0.49414368,  0.50003045, ...,  0.53352415,\n         0.55341737,  0.53555407],\n       [ 0.49414368,  0.50003045,  0.50510525, ...,  0.55341737,\n         0.53555407,  0.53169722],\n       [ 0.50003045,  0.50510525,  0.53352415, ...,  0.53555407,\n         0.53169722,  0.53928912]])"
     },
     "execution_count": 11,
     "metadata": {},
     "output_type": "execute_result"
    }
   ],
   "source": [
    "X = dc(np.flip(X, axis=1))\n",
    "X"
   ]
  },
  {
   "cell_type": "markdown",
   "source": [
    "# Splitting to Traing Set and Testing Set "
   ],
   "metadata": {
    "collapsed": false
   },
   "id": "aefc41ba987150d"
  },
  {
   "cell_type": "code",
   "execution_count": 12,
   "id": "GCHslawXgE21",
   "metadata": {
    "colab": {
     "base_uri": "https://localhost:8080/"
    },
    "id": "GCHslawXgE21",
    "outputId": "a2e50719-a1fb-460e-9ce4-9dd873642765",
    "ExecuteTime": {
     "end_time": "2023-08-31T07:09:11.240134200Z",
     "start_time": "2023-08-31T07:09:11.200136500Z"
    }
   },
   "outputs": [
    {
     "data": {
      "text/plain": "Timestamp('2016-09-23 00:00:00')"
     },
     "execution_count": 12,
     "metadata": {},
     "output_type": "execute_result"
    }
   ],
   "source": [
    "split_index = int(len(X) * 0.80)\n",
    "\n",
    "split_index\n",
    "split_date = dates[split_index]\n",
    "split_date"
   ]
  },
  {
   "cell_type": "code",
   "execution_count": 13,
   "id": "hhGMh_nAgiST",
   "metadata": {
    "colab": {
     "base_uri": "https://localhost:8080/"
    },
    "id": "hhGMh_nAgiST",
    "outputId": "aeb231ef-e124-4821-f4ee-dbb2275c0f98",
    "ExecuteTime": {
     "end_time": "2023-08-31T07:09:11.275134200Z",
     "start_time": "2023-08-31T07:09:11.216135700Z"
    }
   },
   "outputs": [
    {
     "data": {
      "text/plain": "array([[-0.65316769, -0.6554006 , -0.65215273, ..., -0.64443903,\n        -0.65093478, -0.64890486],\n       [-0.6554006 , -0.65215273, -0.64809289, ..., -0.65093478,\n        -0.64890486, -0.64423604],\n       [-0.65215273, -0.64809289, -0.64443903, ..., -0.64890486,\n        -0.64423604, -0.63875525],\n       ...,\n       [-0.12701216, -0.13127499, -0.11442665, ..., -0.1132087 ,\n        -0.12457625, -0.11767452],\n       [-0.13127499, -0.11442665, -0.11239673, ..., -0.12457625,\n        -0.11767452, -0.11544161],\n       [-0.11442665, -0.11239673, -0.1132087 , ..., -0.11767452,\n        -0.11544161, -0.10711893]])"
     },
     "execution_count": 13,
     "metadata": {},
     "output_type": "execute_result"
    }
   ],
   "source": [
    "X_train = X[:split_index]\n",
    "X_test = X[split_index:]\n",
    "train_dates = dates[:split_index]\n",
    "test_dates = dates[split_index:]\n",
    "y_train = y[:split_index]\n",
    "y_test = y[split_index:]\n",
    "test_dates.shape\n",
    "\n",
    "X_train\n",
    "#X_train.shape, X_test.shape, y_train.shape, y_test.shape"
   ]
  },
  {
   "cell_type": "code",
   "execution_count": 14,
   "id": "Muqs9hKYhMUS",
   "metadata": {
    "colab": {
     "base_uri": "https://localhost:8080/"
    },
    "id": "Muqs9hKYhMUS",
    "outputId": "d35136a0-5855-4bfb-b66b-b8f7a1a8ea96",
    "ExecuteTime": {
     "end_time": "2023-08-31T07:09:11.280135400Z",
     "start_time": "2023-08-31T07:09:11.232135100Z"
    }
   },
   "outputs": [],
   "source": [
    "X_train = X_train.reshape((-1, lookback, 1))\n",
    "X_test = X_test.reshape((-1, lookback, 1))\n",
    "\n",
    "y_train = y_train.reshape((-1, 1))\n",
    "y_test = y_test.reshape((-1, 1))\n",
    "  # Ensure all elements are displayed\n",
    "#print(X_train)\n",
    "#X_train.shape, X_test.shape, y_train.shape, y_test.shape"
   ]
  },
  {
   "cell_type": "code",
   "execution_count": 15,
   "id": "i7-PBcrMhR7z",
   "metadata": {
    "colab": {
     "base_uri": "https://localhost:8080/"
    },
    "id": "i7-PBcrMhR7z",
    "outputId": "b01a297a-75d6-4573-e450-a3545360112e",
    "ExecuteTime": {
     "end_time": "2023-08-31T07:09:11.298136Z",
     "start_time": "2023-08-31T07:09:11.247136600Z"
    }
   },
   "outputs": [
    {
     "data": {
      "text/plain": "(torch.Size([7205, 7, 1]),\n torch.Size([1802, 7, 1]),\n torch.Size([7205, 1]),\n torch.Size([1802, 1]))"
     },
     "execution_count": 15,
     "metadata": {},
     "output_type": "execute_result"
    }
   ],
   "source": [
    "X_train = torch.tensor(X_train).float()\n",
    "y_train = torch.tensor(y_train).float()\n",
    "X_test = torch.tensor(X_test).float()\n",
    "y_test = torch.tensor(y_test).float()\n",
    "\n",
    "X_train.shape, X_test.shape, y_train.shape, y_test.shape"
   ]
  },
  {
   "cell_type": "markdown",
   "source": [
    "# Preparing LSTN"
   ],
   "metadata": {
    "collapsed": false
   },
   "id": "4bcdb0695b789853"
  },
  {
   "cell_type": "code",
   "execution_count": 32,
   "id": "DWutCAGKhdqU",
   "metadata": {
    "id": "DWutCAGKhdqU",
    "ExecuteTime": {
     "end_time": "2023-08-31T09:04:16.811260400Z",
     "start_time": "2023-08-31T09:04:16.737264Z"
    }
   },
   "outputs": [],
   "source": [
    "from torch.utils.data import Dataset\n",
    "\n",
    "class TimeSeriesDataset(Dataset):\n",
    "    def __init__(self, X, y):\n",
    "        self.X = X\n",
    "        self.y = y\n",
    "\n",
    "    def __len__(self):\n",
    "        return len(self.X)\n",
    "\n",
    "    def __getitem__(self, i):\n",
    "        return self.X[i], self.y[i]\n",
    "\n",
    "train_dataset = TimeSeriesDataset(X_train, y_train)\n",
    "test_dataset = TimeSeriesDataset(X_test, y_test)"
   ]
  },
  {
   "cell_type": "code",
   "execution_count": 17,
   "id": "12OWUTa5ijoq",
   "metadata": {
    "colab": {
     "base_uri": "https://localhost:8080/"
    },
    "id": "12OWUTa5ijoq",
    "outputId": "0928d3c2-d181-4035-cc57-a2ac6ce38075",
    "ExecuteTime": {
     "end_time": "2023-08-31T07:09:11.301134600Z",
     "start_time": "2023-08-31T07:09:11.279135800Z"
    }
   },
   "outputs": [
    {
     "data": {
      "text/plain": "(tensor([[-0.6532],\n         [-0.6554],\n         [-0.6522],\n         [-0.6481],\n         [-0.6444],\n         [-0.6509],\n         [-0.6489]]),\n tensor([-0.6442]))"
     },
     "execution_count": 17,
     "metadata": {},
     "output_type": "execute_result"
    }
   ],
   "source": [
    "train_dataset[0]"
   ]
  },
  {
   "cell_type": "code",
   "execution_count": 18,
   "id": "XYsUmPl3ik46",
   "metadata": {
    "id": "XYsUmPl3ik46",
    "ExecuteTime": {
     "end_time": "2023-08-31T07:09:11.368134500Z",
     "start_time": "2023-08-31T07:09:11.296134900Z"
    }
   },
   "outputs": [],
   "source": [
    "from torch.utils.data import DataLoader\n",
    "\n",
    "batch_size = 16\n",
    "\n",
    "train_loader = DataLoader(train_dataset, batch_size=batch_size, shuffle=True)\n",
    "test_loader = DataLoader(test_dataset, batch_size=batch_size, shuffle=False)"
   ]
  },
  {
   "cell_type": "code",
   "execution_count": 19,
   "id": "TJTnbgBDjOSK",
   "metadata": {
    "colab": {
     "base_uri": "https://localhost:8080/"
    },
    "id": "TJTnbgBDjOSK",
    "outputId": "51226616-d4de-4a22-f4d9-576fd3e8bfba",
    "ExecuteTime": {
     "end_time": "2023-08-31T07:09:11.368134500Z",
     "start_time": "2023-08-31T07:09:11.310135400Z"
    }
   },
   "outputs": [
    {
     "name": "stdout",
     "output_type": "stream",
     "text": [
      "torch.Size([16, 7, 1]) torch.Size([16, 1])\n"
     ]
    }
   ],
   "source": [
    "for _, batch in enumerate(train_loader):\n",
    "    x_batch, y_batch = batch[0].to(device), batch[1].to(device)\n",
    "    print(x_batch.shape, y_batch.shape)\n",
    "    break"
   ]
  },
  {
   "cell_type": "code",
   "execution_count": 20,
   "id": "njdkq_kmjib5",
   "metadata": {
    "colab": {
     "base_uri": "https://localhost:8080/"
    },
    "id": "njdkq_kmjib5",
    "outputId": "db355c8d-cc21-43f5-cdfa-2156444b4531",
    "ExecuteTime": {
     "end_time": "2023-08-31T07:09:11.369134700Z",
     "start_time": "2023-08-31T07:09:11.328135200Z"
    }
   },
   "outputs": [
    {
     "data": {
      "text/plain": "LSTM(\n  (lstm): LSTM(1, 4, batch_first=True)\n  (fc): Linear(in_features=4, out_features=1, bias=True)\n)"
     },
     "execution_count": 20,
     "metadata": {},
     "output_type": "execute_result"
    }
   ],
   "source": [
    "class LSTM(nn.Module):\n",
    "    def __init__(self, input_size, hidden_size, num_stacked_layers):\n",
    "        super().__init__()\n",
    "        self.hidden_size = hidden_size\n",
    "        self.num_stacked_layers = num_stacked_layers\n",
    "\n",
    "        self.lstm = nn.LSTM(input_size, hidden_size, num_stacked_layers,\n",
    "                            batch_first=True)\n",
    "\n",
    "        self.fc = nn.Linear(hidden_size, 1)\n",
    "\n",
    "    def forward(self, x):\n",
    "        batch_size = x.size(0)\n",
    "        h0 = torch.zeros(self.num_stacked_layers, batch_size, self.hidden_size).to(device)\n",
    "        c0 = torch.zeros(self.num_stacked_layers, batch_size, self.hidden_size).to(device)\n",
    "\n",
    "        out, _ = self.lstm(x, (h0, c0))\n",
    "        out = self.fc(out[:, -1, :])\n",
    "        return out\n",
    "\n",
    "model = LSTM(1, 4, 1)\n",
    "model.to(device)\n",
    "model"
   ]
  },
  {
   "cell_type": "code",
   "execution_count": 21,
   "id": "iue5WvTxmVKB",
   "metadata": {
    "id": "iue5WvTxmVKB",
    "ExecuteTime": {
     "end_time": "2023-08-31T07:09:11.369134700Z",
     "start_time": "2023-08-31T07:09:11.344134500Z"
    }
   },
   "outputs": [],
   "source": [
    "def train_one_epoch():\n",
    "    model.train(True)\n",
    "    print(f'Epoch: {epoch + 1}')\n",
    "    running_loss = 0.0\n",
    "\n",
    "    for batch_index, batch in enumerate(train_loader):\n",
    "        x_batch, y_batch = batch[0].to(device), batch[1].to(device)\n",
    "\n",
    "        output = model(x_batch)\n",
    "        loss = loss_function(output, y_batch)\n",
    "        running_loss += loss.item()\n",
    "\n",
    "        optimizer.zero_grad()\n",
    "        loss.backward()\n",
    "        optimizer.step()\n",
    "\n",
    "        if batch_index % 100 == 99:  # print every 100 batches\n",
    "            avg_loss_across_batches = running_loss / 100\n",
    "            print('Batch {0}, Loss: {1:.3f}'.format(batch_index+1,\n",
    "                                                    avg_loss_across_batches))\n",
    "            running_loss = 0.0\n",
    "    print()"
   ]
  },
  {
   "cell_type": "code",
   "execution_count": 22,
   "id": "gRmNuV3cmy-t",
   "metadata": {
    "id": "gRmNuV3cmy-t",
    "ExecuteTime": {
     "end_time": "2023-08-31T07:09:11.399133900Z",
     "start_time": "2023-08-31T07:09:11.359137400Z"
    }
   },
   "outputs": [],
   "source": [
    "def validate_one_epoch():\n",
    "    model.train(False)\n",
    "    running_loss = 0.0\n",
    "\n",
    "    for batch_index, batch in enumerate(test_loader):\n",
    "        x_batch, y_batch = batch[0].to(device), batch[1].to(device)\n",
    "\n",
    "        with torch.no_grad():\n",
    "            output = model(x_batch)\n",
    "            loss = loss_function(output, y_batch)\n",
    "            running_loss += loss.item()\n",
    "\n",
    "    avg_loss_across_batches = running_loss / len(test_loader)\n",
    "\n",
    "    print('Val Loss: {0:.3f}'.format(avg_loss_across_batches))\n",
    "    print('***************************************************')\n",
    "    print()"
   ]
  },
  {
   "cell_type": "markdown",
   "source": [
    "# Optimising"
   ],
   "metadata": {
    "collapsed": false
   },
   "id": "4551bf393835e89f"
  },
  {
   "cell_type": "code",
   "execution_count": 23,
   "id": "1jgb1aJ3lxlQ",
   "metadata": {
    "colab": {
     "base_uri": "https://localhost:8080/"
    },
    "id": "1jgb1aJ3lxlQ",
    "outputId": "2a25db36-4872-44e4-feca-4d26bad49f96",
    "ExecuteTime": {
     "end_time": "2023-08-31T07:09:22.404386Z",
     "start_time": "2023-08-31T07:09:11.373135400Z"
    }
   },
   "outputs": [
    {
     "name": "stdout",
     "output_type": "stream",
     "text": [
      "Epoch: 1\n",
      "Batch 100, Loss: 0.204\n",
      "Batch 200, Loss: 0.198\n",
      "Batch 300, Loss: 0.102\n",
      "Batch 400, Loss: 0.009\n",
      "\n",
      "Val Loss: 0.019\n",
      "***************************************************\n",
      "\n",
      "Epoch: 2\n",
      "Batch 100, Loss: 0.005\n",
      "Batch 200, Loss: 0.004\n",
      "Batch 300, Loss: 0.003\n",
      "Batch 400, Loss: 0.003\n",
      "Val Loss: 0.009\n",
      "***************************************************\n",
      "\n",
      "Epoch: 3\n",
      "Batch 100, Loss: 0.002\n",
      "Batch 200, Loss: 0.002\n",
      "Batch 300, Loss: 0.002\n",
      "Batch 400, Loss: 0.001\n",
      "\n",
      "Val Loss: 0.004\n",
      "***************************************************\n",
      "\n",
      "Epoch: 4\n",
      "Batch 100, Loss: 0.001\n",
      "Batch 200, Loss: 0.001\n",
      "Batch 300, Loss: 0.001\n",
      "Batch 400, Loss: 0.001\n",
      "Val Loss: 0.002\n",
      "***************************************************\n",
      "\n",
      "Epoch: 5\n",
      "Batch 100, Loss: 0.001\n",
      "Batch 200, Loss: 0.001\n",
      "Batch 300, Loss: 0.001\n",
      "Batch 400, Loss: 0.001\n",
      "\n",
      "Val Loss: 0.001\n",
      "***************************************************\n",
      "\n",
      "Epoch: 6\n",
      "Batch 100, Loss: 0.001\n",
      "Batch 200, Loss: 0.001\n",
      "Batch 300, Loss: 0.001\n",
      "Batch 400, Loss: 0.001\n",
      "Val Loss: 0.001\n",
      "***************************************************\n",
      "\n",
      "Epoch: 7\n",
      "Batch 100, Loss: 0.001\n",
      "Batch 200, Loss: 0.001\n",
      "Batch 300, Loss: 0.001\n",
      "Batch 400, Loss: 0.001\n",
      "\n",
      "Val Loss: 0.001\n",
      "***************************************************\n",
      "\n",
      "Epoch: 8\n",
      "Batch 100, Loss: 0.001\n",
      "Batch 200, Loss: 0.001\n",
      "Batch 300, Loss: 0.001\n",
      "Batch 400, Loss: 0.001\n",
      "\n",
      "Val Loss: 0.001\n",
      "***************************************************\n",
      "\n",
      "Epoch: 9\n",
      "Batch 100, Loss: 0.001\n",
      "Batch 200, Loss: 0.001\n",
      "Batch 300, Loss: 0.000\n",
      "Batch 400, Loss: 0.001\n",
      "\n",
      "Val Loss: 0.001\n",
      "***************************************************\n",
      "\n",
      "Epoch: 10\n",
      "Batch 100, Loss: 0.001\n",
      "Batch 200, Loss: 0.001\n",
      "Batch 300, Loss: 0.000\n",
      "Batch 400, Loss: 0.000\n",
      "\n",
      "Val Loss: 0.001\n",
      "***************************************************\n",
      "\n",
      "Epoch: 11\n",
      "Batch 100, Loss: 0.000\n",
      "Batch 200, Loss: 0.001\n",
      "Batch 300, Loss: 0.001\n",
      "Batch 400, Loss: 0.001\n",
      "\n",
      "Val Loss: 0.001\n",
      "***************************************************\n",
      "\n",
      "Epoch: 12\n",
      "Batch 100, Loss: 0.001\n",
      "Batch 200, Loss: 0.001\n",
      "Batch 300, Loss: 0.001\n",
      "Batch 400, Loss: 0.001\n",
      "Val Loss: 0.001\n",
      "***************************************************\n",
      "\n",
      "Epoch: 13\n",
      "Batch 100, Loss: 0.001\n",
      "Batch 200, Loss: 0.001\n",
      "Batch 300, Loss: 0.001\n",
      "Batch 400, Loss: 0.000\n",
      "\n",
      "Val Loss: 0.001\n",
      "***************************************************\n",
      "\n",
      "Epoch: 14\n",
      "Batch 100, Loss: 0.001\n",
      "Batch 200, Loss: 0.001\n",
      "Batch 300, Loss: 0.000\n",
      "Batch 400, Loss: 0.000\n",
      "\n",
      "Val Loss: 0.001\n",
      "***************************************************\n",
      "\n",
      "Epoch: 15\n",
      "Batch 100, Loss: 0.000\n",
      "Batch 200, Loss: 0.001\n",
      "Batch 300, Loss: 0.001\n",
      "Batch 400, Loss: 0.000\n",
      "Val Loss: 0.001\n",
      "***************************************************\n",
      "\n",
      "Epoch: 16\n",
      "Batch 100, Loss: 0.001\n",
      "Batch 200, Loss: 0.000\n",
      "Batch 300, Loss: 0.001\n",
      "Batch 400, Loss: 0.001\n",
      "\n",
      "Val Loss: 0.001\n",
      "***************************************************\n",
      "\n",
      "Epoch: 17\n",
      "Batch 100, Loss: 0.000\n",
      "Batch 200, Loss: 0.001\n",
      "Batch 300, Loss: 0.001\n",
      "Batch 400, Loss: 0.001\n",
      "\n",
      "Val Loss: 0.001\n",
      "***************************************************\n",
      "\n",
      "Epoch: 18\n",
      "Batch 100, Loss: 0.000\n",
      "Batch 200, Loss: 0.000\n",
      "Batch 300, Loss: 0.001\n",
      "Batch 400, Loss: 0.001\n",
      "Val Loss: 0.001\n",
      "***************************************************\n",
      "\n",
      "Epoch: 19\n",
      "Batch 100, Loss: 0.000\n",
      "Batch 200, Loss: 0.001\n",
      "Batch 300, Loss: 0.001\n",
      "Batch 400, Loss: 0.000\n",
      "\n",
      "Val Loss: 0.001\n",
      "***************************************************\n",
      "\n",
      "Epoch: 20\n",
      "Batch 100, Loss: 0.000\n",
      "Batch 200, Loss: 0.001\n",
      "Batch 300, Loss: 0.001\n",
      "Batch 400, Loss: 0.001\n",
      "\n",
      "Val Loss: 0.001\n",
      "***************************************************\n"
     ]
    }
   ],
   "source": [
    "learning_rate = 0.001\n",
    "num_epochs = 20\n",
    "loss_function = nn.MSELoss()\n",
    "optimizer = torch.optim.Adam(model.parameters(), lr=learning_rate)\n",
    "\"\"\"\n",
    "Adam does the gradient descent for me\n",
    "\"\"\"\n",
    "for epoch in range(num_epochs):\n",
    "    train_one_epoch()\n",
    "    validate_one_epoch()"
   ]
  },
  {
   "cell_type": "markdown",
   "source": [
    "# Results"
   ],
   "metadata": {
    "collapsed": false
   },
   "id": "5cec1eeb686ecabc"
  },
  {
   "cell_type": "code",
   "execution_count": 24,
   "id": "-Xon2PHWno7t",
   "metadata": {
    "colab": {
     "base_uri": "https://localhost:8080/",
     "height": 449
    },
    "id": "-Xon2PHWno7t",
    "outputId": "862b1d87-3e42-4fe1-8618-3cf0720e0da5",
    "ExecuteTime": {
     "end_time": "2023-08-31T07:09:22.707389300Z",
     "start_time": "2023-08-31T07:09:22.388856Z"
    }
   },
   "outputs": [
    {
     "data": {
      "text/plain": "<Figure size 640x480 with 1 Axes>",
      "image/png": "[encoded data removed]"
     },
     "metadata": {},
     "output_type": "display_data"
    }
   ],
   "source": [
    "with torch.no_grad():\n",
    "    predicted = model(X_train[:].to(device)).to('cpu').numpy()\n",
    "\n",
    "plt.plot(train_dates,y_train, label='Actual Price')\n",
    "plt.plot(train_dates,predicted, label='Predicted Price')\n",
    "\n",
    "plt.xlabel('Dates')\n",
    "plt.ylabel('Price')\n",
    "plt.legend()\n",
    "plt.show()\n"
   ]
  },
  {
   "cell_type": "code",
   "execution_count": 25,
   "id": "d3SDgEvPpOcD",
   "metadata": {
    "colab": {
     "base_uri": "https://localhost:8080/"
    },
    "id": "d3SDgEvPpOcD",
    "outputId": "e9b8491e-b15e-4aa5-ae97-6619bb4a3be9",
    "ExecuteTime": {
     "end_time": "2023-08-31T07:09:22.774385200Z",
     "start_time": "2023-08-31T07:09:22.706386700Z"
    }
   },
   "outputs": [
    {
     "data": {
      "text/plain": "array([0.87285096, 0.87692772, 0.8843645 , ..., 2.17337139, 2.17629955,\n       2.18767156])"
     },
     "execution_count": 25,
     "metadata": {},
     "output_type": "execute_result"
    }
   ],
   "source": [
    "train_predictions = predicted.flatten()\n",
    "\n",
    "dummies = np.zeros((X_train.shape[0], lookback+1))\n",
    "dummies[:, 0] = train_predictions\n",
    "dummies = scaler.inverse_transform(dummies)\n",
    "\n",
    "train_predictions = dc(dummies[:, 0])\n",
    "train_predictions"
   ]
  },
  {
   "cell_type": "code",
   "execution_count": 26,
   "id": "PHnvejOdrL7Q",
   "metadata": {
    "colab": {
     "base_uri": "https://localhost:8080/"
    },
    "id": "PHnvejOdrL7Q",
    "outputId": "952cb861-3f21-42d2-f1b2-9e489c9cdcd7",
    "ExecuteTime": {
     "end_time": "2023-08-31T07:09:22.775384700Z",
     "start_time": "2023-08-31T07:09:22.721388500Z"
    }
   },
   "outputs": [
    {
     "data": {
      "text/plain": "array([0.88750003, 0.90099998, 0.88350005, ..., 2.18999999, 2.2105    ,\n       2.192     ])"
     },
     "execution_count": 26,
     "metadata": {},
     "output_type": "execute_result"
    }
   ],
   "source": [
    "dummies = np.zeros((X_train.shape[0], lookback+1))\n",
    "dummies[:, 0] = y_train.flatten()\n",
    "dummies = scaler.inverse_transform(dummies)\n",
    "new_y_train = dc(dummies[:, 0])\n",
    "new_y_train"
   ]
  },
  {
   "cell_type": "code",
   "execution_count": 27,
   "id": "2LlDAUtyrcrN",
   "metadata": {
    "colab": {
     "base_uri": "https://localhost:8080/",
     "height": 449
    },
    "id": "2LlDAUtyrcrN",
    "outputId": "819c2ff2-be0d-4781-d164-915936251f66",
    "ExecuteTime": {
     "end_time": "2023-08-31T07:09:22.940384Z",
     "start_time": "2023-08-31T07:09:22.738389400Z"
    }
   },
   "outputs": [
    {
     "data": {
      "text/plain": "<Figure size 640x480 with 1 Axes>",
      "image/png": "[encoded data removed]"
     },
     "metadata": {},
     "output_type": "display_data"
    }
   ],
   "source": [
    "plt.plot(train_dates,new_y_train,  label='Actual Price')\n",
    "plt.plot(train_dates,train_predictions, label='Predicted Price')\n",
    "plt.xlabel('Day')\n",
    "plt.ylabel('Price')\n",
    "plt.legend()\n",
    "plt.show()"
   ]
  },
  {
   "cell_type": "code",
   "execution_count": 28,
   "id": "yYeC2JMorftR",
   "metadata": {
    "colab": {
     "base_uri": "https://localhost:8080/"
    },
    "id": "yYeC2JMorftR",
    "outputId": "94df7137-866f-42aa-cb02-5a78961f6779",
    "ExecuteTime": {
     "end_time": "2023-08-31T07:09:22.945385200Z",
     "start_time": "2023-08-31T07:09:22.929388Z"
    }
   },
   "outputs": [
    {
     "data": {
      "text/plain": "array([2.18596902, 2.1730451 , 2.16393852, ..., 3.75732441, 3.75758368,\n       3.76490565])"
     },
     "execution_count": 28,
     "metadata": {},
     "output_type": "execute_result"
    }
   ],
   "source": [
    "test_predictions = model(X_test.to(device)).detach().cpu().numpy().flatten()\n",
    "\n",
    "dummies = np.zeros((X_test.shape[0], lookback+1))\n",
    "dummies[:, 0] = test_predictions\n",
    "dummies = scaler.inverse_transform(dummies)\n",
    "\n",
    "test_predictions = dc(dummies[:, 0])\n",
    "test_predictions"
   ]
  },
  {
   "cell_type": "code",
   "execution_count": 29,
   "id": "g-DJXBgYsFyI",
   "metadata": {
    "colab": {
     "base_uri": "https://localhost:8080/"
    },
    "id": "g-DJXBgYsFyI",
    "outputId": "b606685e-137b-41ef-8a56-6171133ed013",
    "ExecuteTime": {
     "end_time": "2023-08-31T07:09:23.022387900Z",
     "start_time": "2023-08-31T07:09:22.948385500Z"
    }
   },
   "outputs": [
    {
     "data": {
      "text/plain": "0.04627408494801908"
     },
     "execution_count": 29,
     "metadata": {},
     "output_type": "execute_result"
    }
   ],
   "source": [
    "dummies = np.zeros((X_test.shape[0], lookback+1))\n",
    "dummies[:, 0] = y_test.flatten()\n",
    "dummies = scaler.inverse_transform(dummies)\n",
    "\n",
    "new_y_test = dc(dummies[:, 0])\n",
    "new_y_test\n",
    "squared_differences = (new_y_test - test_predictions)**2\n",
    "\n",
    "# Calculate the Root Mean Squared Error (RMSE)\n",
    "rmse = np.sqrt(np.mean(squared_differences))\n",
    "#rmse\n",
    "absolute_differences = np.abs(new_y_test - test_predictions)\n",
    "\n",
    "# Calculate the Mean Absolute Error (MAE)\n",
    "mae = np.mean(absolute_differences)\n",
    "mae"
   ]
  },
  {
   "cell_type": "code",
   "execution_count": 30,
   "id": "PhLmIlHOsSK4",
   "metadata": {
    "colab": {
     "base_uri": "https://localhost:8080/",
     "height": 449
    },
    "id": "PhLmIlHOsSK4",
    "outputId": "09c21535-ea22-4d65-bc50-b159bd4dc135",
    "ExecuteTime": {
     "end_time": "2023-08-31T07:09:23.148385800Z",
     "start_time": "2023-08-31T07:09:22.960384900Z"
    }
   },
   "outputs": [
    {
     "data": {
      "text/plain": "<Figure size 640x480 with 1 Axes>",
      "image/png": "[encoded data removed]"
     },
     "metadata": {},
     "output_type": "display_data"
    }
   ],
   "source": [
    "plt.plot(test_dates, new_y_test, label='Actual Price')\n",
    "plt.plot(test_dates,test_predictions, label='Predicted Price')\n",
    "plt.xlabel('Day')\n",
    "plt.ylabel('Price')\n",
    "plt.legend()\n",
    "plt.show()\n"
   ]
  },
  {
   "cell_type": "code",
   "execution_count": 31,
   "outputs": [
    {
     "data": {
      "text/plain": "7212   2016-10-04\n7213   2016-10-05\n7214   2016-10-06\n7215   2016-10-07\n7216   2016-10-10\n          ...    \n9009   2023-08-23\n9010   2023-08-24\n9011   2023-08-25\n9012   2023-08-27\n9013   2023-08-28\nName: Date, Length: 1802, dtype: datetime64[ns]"
     },
     "execution_count": 31,
     "metadata": {},
     "output_type": "execute_result"
    }
   ],
   "source": [
    "test_dates"
   ],
   "metadata": {
    "collapsed": false,
    "ExecuteTime": {
     "end_time": "2023-08-31T08:53:05.366487100Z",
     "start_time": "2023-08-31T08:53:05.276487100Z"
    }
   },
   "id": "b7bfaa2c740dcd3c"
  },
  {
   "cell_type": "code",
   "execution_count": null,
   "outputs": [],
   "source": [],
   "metadata": {
    "collapsed": false
   },
   "id": "f86827c76a983512"
  }
 ],
 "metadata": {
  "colab": {
   "gpuType": "T4",
   "provenance": []
  },
  "gpuClass": "standard",
  "kernelspec": {
   "display_name": "Python 3 (ipykernel)",
   "language": "python",
   "name": "python3"
  },
  "language_info": {
   "codemirror_mode": {
    "name": "ipython",
    "version": 3
   },
   "file_extension": ".py",
   "mimetype": "text/x-python",
   "name": "python",
   "nbconvert_exporter": "python",
   "pygments_lexer": "ipython3",
   "version": "3.10.11"
  }
 },
 "nbformat": 4,
 "nbformat_minor": 5
}
