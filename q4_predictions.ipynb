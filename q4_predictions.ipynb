{
 "cells": [
  {
   "cell_type": "code",
   "execution_count": 359,
   "id": "initial_id",
   "metadata": {
    "collapsed": true,
    "ExecuteTime": {
     "end_time": "2023-08-31T13:05:43.699750200Z",
     "start_time": "2023-08-31T13:05:43.366752800Z"
    }
   },
   "outputs": [],
   "source": [
    "import pandas as pd\n",
    "import numpy as np\n",
    "import matplotlib.pyplot as plt\n",
    "\n",
    "import torch\n",
    "import torch.nn as nn\n",
    "\n",
    "from sklearn.preprocessing import MinMaxScaler"
   ]
  },
  {
   "cell_type": "code",
   "execution_count": 360,
   "outputs": [
    {
     "data": {
      "text/plain": "7      1988-08-10\n8      1988-08-11\n9      1988-08-12\n10     1988-08-15\n11     1988-08-16\n          ...    \n9009   2023-08-23\n9010   2023-08-24\n9011   2023-08-25\n9012   2023-08-27\n9013   2023-08-28\nName: Date, Length: 9007, dtype: datetime64[ns]"
     },
     "execution_count": 360,
     "metadata": {},
     "output_type": "execute_result"
    }
   ],
   "source": [
    "import pandas as pd\n",
    "import numpy as np\n",
    "import matplotlib.pyplot as plt\n",
    "\n",
    "import torch\n",
    "import torch.nn as nn\n",
    "\n",
    "data = pd.read_csv(\"output.csv\")\n",
    "train_dates = pd.to_datetime(data[\"Date\"])\n",
    "train_dates = train_dates[7:]\n",
    "train_dates\n"
   ],
   "metadata": {
    "collapsed": false,
    "ExecuteTime": {
     "end_time": "2023-08-31T13:05:43.721750100Z",
     "start_time": "2023-08-31T13:05:43.383754300Z"
    }
   },
   "id": "3a75c928dfc5c42f"
  },
  {
   "cell_type": "code",
   "execution_count": 361,
   "outputs": [
    {
     "data": {
      "text/plain": "'cpu'"
     },
     "execution_count": 361,
     "metadata": {},
     "output_type": "execute_result"
    }
   ],
   "source": [
    "device = 'cuda:0' if torch.cuda.is_available() else 'cpu'\n",
    "device"
   ],
   "metadata": {
    "collapsed": false,
    "ExecuteTime": {
     "end_time": "2023-08-31T13:05:43.745750700Z",
     "start_time": "2023-08-31T13:05:43.413753300Z"
    }
   },
   "id": "b6f8624872321429"
  },
  {
   "cell_type": "code",
   "execution_count": 362,
   "outputs": [
    {
     "data": {
      "text/plain": "             Price  Price(t-1)  Price(t-2)  Price(t-3)  Price(t-4)   \nDate                                                                 \n1988-08-10  0.8875      0.8760      0.8710      0.8870      0.8780  \\\n1988-08-11  0.9010      0.8875      0.8760      0.8710      0.8870   \n1988-08-12  0.8835      0.9010      0.8875      0.8760      0.8710   \n1988-08-15  0.8880      0.8835      0.9010      0.8875      0.8760   \n1988-08-16  0.8880      0.8880      0.8835      0.9010      0.8875   \n...            ...         ...         ...         ...         ...   \n2023-08-23  3.8375      3.7885      3.7185      3.7060      3.6915   \n2023-08-24  3.7935      3.8375      3.7885      3.7185      3.7060   \n2023-08-25  3.7840      3.7935      3.8375      3.7885      3.7185   \n2023-08-27  3.8027      3.7840      3.7935      3.8375      3.7885   \n2023-08-28  3.7880      3.8027      3.7840      3.7935      3.8375   \n\n            Price(t-5)  Price(t-6)  Price(t-7)  \nDate                                            \n1988-08-10      0.8680      0.8600      0.8655  \n1988-08-11      0.8780      0.8680      0.8600  \n1988-08-12      0.8870      0.8780      0.8680  \n1988-08-15      0.8710      0.8870      0.8780  \n1988-08-16      0.8760      0.8710      0.8870  \n...                ...         ...         ...  \n2023-08-23      3.6575      3.6675      3.7255  \n2023-08-24      3.6915      3.6575      3.6675  \n2023-08-25      3.7060      3.6915      3.6575  \n2023-08-27      3.7185      3.7060      3.6915  \n2023-08-28      3.7885      3.7185      3.7060  \n\n[9007 rows x 8 columns]",
      "text/html": "<div>\n<style scoped>\n    .dataframe tbody tr th:only-of-type {\n        vertical-align: middle;\n    }\n\n    .dataframe tbody tr th {\n        vertical-align: top;\n    }\n\n    .dataframe thead th {\n        text-align: right;\n    }\n</style>\n<table border=\"1\" class=\"dataframe\">\n  <thead>\n    <tr style=\"text-align: right;\">\n      <th></th>\n      <th>Price</th>\n      <th>Price(t-1)</th>\n      <th>Price(t-2)</th>\n      <th>Price(t-3)</th>\n      <th>Price(t-4)</th>\n      <th>Price(t-5)</th>\n      <th>Price(t-6)</th>\n      <th>Price(t-7)</th>\n    </tr>\n    <tr>\n      <th>Date</th>\n      <th></th>\n      <th></th>\n      <th></th>\n      <th></th>\n      <th></th>\n      <th></th>\n      <th></th>\n      <th></th>\n    </tr>\n  </thead>\n  <tbody>\n    <tr>\n      <th>1988-08-10</th>\n      <td>0.8875</td>\n      <td>0.8760</td>\n      <td>0.8710</td>\n      <td>0.8870</td>\n      <td>0.8780</td>\n      <td>0.8680</td>\n      <td>0.8600</td>\n      <td>0.8655</td>\n    </tr>\n    <tr>\n      <th>1988-08-11</th>\n      <td>0.9010</td>\n      <td>0.8875</td>\n      <td>0.8760</td>\n      <td>0.8710</td>\n      <td>0.8870</td>\n      <td>0.8780</td>\n      <td>0.8680</td>\n      <td>0.8600</td>\n    </tr>\n    <tr>\n      <th>1988-08-12</th>\n      <td>0.8835</td>\n      <td>0.9010</td>\n      <td>0.8875</td>\n      <td>0.8760</td>\n      <td>0.8710</td>\n      <td>0.8870</td>\n      <td>0.8780</td>\n      <td>0.8680</td>\n    </tr>\n    <tr>\n      <th>1988-08-15</th>\n      <td>0.8880</td>\n      <td>0.8835</td>\n      <td>0.9010</td>\n      <td>0.8875</td>\n      <td>0.8760</td>\n      <td>0.8710</td>\n      <td>0.8870</td>\n      <td>0.8780</td>\n    </tr>\n    <tr>\n      <th>1988-08-16</th>\n      <td>0.8880</td>\n      <td>0.8880</td>\n      <td>0.8835</td>\n      <td>0.9010</td>\n      <td>0.8875</td>\n      <td>0.8760</td>\n      <td>0.8710</td>\n      <td>0.8870</td>\n    </tr>\n    <tr>\n      <th>...</th>\n      <td>...</td>\n      <td>...</td>\n      <td>...</td>\n      <td>...</td>\n      <td>...</td>\n      <td>...</td>\n      <td>...</td>\n      <td>...</td>\n    </tr>\n    <tr>\n      <th>2023-08-23</th>\n      <td>3.8375</td>\n      <td>3.7885</td>\n      <td>3.7185</td>\n      <td>3.7060</td>\n      <td>3.6915</td>\n      <td>3.6575</td>\n      <td>3.6675</td>\n      <td>3.7255</td>\n    </tr>\n    <tr>\n      <th>2023-08-24</th>\n      <td>3.7935</td>\n      <td>3.8375</td>\n      <td>3.7885</td>\n      <td>3.7185</td>\n      <td>3.7060</td>\n      <td>3.6915</td>\n      <td>3.6575</td>\n      <td>3.6675</td>\n    </tr>\n    <tr>\n      <th>2023-08-25</th>\n      <td>3.7840</td>\n      <td>3.7935</td>\n      <td>3.8375</td>\n      <td>3.7885</td>\n      <td>3.7185</td>\n      <td>3.7060</td>\n      <td>3.6915</td>\n      <td>3.6575</td>\n    </tr>\n    <tr>\n      <th>2023-08-27</th>\n      <td>3.8027</td>\n      <td>3.7840</td>\n      <td>3.7935</td>\n      <td>3.8375</td>\n      <td>3.7885</td>\n      <td>3.7185</td>\n      <td>3.7060</td>\n      <td>3.6915</td>\n    </tr>\n    <tr>\n      <th>2023-08-28</th>\n      <td>3.7880</td>\n      <td>3.8027</td>\n      <td>3.7840</td>\n      <td>3.7935</td>\n      <td>3.8375</td>\n      <td>3.7885</td>\n      <td>3.7185</td>\n      <td>3.7060</td>\n    </tr>\n  </tbody>\n</table>\n<p>9007 rows × 8 columns</p>\n</div>"
     },
     "execution_count": 362,
     "metadata": {},
     "output_type": "execute_result"
    }
   ],
   "source": [
    "from copy import deepcopy as dc\n",
    "\n",
    "def prepare_dataframe_for_lstm(df, n_steps):\n",
    "    df = dc(df)\n",
    "\n",
    "    df.set_index('Date', inplace=True)\n",
    "\n",
    "    for i in range(1, n_steps+1):\n",
    "        df[f'Price(t-{i})'] = df['Price'].shift(i)\n",
    "\n",
    "    df.dropna(inplace=True)\n",
    "\n",
    "    return df\n",
    "\n",
    "lookback = 7\n",
    "shifted_df = prepare_dataframe_for_lstm(data, lookback)\n",
    "shifted_df"
   ],
   "metadata": {
    "collapsed": false,
    "ExecuteTime": {
     "end_time": "2023-08-31T13:05:43.745750700Z",
     "start_time": "2023-08-31T13:05:43.431750800Z"
    }
   },
   "id": "ead4168e8449253c"
  },
  {
   "cell_type": "code",
   "execution_count": 363,
   "outputs": [
    {
     "data": {
      "text/plain": "array([[0.8875, 0.876 , 0.871 , ..., 0.868 , 0.86  , 0.8655],\n       [0.901 , 0.8875, 0.876 , ..., 0.878 , 0.868 , 0.86  ],\n       [0.8835, 0.901 , 0.8875, ..., 0.887 , 0.878 , 0.868 ],\n       ...,\n       [3.784 , 3.7935, 3.8375, ..., 3.706 , 3.6915, 3.6575],\n       [3.8027, 3.784 , 3.7935, ..., 3.7185, 3.706 , 3.6915],\n       [3.788 , 3.8027, 3.784 , ..., 3.7885, 3.7185, 3.706 ]])"
     },
     "execution_count": 363,
     "metadata": {},
     "output_type": "execute_result"
    }
   ],
   "source": [
    "shifted_df_as_np_before_scaling = shifted_df.to_numpy()\n",
    "shifted_df_as_np_before_scaling"
   ],
   "metadata": {
    "collapsed": false,
    "ExecuteTime": {
     "end_time": "2023-08-31T13:05:43.745750700Z",
     "start_time": "2023-08-31T13:05:43.462754400Z"
    }
   },
   "id": "225714ae09073c95"
  },
  {
   "cell_type": "code",
   "execution_count": 364,
   "outputs": [
    {
     "data": {
      "text/plain": "(9007, 8)"
     },
     "execution_count": 364,
     "metadata": {},
     "output_type": "execute_result"
    }
   ],
   "source": [
    "shifted_df_as_np_before_scaling.shape"
   ],
   "metadata": {
    "collapsed": false,
    "ExecuteTime": {
     "end_time": "2023-08-31T13:05:43.745750700Z",
     "start_time": "2023-08-31T13:05:43.478755200Z"
    }
   },
   "id": "48fd08f44827be66"
  },
  {
   "cell_type": "code",
   "execution_count": 365,
   "outputs": [
    {
     "data": {
      "text/plain": "array([[-0.64423604, -0.64890486, -0.65093478, ..., -0.65215273,\n        -0.6554006 , -0.65316769],\n       [-0.63875525, -0.64423604, -0.64890486, ..., -0.64809289,\n        -0.65215273, -0.6554006 ],\n       [-0.64585998, -0.63875525, -0.64423604, ..., -0.64443903,\n        -0.64809289, -0.65215273],\n       ...,\n       [ 0.53169722,  0.53555407,  0.55341737, ...,  0.50003045,\n         0.49414368,  0.48034021],\n       [ 0.53928912,  0.53169722,  0.53555407, ...,  0.50510525,\n         0.50003045,  0.49414368],\n       [ 0.53332115,  0.53928912,  0.53169722, ...,  0.53352415,\n         0.50510525,  0.50003045]])"
     },
     "execution_count": 365,
     "metadata": {},
     "output_type": "execute_result"
    }
   ],
   "source": [
    "from sklearn.preprocessing import MinMaxScaler\n",
    "\n",
    "scaler = MinMaxScaler(feature_range=(-1, 1))\n",
    "scaler.fit(shifted_df_as_np_before_scaling)\n",
    "shifted_df_as_np = scaler.transform(shifted_df_as_np_before_scaling)\n",
    "shifted_df_as_np\n",
    "#shifted_df_as_np"
   ],
   "metadata": {
    "collapsed": false,
    "ExecuteTime": {
     "end_time": "2023-08-31T13:05:43.745750700Z",
     "start_time": "2023-08-31T13:05:43.493755Z"
    }
   },
   "id": "88b63a23fbbdf2b2"
  },
  {
   "cell_type": "code",
   "execution_count": 366,
   "outputs": [
    {
     "data": {
      "text/plain": "((9007, 7), (9007,))"
     },
     "execution_count": 366,
     "metadata": {},
     "output_type": "execute_result"
    }
   ],
   "source": [
    "X = shifted_df_as_np[:, 1:]\n",
    "y = shifted_df_as_np[:, 0]\n",
    "\n",
    "X.shape, y.shape"
   ],
   "metadata": {
    "collapsed": false,
    "ExecuteTime": {
     "end_time": "2023-08-31T13:05:43.746751Z",
     "start_time": "2023-08-31T13:05:43.508752600Z"
    }
   },
   "id": "a56633f8e9b7ee12"
  },
  {
   "cell_type": "code",
   "execution_count": 367,
   "outputs": [
    {
     "data": {
      "text/plain": "array([[-0.65316769, -0.6554006 , -0.65215273, ..., -0.64443903,\n        -0.65093478, -0.64890486],\n       [-0.6554006 , -0.65215273, -0.64809289, ..., -0.65093478,\n        -0.64890486, -0.64423604],\n       [-0.65215273, -0.64809289, -0.64443903, ..., -0.64890486,\n        -0.64423604, -0.63875525],\n       ...,\n       [ 0.48034021,  0.49414368,  0.50003045, ...,  0.53352415,\n         0.55341737,  0.53555407],\n       [ 0.49414368,  0.50003045,  0.50510525, ...,  0.55341737,\n         0.53555407,  0.53169722],\n       [ 0.50003045,  0.50510525,  0.53352415, ...,  0.53555407,\n         0.53169722,  0.53928912]])"
     },
     "execution_count": 367,
     "metadata": {},
     "output_type": "execute_result"
    }
   ],
   "source": [
    "X = dc(np.flip(X, axis=1))\n",
    "X"
   ],
   "metadata": {
    "collapsed": false,
    "ExecuteTime": {
     "end_time": "2023-08-31T13:05:43.746751Z",
     "start_time": "2023-08-31T13:05:43.524752100Z"
    }
   },
   "id": "e79a79621d72f6f9"
  },
  {
   "cell_type": "code",
   "execution_count": 368,
   "outputs": [
    {
     "data": {
      "text/plain": "((9007, 7, 1), (9007, 1))"
     },
     "execution_count": 368,
     "metadata": {},
     "output_type": "execute_result"
    }
   ],
   "source": [
    "X = X.reshape((-1, lookback, 1))\n",
    "y = y.reshape((-1, 1))\n",
    "X.shape,y.shape"
   ],
   "metadata": {
    "collapsed": false,
    "ExecuteTime": {
     "end_time": "2023-08-31T13:05:43.746751Z",
     "start_time": "2023-08-31T13:05:43.542753700Z"
    }
   },
   "id": "af945a2a03630db4"
  },
  {
   "cell_type": "code",
   "execution_count": 369,
   "outputs": [],
   "source": [
    "X = torch.tensor(X).float()\n",
    "y = torch.tensor(y).float()"
   ],
   "metadata": {
    "collapsed": false,
    "ExecuteTime": {
     "end_time": "2023-08-31T13:05:43.747751Z",
     "start_time": "2023-08-31T13:05:43.556752900Z"
    }
   },
   "id": "ade7e5d20cf08bca"
  },
  {
   "cell_type": "code",
   "execution_count": 370,
   "outputs": [],
   "source": [
    "from torch.utils.data import Dataset\n",
    "\n",
    "class TimeSeriesDataset(Dataset):\n",
    "    def __init__(self, X, y):\n",
    "        self.X = X\n",
    "        self.y = y\n",
    "\n",
    "    def __len__(self):\n",
    "        return len(self.X)\n",
    "\n",
    "    def __getitem__(self, i):\n",
    "        return self.X[i], self.y[i]\n",
    "\n",
    "dataset = TimeSeriesDataset(X, y)"
   ],
   "metadata": {
    "collapsed": false,
    "ExecuteTime": {
     "end_time": "2023-08-31T13:05:43.747751Z",
     "start_time": "2023-08-31T13:05:43.573749600Z"
    }
   },
   "id": "6fa07ee1acf91b83"
  },
  {
   "cell_type": "code",
   "execution_count": 371,
   "outputs": [],
   "source": [
    "from torch.utils.data import DataLoader\n",
    "\n",
    "batch_size = 16\n",
    "\n",
    "train_loader = DataLoader(dataset, batch_size=batch_size, shuffle=True)\n",
    "test_loader = DataLoader(dataset, batch_size=batch_size, shuffle=False)"
   ],
   "metadata": {
    "collapsed": false,
    "ExecuteTime": {
     "end_time": "2023-08-31T13:05:43.747751Z",
     "start_time": "2023-08-31T13:05:43.589750100Z"
    }
   },
   "id": "2e4cf93f3140a6df"
  },
  {
   "cell_type": "code",
   "execution_count": 372,
   "outputs": [
    {
     "name": "stdout",
     "output_type": "stream",
     "text": [
      "torch.Size([16, 7, 1]) torch.Size([16, 1])\n"
     ]
    }
   ],
   "source": [
    "for _, batch in enumerate(train_loader):\n",
    "    x_batch, y_batch = batch[0].to(device), batch[1].to(device)\n",
    "    print(x_batch.shape, y_batch.shape)\n",
    "    break"
   ],
   "metadata": {
    "collapsed": false,
    "ExecuteTime": {
     "end_time": "2023-08-31T13:05:43.747751Z",
     "start_time": "2023-08-31T13:05:43.605749900Z"
    }
   },
   "id": "e45531b9f103b167"
  },
  {
   "cell_type": "code",
   "execution_count": 373,
   "outputs": [
    {
     "data": {
      "text/plain": "LSTM(\n  (lstm): LSTM(1, 4, batch_first=True)\n  (fc): Linear(in_features=4, out_features=1, bias=True)\n)"
     },
     "execution_count": 373,
     "metadata": {},
     "output_type": "execute_result"
    }
   ],
   "source": [
    "class LSTM(nn.Module):\n",
    "    def __init__(self, input_size, hidden_size, num_stacked_layers):\n",
    "        super().__init__()\n",
    "        self.hidden_size = hidden_size\n",
    "        self.num_stacked_layers = num_stacked_layers\n",
    "\n",
    "        self.lstm = nn.LSTM(input_size, hidden_size, num_stacked_layers,\n",
    "                            batch_first=True)\n",
    "\n",
    "        self.fc = nn.Linear(hidden_size, 1)\n",
    "\n",
    "    def forward(self, x):\n",
    "        batch_size = x.size(0)\n",
    "        h0 = torch.zeros(self.num_stacked_layers, batch_size, self.hidden_size).to(device)\n",
    "        c0 = torch.zeros(self.num_stacked_layers, batch_size, self.hidden_size).to(device)\n",
    "\n",
    "        out, _ = self.lstm(x, (h0, c0))\n",
    "        out = self.fc(out[:, -1, :])\n",
    "        return out\n",
    "\n",
    "model = LSTM(1, 4, 1)\n",
    "model.to(device)\n",
    "model"
   ],
   "metadata": {
    "collapsed": false,
    "ExecuteTime": {
     "end_time": "2023-08-31T13:05:43.747751Z",
     "start_time": "2023-08-31T13:05:43.622749600Z"
    }
   },
   "id": "f37f3e3d321f2637"
  },
  {
   "cell_type": "code",
   "execution_count": 374,
   "outputs": [],
   "source": [
    "def train_one_epoch():\n",
    "    model.train(True)\n",
    "    print(f'Epoch: {epoch + 1}')\n",
    "    running_loss = 0.0\n",
    "\n",
    "    for batch_index, batch in enumerate(train_loader):\n",
    "        x_batch, y_batch = batch[0].to(device), batch[1].to(device)\n",
    "\n",
    "        output = model(x_batch)\n",
    "        loss = loss_function(output, y_batch)\n",
    "        running_loss += loss.item()\n",
    "\n",
    "        optimizer.zero_grad()\n",
    "        loss.backward()\n",
    "        optimizer.step()\n",
    "\n",
    "        if batch_index % 100 == 99:  # print every 100 batches\n",
    "            avg_loss_across_batches = running_loss / 100\n",
    "            print('Batch {0}, Loss: {1:.3f}'.format(batch_index+1,\n",
    "                                                    avg_loss_across_batches))\n",
    "            running_loss = 0.0\n",
    "    print()"
   ],
   "metadata": {
    "collapsed": false,
    "ExecuteTime": {
     "end_time": "2023-08-31T13:05:43.747751Z",
     "start_time": "2023-08-31T13:05:43.635749600Z"
    }
   },
   "id": "9ad970afb24ab0f8"
  },
  {
   "cell_type": "code",
   "execution_count": 375,
   "outputs": [],
   "source": [
    "def validate_one_epoch():\n",
    "    model.train(False)\n",
    "    running_loss = 0.0\n",
    "\n",
    "    for batch_index, batch in enumerate(test_loader):\n",
    "        x_batch, y_batch = batch[0].to(device), batch[1].to(device)\n",
    "\n",
    "        with torch.no_grad():\n",
    "            output = model(x_batch)\n",
    "            loss = loss_function(output, y_batch)\n",
    "            running_loss += loss.item()\n",
    "\n",
    "    avg_loss_across_batches = running_loss / len(test_loader)\n",
    "\n",
    "    print('Val Loss: {0:.3f}'.format(avg_loss_across_batches))\n",
    "    print('***************************************************')\n",
    "    print()"
   ],
   "metadata": {
    "collapsed": false,
    "ExecuteTime": {
     "end_time": "2023-08-31T13:05:43.748752100Z",
     "start_time": "2023-08-31T13:05:43.650749700Z"
    }
   },
   "id": "3ab775190ab25909"
  },
  {
   "cell_type": "code",
   "execution_count": 376,
   "outputs": [
    {
     "name": "stdout",
     "output_type": "stream",
     "text": [
      "Epoch: 1\n",
      "Batch 100, Loss: 0.254\n",
      "Batch 200, Loss: 0.061\n",
      "Batch 300, Loss: 0.006\n",
      "Batch 400, Loss: 0.003\n",
      "Batch 500, Loss: 0.003\n",
      "Val Loss: 0.003\n",
      "***************************************************\n",
      "\n",
      "Epoch: 2\n",
      "Batch 100, Loss: 0.002\n",
      "Batch 200, Loss: 0.002\n",
      "Batch 300, Loss: 0.002\n",
      "Batch 400, Loss: 0.002\n",
      "Batch 500, Loss: 0.002\n",
      "Val Loss: 0.001\n",
      "***************************************************\n",
      "\n",
      "Epoch: 3\n",
      "Batch 100, Loss: 0.001\n",
      "Batch 200, Loss: 0.001\n",
      "Batch 300, Loss: 0.001\n",
      "Batch 400, Loss: 0.001\n",
      "Batch 500, Loss: 0.001\n",
      "Val Loss: 0.001\n",
      "***************************************************\n",
      "\n",
      "Epoch: 4\n",
      "Batch 100, Loss: 0.001\n",
      "Batch 200, Loss: 0.001\n",
      "Batch 300, Loss: 0.001\n",
      "Batch 400, Loss: 0.001\n",
      "Batch 500, Loss: 0.001\n",
      "Val Loss: 0.001\n",
      "***************************************************\n",
      "\n",
      "Epoch: 5\n",
      "Batch 100, Loss: 0.001\n",
      "Batch 200, Loss: 0.001\n",
      "Batch 300, Loss: 0.000\n",
      "Batch 400, Loss: 0.001\n",
      "Batch 500, Loss: 0.001\n",
      "Val Loss: 0.001\n",
      "***************************************************\n",
      "\n",
      "Epoch: 6\n",
      "Batch 100, Loss: 0.000\n",
      "Batch 200, Loss: 0.001\n",
      "Batch 300, Loss: 0.001\n",
      "Batch 400, Loss: 0.001\n",
      "Batch 500, Loss: 0.001\n",
      "Val Loss: 0.001\n",
      "***************************************************\n",
      "\n",
      "Epoch: 7\n",
      "Batch 100, Loss: 0.001\n",
      "Batch 200, Loss: 0.000\n",
      "Batch 300, Loss: 0.000\n",
      "Batch 400, Loss: 0.000\n",
      "Batch 500, Loss: 0.001\n",
      "Val Loss: 0.001\n",
      "***************************************************\n",
      "\n",
      "Epoch: 8\n",
      "Batch 100, Loss: 0.001\n",
      "Batch 200, Loss: 0.001\n",
      "Batch 300, Loss: 0.001\n",
      "Batch 400, Loss: 0.001\n",
      "Batch 500, Loss: 0.000\n",
      "Val Loss: 0.001\n",
      "***************************************************\n",
      "\n",
      "Epoch: 9\n",
      "Batch 100, Loss: 0.000\n",
      "Batch 200, Loss: 0.001\n",
      "Batch 300, Loss: 0.000\n",
      "Batch 400, Loss: 0.001\n",
      "Batch 500, Loss: 0.000\n",
      "Val Loss: 0.000\n",
      "***************************************************\n",
      "\n",
      "Epoch: 10\n",
      "Batch 100, Loss: 0.001\n",
      "Batch 200, Loss: 0.000\n",
      "Batch 300, Loss: 0.000\n",
      "Batch 400, Loss: 0.001\n",
      "Batch 500, Loss: 0.001\n",
      "Val Loss: 0.000\n",
      "***************************************************\n",
      "\n",
      "Epoch: 11\n",
      "Batch 100, Loss: 0.001\n",
      "Batch 200, Loss: 0.000\n",
      "Batch 300, Loss: 0.001\n",
      "Batch 400, Loss: 0.000\n",
      "Batch 500, Loss: 0.000\n",
      "Val Loss: 0.000\n",
      "***************************************************\n",
      "\n",
      "Epoch: 12\n",
      "Batch 100, Loss: 0.001\n",
      "Batch 200, Loss: 0.001\n",
      "Batch 300, Loss: 0.000\n",
      "Batch 400, Loss: 0.001\n",
      "Batch 500, Loss: 0.000\n",
      "Val Loss: 0.000\n",
      "***************************************************\n",
      "\n",
      "Epoch: 13\n",
      "Batch 100, Loss: 0.000\n",
      "Batch 200, Loss: 0.000\n",
      "Batch 300, Loss: 0.001\n",
      "Batch 400, Loss: 0.000\n",
      "Batch 500, Loss: 0.001\n",
      "Val Loss: 0.000\n",
      "***************************************************\n",
      "\n",
      "Epoch: 14\n",
      "Batch 100, Loss: 0.001\n",
      "Batch 200, Loss: 0.001\n",
      "Batch 300, Loss: 0.000\n",
      "Batch 400, Loss: 0.000\n",
      "Batch 500, Loss: 0.000\n",
      "Val Loss: 0.000\n",
      "***************************************************\n",
      "\n",
      "Epoch: 15\n",
      "Batch 100, Loss: 0.000\n",
      "Batch 200, Loss: 0.000\n",
      "Batch 300, Loss: 0.000\n",
      "Batch 400, Loss: 0.000\n",
      "Batch 500, Loss: 0.001\n",
      "Val Loss: 0.000\n",
      "***************************************************\n",
      "\n",
      "Epoch: 16\n",
      "Batch 100, Loss: 0.000\n",
      "Batch 200, Loss: 0.001\n",
      "Batch 300, Loss: 0.000\n",
      "Batch 400, Loss: 0.001\n",
      "Batch 500, Loss: 0.000\n",
      "Val Loss: 0.000\n",
      "***************************************************\n",
      "\n",
      "Epoch: 17\n",
      "Batch 100, Loss: 0.001\n",
      "Batch 200, Loss: 0.000\n",
      "Batch 300, Loss: 0.000\n",
      "Batch 400, Loss: 0.000\n",
      "Batch 500, Loss: 0.000\n",
      "Val Loss: 0.000\n",
      "***************************************************\n",
      "\n",
      "Epoch: 18\n",
      "Batch 100, Loss: 0.000\n",
      "Batch 200, Loss: 0.000\n",
      "Batch 300, Loss: 0.000\n",
      "Batch 400, Loss: 0.001\n",
      "Batch 500, Loss: 0.001\n",
      "Val Loss: 0.000\n",
      "***************************************************\n",
      "\n",
      "Epoch: 19\n",
      "Batch 100, Loss: 0.000\n",
      "Batch 200, Loss: 0.000\n",
      "Batch 300, Loss: 0.000\n",
      "Batch 400, Loss: 0.000\n",
      "Batch 500, Loss: 0.001\n",
      "Val Loss: 0.000\n",
      "***************************************************\n",
      "\n",
      "Epoch: 20\n",
      "Batch 100, Loss: 0.000\n",
      "Batch 200, Loss: 0.000\n",
      "Batch 300, Loss: 0.000\n",
      "Batch 400, Loss: 0.000\n",
      "Batch 500, Loss: 0.001\n",
      "Val Loss: 0.000\n",
      "***************************************************\n"
     ]
    }
   ],
   "source": [
    "learning_rate = 0.001\n",
    "num_epochs = 20\n",
    "loss_function = nn.MSELoss()\n",
    "optimizer = torch.optim.Adam(model.parameters(), lr=learning_rate)\n",
    "\"\"\"\n",
    "Adam does the gradient descent for me\n",
    "\"\"\"\n",
    "for epoch in range(num_epochs):\n",
    "    train_one_epoch()\n",
    "    validate_one_epoch()"
   ],
   "metadata": {
    "collapsed": false,
    "ExecuteTime": {
     "end_time": "2023-08-31T13:06:01.159767100Z",
     "start_time": "2023-08-31T13:05:43.665749500Z"
    }
   },
   "id": "8a8d56e32fea1cae"
  },
  {
   "cell_type": "code",
   "execution_count": 377,
   "outputs": [
    {
     "data": {
      "text/plain": "          Date\n0   2023-08-29\n1   2023-08-30\n2   2023-08-31\n3   2023-09-01\n4   2023-09-02\n..         ...\n120 2023-12-27\n121 2023-12-28\n122 2023-12-29\n123 2023-12-30\n124 2023-12-31\n\n[125 rows x 1 columns]",
      "text/html": "<div>\n<style scoped>\n    .dataframe tbody tr th:only-of-type {\n        vertical-align: middle;\n    }\n\n    .dataframe tbody tr th {\n        vertical-align: top;\n    }\n\n    .dataframe thead th {\n        text-align: right;\n    }\n</style>\n<table border=\"1\" class=\"dataframe\">\n  <thead>\n    <tr style=\"text-align: right;\">\n      <th></th>\n      <th>Date</th>\n    </tr>\n  </thead>\n  <tbody>\n    <tr>\n      <th>0</th>\n      <td>2023-08-29</td>\n    </tr>\n    <tr>\n      <th>1</th>\n      <td>2023-08-30</td>\n    </tr>\n    <tr>\n      <th>2</th>\n      <td>2023-08-31</td>\n    </tr>\n    <tr>\n      <th>3</th>\n      <td>2023-09-01</td>\n    </tr>\n    <tr>\n      <th>4</th>\n      <td>2023-09-02</td>\n    </tr>\n    <tr>\n      <th>...</th>\n      <td>...</td>\n    </tr>\n    <tr>\n      <th>120</th>\n      <td>2023-12-27</td>\n    </tr>\n    <tr>\n      <th>121</th>\n      <td>2023-12-28</td>\n    </tr>\n    <tr>\n      <th>122</th>\n      <td>2023-12-29</td>\n    </tr>\n    <tr>\n      <th>123</th>\n      <td>2023-12-30</td>\n    </tr>\n    <tr>\n      <th>124</th>\n      <td>2023-12-31</td>\n    </tr>\n  </tbody>\n</table>\n<p>125 rows × 1 columns</p>\n</div>"
     },
     "execution_count": 377,
     "metadata": {},
     "output_type": "execute_result"
    }
   ],
   "source": [
    "from datetime import date, timedelta\n",
    "start_date = (train_dates.iloc[-1].date()+ timedelta(days=1)).strftime(\"%Y-%m-%d\")\n",
    "end_date = '2023-12-31'\n",
    "test_dates = pd.date_range(start=start_date, end=end_date, freq='D')\n",
    "\n",
    "# Create a DataFrame with the date column\n",
    "testset = pd.DataFrame({'Date': test_dates})\n",
    "testset['Date'] = pd.to_datetime(testset['Date'])\n",
    "testset.to_numpy()\n",
    "testset\n"
   ],
   "metadata": {
    "collapsed": false,
    "ExecuteTime": {
     "end_time": "2023-08-31T13:06:01.202766600Z",
     "start_time": "2023-08-31T13:06:01.155769500Z"
    }
   },
   "id": "517e3acebd200953"
  },
  {
   "cell_type": "code",
   "execution_count": 378,
   "outputs": [],
   "source": [
    "min_data = np.min(shifted_df_as_np_before_scaling)\n",
    "max_data = np.max(shifted_df_as_np_before_scaling)\n",
    "scaled_min = np.min(shifted_df_as_np)\n",
    "scaled_max = np.max(shifted_df_as_np)"
   ],
   "metadata": {
    "collapsed": false,
    "ExecuteTime": {
     "end_time": "2023-08-31T13:06:01.205766900Z",
     "start_time": "2023-08-31T13:06:01.170768500Z"
    }
   },
   "id": "9ef9b951638386af"
  },
  {
   "cell_type": "code",
   "execution_count": 379,
   "outputs": [
    {
     "name": "stdout",
     "output_type": "stream",
     "text": [
      "0.9999999999999998\n"
     ]
    }
   ],
   "source": [
    "def custom_scaling(data, min_val, max_val):\n",
    "    global min_data, max_data\n",
    "    if np.min(data) < min_data:\n",
    "        min_data = np.min(data)\n",
    "    else:\n",
    "        min_data = np.min(shifted_df_as_np_before_scaling)\n",
    "    if np.max(data) > max_data:\n",
    "        max_data = np.max(data)\n",
    "    else:\n",
    "        max_data = np.max(shifted_df_as_np_before_scaling)\n",
    "    scaled_data = min_val + ((data - min_data) / (max_data - min_data)) * (max_val - min_val)\n",
    "    return scaled_data\n",
    "\n",
    "scaled_min = np.min(shifted_df_as_np)\n",
    "scaled_max = np.max(shifted_df_as_np)\n",
    "print(scaled_max)\n",
    "def reverse_custom_scaling(scaled_data, min_val, max_val):\n",
    "    global scaled_min, scaled_max\n",
    "    if np.min(scaled_data) < scaled_min:\n",
    "        scaled_min = np.min(scaled_data)\n",
    "    if np.max(scaled_data) > scaled_max:\n",
    "        scaled_max = np.max(scaled_data)\n",
    "    original_data = min_data + (((scaled_data - min_val)/(max_val - min_val))*(max_data-min_data))\n",
    "    return original_data"
   ],
   "metadata": {
    "collapsed": false,
    "ExecuteTime": {
     "end_time": "2023-08-31T13:06:01.270766500Z",
     "start_time": "2023-08-31T13:06:01.185767600Z"
    }
   },
   "id": "da723160262728ee"
  },
  {
   "cell_type": "code",
   "execution_count": 380,
   "outputs": [
    {
     "data": {
      "text/plain": "         Price  Price(t-1)  Price(t-2)  Price(t-3)  Price(t-4)  Price(t-5)   \n0     0.887500    0.876000    0.871000    0.887000    0.878000    0.868000  \\\n1     0.901000    0.887500    0.876000    0.871000    0.887000    0.878000   \n2     0.883500    0.901000    0.887500    0.876000    0.871000    0.887000   \n3     0.888000    0.883500    0.901000    0.887500    0.876000    0.871000   \n4     0.888000    0.888000    0.883500    0.901000    0.887500    0.876000   \n...        ...         ...         ...         ...         ...         ...   \n9127  3.115953    3.120864    3.125794    3.130740    3.135704    3.140685   \n9128  3.111059    3.115953    3.120864    3.125794    3.130740    3.135704   \n9129  3.106183    3.111059    3.115953    3.120864    3.125794    3.130740   \n9130  3.101325    3.106183    3.111059    3.115953    3.120864    3.125794   \n9131  3.096485    3.101325    3.106183    3.111059    3.115953    3.120864   \n\n      Price(t-6)  Price(t-7)  \n0       0.860000    0.865500  \n1       0.868000    0.860000  \n2       0.878000    0.868000  \n3       0.887000    0.878000  \n4       0.871000    0.887000  \n...          ...         ...  \n9127    3.145684    3.150699  \n9128    3.140685    3.145684  \n9129    3.135704    3.140685  \n9130    3.130740    3.135704  \n9131    3.125794    3.130740  \n\n[9132 rows x 8 columns]",
      "text/html": "<div>\n<style scoped>\n    .dataframe tbody tr th:only-of-type {\n        vertical-align: middle;\n    }\n\n    .dataframe tbody tr th {\n        vertical-align: top;\n    }\n\n    .dataframe thead th {\n        text-align: right;\n    }\n</style>\n<table border=\"1\" class=\"dataframe\">\n  <thead>\n    <tr style=\"text-align: right;\">\n      <th></th>\n      <th>Price</th>\n      <th>Price(t-1)</th>\n      <th>Price(t-2)</th>\n      <th>Price(t-3)</th>\n      <th>Price(t-4)</th>\n      <th>Price(t-5)</th>\n      <th>Price(t-6)</th>\n      <th>Price(t-7)</th>\n    </tr>\n  </thead>\n  <tbody>\n    <tr>\n      <th>0</th>\n      <td>0.887500</td>\n      <td>0.876000</td>\n      <td>0.871000</td>\n      <td>0.887000</td>\n      <td>0.878000</td>\n      <td>0.868000</td>\n      <td>0.860000</td>\n      <td>0.865500</td>\n    </tr>\n    <tr>\n      <th>1</th>\n      <td>0.901000</td>\n      <td>0.887500</td>\n      <td>0.876000</td>\n      <td>0.871000</td>\n      <td>0.887000</td>\n      <td>0.878000</td>\n      <td>0.868000</td>\n      <td>0.860000</td>\n    </tr>\n    <tr>\n      <th>2</th>\n      <td>0.883500</td>\n      <td>0.901000</td>\n      <td>0.887500</td>\n      <td>0.876000</td>\n      <td>0.871000</td>\n      <td>0.887000</td>\n      <td>0.878000</td>\n      <td>0.868000</td>\n    </tr>\n    <tr>\n      <th>3</th>\n      <td>0.888000</td>\n      <td>0.883500</td>\n      <td>0.901000</td>\n      <td>0.887500</td>\n      <td>0.876000</td>\n      <td>0.871000</td>\n      <td>0.887000</td>\n      <td>0.878000</td>\n    </tr>\n    <tr>\n      <th>4</th>\n      <td>0.888000</td>\n      <td>0.888000</td>\n      <td>0.883500</td>\n      <td>0.901000</td>\n      <td>0.887500</td>\n      <td>0.876000</td>\n      <td>0.871000</td>\n      <td>0.887000</td>\n    </tr>\n    <tr>\n      <th>...</th>\n      <td>...</td>\n      <td>...</td>\n      <td>...</td>\n      <td>...</td>\n      <td>...</td>\n      <td>...</td>\n      <td>...</td>\n      <td>...</td>\n    </tr>\n    <tr>\n      <th>9127</th>\n      <td>3.115953</td>\n      <td>3.120864</td>\n      <td>3.125794</td>\n      <td>3.130740</td>\n      <td>3.135704</td>\n      <td>3.140685</td>\n      <td>3.145684</td>\n      <td>3.150699</td>\n    </tr>\n    <tr>\n      <th>9128</th>\n      <td>3.111059</td>\n      <td>3.115953</td>\n      <td>3.120864</td>\n      <td>3.125794</td>\n      <td>3.130740</td>\n      <td>3.135704</td>\n      <td>3.140685</td>\n      <td>3.145684</td>\n    </tr>\n    <tr>\n      <th>9129</th>\n      <td>3.106183</td>\n      <td>3.111059</td>\n      <td>3.115953</td>\n      <td>3.120864</td>\n      <td>3.125794</td>\n      <td>3.130740</td>\n      <td>3.135704</td>\n      <td>3.140685</td>\n    </tr>\n    <tr>\n      <th>9130</th>\n      <td>3.101325</td>\n      <td>3.106183</td>\n      <td>3.111059</td>\n      <td>3.115953</td>\n      <td>3.120864</td>\n      <td>3.125794</td>\n      <td>3.130740</td>\n      <td>3.135704</td>\n    </tr>\n    <tr>\n      <th>9131</th>\n      <td>3.096485</td>\n      <td>3.101325</td>\n      <td>3.106183</td>\n      <td>3.111059</td>\n      <td>3.115953</td>\n      <td>3.120864</td>\n      <td>3.125794</td>\n      <td>3.130740</td>\n    </tr>\n  </tbody>\n</table>\n<p>9132 rows × 8 columns</p>\n</div>"
     },
     "execution_count": 380,
     "metadata": {},
     "output_type": "execute_result"
    }
   ],
   "source": [
    "for _ in range(test_dates.shape[0]):    \n",
    "    shifted_df_as_np_before_scaling = shifted_df.to_numpy()\n",
    "    sample2 = shifted_df_as_np_before_scaling[-1,1:]\n",
    "    sample2 = sample2.reshape(1,-1)\n",
    "    sample2_np = np.flip(sample2,axis=1)\n",
    "    sample2_np = custom_scaling(sample2_np,-1,1)\n",
    "    sample2_np = sample2_np.reshape((-1, lookback, 1))\n",
    "    sample2_tensor = torch.tensor(sample2_np).float()\n",
    "    with torch.no_grad():\n",
    "        predicted = model(sample2_tensor.to(device)).to('cpu').numpy()\n",
    "    #predicted\n",
    "    res = reverse_custom_scaling(predicted,-1,1)\n",
    "    sample2[0][-1]\n",
    "    new_row = {'Price':res[0][0], \n",
    "               'Price(t-1)':shifted_df_as_np_before_scaling[-1][0],\n",
    "               'Price(t-2)':shifted_df_as_np_before_scaling[-1][1],\n",
    "               'Price(t-3)':shifted_df_as_np_before_scaling[-1][2],\n",
    "               'Price(t-4)':shifted_df_as_np_before_scaling[-1][3],\n",
    "               'Price(t-5)':shifted_df_as_np_before_scaling[-1][4],\n",
    "               'Price(t-6)':shifted_df_as_np_before_scaling[-1][5],\n",
    "               'Price(t-7)':shifted_df_as_np_before_scaling[-1][6]\n",
    "               }\n",
    "    new_row \n",
    "    shifted_df = shifted_df._append(new_row,ignore_index=True)\n",
    "shifted_df "
   ],
   "metadata": {
    "collapsed": false,
    "ExecuteTime": {
     "end_time": "2023-08-31T13:06:01.393767600Z",
     "start_time": "2023-08-31T13:06:01.203768800Z"
    }
   },
   "id": "dc113f9429938615"
  },
  {
   "cell_type": "code",
   "execution_count": 380,
   "outputs": [],
   "source": [],
   "metadata": {
    "collapsed": false,
    "ExecuteTime": {
     "end_time": "2023-08-31T13:06:01.440862800Z",
     "start_time": "2023-08-31T13:06:01.388767600Z"
    }
   },
   "id": "371edbbc5b61033f"
  },
  {
   "cell_type": "code",
   "execution_count": 384,
   "outputs": [
    {
     "data": {
      "text/plain": "          Date     Price\n0   2023-08-29  3.784881\n1   2023-08-30  3.777451\n2   2023-08-31  3.772617\n3   2023-09-01  3.766046\n4   2023-09-02  3.760782\n..         ...       ...\n120 2023-12-27  3.115953\n121 2023-12-28  3.111059\n122 2023-12-29  3.106183\n123 2023-12-30  3.101325\n124 2023-12-31  3.096485\n\n[125 rows x 2 columns]",
      "text/html": "<div>\n<style scoped>\n    .dataframe tbody tr th:only-of-type {\n        vertical-align: middle;\n    }\n\n    .dataframe tbody tr th {\n        vertical-align: top;\n    }\n\n    .dataframe thead th {\n        text-align: right;\n    }\n</style>\n<table border=\"1\" class=\"dataframe\">\n  <thead>\n    <tr style=\"text-align: right;\">\n      <th></th>\n      <th>Date</th>\n      <th>Price</th>\n    </tr>\n  </thead>\n  <tbody>\n    <tr>\n      <th>0</th>\n      <td>2023-08-29</td>\n      <td>3.784881</td>\n    </tr>\n    <tr>\n      <th>1</th>\n      <td>2023-08-30</td>\n      <td>3.777451</td>\n    </tr>\n    <tr>\n      <th>2</th>\n      <td>2023-08-31</td>\n      <td>3.772617</td>\n    </tr>\n    <tr>\n      <th>3</th>\n      <td>2023-09-01</td>\n      <td>3.766046</td>\n    </tr>\n    <tr>\n      <th>4</th>\n      <td>2023-09-02</td>\n      <td>3.760782</td>\n    </tr>\n    <tr>\n      <th>...</th>\n      <td>...</td>\n      <td>...</td>\n    </tr>\n    <tr>\n      <th>120</th>\n      <td>2023-12-27</td>\n      <td>3.115953</td>\n    </tr>\n    <tr>\n      <th>121</th>\n      <td>2023-12-28</td>\n      <td>3.111059</td>\n    </tr>\n    <tr>\n      <th>122</th>\n      <td>2023-12-29</td>\n      <td>3.106183</td>\n    </tr>\n    <tr>\n      <th>123</th>\n      <td>2023-12-30</td>\n      <td>3.101325</td>\n    </tr>\n    <tr>\n      <th>124</th>\n      <td>2023-12-31</td>\n      <td>3.096485</td>\n    </tr>\n  </tbody>\n</table>\n<p>125 rows × 2 columns</p>\n</div>"
     },
     "execution_count": 384,
     "metadata": {},
     "output_type": "execute_result"
    }
   ],
   "source": [
    "testset\n",
    "temp = shifted_df.tail(125)[\"Price\"]\n",
    "new_set = pd.DataFrame(columns=[\"Date\",\"Price\"]) \n",
    "for i in range(test_dates.shape[0]):\n",
    "    item = {\"Date\":test_dates[i].date(), \"Price\": temp.iloc[i]}\n",
    "    new_set = new_set._append(item, ignore_index=True)\n",
    "\n",
    "new_set[\"Date\"] = pd.to_datetime(new_set[\"Date\"])\n",
    "new_set"
   ],
   "metadata": {
    "collapsed": false,
    "ExecuteTime": {
     "end_time": "2023-08-31T13:08:33.505320900Z",
     "start_time": "2023-08-31T13:08:33.491320900Z"
    }
   },
   "id": "508e95b02b7f76bd"
  },
  {
   "cell_type": "markdown",
   "source": [
    " "
   ],
   "metadata": {
    "collapsed": false
   },
   "id": "d9a36176a9b03d65"
  },
  {
   "cell_type": "code",
   "execution_count": 392,
   "outputs": [
    {
     "data": {
      "text/plain": "<Figure size 1000x600 with 1 Axes>",
      "image/png": "[encoded data removed]"
     },
     "metadata": {},
     "output_type": "display_data"
    }
   ],
   "source": [
    "plt.figure(figsize=(10, 6))\n",
    "\n",
    "test_dates = pd.date_range(start='1988-08-10', end='2023-12-31', freq='D')\n",
    "plt.plot( shifted_df['Price'], marker='o')\n",
    "plt.xlabel('Date')\n",
    "plt.ylabel('Price')\n",
    "plt.title('Price Over Time')\n",
    "plt.grid(True)\n",
    "plt.show()"
   ],
   "metadata": {
    "collapsed": false,
    "ExecuteTime": {
     "end_time": "2023-08-31T13:11:54.692110200Z",
     "start_time": "2023-08-31T13:11:54.542109900Z"
    }
   },
   "id": "61ec4060d957d5bc"
  },
  {
   "cell_type": "code",
   "execution_count": 382,
   "outputs": [],
   "source": [],
   "metadata": {
    "collapsed": false,
    "ExecuteTime": {
     "end_time": "2023-08-31T13:06:01.668009700Z",
     "start_time": "2023-08-31T13:06:01.627011100Z"
    }
   },
   "id": "3384da7af990f509"
  }
 ],
 "metadata": {
  "kernelspec": {
   "display_name": "Python 3",
   "language": "python",
   "name": "python3"
  },
  "language_info": {
   "codemirror_mode": {
    "name": "ipython",
    "version": 2
   },
   "file_extension": ".py",
   "mimetype": "text/x-python",
   "name": "python",
   "nbconvert_exporter": "python",
   "pygments_lexer": "ipython2",
   "version": "2.7.6"
  }
 },
 "nbformat": 4,
 "nbformat_minor": 5
}
