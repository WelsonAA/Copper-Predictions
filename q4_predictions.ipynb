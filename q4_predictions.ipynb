{
 "cells": [
  {
   "cell_type": "code",
   "execution_count": 79,
   "id": "initial_id",
   "metadata": {
    "collapsed": true,
    "ExecuteTime": {
     "end_time": "2023-08-31T07:58:45.989617100Z",
     "start_time": "2023-08-31T07:58:45.828300200Z"
    }
   },
   "outputs": [],
   "source": [
    "import pandas as pd\n",
    "import numpy as np\n",
    "import matplotlib.pyplot as plt\n",
    "\n",
    "import torch\n",
    "import torch.nn as nn\n",
    "\n",
    "from sklearn.preprocessing import MinMaxScaler"
   ]
  },
  {
   "cell_type": "code",
   "execution_count": 80,
   "outputs": [
    {
     "data": {
      "text/plain": "7      1988-08-10\n8      1988-08-11\n9      1988-08-12\n10     1988-08-15\n11     1988-08-16\n          ...    \n9009   2023-08-23\n9010   2023-08-24\n9011   2023-08-25\n9012   2023-08-27\n9013   2023-08-28\nName: Date, Length: 9007, dtype: datetime64[ns]"
     },
     "execution_count": 80,
     "metadata": {},
     "output_type": "execute_result"
    }
   ],
   "source": [
    "import pandas as pd\n",
    "import numpy as np\n",
    "import matplotlib.pyplot as plt\n",
    "\n",
    "import torch\n",
    "import torch.nn as nn\n",
    "\n",
    "data = pd.read_csv(\"output.csv\")\n",
    "train_dates = pd.to_datetime(data[\"Date\"])\n",
    "train_dates = train_dates[7:]\n",
    "train_dates\n"
   ],
   "metadata": {
    "collapsed": false,
    "ExecuteTime": {
     "end_time": "2023-08-31T07:58:46.054618500Z",
     "start_time": "2023-08-31T07:58:45.841299300Z"
    }
   },
   "id": "3a75c928dfc5c42f"
  },
  {
   "cell_type": "code",
   "execution_count": 81,
   "outputs": [
    {
     "data": {
      "text/plain": "'cpu'"
     },
     "execution_count": 81,
     "metadata": {},
     "output_type": "execute_result"
    }
   ],
   "source": [
    "device = 'cuda:0' if torch.cuda.is_available() else 'cpu'\n",
    "device"
   ],
   "metadata": {
    "collapsed": false,
    "ExecuteTime": {
     "end_time": "2023-08-31T07:58:46.054618500Z",
     "start_time": "2023-08-31T07:58:45.870617800Z"
    }
   },
   "id": "b6f8624872321429"
  },
  {
   "cell_type": "code",
   "execution_count": 132,
   "outputs": [
    {
     "data": {
      "text/plain": "             Price  Price(t-1)  Price(t-2)  Price(t-3)  Price(t-4)   \nDate                                                                 \n1988-08-10  0.8875      0.8760      0.8710      0.8870      0.8780  \\\n1988-08-11  0.9010      0.8875      0.8760      0.8710      0.8870   \n1988-08-12  0.8835      0.9010      0.8875      0.8760      0.8710   \n1988-08-15  0.8880      0.8835      0.9010      0.8875      0.8760   \n1988-08-16  0.8880      0.8880      0.8835      0.9010      0.8875   \n...            ...         ...         ...         ...         ...   \n2023-08-23  3.8375      3.7885      3.7185      3.7060      3.6915   \n2023-08-24  3.7935      3.8375      3.7885      3.7185      3.7060   \n2023-08-25  3.7840      3.7935      3.8375      3.7885      3.7185   \n2023-08-27  3.8027      3.7840      3.7935      3.8375      3.7885   \n2023-08-28  3.7880      3.8027      3.7840      3.7935      3.8375   \n\n            Price(t-5)  Price(t-6)  Price(t-7)  \nDate                                            \n1988-08-10      0.8680      0.8600      0.8655  \n1988-08-11      0.8780      0.8680      0.8600  \n1988-08-12      0.8870      0.8780      0.8680  \n1988-08-15      0.8710      0.8870      0.8780  \n1988-08-16      0.8760      0.8710      0.8870  \n...                ...         ...         ...  \n2023-08-23      3.6575      3.6675      3.7255  \n2023-08-24      3.6915      3.6575      3.6675  \n2023-08-25      3.7060      3.6915      3.6575  \n2023-08-27      3.7185      3.7060      3.6915  \n2023-08-28      3.7885      3.7185      3.7060  \n\n[9007 rows x 8 columns]",
      "text/html": "<div>\n<style scoped>\n    .dataframe tbody tr th:only-of-type {\n        vertical-align: middle;\n    }\n\n    .dataframe tbody tr th {\n        vertical-align: top;\n    }\n\n    .dataframe thead th {\n        text-align: right;\n    }\n</style>\n<table border=\"1\" class=\"dataframe\">\n  <thead>\n    <tr style=\"text-align: right;\">\n      <th></th>\n      <th>Price</th>\n      <th>Price(t-1)</th>\n      <th>Price(t-2)</th>\n      <th>Price(t-3)</th>\n      <th>Price(t-4)</th>\n      <th>Price(t-5)</th>\n      <th>Price(t-6)</th>\n      <th>Price(t-7)</th>\n    </tr>\n    <tr>\n      <th>Date</th>\n      <th></th>\n      <th></th>\n      <th></th>\n      <th></th>\n      <th></th>\n      <th></th>\n      <th></th>\n      <th></th>\n    </tr>\n  </thead>\n  <tbody>\n    <tr>\n      <th>1988-08-10</th>\n      <td>0.8875</td>\n      <td>0.8760</td>\n      <td>0.8710</td>\n      <td>0.8870</td>\n      <td>0.8780</td>\n      <td>0.8680</td>\n      <td>0.8600</td>\n      <td>0.8655</td>\n    </tr>\n    <tr>\n      <th>1988-08-11</th>\n      <td>0.9010</td>\n      <td>0.8875</td>\n      <td>0.8760</td>\n      <td>0.8710</td>\n      <td>0.8870</td>\n      <td>0.8780</td>\n      <td>0.8680</td>\n      <td>0.8600</td>\n    </tr>\n    <tr>\n      <th>1988-08-12</th>\n      <td>0.8835</td>\n      <td>0.9010</td>\n      <td>0.8875</td>\n      <td>0.8760</td>\n      <td>0.8710</td>\n      <td>0.8870</td>\n      <td>0.8780</td>\n      <td>0.8680</td>\n    </tr>\n    <tr>\n      <th>1988-08-15</th>\n      <td>0.8880</td>\n      <td>0.8835</td>\n      <td>0.9010</td>\n      <td>0.8875</td>\n      <td>0.8760</td>\n      <td>0.8710</td>\n      <td>0.8870</td>\n      <td>0.8780</td>\n    </tr>\n    <tr>\n      <th>1988-08-16</th>\n      <td>0.8880</td>\n      <td>0.8880</td>\n      <td>0.8835</td>\n      <td>0.9010</td>\n      <td>0.8875</td>\n      <td>0.8760</td>\n      <td>0.8710</td>\n      <td>0.8870</td>\n    </tr>\n    <tr>\n      <th>...</th>\n      <td>...</td>\n      <td>...</td>\n      <td>...</td>\n      <td>...</td>\n      <td>...</td>\n      <td>...</td>\n      <td>...</td>\n      <td>...</td>\n    </tr>\n    <tr>\n      <th>2023-08-23</th>\n      <td>3.8375</td>\n      <td>3.7885</td>\n      <td>3.7185</td>\n      <td>3.7060</td>\n      <td>3.6915</td>\n      <td>3.6575</td>\n      <td>3.6675</td>\n      <td>3.7255</td>\n    </tr>\n    <tr>\n      <th>2023-08-24</th>\n      <td>3.7935</td>\n      <td>3.8375</td>\n      <td>3.7885</td>\n      <td>3.7185</td>\n      <td>3.7060</td>\n      <td>3.6915</td>\n      <td>3.6575</td>\n      <td>3.6675</td>\n    </tr>\n    <tr>\n      <th>2023-08-25</th>\n      <td>3.7840</td>\n      <td>3.7935</td>\n      <td>3.8375</td>\n      <td>3.7885</td>\n      <td>3.7185</td>\n      <td>3.7060</td>\n      <td>3.6915</td>\n      <td>3.6575</td>\n    </tr>\n    <tr>\n      <th>2023-08-27</th>\n      <td>3.8027</td>\n      <td>3.7840</td>\n      <td>3.7935</td>\n      <td>3.8375</td>\n      <td>3.7885</td>\n      <td>3.7185</td>\n      <td>3.7060</td>\n      <td>3.6915</td>\n    </tr>\n    <tr>\n      <th>2023-08-28</th>\n      <td>3.7880</td>\n      <td>3.8027</td>\n      <td>3.7840</td>\n      <td>3.7935</td>\n      <td>3.8375</td>\n      <td>3.7885</td>\n      <td>3.7185</td>\n      <td>3.7060</td>\n    </tr>\n  </tbody>\n</table>\n<p>9007 rows × 8 columns</p>\n</div>"
     },
     "execution_count": 132,
     "metadata": {},
     "output_type": "execute_result"
    }
   ],
   "source": [
    "from copy import deepcopy as dc\n",
    "\n",
    "def prepare_dataframe_for_lstm(df, n_steps):\n",
    "    df = dc(df)\n",
    "\n",
    "    df.set_index('Date', inplace=True)\n",
    "\n",
    "    for i in range(1, n_steps+1):\n",
    "        df[f'Price(t-{i})'] = df['Price'].shift(i)\n",
    "\n",
    "    df.dropna(inplace=True)\n",
    "\n",
    "    return df\n",
    "\n",
    "lookback = 7\n",
    "shifted_df = prepare_dataframe_for_lstm(data, lookback)\n",
    "shifted_df"
   ],
   "metadata": {
    "collapsed": false,
    "ExecuteTime": {
     "end_time": "2023-08-31T08:19:34.373676300Z",
     "start_time": "2023-08-31T08:19:34.332256Z"
    }
   },
   "id": "ead4168e8449253c"
  },
  {
   "cell_type": "code",
   "execution_count": 83,
   "outputs": [
    {
     "data": {
      "text/plain": "array([[0.8875, 0.876 , 0.871 , ..., 0.868 , 0.86  , 0.8655],\n       [0.901 , 0.8875, 0.876 , ..., 0.878 , 0.868 , 0.86  ],\n       [0.8835, 0.901 , 0.8875, ..., 0.887 , 0.878 , 0.868 ],\n       ...,\n       [3.784 , 3.7935, 3.8375, ..., 3.706 , 3.6915, 3.6575],\n       [3.8027, 3.784 , 3.7935, ..., 3.7185, 3.706 , 3.6915],\n       [3.788 , 3.8027, 3.784 , ..., 3.7885, 3.7185, 3.706 ]])"
     },
     "execution_count": 83,
     "metadata": {},
     "output_type": "execute_result"
    }
   ],
   "source": [
    "shifted_df_as_np_before_scaling = shifted_df.to_numpy()\n",
    "shifted_df_as_np_before_scaling"
   ],
   "metadata": {
    "collapsed": false,
    "ExecuteTime": {
     "end_time": "2023-08-31T07:58:46.055620400Z",
     "start_time": "2023-08-31T07:58:45.916619300Z"
    }
   },
   "id": "225714ae09073c95"
  },
  {
   "cell_type": "code",
   "execution_count": 84,
   "outputs": [
    {
     "data": {
      "text/plain": "(9007, 8)"
     },
     "execution_count": 84,
     "metadata": {},
     "output_type": "execute_result"
    }
   ],
   "source": [
    "shifted_df_as_np_before_scaling.shape"
   ],
   "metadata": {
    "collapsed": false,
    "ExecuteTime": {
     "end_time": "2023-08-31T07:58:46.055620400Z",
     "start_time": "2023-08-31T07:58:45.932617700Z"
    }
   },
   "id": "48fd08f44827be66"
  },
  {
   "cell_type": "code",
   "execution_count": 85,
   "outputs": [
    {
     "data": {
      "text/plain": "array([[-0.64423604, -0.64890486, -0.65093478, ..., -0.65215273,\n        -0.6554006 , -0.65316769],\n       [-0.63875525, -0.64423604, -0.64890486, ..., -0.64809289,\n        -0.65215273, -0.6554006 ],\n       [-0.64585998, -0.63875525, -0.64423604, ..., -0.64443903,\n        -0.64809289, -0.65215273],\n       ...,\n       [ 0.53169722,  0.53555407,  0.55341737, ...,  0.50003045,\n         0.49414368,  0.48034021],\n       [ 0.53928912,  0.53169722,  0.53555407, ...,  0.50510525,\n         0.50003045,  0.49414368],\n       [ 0.53332115,  0.53928912,  0.53169722, ...,  0.53352415,\n         0.50510525,  0.50003045]])"
     },
     "execution_count": 85,
     "metadata": {},
     "output_type": "execute_result"
    }
   ],
   "source": [
    "from sklearn.preprocessing import MinMaxScaler\n",
    "\n",
    "scaler = MinMaxScaler(feature_range=(-1, 1))\n",
    "scaler.fit(shifted_df_as_np_before_scaling)\n",
    "shifted_df_as_np = scaler.transform(shifted_df_as_np_before_scaling)\n",
    "shifted_df_as_np\n",
    "#shifted_df_as_np"
   ],
   "metadata": {
    "collapsed": false,
    "ExecuteTime": {
     "end_time": "2023-08-31T07:58:46.055620400Z",
     "start_time": "2023-08-31T07:58:45.948617300Z"
    }
   },
   "id": "88b63a23fbbdf2b2"
  },
  {
   "cell_type": "code",
   "execution_count": 86,
   "outputs": [
    {
     "data": {
      "text/plain": "((9007, 7), (9007,))"
     },
     "execution_count": 86,
     "metadata": {},
     "output_type": "execute_result"
    }
   ],
   "source": [
    "X = shifted_df_as_np[:, 1:]\n",
    "y = shifted_df_as_np[:, 0]\n",
    "\n",
    "X.shape, y.shape"
   ],
   "metadata": {
    "collapsed": false,
    "ExecuteTime": {
     "end_time": "2023-08-31T07:58:46.055620400Z",
     "start_time": "2023-08-31T07:58:45.964618Z"
    }
   },
   "id": "a56633f8e9b7ee12"
  },
  {
   "cell_type": "code",
   "execution_count": 87,
   "outputs": [
    {
     "data": {
      "text/plain": "array([[-0.65316769, -0.6554006 , -0.65215273, ..., -0.64443903,\n        -0.65093478, -0.64890486],\n       [-0.6554006 , -0.65215273, -0.64809289, ..., -0.65093478,\n        -0.64890486, -0.64423604],\n       [-0.65215273, -0.64809289, -0.64443903, ..., -0.64890486,\n        -0.64423604, -0.63875525],\n       ...,\n       [ 0.48034021,  0.49414368,  0.50003045, ...,  0.53352415,\n         0.55341737,  0.53555407],\n       [ 0.49414368,  0.50003045,  0.50510525, ...,  0.55341737,\n         0.53555407,  0.53169722],\n       [ 0.50003045,  0.50510525,  0.53352415, ...,  0.53555407,\n         0.53169722,  0.53928912]])"
     },
     "execution_count": 87,
     "metadata": {},
     "output_type": "execute_result"
    }
   ],
   "source": [
    "X = dc(np.flip(X, axis=1))\n",
    "X"
   ],
   "metadata": {
    "collapsed": false,
    "ExecuteTime": {
     "end_time": "2023-08-31T07:58:46.057617600Z",
     "start_time": "2023-08-31T07:58:45.980619Z"
    }
   },
   "id": "e79a79621d72f6f9"
  },
  {
   "cell_type": "code",
   "execution_count": 88,
   "outputs": [
    {
     "data": {
      "text/plain": "((9007, 7, 1), (9007, 1))"
     },
     "execution_count": 88,
     "metadata": {},
     "output_type": "execute_result"
    }
   ],
   "source": [
    "X = X.reshape((-1, lookback, 1))\n",
    "y = y.reshape((-1, 1))\n",
    "X.shape,y.shape"
   ],
   "metadata": {
    "collapsed": false,
    "ExecuteTime": {
     "end_time": "2023-08-31T07:58:46.058617700Z",
     "start_time": "2023-08-31T07:58:45.997618400Z"
    }
   },
   "id": "af945a2a03630db4"
  },
  {
   "cell_type": "code",
   "execution_count": 89,
   "outputs": [],
   "source": [
    "X = torch.tensor(X).float()\n",
    "y = torch.tensor(y).float()"
   ],
   "metadata": {
    "collapsed": false,
    "ExecuteTime": {
     "end_time": "2023-08-31T07:58:46.058617700Z",
     "start_time": "2023-08-31T07:58:46.011619400Z"
    }
   },
   "id": "ade7e5d20cf08bca"
  },
  {
   "cell_type": "code",
   "execution_count": 90,
   "outputs": [],
   "source": [
    "from torch.utils.data import Dataset\n",
    "\n",
    "class TimeSeriesDataset(Dataset):\n",
    "    def __init__(self, X, y):\n",
    "        self.X = X\n",
    "        self.y = y\n",
    "\n",
    "    def __len__(self):\n",
    "        return len(self.X)\n",
    "\n",
    "    def __getitem__(self, i):\n",
    "        return self.X[i], self.y[i]\n",
    "\n",
    "dataset = TimeSeriesDataset(X, y)"
   ],
   "metadata": {
    "collapsed": false,
    "ExecuteTime": {
     "end_time": "2023-08-31T07:58:46.058617700Z",
     "start_time": "2023-08-31T07:58:46.026616400Z"
    }
   },
   "id": "6fa07ee1acf91b83"
  },
  {
   "cell_type": "code",
   "execution_count": 91,
   "outputs": [],
   "source": [
    "from torch.utils.data import DataLoader\n",
    "\n",
    "batch_size = 16\n",
    "\n",
    "train_loader = DataLoader(dataset, batch_size=batch_size, shuffle=True)\n",
    "test_loader = DataLoader(dataset, batch_size=batch_size, shuffle=False)"
   ],
   "metadata": {
    "collapsed": false,
    "ExecuteTime": {
     "end_time": "2023-08-31T07:58:46.116618600Z",
     "start_time": "2023-08-31T07:58:46.042618Z"
    }
   },
   "id": "2e4cf93f3140a6df"
  },
  {
   "cell_type": "code",
   "execution_count": 92,
   "outputs": [
    {
     "name": "stdout",
     "output_type": "stream",
     "text": [
      "torch.Size([16, 7, 1]) torch.Size([16, 1])\n"
     ]
    }
   ],
   "source": [
    "for _, batch in enumerate(train_loader):\n",
    "    x_batch, y_batch = batch[0].to(device), batch[1].to(device)\n",
    "    print(x_batch.shape, y_batch.shape)\n",
    "    break"
   ],
   "metadata": {
    "collapsed": false,
    "ExecuteTime": {
     "end_time": "2023-08-31T07:58:46.138617800Z",
     "start_time": "2023-08-31T07:58:46.058617700Z"
    }
   },
   "id": "e45531b9f103b167"
  },
  {
   "cell_type": "code",
   "execution_count": 93,
   "outputs": [
    {
     "data": {
      "text/plain": "LSTM(\n  (lstm): LSTM(1, 4, batch_first=True)\n  (fc): Linear(in_features=4, out_features=1, bias=True)\n)"
     },
     "execution_count": 93,
     "metadata": {},
     "output_type": "execute_result"
    }
   ],
   "source": [
    "class LSTM(nn.Module):\n",
    "    def __init__(self, input_size, hidden_size, num_stacked_layers):\n",
    "        super().__init__()\n",
    "        self.hidden_size = hidden_size\n",
    "        self.num_stacked_layers = num_stacked_layers\n",
    "\n",
    "        self.lstm = nn.LSTM(input_size, hidden_size, num_stacked_layers,\n",
    "                            batch_first=True)\n",
    "\n",
    "        self.fc = nn.Linear(hidden_size, 1)\n",
    "\n",
    "    def forward(self, x):\n",
    "        batch_size = x.size(0)\n",
    "        h0 = torch.zeros(self.num_stacked_layers, batch_size, self.hidden_size).to(device)\n",
    "        c0 = torch.zeros(self.num_stacked_layers, batch_size, self.hidden_size).to(device)\n",
    "\n",
    "        out, _ = self.lstm(x, (h0, c0))\n",
    "        out = self.fc(out[:, -1, :])\n",
    "        return out\n",
    "\n",
    "model = LSTM(1, 4, 1)\n",
    "model.to(device)\n",
    "model"
   ],
   "metadata": {
    "collapsed": false,
    "ExecuteTime": {
     "end_time": "2023-08-31T07:58:46.196617Z",
     "start_time": "2023-08-31T07:58:46.076619600Z"
    }
   },
   "id": "f37f3e3d321f2637"
  },
  {
   "cell_type": "code",
   "execution_count": 94,
   "outputs": [],
   "source": [
    "def train_one_epoch():\n",
    "    model.train(True)\n",
    "    print(f'Epoch: {epoch + 1}')\n",
    "    running_loss = 0.0\n",
    "\n",
    "    for batch_index, batch in enumerate(train_loader):\n",
    "        x_batch, y_batch = batch[0].to(device), batch[1].to(device)\n",
    "\n",
    "        output = model(x_batch)\n",
    "        loss = loss_function(output, y_batch)\n",
    "        running_loss += loss.item()\n",
    "\n",
    "        optimizer.zero_grad()\n",
    "        loss.backward()\n",
    "        optimizer.step()\n",
    "\n",
    "        if batch_index % 100 == 99:  # print every 100 batches\n",
    "            avg_loss_across_batches = running_loss / 100\n",
    "            print('Batch {0}, Loss: {1:.3f}'.format(batch_index+1,\n",
    "                                                    avg_loss_across_batches))\n",
    "            running_loss = 0.0\n",
    "    print()"
   ],
   "metadata": {
    "collapsed": false,
    "ExecuteTime": {
     "end_time": "2023-08-31T07:58:46.196617Z",
     "start_time": "2023-08-31T07:58:46.090618Z"
    }
   },
   "id": "9ad970afb24ab0f8"
  },
  {
   "cell_type": "code",
   "execution_count": 95,
   "outputs": [],
   "source": [
    "def validate_one_epoch():\n",
    "    model.train(False)\n",
    "    running_loss = 0.0\n",
    "\n",
    "    for batch_index, batch in enumerate(test_loader):\n",
    "        x_batch, y_batch = batch[0].to(device), batch[1].to(device)\n",
    "\n",
    "        with torch.no_grad():\n",
    "            output = model(x_batch)\n",
    "            loss = loss_function(output, y_batch)\n",
    "            running_loss += loss.item()\n",
    "\n",
    "    avg_loss_across_batches = running_loss / len(test_loader)\n",
    "\n",
    "    print('Val Loss: {0:.3f}'.format(avg_loss_across_batches))\n",
    "    print('***************************************************')\n",
    "    print()"
   ],
   "metadata": {
    "collapsed": false,
    "ExecuteTime": {
     "end_time": "2023-08-31T07:58:46.198617600Z",
     "start_time": "2023-08-31T07:58:46.106619Z"
    }
   },
   "id": "3ab775190ab25909"
  },
  {
   "cell_type": "code",
   "execution_count": 96,
   "outputs": [
    {
     "name": "stdout",
     "output_type": "stream",
     "text": [
      "Epoch: 1\n",
      "Batch 100, Loss: 0.578\n",
      "Batch 200, Loss: 0.348\n",
      "Batch 300, Loss: 0.089\n",
      "Batch 400, Loss: 0.011\n",
      "Batch 500, Loss: 0.007\n",
      "Val Loss: 0.005\n",
      "***************************************************\n",
      "\n",
      "Epoch: 2\n",
      "Batch 100, Loss: 0.004\n",
      "Batch 200, Loss: 0.002\n",
      "Batch 300, Loss: 0.002\n",
      "Batch 400, Loss: 0.002\n",
      "Batch 500, Loss: 0.001\n",
      "Val Loss: 0.001\n",
      "***************************************************\n",
      "\n",
      "Epoch: 3\n",
      "Batch 100, Loss: 0.001\n",
      "Batch 200, Loss: 0.001\n",
      "Batch 300, Loss: 0.001\n",
      "Batch 400, Loss: 0.001\n",
      "Batch 500, Loss: 0.001\n",
      "Val Loss: 0.001\n",
      "***************************************************\n",
      "\n",
      "Epoch: 4\n",
      "Batch 100, Loss: 0.001\n",
      "Batch 200, Loss: 0.001\n",
      "Batch 300, Loss: 0.001\n",
      "Batch 400, Loss: 0.001\n",
      "Batch 500, Loss: 0.001\n",
      "Val Loss: 0.001\n",
      "***************************************************\n",
      "\n",
      "Epoch: 5\n",
      "Batch 100, Loss: 0.001\n",
      "Batch 200, Loss: 0.001\n",
      "Batch 300, Loss: 0.001\n",
      "Batch 400, Loss: 0.001\n",
      "Batch 500, Loss: 0.001\n",
      "Val Loss: 0.001\n",
      "***************************************************\n",
      "\n",
      "Epoch: 6\n",
      "Batch 100, Loss: 0.001\n",
      "Batch 200, Loss: 0.001\n",
      "Batch 300, Loss: 0.001\n",
      "Batch 400, Loss: 0.001\n",
      "Batch 500, Loss: 0.001\n",
      "Val Loss: 0.001\n",
      "***************************************************\n",
      "\n",
      "Epoch: 7\n",
      "Batch 100, Loss: 0.001\n",
      "Batch 200, Loss: 0.001\n",
      "Batch 300, Loss: 0.001\n",
      "Batch 400, Loss: 0.001\n",
      "Batch 500, Loss: 0.000\n",
      "Val Loss: 0.001\n",
      "***************************************************\n",
      "\n",
      "Epoch: 8\n",
      "Batch 100, Loss: 0.001\n",
      "Batch 200, Loss: 0.001\n",
      "Batch 300, Loss: 0.001\n",
      "Batch 400, Loss: 0.001\n",
      "Batch 500, Loss: 0.000\n",
      "Val Loss: 0.001\n",
      "***************************************************\n",
      "\n",
      "Epoch: 9\n",
      "Batch 100, Loss: 0.001\n",
      "Batch 200, Loss: 0.001\n",
      "Batch 300, Loss: 0.001\n",
      "Batch 400, Loss: 0.000\n",
      "Batch 500, Loss: 0.001\n",
      "Val Loss: 0.001\n",
      "***************************************************\n",
      "\n",
      "Epoch: 10\n",
      "Batch 100, Loss: 0.001\n",
      "Batch 200, Loss: 0.000\n",
      "Batch 300, Loss: 0.001\n",
      "Batch 400, Loss: 0.001\n",
      "Batch 500, Loss: 0.001\n",
      "Val Loss: 0.001\n",
      "***************************************************\n",
      "\n",
      "Epoch: 11\n",
      "Batch 100, Loss: 0.001\n",
      "Batch 200, Loss: 0.000\n",
      "Batch 300, Loss: 0.001\n",
      "Batch 400, Loss: 0.000\n",
      "Batch 500, Loss: 0.001\n",
      "Val Loss: 0.001\n",
      "***************************************************\n",
      "\n",
      "Epoch: 12\n",
      "Batch 100, Loss: 0.001\n",
      "Batch 200, Loss: 0.001\n",
      "Batch 300, Loss: 0.000\n",
      "Batch 400, Loss: 0.001\n",
      "Batch 500, Loss: 0.000\n",
      "Val Loss: 0.000\n",
      "***************************************************\n",
      "\n",
      "Epoch: 13\n",
      "Batch 100, Loss: 0.001\n",
      "Batch 200, Loss: 0.001\n",
      "Batch 300, Loss: 0.001\n",
      "Batch 400, Loss: 0.000\n",
      "Batch 500, Loss: 0.000\n",
      "Val Loss: 0.001\n",
      "***************************************************\n",
      "\n",
      "Epoch: 14\n",
      "Batch 100, Loss: 0.000\n",
      "Batch 200, Loss: 0.000\n",
      "Batch 300, Loss: 0.000\n",
      "Batch 400, Loss: 0.001\n",
      "Batch 500, Loss: 0.000\n",
      "Val Loss: 0.000\n",
      "***************************************************\n",
      "\n",
      "Epoch: 15\n",
      "Batch 100, Loss: 0.001\n",
      "Batch 200, Loss: 0.000\n",
      "Batch 300, Loss: 0.001\n",
      "Batch 400, Loss: 0.001\n",
      "Batch 500, Loss: 0.000\n",
      "Val Loss: 0.000\n",
      "***************************************************\n",
      "\n",
      "Epoch: 16\n",
      "Batch 100, Loss: 0.000\n",
      "Batch 200, Loss: 0.000\n",
      "Batch 300, Loss: 0.001\n",
      "Batch 400, Loss: 0.001\n",
      "Batch 500, Loss: 0.000\n",
      "Val Loss: 0.000\n",
      "***************************************************\n",
      "\n",
      "Epoch: 17\n",
      "Batch 100, Loss: 0.000\n",
      "Batch 200, Loss: 0.001\n",
      "Batch 300, Loss: 0.001\n",
      "Batch 400, Loss: 0.001\n",
      "Batch 500, Loss: 0.000\n",
      "Val Loss: 0.000\n",
      "***************************************************\n",
      "\n",
      "Epoch: 18\n",
      "Batch 100, Loss: 0.000\n",
      "Batch 200, Loss: 0.000\n",
      "Batch 300, Loss: 0.001\n",
      "Batch 400, Loss: 0.000\n",
      "Batch 500, Loss: 0.001\n",
      "Val Loss: 0.000\n",
      "***************************************************\n",
      "\n",
      "Epoch: 19\n",
      "Batch 100, Loss: 0.000\n",
      "Batch 200, Loss: 0.001\n",
      "Batch 300, Loss: 0.001\n",
      "Batch 400, Loss: 0.000\n",
      "Batch 500, Loss: 0.000\n",
      "Val Loss: 0.000\n",
      "***************************************************\n",
      "\n",
      "Epoch: 20\n",
      "Batch 100, Loss: 0.001\n",
      "Batch 200, Loss: 0.000\n",
      "Batch 300, Loss: 0.001\n",
      "Batch 400, Loss: 0.000\n",
      "Batch 500, Loss: 0.000\n",
      "Val Loss: 0.000\n",
      "***************************************************\n"
     ]
    }
   ],
   "source": [
    "learning_rate = 0.001\n",
    "num_epochs = 20\n",
    "loss_function = nn.MSELoss()\n",
    "optimizer = torch.optim.Adam(model.parameters(), lr=learning_rate)\n",
    "\"\"\"\n",
    "Adam does the gradient descent for me\n",
    "\"\"\"\n",
    "for epoch in range(num_epochs):\n",
    "    train_one_epoch()\n",
    "    validate_one_epoch()"
   ],
   "metadata": {
    "collapsed": false,
    "ExecuteTime": {
     "end_time": "2023-08-31T07:59:03.405809200Z",
     "start_time": "2023-08-31T07:58:46.121619300Z"
    }
   },
   "id": "8a8d56e32fea1cae"
  },
  {
   "cell_type": "code",
   "execution_count": 97,
   "outputs": [
    {
     "data": {
      "text/plain": "          Date\n0   2023-08-29\n1   2023-08-30\n2   2023-08-31\n3   2023-09-01\n4   2023-09-02\n..         ...\n120 2023-12-27\n121 2023-12-28\n122 2023-12-29\n123 2023-12-30\n124 2023-12-31\n\n[125 rows x 1 columns]",
      "text/html": "<div>\n<style scoped>\n    .dataframe tbody tr th:only-of-type {\n        vertical-align: middle;\n    }\n\n    .dataframe tbody tr th {\n        vertical-align: top;\n    }\n\n    .dataframe thead th {\n        text-align: right;\n    }\n</style>\n<table border=\"1\" class=\"dataframe\">\n  <thead>\n    <tr style=\"text-align: right;\">\n      <th></th>\n      <th>Date</th>\n    </tr>\n  </thead>\n  <tbody>\n    <tr>\n      <th>0</th>\n      <td>2023-08-29</td>\n    </tr>\n    <tr>\n      <th>1</th>\n      <td>2023-08-30</td>\n    </tr>\n    <tr>\n      <th>2</th>\n      <td>2023-08-31</td>\n    </tr>\n    <tr>\n      <th>3</th>\n      <td>2023-09-01</td>\n    </tr>\n    <tr>\n      <th>4</th>\n      <td>2023-09-02</td>\n    </tr>\n    <tr>\n      <th>...</th>\n      <td>...</td>\n    </tr>\n    <tr>\n      <th>120</th>\n      <td>2023-12-27</td>\n    </tr>\n    <tr>\n      <th>121</th>\n      <td>2023-12-28</td>\n    </tr>\n    <tr>\n      <th>122</th>\n      <td>2023-12-29</td>\n    </tr>\n    <tr>\n      <th>123</th>\n      <td>2023-12-30</td>\n    </tr>\n    <tr>\n      <th>124</th>\n      <td>2023-12-31</td>\n    </tr>\n  </tbody>\n</table>\n<p>125 rows × 1 columns</p>\n</div>"
     },
     "execution_count": 97,
     "metadata": {},
     "output_type": "execute_result"
    }
   ],
   "source": [
    "from datetime import date, timedelta\n",
    "start_date = (train_dates.iloc[-1].date()+ timedelta(days=1)).strftime(\"%Y-%m-%d\")\n",
    "end_date = '2023-12-31'\n",
    "test_dates = pd.date_range(start=start_date, end=end_date, freq='D')\n",
    "\n",
    "# Create a DataFrame with the date column\n",
    "testset = pd.DataFrame({'Date': test_dates})\n",
    "testset['Date'] = pd.to_datetime(testset['Date'])\n",
    "testset.to_numpy()\n",
    "testset\n"
   ],
   "metadata": {
    "collapsed": false,
    "ExecuteTime": {
     "end_time": "2023-08-31T07:59:03.433807400Z",
     "start_time": "2023-08-31T07:59:03.411808500Z"
    }
   },
   "id": "517e3acebd200953"
  },
  {
   "cell_type": "code",
   "execution_count": 98,
   "outputs": [],
   "source": [
    "min_data = np.min(shifted_df_as_np_before_scaling)\n",
    "max_data = np.max(shifted_df_as_np_before_scaling)\n",
    "scaled_min = np.min(shifted_df_as_np)\n",
    "scaled_max = np.max(shifted_df_as_np)"
   ],
   "metadata": {
    "collapsed": false,
    "ExecuteTime": {
     "end_time": "2023-08-31T07:59:03.464806800Z",
     "start_time": "2023-08-31T07:59:03.422807300Z"
    }
   },
   "id": "9ef9b951638386af"
  },
  {
   "cell_type": "code",
   "execution_count": 99,
   "outputs": [
    {
     "name": "stdout",
     "output_type": "stream",
     "text": [
      "0.9999999999999998\n"
     ]
    }
   ],
   "source": [
    "\n",
    "\n",
    "def custom_scaling(data, min_val, max_val):\n",
    "    global min_data, max_data\n",
    "    if np.min(data) < min_data:\n",
    "        min_data = np.min(data)\n",
    "    else:\n",
    "        min_data = np.min(shifted_df_as_np_before_scaling)\n",
    "    if np.max(data) > max_data:\n",
    "        max_data = np.max(data)\n",
    "    else:\n",
    "        max_data = np.max(shifted_df_as_np_before_scaling)\n",
    "    scaled_data = min_val + ((data - min_data) / (max_data - min_data)) * (max_val - min_val)\n",
    "    return scaled_data\n",
    "\n",
    "scaled_min = np.min(shifted_df_as_np)\n",
    "scaled_max = np.max(shifted_df_as_np)\n",
    "print(scaled_max)\n",
    "def reverse_custom_scaling(scaled_data, min_val, max_val):\n",
    "    global scaled_min, scaled_max\n",
    "    if np.min(scaled_data) < scaled_min:\n",
    "        scaled_min = np.min(scaled_data)\n",
    "    if np.max(scaled_data) > scaled_max:\n",
    "        scaled_max = np.max(scaled_data)\n",
    "    original_data = min_data + (((scaled_data - min_val)/(max_val - min_val))*(max_data-min_data))\n",
    "    return original_data"
   ],
   "metadata": {
    "collapsed": false,
    "ExecuteTime": {
     "end_time": "2023-08-31T07:59:03.512810200Z",
     "start_time": "2023-08-31T07:59:03.438807100Z"
    }
   },
   "id": "da723160262728ee"
  },
  {
   "cell_type": "code",
   "execution_count": 137,
   "outputs": [
    {
     "data": {
      "text/plain": "array([[3.83351183, 3.788     , 3.8027    , 3.784     , 3.7935    ,\n        3.8375    , 3.7885    ]])"
     },
     "execution_count": 137,
     "metadata": {},
     "output_type": "execute_result"
    }
   ],
   "source": [],
   "metadata": {
    "collapsed": false,
    "ExecuteTime": {
     "end_time": "2023-08-31T08:20:08.687682Z",
     "start_time": "2023-08-31T08:20:08.667138500Z"
    }
   },
   "id": "fba41c7dc48bccb5"
  },
  {
   "cell_type": "code",
   "execution_count": 141,
   "outputs": [
    {
     "data": {
      "text/plain": "         Price  Price(t-1)  Price(t-2)  Price(t-3)  Price(t-4)  Price(t-5)   \n0     0.887500    0.876000    0.871000    0.887000    0.878000    0.868000  \\\n1     0.901000    0.887500    0.876000    0.871000    0.887000    0.878000   \n2     0.883500    0.901000    0.887500    0.876000    0.871000    0.887000   \n3     0.888000    0.883500    0.901000    0.887500    0.876000    0.871000   \n4     0.888000    0.888000    0.883500    0.901000    0.887500    0.876000   \n...        ...         ...         ...         ...         ...         ...   \n9130  4.883018    4.882437    4.881827    4.881187    4.880517    4.879812   \n9131  4.883573    4.883018    4.882437    4.881827    4.881187    4.880517   \n9132  4.884100    4.883573    4.883018    4.882437    4.881827    4.881187   \n9133  4.884603    4.884100    4.883573    4.883018    4.882437    4.881827   \n9134  4.885082    4.884603    4.884100    4.883573    4.883018    4.882437   \n\n      Price(t-6)  Price(t-7)  \n0       0.860000    0.865500  \n1       0.868000    0.860000  \n2       0.878000    0.868000  \n3       0.887000    0.878000  \n4       0.871000    0.887000  \n...          ...         ...  \n9130    4.879074    4.878299  \n9131    4.879812    4.879074  \n9132    4.880517    4.879812  \n9133    4.881187    4.880517  \n9134    4.881827    4.881187  \n\n[9135 rows x 8 columns]",
      "text/html": "<div>\n<style scoped>\n    .dataframe tbody tr th:only-of-type {\n        vertical-align: middle;\n    }\n\n    .dataframe tbody tr th {\n        vertical-align: top;\n    }\n\n    .dataframe thead th {\n        text-align: right;\n    }\n</style>\n<table border=\"1\" class=\"dataframe\">\n  <thead>\n    <tr style=\"text-align: right;\">\n      <th></th>\n      <th>Price</th>\n      <th>Price(t-1)</th>\n      <th>Price(t-2)</th>\n      <th>Price(t-3)</th>\n      <th>Price(t-4)</th>\n      <th>Price(t-5)</th>\n      <th>Price(t-6)</th>\n      <th>Price(t-7)</th>\n    </tr>\n  </thead>\n  <tbody>\n    <tr>\n      <th>0</th>\n      <td>0.887500</td>\n      <td>0.876000</td>\n      <td>0.871000</td>\n      <td>0.887000</td>\n      <td>0.878000</td>\n      <td>0.868000</td>\n      <td>0.860000</td>\n      <td>0.865500</td>\n    </tr>\n    <tr>\n      <th>1</th>\n      <td>0.901000</td>\n      <td>0.887500</td>\n      <td>0.876000</td>\n      <td>0.871000</td>\n      <td>0.887000</td>\n      <td>0.878000</td>\n      <td>0.868000</td>\n      <td>0.860000</td>\n    </tr>\n    <tr>\n      <th>2</th>\n      <td>0.883500</td>\n      <td>0.901000</td>\n      <td>0.887500</td>\n      <td>0.876000</td>\n      <td>0.871000</td>\n      <td>0.887000</td>\n      <td>0.878000</td>\n      <td>0.868000</td>\n    </tr>\n    <tr>\n      <th>3</th>\n      <td>0.888000</td>\n      <td>0.883500</td>\n      <td>0.901000</td>\n      <td>0.887500</td>\n      <td>0.876000</td>\n      <td>0.871000</td>\n      <td>0.887000</td>\n      <td>0.878000</td>\n    </tr>\n    <tr>\n      <th>4</th>\n      <td>0.888000</td>\n      <td>0.888000</td>\n      <td>0.883500</td>\n      <td>0.901000</td>\n      <td>0.887500</td>\n      <td>0.876000</td>\n      <td>0.871000</td>\n      <td>0.887000</td>\n    </tr>\n    <tr>\n      <th>...</th>\n      <td>...</td>\n      <td>...</td>\n      <td>...</td>\n      <td>...</td>\n      <td>...</td>\n      <td>...</td>\n      <td>...</td>\n      <td>...</td>\n    </tr>\n    <tr>\n      <th>9130</th>\n      <td>4.883018</td>\n      <td>4.882437</td>\n      <td>4.881827</td>\n      <td>4.881187</td>\n      <td>4.880517</td>\n      <td>4.879812</td>\n      <td>4.879074</td>\n      <td>4.878299</td>\n    </tr>\n    <tr>\n      <th>9131</th>\n      <td>4.883573</td>\n      <td>4.883018</td>\n      <td>4.882437</td>\n      <td>4.881827</td>\n      <td>4.881187</td>\n      <td>4.880517</td>\n      <td>4.879812</td>\n      <td>4.879074</td>\n    </tr>\n    <tr>\n      <th>9132</th>\n      <td>4.884100</td>\n      <td>4.883573</td>\n      <td>4.883018</td>\n      <td>4.882437</td>\n      <td>4.881827</td>\n      <td>4.881187</td>\n      <td>4.880517</td>\n      <td>4.879812</td>\n    </tr>\n    <tr>\n      <th>9133</th>\n      <td>4.884603</td>\n      <td>4.884100</td>\n      <td>4.883573</td>\n      <td>4.883018</td>\n      <td>4.882437</td>\n      <td>4.881827</td>\n      <td>4.881187</td>\n      <td>4.880517</td>\n    </tr>\n    <tr>\n      <th>9134</th>\n      <td>4.885082</td>\n      <td>4.884603</td>\n      <td>4.884100</td>\n      <td>4.883573</td>\n      <td>4.883018</td>\n      <td>4.882437</td>\n      <td>4.881827</td>\n      <td>4.881187</td>\n    </tr>\n  </tbody>\n</table>\n<p>9135 rows × 8 columns</p>\n</div>"
     },
     "execution_count": 141,
     "metadata": {},
     "output_type": "execute_result"
    }
   ],
   "source": [
    "for _ in range(test_dates.shape[0]):    \n",
    "    shifted_df_as_np_before_scaling = shifted_df.to_numpy()\n",
    "    sample2 = shifted_df_as_np_before_scaling[-1,1:]\n",
    "    sample2 = sample2.reshape(1,-1)\n",
    "    sample2_np = np.flip(sample2,axis=1)\n",
    "    sample2_np = custom_scaling(sample2_np,-1,1)\n",
    "    sample2_np = sample2_np.reshape((-1, lookback, 1))\n",
    "    sample2_tensor = torch.tensor(sample2_np).float()\n",
    "    with torch.no_grad():\n",
    "        predicted = model(sample2_tensor.to(device)).to('cpu').numpy()\n",
    "    #predicted\n",
    "    res = reverse_custom_scaling(predicted,-1,1)\n",
    "    sample2[0][-1]\n",
    "    new_row = {'Price':res[0][0], \n",
    "               'Price(t-1)':shifted_df_as_np_before_scaling[-1][0],\n",
    "               'Price(t-2)':shifted_df_as_np_before_scaling[-1][1],\n",
    "               'Price(t-3)':shifted_df_as_np_before_scaling[-1][2],\n",
    "               'Price(t-4)':shifted_df_as_np_before_scaling[-1][3],\n",
    "               'Price(t-5)':shifted_df_as_np_before_scaling[-1][4],\n",
    "               'Price(t-6)':shifted_df_as_np_before_scaling[-1][5],\n",
    "               'Price(t-7)':shifted_df_as_np_before_scaling[-1][6]\n",
    "               }\n",
    "    new_row \n",
    "    shifted_df = shifted_df._append(new_row,ignore_index=True)\n",
    "shifted_df "
   ],
   "metadata": {
    "collapsed": false,
    "ExecuteTime": {
     "end_time": "2023-08-31T08:34:47.465847400Z",
     "start_time": "2023-08-31T08:34:47.299849100Z"
    }
   },
   "id": "dc113f9429938615"
  },
  {
   "cell_type": "code",
   "execution_count": 150,
   "outputs": [
    {
     "data": {
      "text/plain": "<Figure size 640x480 with 1 Axes>",
      "image/png": "[encoded data removed]"
     },
     "metadata": {},
     "output_type": "display_data"
    }
   ],
   "source": [
    "plt.plot(testset,shifted_df.tail(125)['Price'].to_numpy(), label='Predicted Price')\n",
    "#plt.plot(train_dates,predicted, label='Predicted Price')\n",
    "\n",
    "plt.xlabel('Dates')\n",
    "plt.ylabel('Price')\n",
    "plt.legend()\n",
    "plt.show()\n"
   ],
   "metadata": {
    "collapsed": false,
    "ExecuteTime": {
     "end_time": "2023-08-31T08:54:21.597979900Z",
     "start_time": "2023-08-31T08:54:21.252363400Z"
    }
   },
   "id": "371edbbc5b61033f"
  },
  {
   "cell_type": "code",
   "execution_count": 151,
   "outputs": [
    {
     "data": {
      "text/plain": "          Date\n0   2023-08-29\n1   2023-08-30\n2   2023-08-31\n3   2023-09-01\n4   2023-09-02\n..         ...\n120 2023-12-27\n121 2023-12-28\n122 2023-12-29\n123 2023-12-30\n124 2023-12-31\n\n[125 rows x 1 columns]",
      "text/html": "<div>\n<style scoped>\n    .dataframe tbody tr th:only-of-type {\n        vertical-align: middle;\n    }\n\n    .dataframe tbody tr th {\n        vertical-align: top;\n    }\n\n    .dataframe thead th {\n        text-align: right;\n    }\n</style>\n<table border=\"1\" class=\"dataframe\">\n  <thead>\n    <tr style=\"text-align: right;\">\n      <th></th>\n      <th>Date</th>\n    </tr>\n  </thead>\n  <tbody>\n    <tr>\n      <th>0</th>\n      <td>2023-08-29</td>\n    </tr>\n    <tr>\n      <th>1</th>\n      <td>2023-08-30</td>\n    </tr>\n    <tr>\n      <th>2</th>\n      <td>2023-08-31</td>\n    </tr>\n    <tr>\n      <th>3</th>\n      <td>2023-09-01</td>\n    </tr>\n    <tr>\n      <th>4</th>\n      <td>2023-09-02</td>\n    </tr>\n    <tr>\n      <th>...</th>\n      <td>...</td>\n    </tr>\n    <tr>\n      <th>120</th>\n      <td>2023-12-27</td>\n    </tr>\n    <tr>\n      <th>121</th>\n      <td>2023-12-28</td>\n    </tr>\n    <tr>\n      <th>122</th>\n      <td>2023-12-29</td>\n    </tr>\n    <tr>\n      <th>123</th>\n      <td>2023-12-30</td>\n    </tr>\n    <tr>\n      <th>124</th>\n      <td>2023-12-31</td>\n    </tr>\n  </tbody>\n</table>\n<p>125 rows × 1 columns</p>\n</div>"
     },
     "execution_count": 151,
     "metadata": {},
     "output_type": "execute_result"
    }
   ],
   "source": [
    "testset"
   ],
   "metadata": {
    "collapsed": false,
    "ExecuteTime": {
     "end_time": "2023-08-31T08:54:46.867503800Z",
     "start_time": "2023-08-31T08:54:46.733508200Z"
    }
   },
   "id": "508e95b02b7f76bd"
  },
  {
   "cell_type": "markdown",
   "source": [],
   "metadata": {
    "collapsed": false
   },
   "id": "d9a36176a9b03d65"
  },
  {
   "cell_type": "code",
   "execution_count": 148,
   "outputs": [
    {
     "data": {
      "text/plain": "array([3.86124492, 3.88101578, 3.89498162, 3.91245747, 3.92832112,\n       3.94502401, 3.96163893, 3.97821832, 3.99499583, 4.01167774,\n       4.02849865, 4.04526138, 4.06209278, 4.07889271, 4.09571028,\n       4.11250257, 4.12927771, 4.14601851, 4.16271734, 4.17936516,\n       4.19595003, 4.2124629 , 4.2288928 , 4.2452302 , 4.26146317,\n       4.27758265, 4.29357672, 4.3094368 , 4.32515144, 4.34071016,\n       4.35610437, 4.37132311, 4.38635778, 4.40119839, 4.41583586,\n       4.43026304, 4.44446993, 4.45845079, 4.47219706, 4.48570251,\n       4.49896049, 4.51196575, 4.52471256, 4.53719664, 4.54941416,\n       4.56135988, 4.57303381, 4.58443022, 4.59555006, 4.60639   ,\n       4.61695004, 4.62723017, 4.6372304 , 4.64695168, 4.65639496,\n       4.66556168, 4.67445517, 4.68307686, 4.69143009, 4.69951868,\n       4.70734501, 4.71491432, 4.72222996, 4.72929716, 4.73611927,\n       4.74270344, 4.74905205, 4.75517321, 4.76106977, 4.76674891,\n       4.77221537, 4.7774744 , 4.78253317, 4.78739548, 4.79206848,\n       4.79655695, 4.80086756, 4.80500412, 4.80897427, 4.81278181,\n       4.81643343, 4.81993341, 4.82328796, 4.82650137, 4.82957983,\n       4.83252668, 4.83534813, 4.83804798, 4.84063196, 4.84310293,\n       4.84546661, 4.8477273 , 4.84988785, 4.85195351, 4.85392761,\n       4.85581303, 4.85761547, 4.85933638, 4.86098003, 4.86254978,\n       4.864048  , 4.86547899, 4.86684418, 4.86814737, 4.86939144,\n       4.87057781, 4.87170982, 4.87279034, 4.8738203 , 4.87480307,\n       4.87574005, 4.87663412, 4.87748623, 4.87829876, 4.87907362,\n       4.87981224, 4.88051653, 4.88118744, 4.88182735, 4.88243723,\n       4.88301849, 4.88357258, 4.88409996, 4.88460302, 4.88508224])"
     },
     "execution_count": 148,
     "metadata": {},
     "output_type": "execute_result"
    }
   ],
   "source": [],
   "metadata": {
    "collapsed": false,
    "ExecuteTime": {
     "end_time": "2023-08-31T08:53:45.865108Z",
     "start_time": "2023-08-31T08:53:45.827108900Z"
    }
   },
   "id": "63ad1d83f29c17b2"
  },
  {
   "cell_type": "code",
   "execution_count": null,
   "outputs": [],
   "source": [],
   "metadata": {
    "collapsed": false
   },
   "id": "ca3d57352ef77883"
  }
 ],
 "metadata": {
  "kernelspec": {
   "display_name": "Python 3",
   "language": "python",
   "name": "python3"
  },
  "language_info": {
   "codemirror_mode": {
    "name": "ipython",
    "version": 2
   },
   "file_extension": ".py",
   "mimetype": "text/x-python",
   "name": "python",
   "nbconvert_exporter": "python",
   "pygments_lexer": "ipython2",
   "version": "2.7.6"
  }
 },
 "nbformat": 4,
 "nbformat_minor": 5
}
